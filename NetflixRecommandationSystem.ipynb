{
  "nbformat": 4,
  "nbformat_minor": 0,
  "metadata": {
    "colab": {
      "name": "NetflixRecommandationSystem.ipynb",
      "provenance": [],
      "collapsed_sections": [],
      "include_colab_link": true
    },
    "kernelspec": {
      "display_name": "Python 3",
      "name": "python3"
    }
  },
  "cells": [
    {
      "cell_type": "markdown",
      "metadata": {
        "id": "view-in-github",
        "colab_type": "text"
      },
      "source": [
        "<a href=\"https://colab.research.google.com/github/AnilKumar-06/Movie-Recommandation/blob/main/NetflixRecommandationSystem.ipynb\" target=\"_parent\"><img src=\"https://colab.research.google.com/assets/colab-badge.svg\" alt=\"Open In Colab\"/></a>"
      ]
    },
    {
      "cell_type": "code",
      "metadata": {
        "colab": {
          "base_uri": "https://localhost:8080/"
        },
        "id": "Zg1vfTD0aQ0X",
        "outputId": "1d51e956-5aef-4d56-d3b3-bc3f344e76d0"
      },
      "source": [
        "from google.colab import drive\r\n",
        "drive.mount('/content/drive/') "
      ],
      "execution_count": 1,
      "outputs": [
        {
          "output_type": "stream",
          "text": [
            "Mounted at /content/drive/\n"
          ],
          "name": "stdout"
        }
      ]
    },
    {
      "cell_type": "code",
      "metadata": {
        "id": "2NoLlrGteVDV"
      },
      "source": [
        "from datetime import datetime\r\n",
        "import pandas as pd\r\n",
        "import numpy as np\r\n",
        "import matplotlib\r\n",
        "#matplotlib.use('nbagg')\r\n",
        "\r\n",
        "import matplotlib.pyplot as plt\r\n",
        "#plt.rcParams.update({'figure.max_open_warning': 0})\r\n",
        "import seaborn as sns\r\n",
        "sns.set_style('whitegrid')\r\n",
        "import os\r\n",
        "from scipy import sparse\r\n",
        "from scipy.sparse import csr_matrix\r\n",
        "from sklearn.decomposition import TruncatedSVD\r\n",
        "from sklearn.metrics.pairwise import cosine_similarity\r\n",
        "import random"
      ],
      "execution_count": 2,
      "outputs": []
    },
    {
      "cell_type": "code",
      "metadata": {
        "id": "IwL1j8AphFdu",
        "colab": {
          "base_uri": "https://localhost:8080/"
        },
        "outputId": "daf57514-eaba-4464-a737-5e52097b8d7a"
      },
      "source": [
        "\r\n",
        "start = datetime.now()\r\n",
        "if not os.path.isfile('data.csv'):\r\n",
        "  data = open('data.csv', mode='w')\r\n",
        "  row = list()\r\n",
        "  files = ['/content/drive/MyDrive/ML_Projects/NetflixRecoomandation/combined_data_1.txt']#,'/content/drive/MyDrive/ML_Projects/NetflixRecoomandation/combined_data_2.txt']#, '/content/drive/MyDrive/ML_Projects/NetflixRecoomandation/combined_data_3.txt', '/content/drive/MyDrive/ML_Projects/NetflixRecoomandation/combined_data_4.txt']\r\n",
        "\r\n",
        "  for file in files:\r\n",
        "    print('Reading rating from {}...'.format(file))\r\n",
        "    with open(file) as f:\r\n",
        "      for line in f:\r\n",
        "        del row[:] #you don't have to do this\r\n",
        "        line = line.strip()\r\n",
        "        if line.endswith(':'):\r\n",
        "          #all below are rating for this movie, until another\r\n",
        "          movie_id = line.replace(':', '')\r\n",
        "        else:\r\n",
        "          row = [x for x in line.split(',')]\r\n",
        "          row.insert(0, movie_id)\r\n",
        "          data.write(','.join(row))\r\n",
        "          data.write('\\n')\r\n",
        "\r\n",
        "    print('Done.\\n')\r\n",
        "  data.close()\r\n",
        "  print('Time taken :',datetime.now() - start)"
      ],
      "execution_count": 3,
      "outputs": [
        {
          "output_type": "stream",
          "text": [
            "Reading rating from /content/drive/MyDrive/ML_Projects/NetflixRecoomandation/combined_data_1.txt...\n",
            "Done.\n",
            "\n",
            "Time taken : 0:00:39.997194\n"
          ],
          "name": "stdout"
        }
      ]
    },
    {
      "cell_type": "code",
      "metadata": {
        "colab": {
          "base_uri": "https://localhost:8080/"
        },
        "id": "Vg6me8_lmK3-",
        "outputId": "1475c56b-197e-4aaf-f0d1-563340144643"
      },
      "source": [
        "print(\"Creating the dataframe from data.csv file...\")\r\n",
        "df = pd.read_csv('data.csv', sep=',',names = ['movie', 'user', 'rating', 'date'])\r\n",
        "df.date = pd.to_datetime(df.date)\r\n",
        "print('Done.\\n')\r\n",
        "\r\n",
        "#arranging the rating according to time\r\n",
        "print('Sorting the datetime by date...')\r\n",
        "df.sort_values(by='date', inplace=True)\r\n",
        "print('Done..')"
      ],
      "execution_count": 4,
      "outputs": [
        {
          "output_type": "stream",
          "text": [
            "Creating the dataframe from data.csv file...\n",
            "Done.\n",
            "\n",
            "Sorting the datetime by date...\n",
            "Done..\n"
          ],
          "name": "stdout"
        }
      ]
    },
    {
      "cell_type": "code",
      "metadata": {
        "colab": {
          "base_uri": "https://localhost:8080/",
          "height": 195
        },
        "id": "nQloFsuwoOM2",
        "outputId": "e2a86591-10f8-4d98-f3ca-5eb02d7a5415"
      },
      "source": [
        "df.head()"
      ],
      "execution_count": 5,
      "outputs": [
        {
          "output_type": "execute_result",
          "data": {
            "text/html": [
              "<div>\n",
              "<style scoped>\n",
              "    .dataframe tbody tr th:only-of-type {\n",
              "        vertical-align: middle;\n",
              "    }\n",
              "\n",
              "    .dataframe tbody tr th {\n",
              "        vertical-align: top;\n",
              "    }\n",
              "\n",
              "    .dataframe thead th {\n",
              "        text-align: right;\n",
              "    }\n",
              "</style>\n",
              "<table border=\"1\" class=\"dataframe\">\n",
              "  <thead>\n",
              "    <tr style=\"text-align: right;\">\n",
              "      <th></th>\n",
              "      <th>movie</th>\n",
              "      <th>user</th>\n",
              "      <th>rating</th>\n",
              "      <th>date</th>\n",
              "    </tr>\n",
              "  </thead>\n",
              "  <tbody>\n",
              "    <tr>\n",
              "      <th>9056171</th>\n",
              "      <td>1798</td>\n",
              "      <td>510180</td>\n",
              "      <td>5</td>\n",
              "      <td>1999-11-11</td>\n",
              "    </tr>\n",
              "    <tr>\n",
              "      <th>14892677</th>\n",
              "      <td>2866</td>\n",
              "      <td>510180</td>\n",
              "      <td>3</td>\n",
              "      <td>1999-11-11</td>\n",
              "    </tr>\n",
              "    <tr>\n",
              "      <th>19585852</th>\n",
              "      <td>3730</td>\n",
              "      <td>510180</td>\n",
              "      <td>4</td>\n",
              "      <td>1999-11-11</td>\n",
              "    </tr>\n",
              "    <tr>\n",
              "      <th>20393918</th>\n",
              "      <td>3870</td>\n",
              "      <td>510180</td>\n",
              "      <td>2</td>\n",
              "      <td>1999-11-11</td>\n",
              "    </tr>\n",
              "    <tr>\n",
              "      <th>6901473</th>\n",
              "      <td>1367</td>\n",
              "      <td>510180</td>\n",
              "      <td>5</td>\n",
              "      <td>1999-11-11</td>\n",
              "    </tr>\n",
              "  </tbody>\n",
              "</table>\n",
              "</div>"
            ],
            "text/plain": [
              "          movie    user  rating       date\n",
              "9056171    1798  510180       5 1999-11-11\n",
              "14892677   2866  510180       3 1999-11-11\n",
              "19585852   3730  510180       4 1999-11-11\n",
              "20393918   3870  510180       2 1999-11-11\n",
              "6901473    1367  510180       5 1999-11-11"
            ]
          },
          "metadata": {
            "tags": []
          },
          "execution_count": 5
        }
      ]
    },
    {
      "cell_type": "code",
      "metadata": {
        "colab": {
          "base_uri": "https://localhost:8080/"
        },
        "id": "bI4xKuY3osVl",
        "outputId": "ef3b7fc7-0ec5-4ef4-9e96-09ed0c471bd1"
      },
      "source": [
        "df.describe()['rating']"
      ],
      "execution_count": 6,
      "outputs": [
        {
          "output_type": "execute_result",
          "data": {
            "text/plain": [
              "count    2.405376e+07\n",
              "mean     3.599634e+00\n",
              "std      1.086118e+00\n",
              "min      1.000000e+00\n",
              "25%      3.000000e+00\n",
              "50%      4.000000e+00\n",
              "75%      4.000000e+00\n",
              "max      5.000000e+00\n",
              "Name: rating, dtype: float64"
            ]
          },
          "metadata": {
            "tags": []
          },
          "execution_count": 6
        }
      ]
    },
    {
      "cell_type": "code",
      "metadata": {
        "colab": {
          "base_uri": "https://localhost:8080/"
        },
        "id": "xouKb84Ko-DP",
        "outputId": "60888baf-6e61-4599-9733-ce3c75c25e3b"
      },
      "source": [
        "# Just to make sure that all NAN containing rows are deleted..\r\n",
        "\r\n",
        "print(\"Number of Nan values in our dataframe : \", sum(df.isnull().any()))"
      ],
      "execution_count": 7,
      "outputs": [
        {
          "output_type": "stream",
          "text": [
            "Number of Nan values in our dataframe :  0\n"
          ],
          "name": "stdout"
        }
      ]
    },
    {
      "cell_type": "markdown",
      "metadata": {
        "id": "uQ7zHwCGqLmh"
      },
      "source": [
        "Removing Duplicates"
      ]
    },
    {
      "cell_type": "code",
      "metadata": {
        "colab": {
          "base_uri": "https://localhost:8080/"
        },
        "id": "xiom6HPRpc34",
        "outputId": "bc718270-1e7b-4672-d92b-086ca8240b29"
      },
      "source": [
        "dup_bool = df.duplicated(['movie', 'user', 'rating'])\r\n",
        "dups = sum(dup_bool) #by considering all columns..(including timestamp)\r\n",
        "print(\"There are {} duplicate rating entries in the data...\".format(dups))"
      ],
      "execution_count": 8,
      "outputs": [
        {
          "output_type": "stream",
          "text": [
            "There are 0 duplicate rating entries in the data...\n"
          ],
          "name": "stdout"
        }
      ]
    },
    {
      "cell_type": "markdown",
      "metadata": {
        "id": "5vjdTbVaqZdp"
      },
      "source": [
        "Basic Statistics(# of Rating, # of Users, # of Movies)"
      ]
    },
    {
      "cell_type": "code",
      "metadata": {
        "colab": {
          "base_uri": "https://localhost:8080/"
        },
        "id": "ILlACSq3qHF0",
        "outputId": "c73c3efb-1bfd-4efb-8ba9-85112c613f17"
      },
      "source": [
        "print(\"Total Data\")\r\n",
        "print(\"-\"*70)\r\n",
        "print(\"\\nTotal no. of rating : \",df.shape[0])\r\n",
        "print(\"Total No. of Users : \", len(np.unique(df.user)))\r\n",
        "print(\"Total No. of Movies : \", len(np.unique(df.movie)))"
      ],
      "execution_count": 9,
      "outputs": [
        {
          "output_type": "stream",
          "text": [
            "Total Data\n",
            "----------------------------------------------------------------------\n",
            "\n",
            "Total no. of rating :  24053764\n",
            "Total No. of Users :  470758\n",
            "Total No. of Movies :  4499\n"
          ],
          "name": "stdout"
        }
      ]
    },
    {
      "cell_type": "markdown",
      "metadata": {
        "id": "VG-8RRoor6cP"
      },
      "source": [
        "Spliting data into Train and Test"
      ]
    },
    {
      "cell_type": "code",
      "metadata": {
        "id": "yOfSodyHrcr2"
      },
      "source": [
        "if not os.path.isfile('train.csv'):\r\n",
        "  #create the dataframe and store it in the disk for offline purpose...\r\n",
        "  df.iloc[:int(df.shape[0]*0.80)].to_csv(\"train.csv\", index=False)\r\n",
        "\r\n",
        "if not os.path.isfile('test.csv'):\r\n",
        "  #creating the dataframe and store it in the disk for offline purpose...\r\n",
        "  df.iloc[int(df.shape[0]*0.80):].to_csv(\"test.csv\", index = False)\r\n",
        "\r\n",
        "train_df = pd.read_csv(\"train.csv\", parse_dates=['date'])\r\n",
        "test_df = pd.read_csv(\"test.csv\")"
      ],
      "execution_count": 10,
      "outputs": []
    },
    {
      "cell_type": "markdown",
      "metadata": {
        "id": "yyISxCdqtuR8"
      },
      "source": [
        "Basic statistic in Train data (# of Ratings # of Users and # of Movies)"
      ]
    },
    {
      "cell_type": "code",
      "metadata": {
        "colab": {
          "base_uri": "https://localhost:8080/"
        },
        "id": "IRDYRZ4Dtqby",
        "outputId": "5057f103-7245-45d5-8ce5-0712d223b0a8"
      },
      "source": [
        "# movies = train_df.movie.value_counts()\r\n",
        "# users = train_df.user.value_counts()\r\n",
        "print(\"Training data\")\r\n",
        "print(\"-\"*70)\r\n",
        "print(\"\\nTotal no of ratings : \",test_df.shape[0])\r\n",
        "print(\"Total no of Users : \", len(np.unique(test_df.user)))\r\n",
        "print(\"Total no. of movies : \", len(np.unique(test_df.movie)))"
      ],
      "execution_count": 11,
      "outputs": [
        {
          "output_type": "stream",
          "text": [
            "Training data\n",
            "----------------------------------------------------------------------\n",
            "\n",
            "Total no of ratings :  4810753\n",
            "Total no of Users :  302727\n",
            "Total no. of movies :  4497\n"
          ],
          "name": "stdout"
        }
      ]
    },
    {
      "cell_type": "markdown",
      "metadata": {
        "id": "0K6MQ5lOR7zF"
      },
      "source": [
        "EDA On Train data"
      ]
    },
    {
      "cell_type": "code",
      "metadata": {
        "id": "s28HdaTivb5I"
      },
      "source": [
        "def human(num, units = \"M\"):\r\n",
        "  units = units.lower()\r\n",
        "  num = float(num)\r\n",
        "  if units == 'k':\r\n",
        "    return str(num/10**3) + 'K'\r\n",
        "  elif units == 'M':\r\n",
        "    return str(num/10**6) + 'M'\r\n",
        "  elif units == 'b':\r\n",
        "    return str(num/10**9) + 'B'\r\n"
      ],
      "execution_count": 12,
      "outputs": []
    },
    {
      "cell_type": "markdown",
      "metadata": {
        "id": "4_HwhdAeThab"
      },
      "source": [
        "Distribution of ratings"
      ]
    },
    {
      "cell_type": "code",
      "metadata": {
        "colab": {
          "base_uri": "https://localhost:8080/",
          "height": 350
        },
        "id": "I_9q9v3YTet3",
        "outputId": "f11043a7-7037-472b-df1d-3fe0f0e14093"
      },
      "source": [
        "fig, ax = plt.subplots()\r\n",
        "plt.title(\"Distribution of ratings over Training dataset\", fontsize=15)\r\n",
        "sns.countplot(train_df.rating)\r\n",
        "ax.set_yticklabels([human(item, 'M') for item in ax.get_yticks()])\r\n",
        "ax.set_ylabel(\"No. of ratings(Millions)\")\r\n",
        "plt.show()"
      ],
      "execution_count": 13,
      "outputs": [
        {
          "output_type": "stream",
          "text": [
            "/usr/local/lib/python3.7/dist-packages/seaborn/_decorators.py:43: FutureWarning: Pass the following variable as a keyword arg: x. From version 0.12, the only valid positional argument will be `data`, and passing other arguments without an explicit keyword will result in an error or misinterpretation.\n",
            "  FutureWarning\n"
          ],
          "name": "stderr"
        },
        {
          "output_type": "display_data",
          "data": {
            "image/png": "[encoded data removed]",
            "text/plain": [
              "<Figure size 432x288 with 1 Axes>"
            ]
          },
          "metadata": {
            "tags": []
          }
        }
      ]
    },
    {
      "cell_type": "code",
      "metadata": {
        "colab": {
          "base_uri": "https://localhost:8080/",
          "height": 639
        },
        "id": "du5hHRsjUf0G",
        "outputId": "4b9293e9-fd0c-4348-db26-124a8e67993d"
      },
      "source": [
        "# It is used to skip the warnings 'SettingWithCopyWarning'...\r\n",
        "pd.options.mode.chained_assignment = None        #default = 'warn'\r\n",
        "train_df['day_of_week'] = train_df.date.dt.day_name()\r\n",
        "#df['day_of_week'] = df['mydate'].dt.day_name() \r\n",
        "train_df.head(20)\r\n",
        "\r\n"
      ],
      "execution_count": 14,
      "outputs": [
        {
          "output_type": "execute_result",
          "data": {
            "text/html": [
              "<div>\n",
              "<style scoped>\n",
              "    .dataframe tbody tr th:only-of-type {\n",
              "        vertical-align: middle;\n",
              "    }\n",
              "\n",
              "    .dataframe tbody tr th {\n",
              "        vertical-align: top;\n",
              "    }\n",
              "\n",
              "    .dataframe thead th {\n",
              "        text-align: right;\n",
              "    }\n",
              "</style>\n",
              "<table border=\"1\" class=\"dataframe\">\n",
              "  <thead>\n",
              "    <tr style=\"text-align: right;\">\n",
              "      <th></th>\n",
              "      <th>movie</th>\n",
              "      <th>user</th>\n",
              "      <th>rating</th>\n",
              "      <th>date</th>\n",
              "      <th>day_of_week</th>\n",
              "    </tr>\n",
              "  </thead>\n",
              "  <tbody>\n",
              "    <tr>\n",
              "      <th>0</th>\n",
              "      <td>1798</td>\n",
              "      <td>510180</td>\n",
              "      <td>5</td>\n",
              "      <td>1999-11-11</td>\n",
              "      <td>Thursday</td>\n",
              "    </tr>\n",
              "    <tr>\n",
              "      <th>1</th>\n",
              "      <td>2866</td>\n",
              "      <td>510180</td>\n",
              "      <td>3</td>\n",
              "      <td>1999-11-11</td>\n",
              "      <td>Thursday</td>\n",
              "    </tr>\n",
              "    <tr>\n",
              "      <th>2</th>\n",
              "      <td>3730</td>\n",
              "      <td>510180</td>\n",
              "      <td>4</td>\n",
              "      <td>1999-11-11</td>\n",
              "      <td>Thursday</td>\n",
              "    </tr>\n",
              "    <tr>\n",
              "      <th>3</th>\n",
              "      <td>3870</td>\n",
              "      <td>510180</td>\n",
              "      <td>2</td>\n",
              "      <td>1999-11-11</td>\n",
              "      <td>Thursday</td>\n",
              "    </tr>\n",
              "    <tr>\n",
              "      <th>4</th>\n",
              "      <td>1367</td>\n",
              "      <td>510180</td>\n",
              "      <td>5</td>\n",
              "      <td>1999-11-11</td>\n",
              "      <td>Thursday</td>\n",
              "    </tr>\n",
              "    <tr>\n",
              "      <th>5</th>\n",
              "      <td>2948</td>\n",
              "      <td>510180</td>\n",
              "      <td>3</td>\n",
              "      <td>1999-12-06</td>\n",
              "      <td>Monday</td>\n",
              "    </tr>\n",
              "    <tr>\n",
              "      <th>6</th>\n",
              "      <td>3421</td>\n",
              "      <td>510180</td>\n",
              "      <td>3</td>\n",
              "      <td>1999-12-06</td>\n",
              "      <td>Monday</td>\n",
              "    </tr>\n",
              "    <tr>\n",
              "      <th>7</th>\n",
              "      <td>2478</td>\n",
              "      <td>510180</td>\n",
              "      <td>3</td>\n",
              "      <td>1999-12-06</td>\n",
              "      <td>Monday</td>\n",
              "    </tr>\n",
              "    <tr>\n",
              "      <th>8</th>\n",
              "      <td>1615</td>\n",
              "      <td>122223</td>\n",
              "      <td>3</td>\n",
              "      <td>1999-12-08</td>\n",
              "      <td>Wednesday</td>\n",
              "    </tr>\n",
              "    <tr>\n",
              "      <th>9</th>\n",
              "      <td>2780</td>\n",
              "      <td>122223</td>\n",
              "      <td>3</td>\n",
              "      <td>1999-12-08</td>\n",
              "      <td>Wednesday</td>\n",
              "    </tr>\n",
              "    <tr>\n",
              "      <th>10</th>\n",
              "      <td>1367</td>\n",
              "      <td>122223</td>\n",
              "      <td>3</td>\n",
              "      <td>1999-12-08</td>\n",
              "      <td>Wednesday</td>\n",
              "    </tr>\n",
              "    <tr>\n",
              "      <th>11</th>\n",
              "      <td>607</td>\n",
              "      <td>122223</td>\n",
              "      <td>4</td>\n",
              "      <td>1999-12-08</td>\n",
              "      <td>Wednesday</td>\n",
              "    </tr>\n",
              "    <tr>\n",
              "      <th>12</th>\n",
              "      <td>1202</td>\n",
              "      <td>122223</td>\n",
              "      <td>4</td>\n",
              "      <td>1999-12-08</td>\n",
              "      <td>Wednesday</td>\n",
              "    </tr>\n",
              "    <tr>\n",
              "      <th>13</th>\n",
              "      <td>3893</td>\n",
              "      <td>122223</td>\n",
              "      <td>3</td>\n",
              "      <td>1999-12-08</td>\n",
              "      <td>Wednesday</td>\n",
              "    </tr>\n",
              "    <tr>\n",
              "      <th>14</th>\n",
              "      <td>4171</td>\n",
              "      <td>122223</td>\n",
              "      <td>3</td>\n",
              "      <td>1999-12-08</td>\n",
              "      <td>Wednesday</td>\n",
              "    </tr>\n",
              "    <tr>\n",
              "      <th>15</th>\n",
              "      <td>3870</td>\n",
              "      <td>204439</td>\n",
              "      <td>5</td>\n",
              "      <td>1999-12-09</td>\n",
              "      <td>Thursday</td>\n",
              "    </tr>\n",
              "    <tr>\n",
              "      <th>16</th>\n",
              "      <td>4227</td>\n",
              "      <td>1972971</td>\n",
              "      <td>4</td>\n",
              "      <td>1999-12-09</td>\n",
              "      <td>Thursday</td>\n",
              "    </tr>\n",
              "    <tr>\n",
              "      <th>17</th>\n",
              "      <td>1770</td>\n",
              "      <td>204439</td>\n",
              "      <td>4</td>\n",
              "      <td>1999-12-09</td>\n",
              "      <td>Thursday</td>\n",
              "    </tr>\n",
              "    <tr>\n",
              "      <th>18</th>\n",
              "      <td>1367</td>\n",
              "      <td>204439</td>\n",
              "      <td>4</td>\n",
              "      <td>1999-12-09</td>\n",
              "      <td>Thursday</td>\n",
              "    </tr>\n",
              "    <tr>\n",
              "      <th>19</th>\n",
              "      <td>1309</td>\n",
              "      <td>204439</td>\n",
              "      <td>3</td>\n",
              "      <td>1999-12-09</td>\n",
              "      <td>Thursday</td>\n",
              "    </tr>\n",
              "  </tbody>\n",
              "</table>\n",
              "</div>"
            ],
            "text/plain": [
              "    movie     user  rating       date day_of_week\n",
              "0    1798   510180       5 1999-11-11    Thursday\n",
              "1    2866   510180       3 1999-11-11    Thursday\n",
              "2    3730   510180       4 1999-11-11    Thursday\n",
              "3    3870   510180       2 1999-11-11    Thursday\n",
              "4    1367   510180       5 1999-11-11    Thursday\n",
              "5    2948   510180       3 1999-12-06      Monday\n",
              "6    3421   510180       3 1999-12-06      Monday\n",
              "7    2478   510180       3 1999-12-06      Monday\n",
              "8    1615   122223       3 1999-12-08   Wednesday\n",
              "9    2780   122223       3 1999-12-08   Wednesday\n",
              "10   1367   122223       3 1999-12-08   Wednesday\n",
              "11    607   122223       4 1999-12-08   Wednesday\n",
              "12   1202   122223       4 1999-12-08   Wednesday\n",
              "13   3893   122223       3 1999-12-08   Wednesday\n",
              "14   4171   122223       3 1999-12-08   Wednesday\n",
              "15   3870   204439       5 1999-12-09    Thursday\n",
              "16   4227  1972971       4 1999-12-09    Thursday\n",
              "17   1770   204439       4 1999-12-09    Thursday\n",
              "18   1367   204439       4 1999-12-09    Thursday\n",
              "19   1309   204439       3 1999-12-09    Thursday"
            ]
          },
          "metadata": {
            "tags": []
          },
          "execution_count": 14
        }
      ]
    },
    {
      "cell_type": "code",
      "metadata": {
        "colab": {
          "base_uri": "https://localhost:8080/"
        },
        "id": "rC6NhB92VTVh",
        "outputId": "1fc1c2ae-0560-49a2-8670-a4094e834cd9"
      },
      "source": [
        "no_of_rated_movies_per_user = train_df.groupby(by='user')['rating'].count()\r\n",
        "no_of_rated_movies_per_user.head()"
      ],
      "execution_count": 15,
      "outputs": [
        {
          "output_type": "execute_result",
          "data": {
            "text/plain": [
              "user\n",
              "6     105\n",
              "7     190\n",
              "10     38\n",
              "25      2\n",
              "33      8\n",
              "Name: rating, dtype: int64"
            ]
          },
          "metadata": {
            "tags": []
          },
          "execution_count": 15
        }
      ]
    },
    {
      "cell_type": "code",
      "metadata": {
        "colab": {
          "base_uri": "https://localhost:8080/",
          "height": 295
        },
        "id": "dOpwanWaa87_",
        "outputId": "787d87e1-0f7e-42f8-fabb-10d74420d08b"
      },
      "source": [
        "fig = plt.figure(figsize=plt.figaspect(.5))\r\n",
        "\r\n",
        "ax1 = plt.subplot(121)\r\n",
        "sns.kdeplot(no_of_rated_movies_per_user, shade=True, ax=ax1)\r\n",
        "plt.xlabel(\"No. of ratings by user\")\r\n",
        "plt.title(\"PDF\")\r\n",
        "\r\n",
        "ax2 = plt.subplot(122)\r\n",
        "sns.kdeplot(no_of_rated_movies_per_user, shade=True, cumulative=True, ax=ax2)\r\n",
        "plt.xlabel(\"No. of ratings by user\")\r\n",
        "plt.title('CDF')\r\n",
        "plt.show()"
      ],
      "execution_count": 16,
      "outputs": [
        {
          "output_type": "display_data",
          "data": {
            "image/png": "[encoded data removed]",
            "text/plain": [
              "<Figure size 576x288 with 2 Axes>"
            ]
          },
          "metadata": {
            "tags": []
          }
        }
      ]
    },
    {
      "cell_type": "code",
      "metadata": {
        "colab": {
          "base_uri": "https://localhost:8080/"
        },
        "id": "SM79yhjUMXXi",
        "outputId": "0613e3a9-cc49-476e-c287-ab3b813ec6be"
      },
      "source": [
        "no_of_rated_movies_per_user.describe()"
      ],
      "execution_count": 17,
      "outputs": [
        {
          "output_type": "execute_result",
          "data": {
            "text/plain": [
              "count    389223.000000\n",
              "mean         49.439553\n",
              "std          71.463434\n",
              "min           1.000000\n",
              "25%           8.000000\n",
              "50%          23.000000\n",
              "75%          62.000000\n",
              "max        4326.000000\n",
              "Name: rating, dtype: float64"
            ]
          },
          "metadata": {
            "tags": []
          },
          "execution_count": 17
        }
      ]
    },
    {
      "cell_type": "code",
      "metadata": {
        "id": "nsQF5WOkP2RX"
      },
      "source": [
        "quantiles = no_of_rated_movies_per_user.quantile(np.arange(0, 1.01, 0.01))"
      ],
      "execution_count": 18,
      "outputs": []
    },
    {
      "cell_type": "code",
      "metadata": {
        "colab": {
          "base_uri": "https://localhost:8080/",
          "height": 418
        },
        "id": "0YrOnEVKZSz4",
        "outputId": "8e22019d-2cc3-4d69-c24a-574c047504bc"
      },
      "source": [
        "fig = plt.figure(figsize = (10, 6))\r\n",
        "axes = fig.add_axes([0.1, 0.1, 1, 1])\r\n",
        "axes.set_title(\"Quantile value of Rating per User\", fontsize = 20)\r\n",
        "axes.set_xlabel(\"Quantiles\", fontsize = 20)\r\n",
        "axes.set_ylabel(\"Ratings Per User\", fontsize = 20)\r\n",
        "axes.plot(quantiles)\r\n",
        "\r\n",
        "plt.scatter(x = quantiles.index[::5], y=quantiles.values[::5], c='blue', s=70, label=\"quantiles with 0.05 intervals\")\r\n",
        "\r\n",
        "plt.scatter(x = quantiles.index[::5], y=quantiles.values[::5], c=\"red\", s=70, label = \"quantiles with 0.25 intervals\")\r\n",
        "plt.legend(loc='upper left', fontsize = 20)\r\n",
        "\r\n",
        "for x, y in zip(quantiles.index[::25], quantiles.values[::25]):plt.annotate(s='({},{})'.format(x,y), xy = (x,y),fontweight\r\n",
        "                                                                            ='bold', fontsize = 16, xytext=(x-0.05, y+180))\r\n",
        "\r\n",
        "axes.tick_params(labelsize = 15)"
      ],
      "execution_count": 19,
      "outputs": [
        {
          "output_type": "display_data",
          "data": {
            "image/png": "[encoded data removed]",
            "text/plain": [
              "<Figure size 720x432 with 1 Axes>"
            ]
          },
          "metadata": {
            "tags": []
          }
        }
      ]
    },
    {
      "cell_type": "code",
      "metadata": {
        "colab": {
          "base_uri": "https://localhost:8080/"
        },
        "id": "4GBl_5H2cxVs",
        "outputId": "d5ffeea7-e106-454b-9edf-94c6b208dc14"
      },
      "source": [
        "quantiles[::5]"
      ],
      "execution_count": 20,
      "outputs": [
        {
          "output_type": "execute_result",
          "data": {
            "text/plain": [
              "0.00       1.0\n",
              "0.05       2.0\n",
              "0.10       3.0\n",
              "0.15       5.0\n",
              "0.20       6.0\n",
              "0.25       8.0\n",
              "0.30      10.0\n",
              "0.35      13.0\n",
              "0.40      16.0\n",
              "0.45      19.0\n",
              "0.50      23.0\n",
              "0.55      28.0\n",
              "0.60      35.0\n",
              "0.65      42.0\n",
              "0.70      51.0\n",
              "0.75      62.0\n",
              "0.80      77.0\n",
              "0.85      97.0\n",
              "0.90     128.0\n",
              "0.95     184.0\n",
              "1.00    4326.0\n",
              "Name: rating, dtype: float64"
            ]
          },
          "metadata": {
            "tags": []
          },
          "execution_count": 20
        }
      ]
    },
    {
      "cell_type": "code",
      "metadata": {
        "colab": {
          "base_uri": "https://localhost:8080/"
        },
        "id": "pn1EV5UDd4Ye",
        "outputId": "074a21a1-3414-40c2-c8b7-14b128413b9e"
      },
      "source": [
        "print(\"Total number of ratings below 75th percentile = \"+str(sum(no_of_rated_movies_per_user.values<=133)))\r\n",
        "print(\"Total number of ratings above 75th percentile = \"+str(sum(no_of_rated_movies_per_user.values>133)))"
      ],
      "execution_count": 21,
      "outputs": [
        {
          "output_type": "stream",
          "text": [
            "Total number of ratings below 75th percentile = 353210\n",
            "Total number of ratings above 75th percentile = 36013\n"
          ],
          "name": "stdout"
        }
      ]
    },
    {
      "cell_type": "code",
      "metadata": {
        "colab": {
          "base_uri": "https://localhost:8080/",
          "height": 365
        },
        "id": "VANmBTsqf50p",
        "outputId": "c06907b9-5e9f-4506-b1da-403d995a8d94"
      },
      "source": [
        "fig = plt.figure(figsize = (12, 6))\r\n",
        "axes = fig.add_axes([0.1,0.1,1,1])\r\n",
        "plt.title(\"Number of Ratings Per Movie\", fontsize = 20)\r\n",
        "plt.xlabel(\"Movie\", fontsize=20)\r\n",
        "plt.ylabel(\"Count Of Ratings\", fontsize=20)\r\n",
        "plt.plot(no_of_rated_movies_per_user.values)\r\n",
        "plt.tick_params(labelsize = 15)\r\n",
        "axes.set_xticklabels([])\r\n",
        "plt.show()"
      ],
      "execution_count": 22,
      "outputs": [
        {
          "output_type": "display_data",
          "data": {
            "image/png": "[encoded data removed]",
            "text/plain": [
              "<Figure size 864x432 with 1 Axes>"
            ]
          },
          "metadata": {
            "tags": []
          }
        }
      ]
    },
    {
      "cell_type": "markdown",
      "metadata": {
        "id": "QzeYUTdFiZS8"
      },
      "source": [
        "**It is skewed nicely**\r\n",
        "\r\n",
        "It clearly shows that there are some movies which are very popular and were rated by 90% users as comapared to other movies"
      ]
    },
    {
      "cell_type": "markdown",
      "metadata": {
        "id": "UP9KWgqJwXnm"
      },
      "source": [
        "Number of ratings on each day of the week"
      ]
    },
    {
      "cell_type": "code",
      "metadata": {
        "colab": {
          "base_uri": "https://localhost:8080/",
          "height": 281
        },
        "id": "mKhEnireit52",
        "outputId": "8bb42329-a70f-46c2-e3f0-5c5cf10b885f"
      },
      "source": [
        "fig, ax = plt.subplots()\n",
        "sns.countplot(x='day_of_week', data = train_df, ax = ax)\n",
        "plt.title(\"Number of ratings on each day\")\n",
        "plt.ylabel('Total number of ratings')\n",
        "plt.xlabel(\"\")\n",
        "ax.set_yticklabels([human(item, 'M') for item in ax.get_yticks()])\n",
        "plt.show()"
      ],
      "execution_count": 23,
      "outputs": [
        {
          "output_type": "display_data",
          "data": {
            "image/png": "[encoded data removed]",
            "text/plain": [
              "<Figure size 432x288 with 1 Axes>"
            ]
          },
          "metadata": {
            "tags": []
          }
        }
      ]
    },
    {
      "cell_type": "code",
      "metadata": {
        "colab": {
          "base_uri": "https://localhost:8080/",
          "height": 297
        },
        "id": "nEecdaWexYgm",
        "outputId": "e134434a-e5db-4999-a824-6b2e8e615d76"
      },
      "source": [
        "start = datetime.now()\n",
        "fig = plt.figure(figsize=plt.figaspect(.45))\n",
        "sns.boxplot(y='rating', x='day_of_week', data=train_df)\n",
        "plt.show()\n",
        "print(datetime.now()-start)"
      ],
      "execution_count": 24,
      "outputs": [
        {
          "output_type": "display_data",
          "data": {
            "image/png": "[encoded data removed]",
            "text/plain": [
              "<Figure size 640x288 with 1 Axes>"
            ]
          },
          "metadata": {
            "tags": []
          }
        },
        {
          "output_type": "stream",
          "text": [
            "0:00:09.765973\n"
          ],
          "name": "stdout"
        }
      ]
    },
    {
      "cell_type": "code",
      "metadata": {
        "colab": {
          "base_uri": "https://localhost:8080/"
        },
        "id": "eU3-GhfrJAXr",
        "outputId": "b4a8513f-3505-4b06-c015-34ea49d71256"
      },
      "source": [
        "avg_week_df = train_df.groupby(by=['day_of_week'])['rating'].mean()\n",
        "print('Average Ratings')\n",
        "print(\"_\"*30)\n",
        "print(avg_week_df)\n",
        "print(\"\\n\")"
      ],
      "execution_count": 25,
      "outputs": [
        {
          "output_type": "stream",
          "text": [
            "Average Ratings\n",
            "______________________________\n",
            "day_of_week\n",
            "Friday       3.576426\n",
            "Monday       3.573257\n",
            "Saturday     3.585673\n",
            "Sunday       3.588731\n",
            "Thursday     3.577798\n",
            "Tuesday      3.570347\n",
            "Wednesday    3.578739\n",
            "Name: rating, dtype: float64\n",
            "\n",
            "\n"
          ],
          "name": "stdout"
        }
      ]
    },
    {
      "cell_type": "markdown",
      "metadata": {
        "id": "8YwkO9lfip91"
      },
      "source": [
        "Creating sparse matrix from data frame"
      ]
    },
    {
      "cell_type": "code",
      "metadata": {
        "colab": {
          "base_uri": "https://localhost:8080/"
        },
        "id": "wQuxkzZFJtrj",
        "outputId": "475ae521-2a5c-4001-dab8-d4be881ca06d"
      },
      "source": [
        "start = datetime.now()\n",
        "if os.path.isfile('train_sparse_matrix.npz'):\n",
        "  print(\"It is present in your pwd, getting it from disk......\")\n",
        "  #just get it from the disk instead of computing it\n",
        "  train_sparse_matrix = sparse.load_npz('train_sparse_matrix.npz')\n",
        "  print(\"Done...\")\n",
        "\n",
        "else:\n",
        "  print(\"We are creating sparse matrix from the dataframe.....\")\n",
        "  #create sparse matrix and store it after usages.\n",
        "  #It should be in such a way that, Matrix[row, col] = data\n",
        "  train_sparse_matrix = sparse.csr_matrix((train_df.rating.values,(train_df.user.values, train_df.movie.values)),)\n",
        "  print(\"Done. It\\'s shape is : (user, movie\", train_sparse_matrix.shape)\n",
        "  print(\"Saving it into disk for further usages...\")\n",
        "  sparse.save_npz(\"train_sparse_matrix.npz\", train_sparse_matrix)\n",
        "  print(\"Done.....\\n\")\n",
        "  print(datetime.now()-start)"
      ],
      "execution_count": 26,
      "outputs": [
        {
          "output_type": "stream",
          "text": [
            "We are creating sparse matrix from the dataframe.....\n",
            "Done. It's shape is : (user, movie (2649430, 4500)\n",
            "Saving it into disk for further usages...\n",
            "Done.....\n",
            "\n",
            "0:00:14.074386\n"
          ],
          "name": "stdout"
        }
      ]
    },
    {
      "cell_type": "markdown",
      "metadata": {
        "id": "6t--_H9Ki1xN"
      },
      "source": [
        "The sparsity of train sparse matrix"
      ]
    },
    {
      "cell_type": "code",
      "metadata": {
        "colab": {
          "base_uri": "https://localhost:8080/"
        },
        "id": "R3X_T5N5heA5",
        "outputId": "827f10eb-4d9a-44d1-b495-4c89ea66b7b4"
      },
      "source": [
        "us, mv = train_sparse_matrix.shape\n",
        "elem = train_sparse_matrix.count_nonzero()\n",
        "print(\"Sparsity of train matrix : {} % \".format((1-elem/(us*mv))*100))"
      ],
      "execution_count": 27,
      "outputs": [
        {
          "output_type": "stream",
          "text": [
            "Sparsity of train matrix : 99.83859831485766 % \n"
          ],
          "name": "stdout"
        }
      ]
    },
    {
      "cell_type": "markdown",
      "metadata": {
        "id": "0ZpgJzqpj7Wb"
      },
      "source": [
        "Creating sparse matrix from test data frame"
      ]
    },
    {
      "cell_type": "code",
      "metadata": {
        "colab": {
          "base_uri": "https://localhost:8080/"
        },
        "id": "7VQq4glRjj_I",
        "outputId": "0696c724-70e1-474e-c803-f74cacd07a8d"
      },
      "source": [
        "start = datetime.now()\n",
        "if os.path.isfile('test_sparse_matrix.npz'):\n",
        "  print(\"It is present in your pwd, getting it from disk....\")\n",
        "  #just get it from the disk instead of computing it.\n",
        "  test_sparse_matrix = sparse.load_npz(\"test_sparse_matrix.npz\")\n",
        "  print(\"Done....\")\n",
        "else:\n",
        "  print(\"We are creating sparse matrix from the dataframe....\")\n",
        "  #create sparse_matrix and store it for after usages\n",
        "  #It should be in such a way that, matrix[row, col] = data\n",
        "  test_sparse_matrix = sparse.csr_matrix((test_df.rating.values,(test_df.user.values, test_df.movie.values)),)\n",
        "  print(\"Done. It\\'s shape is : (user, movie):\", test_sparse_matrix.shape)\n",
        "  print(\"Saving it into disk for further usages....\")\n",
        "  #save it into disk\n",
        "  sparse.save_npz(\"test_sparse_matrix.npz\", test_sparse_matrix)\n",
        "  print('Done...\\n')\n",
        "print(datetime.now()-start)"
      ],
      "execution_count": 28,
      "outputs": [
        {
          "output_type": "stream",
          "text": [
            "We are creating sparse matrix from the dataframe....\n",
            "Done. It's shape is : (user, movie): (2649430, 4500)\n",
            "Saving it into disk for further usages....\n",
            "Done...\n",
            "\n",
            "0:00:03.961548\n"
          ],
          "name": "stdout"
        }
      ]
    },
    {
      "cell_type": "markdown",
      "metadata": {
        "id": "cV60D9uvo1Kd"
      },
      "source": [
        "The sparsity of test data matrix"
      ]
    },
    {
      "cell_type": "code",
      "metadata": {
        "colab": {
          "base_uri": "https://localhost:8080/"
        },
        "id": "rgeW9BHDoivn",
        "outputId": "2171cc29-449f-4133-e15c-30d4b0ef9afe"
      },
      "source": [
        "us, mv = test_sparse_matrix.shape\n",
        "elem = test_sparse_matrix.count_nonzero()\n",
        "print(\"sparsity of Test matrix : {} % \".format((1-elem/(us*mv))*100))"
      ],
      "execution_count": 29,
      "outputs": [
        {
          "output_type": "stream",
          "text": [
            "sparsity of Test matrix : 99.95964957661752 % \n"
          ],
          "name": "stdout"
        }
      ]
    },
    {
      "cell_type": "markdown",
      "metadata": {
        "id": "Bwfnx3dxpaM8"
      },
      "source": [
        "Finding Global Average of all movies ratings, Averages rating per user, and average rating per movie"
      ]
    },
    {
      "cell_type": "code",
      "metadata": {
        "id": "3g1TuWyapVgU"
      },
      "source": [
        "#get the averages in dictionary(key:user_id/movie_id, value:avg rating)\r\n",
        "def get_average_rating(sparse_matrix, of_users):\r\n",
        "  #average rating of user/axes\r\n",
        "  ax = 1 if of_users else 0 #1-user axes, 0-Movie axes\r\n",
        "  #\".AI\" is for converting column_matrix to 1-D numpy array\r\n",
        "  sum_of_ratings = sparse_matrix.sum(axis=ax).A1\r\n",
        "  #Boolean matrix of ratings(whether a user rated movie or not)\r\n",
        "  is_rated = sparse_matrix != 0\r\n",
        "  #no. of ratings that each user or movie\r\n",
        "  no_of_ratings = is_rated.sum(axis=ax).A1\r\n",
        "  #max_user and max_movie ids in sparse matrix\r\n",
        "  u, m = sparse_matrix.shape\r\n",
        "  #create a dictionary of users and their averages ratings..\r\n",
        "  averages_ratings = { i :sum_of_ratings[i]/no_of_ratings[i] for i in range(u if of_users else m) if no_of_ratings[i] != 0}\r\n",
        "  #return that dictionary of average rating\r\n",
        "  return averages_ratings\r\n"
      ],
      "execution_count": 30,
      "outputs": []
    },
    {
      "cell_type": "markdown",
      "metadata": {
        "id": "CjX6TbAlO6QO"
      },
      "source": [
        "Finding global average of all movie ratings"
      ]
    },
    {
      "cell_type": "code",
      "metadata": {
        "colab": {
          "base_uri": "https://localhost:8080/"
        },
        "id": "X9AMvOqLL1YB",
        "outputId": "801e035d-b34e-46da-9883-cc3e42dc38ed"
      },
      "source": [
        "train_averages = dict()\r\n",
        "#get the global avetrage of ratings in our train set.\r\n",
        "train_global_average = train_sparse_matrix.sum()/train_sparse_matrix.count_nonzero()\r\n",
        "train_averages['global'] = train_global_average\r\n",
        "train_averages"
      ],
      "execution_count": 31,
      "outputs": [
        {
          "output_type": "execute_result",
          "data": {
            "text/plain": [
              "{'global': 3.577584765710522}"
            ]
          },
          "metadata": {
            "tags": []
          },
          "execution_count": 31
        }
      ]
    },
    {
      "cell_type": "markdown",
      "metadata": {
        "id": "ETZKWUrePDmE"
      },
      "source": [
        "Finding average rating per users"
      ]
    },
    {
      "cell_type": "code",
      "metadata": {
        "colab": {
          "base_uri": "https://localhost:8080/"
        },
        "id": "h6KpeLPENzmo",
        "outputId": "d0f8512d-8007-4497-ef48-cbcca32f2509"
      },
      "source": [
        "train_averages['user'] = get_average_rating(train_sparse_matrix, of_users=True)\r\n",
        "print('\\nAverage rating of user 10 : ',train_averages['user'][10])\r\n"
      ],
      "execution_count": 32,
      "outputs": [
        {
          "output_type": "stream",
          "text": [
            "\n",
            "Average rating of user 10 :  3.263157894736842\n"
          ],
          "name": "stdout"
        }
      ]
    },
    {
      "cell_type": "markdown",
      "metadata": {
        "id": "TVnDULylPLEM"
      },
      "source": [
        "Finding average rating per movie"
      ]
    },
    {
      "cell_type": "code",
      "metadata": {
        "colab": {
          "base_uri": "https://localhost:8080/"
        },
        "id": "pTT7AXzEO1Ox",
        "outputId": "ff43645c-abca-4e1d-e25c-12d264f73b11"
      },
      "source": [
        "train_averages['movie'] = get_average_rating(train_sparse_matrix, of_users=False)\r\n",
        "print('\\nAverages rating of movie 15 :',train_averages['movie'][15])"
      ],
      "execution_count": 33,
      "outputs": [
        {
          "output_type": "stream",
          "text": [
            "\n",
            "Averages rating of movie 15 : 3.312741312741313\n"
          ],
          "name": "stdout"
        }
      ]
    },
    {
      "cell_type": "markdown",
      "metadata": {
        "id": "bj8KNgdhQQpP"
      },
      "source": [
        "PDF's & CDF's of Avg ratings of users and movies(In Train data)"
      ]
    },
    {
      "cell_type": "code",
      "metadata": {
        "colab": {
          "base_uri": "https://localhost:8080/",
          "height": 432
        },
        "id": "IZcA4AwCQPQ0",
        "outputId": "e0a89897-870e-4070-d031-33fb5d25ef32"
      },
      "source": [
        "start = datetime.now()\r\n",
        "#draw pdfs for averages rating per user and average\r\n",
        "fig,(ax1, ax2) = plt.subplots(nrows=1, ncols=2, figsize=plt.figaspect(.5))\r\n",
        "fig.suptitle(\"Avg Ratings per user and per movie\",fontsize=15)\r\n",
        "ax1.set_title('User-Avg_Ratings')\r\n",
        "#get the list average user ratings from the averages dictionary..\r\n",
        "user_averages = [rat for rat in train_averages['user'].values()]\r\n",
        "sns.distplot(user_averages, ax=ax1, hist=False,kde_kws=dict(cumulative=True),label='Cdf')\r\n",
        "sns.distplot(user_averages, ax=ax1,hist=False,label='pdf')\r\n",
        "\r\n",
        "ax2.set_title('Movies-Avg-Rating')\r\n",
        "#get the list of movie_average_ratings from the dictionary..\r\n",
        "movie_averages = [rat for rat in train_averages['movie'].values()]\r\n",
        "sns.distplot(movie_averages, ax=ax2, hist=False, kde_kws=dict(cumulative=True),label='pdf')\r\n",
        "plt.show()\r\n",
        "print(datetime.now()-start)"
      ],
      "execution_count": 34,
      "outputs": [
        {
          "output_type": "stream",
          "text": [
            "/usr/local/lib/python3.7/dist-packages/seaborn/distributions.py:2557: FutureWarning: `distplot` is a deprecated function and will be removed in a future version. Please adapt your code to use either `displot` (a figure-level function with similar flexibility) or `kdeplot` (an axes-level function for kernel density plots).\n",
            "  warnings.warn(msg, FutureWarning)\n",
            "/usr/local/lib/python3.7/dist-packages/seaborn/distributions.py:2557: FutureWarning: `distplot` is a deprecated function and will be removed in a future version. Please adapt your code to use either `displot` (a figure-level function with similar flexibility) or `kdeplot` (an axes-level function for kernel density plots).\n",
            "  warnings.warn(msg, FutureWarning)\n",
            "/usr/local/lib/python3.7/dist-packages/seaborn/distributions.py:2557: FutureWarning: `distplot` is a deprecated function and will be removed in a future version. Please adapt your code to use either `displot` (a figure-level function with similar flexibility) or `kdeplot` (an axes-level function for kernel density plots).\n",
            "  warnings.warn(msg, FutureWarning)\n"
          ],
          "name": "stderr"
        },
        {
          "output_type": "display_data",
          "data": {
            "image/png": "[encoded data removed]",
            "text/plain": [
              "<Figure size 576x288 with 2 Axes>"
            ]
          },
          "metadata": {
            "tags": []
          }
        },
        {
          "output_type": "stream",
          "text": [
            "0:00:07.270932\n"
          ],
          "name": "stdout"
        }
      ]
    },
    {
      "cell_type": "markdown",
      "metadata": {
        "id": "xBHOzjnH8ArT"
      },
      "source": [
        "Cold start Problem with users"
      ]
    },
    {
      "cell_type": "code",
      "metadata": {
        "colab": {
          "base_uri": "https://localhost:8080/"
        },
        "id": "v1pbmc_Q7Zqe",
        "outputId": "845537fb-7b5e-4c68-9efe-3d0f48effca9"
      },
      "source": [
        "total_users = len(np.unique(df.user))\r\n",
        "users_train = len(train_averages['user'])\r\n",
        "new_users = total_users-users_train\r\n",
        "\r\n",
        "print('\\nTotal number of users : ',total_users)\r\n",
        "print('\\nNumber of Users in train data : ',users_train)\r\n",
        "print(\"\\nNumber of users that did not appear in train data : {}({} %)\".format(new_users,np.round((new_users/total_users)*100, 2)))"
      ],
      "execution_count": 35,
      "outputs": [
        {
          "output_type": "stream",
          "text": [
            "\n",
            "Total number of users :  470758\n",
            "\n",
            "Number of Users in train data :  389223\n",
            "\n",
            "Number of users that did not appear in train data : 81535(17.32 %)\n"
          ],
          "name": "stdout"
        }
      ]
    },
    {
      "cell_type": "markdown",
      "metadata": {
        "id": "wILeks5Q-xJd"
      },
      "source": [
        "Cold start problem with movies"
      ]
    },
    {
      "cell_type": "code",
      "metadata": {
        "colab": {
          "base_uri": "https://localhost:8080/"
        },
        "id": "X_3auDk1CrNk",
        "outputId": "65d9afd5-64c4-43a5-ba2a-3416ef997574"
      },
      "source": [
        "total_movies = len(np.unique(df.movie))\r\n",
        "movies_train = len(train_averages['movie'])\r\n",
        "new_movies = total_movies-movies_train\r\n",
        "\r\n",
        "print('\\nTotal number of movies : ',total_movies)\r\n",
        "print('\\nNumber of User in train data : ',movies_train)\r\n",
        "print(\"\\n No of movies that did not appear in train data : {}({} %)\".format(new_movies, np.round((new_movies/total_movies)*100,2)))"
      ],
      "execution_count": 36,
      "outputs": [
        {
          "output_type": "stream",
          "text": [
            "\n",
            "Total number of movies :  4499\n",
            "\n",
            "Number of User in train data :  4403\n",
            "\n",
            " No of movies that did not appear in train data : 96(2.13 %)\n"
          ],
          "name": "stdout"
        }
      ]
    },
    {
      "cell_type": "markdown",
      "metadata": {
        "id": "ttnQt9-XE-Vg"
      },
      "source": [
        "Computing Similarity matrices"
      ]
    },
    {
      "cell_type": "markdown",
      "metadata": {
        "id": "PACcvP-9FYQ_"
      },
      "source": [
        "**Computing user-user Similarity matrix**\r\n",
        "\r\n",
        "1. Caculating user user Similarity_matrix is not very easy(unless you have huge Computing Power and lots of time) because of number of usersbeing lare\r\n"
      ]
    },
    {
      "cell_type": "code",
      "metadata": {
        "id": "m0O-g49a95kC"
      },
      "source": [
        "from sklearn.metrics.pairwise import cosine_similarity\r\n",
        "def compute_user_similarity(sparse_matrix, compute_for_few=False, top=100, verbose=False,\r\n",
        "                            verb_for_n_rows = 20,draw_time_taken = True):\r\n",
        "  no_of_users, _ = sparse_matrix.shape\r\n",
        "  #get the indices of non zero rows(users) from our sparse matrix\r\n",
        "  row_ind, col_ind = sparse_matrix.nonzero()\r\n",
        "  row_ind = sorted(set(row_ind))\r\n",
        "  time_taken = list() #time taken forn finding similar users for an user...\r\n",
        "  # we create row,cols and data list.., which can be used to create sparse matrices\r\n",
        "  rows, cols,data = list(), list(), list()\r\n",
        "  if verbose: print(\"Computing top\",top,\"similarities for each user...\")\r\n",
        "  start = datetime.now()\r\n",
        "  tmp=0\r\n",
        "  for row in row_ind[:top] if compute_for_few else row_ind:\r\n",
        "    tmp += 1\r\n",
        "    prev = datetime.now()\r\n",
        "\r\n",
        "    #get the similarity row for this user with all other users\r\n",
        "    sim = cosine_similarity(sparse_matrix.getrow(row), sparse_matrix).ravel()\r\n",
        "    #we will get only the 'top' most similar users and ignore rest of them\r\n",
        "    top_sim_ind = sim.argsort()[-top:]\r\n",
        "    top_sim_val = sim[top_sim_ind]\r\n",
        "    \r\n",
        "    #add them to our row, cols and data\r\n",
        "    rows.extend([row]*top)\r\n",
        "    cols.extend(top_sim_ind)\r\n",
        "    data.extend(top_sim_val)\r\n",
        "    time_taken.append(datetime.now().timestamp() - prev.timestamp())\r\n",
        "\r\n",
        "    if verbose:\r\n",
        "      if tmp%verb_for_n_rows == 0:\r\n",
        "        print(\"computing done for {} users [time elased : {} ]\".format(tmp, datetime.now()-start))\r\n",
        "\r\n",
        "\r\n",
        "    # lets create sparse matrix out of these and return it\r\n",
        "  if verbose: print(\"Creating sparse matrix from the computed similarities\")\r\n",
        "\r\n",
        "      #return rows, cols, data\r\n",
        "\r\n",
        "  if draw_time_taken:\r\n",
        "    plt.plot(time_taken, label = 'time taken for each user')\r\n",
        "    plt.plot(np.cumsum(time_taken), label='Total time')\r\n",
        "    plt.legend(loc='best')\r\n",
        "    plt.xlabel('User')\r\n",
        "    plt.ylabel('Time(seconds)')\r\n",
        "    plt.show()\r\n",
        "  return sparse.csr_matrix((data, (rows, cols)), shape=(no_of_users, no_of_users)), time_taken"
      ],
      "execution_count": 37,
      "outputs": []
    },
    {
      "cell_type": "code",
      "metadata": {
        "colab": {
          "base_uri": "https://localhost:8080/",
          "height": 400
        },
        "id": "06-2AeRt9lk6",
        "outputId": "19f7ee97-563d-43a0-8ed6-e26a4eb5210a"
      },
      "source": [
        "# We are not going to run it on whole data it will gives us memory error or so we will try it on 100\r\n",
        "start = datetime.now()\r\n",
        "u_u_sim_sparse, _ = compute_user_similarity(train_sparse_matrix, compute_for_few=True, top = 40,verbose=True)\r\n",
        "print(\"-\"*100)\r\n",
        "print(\"Time taken :\",datetime.now()-start)"
      ],
      "execution_count": 38,
      "outputs": [
        {
          "output_type": "stream",
          "text": [
            "Computing top 40 similarities for each user...\n",
            "computing done for 20 users [time elased : 0:00:13.869401 ]\n",
            "computing done for 40 users [time elased : 0:00:27.913733 ]\n",
            "Creating sparse matrix from the computed similarities\n"
          ],
          "name": "stdout"
        },
        {
          "output_type": "display_data",
          "data": {
            "image/png": "[encoded data removed]",
            "text/plain": [
              "<Figure size 432x288 with 1 Axes>"
            ]
          },
          "metadata": {
            "tags": []
          }
        },
        {
          "output_type": "stream",
          "text": [
            "----------------------------------------------------------------------------------------------------\n",
            "Time taken : 0:00:30.792384\n"
          ],
          "name": "stdout"
        }
      ]
    },
    {
      "cell_type": "markdown",
      "metadata": {
        "id": "xkO3aqT5QoLw"
      },
      "source": [
        "Trying with reduced dimensions (Using TruncatedSVD for dimensionality reduction of user vector)\n",
        "We have 405,041 users in out training set and computing similarities between them..( 17K dimensional vector..) is time consuming..\n",
        "From above plot, It took roughly 8.88 sec for computing simlilar users for one user\n",
        "We have 405,041 users with us in training set.\n",
        "${ 405041 \\times 8.88 = 3596764.08  \\sec } =  59946.068 \\min = 999.101133333 \\text{ hours}\n",
        "= 41.629213889 \\text{ days}...$\n",
        "\n",
        "Even if we run on 4 cores parallelly (a typical system now a days), It will still take almost 10 and 1/2 days.\n",
        "IDEA: Instead, we will try to reduce the dimentsions using SVD, so that it might speed up the process...\n",
        "\n"
      ]
    },
    {
      "cell_type": "code",
      "metadata": {
        "colab": {
          "base_uri": "https://localhost:8080/"
        },
        "id": "cL9_sjIlQ8F3",
        "outputId": "62a11def-c9f4-4bad-b1d5-7167f570b6a5"
      },
      "source": [
        "from datetime import datetime\n",
        "from sklearn.decomposition import TruncatedSVD\n",
        "start = datetime.now()\n",
        "#initilize the algorithm with some parameter\n",
        "#All of them are default except n_component. n_iter is for randomized SVD solver\n",
        "netflix_svd = TruncatedSVD(n_components=40, algorithm='randomized', random_state=15)\n",
        "trunc_svd = netflix_svd.fit_transform(train_sparse_matrix)\n",
        "print(datetime.now()-start)"
      ],
      "execution_count": 39,
      "outputs": [
        {
          "output_type": "stream",
          "text": [
            "0:00:56.033282\n"
          ],
          "name": "stdout"
        }
      ]
    },
    {
      "cell_type": "markdown",
      "metadata": {
        "id": "f6KtmcAGYf2N"
      },
      "source": [
        "\n",
        "Here,\n",
        "\n",
        "$\\sum \\longleftarrow$ (netflix_svd.singular_values_ )\n",
        "\n",
        "$\\bigvee^T \\longleftarrow$ (netflix_svd.components_)\n",
        "\n",
        "$\\bigcup$ is not returned. instead Projection_of_X onto the new vectorspace is returned.\n",
        "\n",
        "It uses randomized svd internally, which returns All 3 of them saperately. Use that instead."
      ]
    },
    {
      "cell_type": "code",
      "metadata": {
        "id": "FS_yL-G8K5T4"
      },
      "source": [
        "expl_var = np.cumsum(netflix_svd.explained_variance_ratio_)\r\n"
      ],
      "execution_count": 40,
      "outputs": []
    },
    {
      "cell_type": "code",
      "metadata": {
        "colab": {
          "base_uri": "https://localhost:8080/",
          "height": 288
        },
        "id": "27vF-lJdjzQV",
        "outputId": "40dcc5ec-eb6c-4db9-ae8f-fa9382e471f9"
      },
      "source": [
        "fig, (ax1, ax2) = plt.subplots(nrows=1, ncols=2, figsize=plt.figaspect(.5))\n",
        "\n",
        "ax1.set_ylabel(\"Variance Explained\", fontsize=15)\n",
        "ax1.set_xlabel(\"# Latent Facors\", fontsize=15)\n",
        "ax1.plot(expl_var)\n",
        "# annote some (latentfactors, expl_var) to make it clear\n",
        "ind = [1, 2,4,8,20,40]\n",
        "ax1.scatter(x = [i-1 for i in ind], y = expl_var[[i-1 for i in ind]], c='#ff3300')\n",
        "for i in ind:\n",
        "    ax1.annotate(s =\"({}, {})\".format(i,  np.round(expl_var[i-1], 2)), xy=(i-1, expl_var[i-1]),\n",
        "                xytext = ( i+20, expl_var[i-1] - 0.01), fontweight='bold')\n",
        "\n",
        "change_in_expl_var = [expl_var[i+1] - expl_var[i] for i in range(len(expl_var)-1)]\n",
        "ax2.plot(change_in_expl_var)\n",
        "\n",
        "\n",
        "\n",
        "ax2.set_ylabel(\"Gain in Var_Expl with One Additional LF\", fontsize=10)\n",
        "ax2.yaxis.set_label_position(\"right\")\n",
        "ax2.set_xlabel(\"# Latent Facors\", fontsize=20)\n",
        "\n",
        "plt.show()"
      ],
      "execution_count": 41,
      "outputs": [
        {
          "output_type": "display_data",
          "data": {
            "image/png": "[encoded data removed]",
            "text/plain": [
              "<Figure size 576x288 with 2 Axes>"
            ]
          },
          "metadata": {
            "tags": []
          }
        }
      ]
    },
    {
      "cell_type": "code",
      "metadata": {
        "colab": {
          "base_uri": "https://localhost:8080/"
        },
        "id": "2ud4PdhznTqH",
        "outputId": "b91512d4-b32e-4a59-ae6c-5c1686835f9c"
      },
      "source": [
        "for i in ind:\n",
        "  print(\"({}, {})\".format(i, np.round(expl_var[i-1], 2)))"
      ],
      "execution_count": 42,
      "outputs": [
        {
          "output_type": "stream",
          "text": [
            "(1, 0.23)\n",
            "(2, 0.26)\n",
            "(4, 0.31)\n",
            "(8, 0.35)\n",
            "(20, 0.4)\n",
            "(40, 0.46)\n"
          ],
          "name": "stdout"
        }
      ]
    },
    {
      "cell_type": "code",
      "metadata": {
        "colab": {
          "base_uri": "https://localhost:8080/"
        },
        "id": "2b47tsO7rkvp",
        "outputId": "b8bdf093-5dda-4b57-8535-1e5cfeeb68b2"
      },
      "source": [
        "#lets project our original U_M matrix into 40 Dimentional space\r\n",
        "start = datetime.now()\r\n",
        "trunc_matrix = train_sparse_matrix.dot(netflix_svd.components_.T)\r\n",
        "print(datetime.now()-start)"
      ],
      "execution_count": 43,
      "outputs": [
        {
          "output_type": "stream",
          "text": [
            "0:00:00.874729\n"
          ],
          "name": "stdout"
        }
      ]
    },
    {
      "cell_type": "code",
      "metadata": {
        "colab": {
          "base_uri": "https://localhost:8080/"
        },
        "id": "ENp6qeYky1ka",
        "outputId": "4f815fb4-f4ef-4997-d168-5f087d9983e5"
      },
      "source": [
        "type(trunc_matrix), trunc_matrix.shape"
      ],
      "execution_count": 44,
      "outputs": [
        {
          "output_type": "execute_result",
          "data": {
            "text/plain": [
              "(numpy.ndarray, (2649430, 40))"
            ]
          },
          "metadata": {
            "tags": []
          },
          "execution_count": 44
        }
      ]
    },
    {
      "cell_type": "markdown",
      "metadata": {
        "id": "erJfLgS_zGEj"
      },
      "source": [
        "Lets Convert this to actual sparse matrix and store it for future purpose"
      ]
    },
    {
      "cell_type": "code",
      "metadata": {
        "id": "1gLGsKprzC9q"
      },
      "source": [
        "if not os.path.isfile(\"trunc_sparse_matrix.npz\"):\r\n",
        "#create that sparse matrix\r\n",
        "  trunc_sparse_matrix = sparse.csr_matrix(trunc_matrix)\r\n",
        "#save this truncated sparse matrix for later usage\r\n",
        "  sparse.save_npz('trunc_sparse_matrix', trunc_sparse_matrix)\r\n",
        "else:\r\n",
        "  trunc_sparse_matrix = sparse.load_npz('trunc_sparse_matrix.npz')\r\n"
      ],
      "execution_count": 45,
      "outputs": []
    },
    {
      "cell_type": "code",
      "metadata": {
        "colab": {
          "base_uri": "https://localhost:8080/"
        },
        "id": "TN9vpo_O3BNc",
        "outputId": "0f4ba60d-3830-47e7-e4e6-4fc17239a51f"
      },
      "source": [
        "trunc_sparse_matrix.shape"
      ],
      "execution_count": 46,
      "outputs": [
        {
          "output_type": "execute_result",
          "data": {
            "text/plain": [
              "(2649430, 40)"
            ]
          },
          "metadata": {
            "tags": []
          },
          "execution_count": 46
        }
      ]
    },
    {
      "cell_type": "code",
      "metadata": {
        "colab": {
          "base_uri": "https://localhost:8080/",
          "height": 430
        },
        "id": "rgylg9wJ3KJB",
        "outputId": "b4226261-98ef-4b8d-9544-bba07b29f069"
      },
      "source": [
        "#getting memory error\r\n",
        "start = datetime.now()\r\n",
        "trunc_u_u_sim_matrix, _ = compute_user_similarity(trunc_sparse_matrix, compute_for_few = True, top=50, verbose=True, verb_for_n_rows=10)\r\n",
        "print(\"_\"*50)\r\n",
        "print(\"time:\",datetime.now()-start)"
      ],
      "execution_count": 47,
      "outputs": [
        {
          "output_type": "stream",
          "text": [
            "Computing top 50 similarities for each user...\n",
            "computing done for 10 users [time elased : 0:00:06.160163 ]\n",
            "computing done for 20 users [time elased : 0:00:12.270195 ]\n",
            "computing done for 30 users [time elased : 0:00:18.327492 ]\n",
            "computing done for 40 users [time elased : 0:00:24.429720 ]\n",
            "computing done for 50 users [time elased : 0:00:30.486985 ]\n",
            "Creating sparse matrix from the computed similarities\n"
          ],
          "name": "stdout"
        },
        {
          "output_type": "display_data",
          "data": {
            "image/png": "[encoded data removed]",
            "text/plain": [
              "<Figure size 432x288 with 1 Axes>"
            ]
          },
          "metadata": {
            "tags": []
          }
        },
        {
          "output_type": "stream",
          "text": [
            "__________________________________________________\n",
            "time: 0:00:32.859497\n"
          ],
          "name": "stdout"
        }
      ]
    },
    {
      "cell_type": "markdown",
      "metadata": {
        "id": "qCv5xJoK5gPD"
      },
      "source": [
        "**Computing Movies-Movies Similarity matrix**\r\n",
        "\r\n",
        "\r\n",
        "\r\n"
      ]
    },
    {
      "cell_type": "code",
      "metadata": {
        "id": "84DpeKyV44sh",
        "colab": {
          "base_uri": "https://localhost:8080/"
        },
        "outputId": "3a05023f-ebb5-44c9-938d-f4e5fb01cb9e"
      },
      "source": [
        "start = datetime.now()\r\n",
        "if not os.path.isfile(\"Movie_Movie_sim_sparse.npz\"):\r\n",
        "  print(\"It seems you don't have that file. Computing movie_movie similarity..\")\r\n",
        "  start = datetime.now()\r\n",
        "  m_m_sim_sparse = cosine_similarity(X = train_sparse_matrix.T, dense_output=False)\r\n",
        "  print(\"Done...\")\r\n",
        "  #store this sparse matrix in disk before using it. For future purposes.\r\n",
        "  print(\"Saving it to disk without the need of re-computing it again...\")\r\n",
        "  sparse.save_npz(\"movie_movie_sim_sparse.npz\",m_m_sim_sparse)\r\n",
        "  print(\"Done...\")\r\n",
        "else:\r\n",
        "  print(\"It is there, we will get it.\")\r\n",
        "  m_m_sim_sparse = sparse.load_npz(\"m_m_sim_sparse.npz\")\r\n",
        "  print(\"Done...\")\r\n",
        "\r\n",
        "print(datetime.now() - start)"
      ],
      "execution_count": 48,
      "outputs": [
        {
          "output_type": "stream",
          "text": [
            "It seems you don't have that file. Computing movie_movie similarity..\n",
            "Done...\n",
            "Saving it to disk without the need of re-computing it again...\n",
            "Done...\n",
            "0:00:33.148240\n"
          ],
          "name": "stdout"
        }
      ]
    },
    {
      "cell_type": "code",
      "metadata": {
        "id": "kzauY8Of5d2t",
        "colab": {
          "base_uri": "https://localhost:8080/"
        },
        "outputId": "70296fa8-bba5-4043-d527-5307069019ef"
      },
      "source": [
        "m_m_sim_sparse.shape"
      ],
      "execution_count": 49,
      "outputs": [
        {
          "output_type": "execute_result",
          "data": {
            "text/plain": [
              "(4500, 4500)"
            ]
          },
          "metadata": {
            "tags": []
          },
          "execution_count": 49
        }
      ]
    },
    {
      "cell_type": "markdown",
      "metadata": {
        "id": "FICA2ThE9ir4"
      },
      "source": [
        "Even though we have similarity measure \r\n",
        "of each movie, with all other movies, we generally don't care much about least similar movies.\r\n",
        "\r\n",
        "Most of the times, only top_xxx similar items matters. It may be 10 or 100.\r\n",
        "\r\n",
        "We take only those top similar movie rating and store them in a saperate dictionary\r\n",
        "\r\n"
      ]
    },
    {
      "cell_type": "code",
      "metadata": {
        "id": "6DW8Dwu59Slv"
      },
      "source": [
        "movie_ids = np.unique(m_m_sim_sparse.nonzero()[1])"
      ],
      "execution_count": 50,
      "outputs": []
    },
    {
      "cell_type": "code",
      "metadata": {
        "id": "D9LgQ_eh-l8w"
      },
      "source": [
        ""
      ],
      "execution_count": 50,
      "outputs": []
    },
    {
      "cell_type": "code",
      "metadata": {
        "id": "tANKEWKx-y-i",
        "colab": {
          "base_uri": "https://localhost:8080/"
        },
        "outputId": "f5eb5677-e45e-4c3b-d957-3d4194cb18fa"
      },
      "source": [
        "start = datetime.now()\r\n",
        "similar_movies = dict()\r\n",
        "for movie in movie_ids:\r\n",
        "  #get the top similar movies and store them in the dictionary\r\n",
        "  sim_movies = m_m_sim_sparse[movie].toarray().ravel().argsort()[::-1][1:]\r\n",
        "  similar_movies[movie] = sim_movies[:100]\r\n",
        "print(datetime.now() - start)\r\n",
        "\r\n",
        "#just testing similar movies for movie_15\r\n",
        "similar_movies[15]"
      ],
      "execution_count": 51,
      "outputs": [
        {
          "output_type": "stream",
          "text": [
            "0:00:02.190880\n"
          ],
          "name": "stdout"
        },
        {
          "output_type": "execute_result",
          "data": {
            "text/plain": [
              "array([4424, 3755,  590, 3973, 1720, 2818, 4095, 3162, 2280, 2450, 2534,\n",
              "       1072, 1416, 3338,  376,  598, 2187, 1942, 2716,  565, 1690, 4376,\n",
              "        847, 1510, 2429, 3706, 1030, 2399, 4486, 2879, 4467, 3502, 2107,\n",
              "       1391,  882,  509, 3726, 2215, 2637, 4037, 3580, 1493, 3602,  610,\n",
              "        791, 2764,   31, 3511,  218, 3329, 1696, 2636, 1335,   61, 4326,\n",
              "       1149, 1184, 4175, 4276, 2859, 2827, 1453, 1177,  280, 1874,  772,\n",
              "       2219, 3396,  327, 3741, 3016,  914,  714,  679, 2545, 3616, 1647,\n",
              "       2061, 3294, 1494, 2902, 1930, 4163, 3940, 1575, 4079,  756, 4090,\n",
              "       1351, 4223, 3941, 3279, 2774, 4006,  917,  277, 2419, 2761, 2624,\n",
              "       1249])"
            ]
          },
          "metadata": {
            "tags": []
          },
          "execution_count": 51
        }
      ]
    },
    {
      "cell_type": "markdown",
      "metadata": {
        "id": "MFal7xKj_0Q3"
      },
      "source": [
        "**Finding most similar movies using similarity matrix**\r\n",
        "\r\n",
        "Does Similarity really work as the way we expected?\r\n",
        "\r\n",
        "Lets pick some random movie and check for its similar movies.."
      ]
    },
    {
      "cell_type": "code",
      "metadata": {
        "id": "LB2vC2GMAa1T",
        "colab": {
          "base_uri": "https://localhost:8080/",
          "height": 275
        },
        "outputId": "77b20a0c-2053-432b-ee70-0027d95180f1"
      },
      "source": [
        "#First lets load the movie details into soe dataframe\r\n",
        "#movie details are in 'netflix/movie_titles.csv'\r\n",
        "\r\n",
        "movie_titles = pd.read_csv(\"/content/drive/MyDrive/ML_Projects/NetflixRecoomandation/movie_titles.csv\", sep=',',header=None, names=['movie_id','year_of_release','title'],\r\n",
        "                           verbose=True, index_col = 'movie_id', encoding='ISO-8859-1')\r\n",
        "movie_titles.head()"
      ],
      "execution_count": 53,
      "outputs": [
        {
          "output_type": "stream",
          "text": [
            "Tokenization took: 6.09 ms\n",
            "Type conversion took: 10.72 ms\n",
            "Parser memory cleanup took: 0.01 ms\n"
          ],
          "name": "stdout"
        },
        {
          "output_type": "execute_result",
          "data": {
            "text/html": [
              "<div>\n",
              "<style scoped>\n",
              "    .dataframe tbody tr th:only-of-type {\n",
              "        vertical-align: middle;\n",
              "    }\n",
              "\n",
              "    .dataframe tbody tr th {\n",
              "        vertical-align: top;\n",
              "    }\n",
              "\n",
              "    .dataframe thead th {\n",
              "        text-align: right;\n",
              "    }\n",
              "</style>\n",
              "<table border=\"1\" class=\"dataframe\">\n",
              "  <thead>\n",
              "    <tr style=\"text-align: right;\">\n",
              "      <th></th>\n",
              "      <th>year_of_release</th>\n",
              "      <th>title</th>\n",
              "    </tr>\n",
              "    <tr>\n",
              "      <th>movie_id</th>\n",
              "      <th></th>\n",
              "      <th></th>\n",
              "    </tr>\n",
              "  </thead>\n",
              "  <tbody>\n",
              "    <tr>\n",
              "      <th>1</th>\n",
              "      <td>2003.0</td>\n",
              "      <td>Dinosaur Planet</td>\n",
              "    </tr>\n",
              "    <tr>\n",
              "      <th>2</th>\n",
              "      <td>2004.0</td>\n",
              "      <td>Isle of Man TT 2004 Review</td>\n",
              "    </tr>\n",
              "    <tr>\n",
              "      <th>3</th>\n",
              "      <td>1997.0</td>\n",
              "      <td>Character</td>\n",
              "    </tr>\n",
              "    <tr>\n",
              "      <th>4</th>\n",
              "      <td>1994.0</td>\n",
              "      <td>Paula Abdul's Get Up &amp; Dance</td>\n",
              "    </tr>\n",
              "    <tr>\n",
              "      <th>5</th>\n",
              "      <td>2004.0</td>\n",
              "      <td>The Rise and Fall of ECW</td>\n",
              "    </tr>\n",
              "  </tbody>\n",
              "</table>\n",
              "</div>"
            ],
            "text/plain": [
              "          year_of_release                         title\n",
              "movie_id                                               \n",
              "1                  2003.0               Dinosaur Planet\n",
              "2                  2004.0    Isle of Man TT 2004 Review\n",
              "3                  1997.0                     Character\n",
              "4                  1994.0  Paula Abdul's Get Up & Dance\n",
              "5                  2004.0      The Rise and Fall of ECW"
            ]
          },
          "metadata": {
            "tags": []
          },
          "execution_count": 53
        }
      ]
    },
    {
      "cell_type": "code",
      "metadata": {
        "id": "C5nuu5yuBoWW"
      },
      "source": [
        ""
      ],
      "execution_count": null,
      "outputs": []
    }
  ]
}