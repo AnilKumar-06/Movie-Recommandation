{
  "nbformat": 4,
  "nbformat_minor": 0,
  "metadata": {
    "colab": {
      "name": "NetflixRecommandationSystem.ipynb",
      "provenance": [],
      "collapsed_sections": [],
      "include_colab_link": true
    },
    "kernelspec": {
      "display_name": "Python 3",
      "name": "python3"
    }
  },
  "cells": [
    {
      "cell_type": "markdown",
      "metadata": {
        "id": "view-in-github",
        "colab_type": "text"
      },
      "source": [
        "<a href=\"https://colab.research.google.com/github/AnilKumar-06/Movie-Recommandation/blob/main/NetflixRecommandationSystem.ipynb\" target=\"_parent\"><img src=\"https://colab.research.google.com/assets/colab-badge.svg\" alt=\"Open In Colab\"/></a>"
      ]
    },
    {
      "cell_type": "code",
      "metadata": {
        "colab": {
          "base_uri": "https://localhost:8080/"
        },
        "id": "Zg1vfTD0aQ0X",
        "outputId": "03719d6b-7ffa-4cd6-8140-ffb9feb53072"
      },
      "source": [
        "from google.colab import drive\r\n",
        "drive.mount('/content/drive/') "
      ],
      "execution_count": 38,
      "outputs": [
        {
          "output_type": "stream",
          "text": [
            "Drive already mounted at /content/drive/; to attempt to forcibly remount, call drive.mount(\"/content/drive/\", force_remount=True).\n"
          ],
          "name": "stdout"
        }
      ]
    },
    {
      "cell_type": "code",
      "metadata": {
        "id": "2NoLlrGteVDV"
      },
      "source": [
        "from datetime import datetime\r\n",
        "import pandas as pd\r\n",
        "import numpy as np\r\n",
        "import matplotlib\r\n",
        "#matplotlib.use('nbagg')\r\n",
        "\r\n",
        "import matplotlib.pyplot as plt\r\n",
        "#plt.rcParams.update({'figure.max_open_warning': 0})\r\n",
        "import seaborn as sns\r\n",
        "sns.set_style('whitegrid')\r\n",
        "import os\r\n",
        "from scipy import sparse\r\n",
        "from scipy.sparse import csr_matrix\r\n",
        "from sklearn.decomposition import TruncatedSVD\r\n",
        "from sklearn.metrics.pairwise import cosine_similarity\r\n",
        "import random"
      ],
      "execution_count": 39,
      "outputs": []
    },
    {
      "cell_type": "code",
      "metadata": {
        "id": "IwL1j8AphFdu"
      },
      "source": [
        "\r\n",
        "start = datetime.now()\r\n",
        "if not os.path.isfile('data.csv'):\r\n",
        "  data = open('data.csv', mode='w')\r\n",
        "  row = list()\r\n",
        "  files = ['/content/drive/MyDrive/ML_Projects/NetflixRecoomandation/combined_data_1.txt','/content/drive/MyDrive/ML_Projects/NetflixRecoomandation/combined_data_2.txt']#, '/content/drive/MyDrive/ML_Projects/NetflixRecoomandation/combined_data_3.txt', '/content/drive/MyDrive/ML_Projects/NetflixRecoomandation/combined_data_4.txt']\r\n",
        "\r\n",
        "  for file in files:\r\n",
        "    print('Reading rating from {}...'.format(file))\r\n",
        "    with open(file) as f:\r\n",
        "      for line in f:\r\n",
        "        del row[:] #you don't have to do this\r\n",
        "        line = line.strip()\r\n",
        "        if line.endswith(':'):\r\n",
        "          #all below are rating for this movie, until another\r\n",
        "          movie_id = line.replace(':', '')\r\n",
        "        else:\r\n",
        "          row = [x for x in line.split(',')]\r\n",
        "          row.insert(0, movie_id)\r\n",
        "          data.write(','.join(row))\r\n",
        "          data.write('\\n')\r\n",
        "\r\n",
        "    print('Done.\\n')\r\n",
        "  data.close()\r\n",
        "  print('Time taken :',datetime.now() - start)"
      ],
      "execution_count": 40,
      "outputs": []
    },
    {
      "cell_type": "code",
      "metadata": {
        "colab": {
          "base_uri": "https://localhost:8080/"
        },
        "id": "Vg6me8_lmK3-",
        "outputId": "e018e787-d148-4d9b-efbc-9b353e054c08"
      },
      "source": [
        "print(\"Creating the dataframe from data.csv file...\")\r\n",
        "df = pd.read_csv('data.csv', sep=',',names = ['movie', 'user', 'rating', 'date'])\r\n",
        "df.date = pd.to_datetime(df.date)\r\n",
        "print('Done.\\n')\r\n",
        "\r\n",
        "#arranging the rating according to time\r\n",
        "print('Sorting the datetime by date...')\r\n",
        "df.sort_values(by='date', inplace=True)\r\n",
        "print('Done..')"
      ],
      "execution_count": 41,
      "outputs": [
        {
          "output_type": "stream",
          "text": [
            "Creating the dataframe from data.csv file...\n",
            "Done.\n",
            "\n",
            "Sorting the datetime by date...\n",
            "Done..\n"
          ],
          "name": "stdout"
        }
      ]
    },
    {
      "cell_type": "code",
      "metadata": {
        "colab": {
          "base_uri": "https://localhost:8080/",
          "height": 195
        },
        "id": "nQloFsuwoOM2",
        "outputId": "5cbda356-75a9-4b56-e1ae-aa4202bf57c4"
      },
      "source": [
        "df.head()"
      ],
      "execution_count": 42,
      "outputs": [
        {
          "output_type": "execute_result",
          "data": {
            "text/html": [
              "<div>\n",
              "<style scoped>\n",
              "    .dataframe tbody tr th:only-of-type {\n",
              "        vertical-align: middle;\n",
              "    }\n",
              "\n",
              "    .dataframe tbody tr th {\n",
              "        vertical-align: top;\n",
              "    }\n",
              "\n",
              "    .dataframe thead th {\n",
              "        text-align: right;\n",
              "    }\n",
              "</style>\n",
              "<table border=\"1\" class=\"dataframe\">\n",
              "  <thead>\n",
              "    <tr style=\"text-align: right;\">\n",
              "      <th></th>\n",
              "      <th>movie</th>\n",
              "      <th>user</th>\n",
              "      <th>rating</th>\n",
              "      <th>date</th>\n",
              "    </tr>\n",
              "  </thead>\n",
              "  <tbody>\n",
              "    <tr>\n",
              "      <th>9056171</th>\n",
              "      <td>1798</td>\n",
              "      <td>510180</td>\n",
              "      <td>5</td>\n",
              "      <td>1999-11-11</td>\n",
              "    </tr>\n",
              "    <tr>\n",
              "      <th>14892677</th>\n",
              "      <td>2866</td>\n",
              "      <td>510180</td>\n",
              "      <td>3</td>\n",
              "      <td>1999-11-11</td>\n",
              "    </tr>\n",
              "    <tr>\n",
              "      <th>19585852</th>\n",
              "      <td>3730</td>\n",
              "      <td>510180</td>\n",
              "      <td>4</td>\n",
              "      <td>1999-11-11</td>\n",
              "    </tr>\n",
              "    <tr>\n",
              "      <th>20393918</th>\n",
              "      <td>3870</td>\n",
              "      <td>510180</td>\n",
              "      <td>2</td>\n",
              "      <td>1999-11-11</td>\n",
              "    </tr>\n",
              "    <tr>\n",
              "      <th>6901473</th>\n",
              "      <td>1367</td>\n",
              "      <td>510180</td>\n",
              "      <td>5</td>\n",
              "      <td>1999-11-11</td>\n",
              "    </tr>\n",
              "  </tbody>\n",
              "</table>\n",
              "</div>"
            ],
            "text/plain": [
              "          movie    user  rating       date\n",
              "9056171    1798  510180       5 1999-11-11\n",
              "14892677   2866  510180       3 1999-11-11\n",
              "19585852   3730  510180       4 1999-11-11\n",
              "20393918   3870  510180       2 1999-11-11\n",
              "6901473    1367  510180       5 1999-11-11"
            ]
          },
          "metadata": {
            "tags": []
          },
          "execution_count": 42
        }
      ]
    },
    {
      "cell_type": "code",
      "metadata": {
        "colab": {
          "base_uri": "https://localhost:8080/"
        },
        "id": "bI4xKuY3osVl",
        "outputId": "c688d1f7-3440-4c34-a4c2-ec8b8339a778"
      },
      "source": [
        "df.describe()['rating']"
      ],
      "execution_count": 43,
      "outputs": [
        {
          "output_type": "execute_result",
          "data": {
            "text/plain": [
              "count    2.405376e+07\n",
              "mean     3.599634e+00\n",
              "std      1.086118e+00\n",
              "min      1.000000e+00\n",
              "25%      3.000000e+00\n",
              "50%      4.000000e+00\n",
              "75%      4.000000e+00\n",
              "max      5.000000e+00\n",
              "Name: rating, dtype: float64"
            ]
          },
          "metadata": {
            "tags": []
          },
          "execution_count": 43
        }
      ]
    },
    {
      "cell_type": "code",
      "metadata": {
        "colab": {
          "base_uri": "https://localhost:8080/"
        },
        "id": "xouKb84Ko-DP",
        "outputId": "3dab940c-839e-477e-fab8-340e18f4e04c"
      },
      "source": [
        "# Just to make sure that all NAN containing rows are deleted..\r\n",
        "\r\n",
        "print(\"Number of Nan values in our dataframe : \", sum(df.isnull().any()))"
      ],
      "execution_count": 44,
      "outputs": [
        {
          "output_type": "stream",
          "text": [
            "Number of Nan values in our dataframe :  0\n"
          ],
          "name": "stdout"
        }
      ]
    },
    {
      "cell_type": "markdown",
      "metadata": {
        "id": "uQ7zHwCGqLmh"
      },
      "source": [
        "Removing Duplicates"
      ]
    },
    {
      "cell_type": "code",
      "metadata": {
        "colab": {
          "base_uri": "https://localhost:8080/"
        },
        "id": "xiom6HPRpc34",
        "outputId": "aab29034-5198-4ecc-d508-dfc8f2fdd161"
      },
      "source": [
        "dup_bool = df.duplicated(['movie', 'user', 'rating'])\r\n",
        "dups = sum(dup_bool) #by considering all columns..(including timestamp)\r\n",
        "print(\"There are {} duplicate rating entries in the data...\".format(dups))"
      ],
      "execution_count": 45,
      "outputs": [
        {
          "output_type": "stream",
          "text": [
            "There are 0 duplicate rating entries in the data...\n"
          ],
          "name": "stdout"
        }
      ]
    },
    {
      "cell_type": "markdown",
      "metadata": {
        "id": "5vjdTbVaqZdp"
      },
      "source": [
        "Basic Statistics(# of Rating, # of Users, # of Movies)"
      ]
    },
    {
      "cell_type": "code",
      "metadata": {
        "colab": {
          "base_uri": "https://localhost:8080/"
        },
        "id": "ILlACSq3qHF0",
        "outputId": "e96048e1-e31b-40e7-899d-e2fd215b055c"
      },
      "source": [
        "print(\"Total Data\")\r\n",
        "print(\"-\"*70)\r\n",
        "print(\"\\nTotal no. of rating : \",df.shape[0])\r\n",
        "print(\"Total No. of Users : \", len(np.unique(df.user)))\r\n",
        "print(\"Total No. of Movies : \", len(np.unique(df.movie)))"
      ],
      "execution_count": 46,
      "outputs": [
        {
          "output_type": "stream",
          "text": [
            "Total Data\n",
            "----------------------------------------------------------------------\n",
            "\n",
            "Total no. of rating :  24053764\n",
            "Total No. of Users :  470758\n",
            "Total No. of Movies :  4499\n"
          ],
          "name": "stdout"
        }
      ]
    },
    {
      "cell_type": "markdown",
      "metadata": {
        "id": "VG-8RRoor6cP"
      },
      "source": [
        "Spliting data into Train and Test"
      ]
    },
    {
      "cell_type": "code",
      "metadata": {
        "id": "yOfSodyHrcr2"
      },
      "source": [
        "if not os.path.isfile('train.csv'):\r\n",
        "  #create the dataframe and store it in the disk for offline purpose...\r\n",
        "  df.iloc[:int(df.shape[0]*0.80)].to_csv(\"train.csv\", index=False)\r\n",
        "\r\n",
        "if not os.path.isfile('test.csv'):\r\n",
        "  #creating the dataframe and store it in the disk for offline purpose...\r\n",
        "  df.iloc[int(df.shape[0]*0.80):].to_csv(\"test.csv\", index = False)\r\n",
        "\r\n",
        "train_df = pd.read_csv(\"train.csv\", parse_dates=['date'])\r\n",
        "test_df = pd.read_csv(\"test.csv\")"
      ],
      "execution_count": 47,
      "outputs": []
    },
    {
      "cell_type": "markdown",
      "metadata": {
        "id": "yyISxCdqtuR8"
      },
      "source": [
        "Basic statistic in Train data (# of Ratings # of Users and # of Movies)"
      ]
    },
    {
      "cell_type": "code",
      "metadata": {
        "colab": {
          "base_uri": "https://localhost:8080/"
        },
        "id": "IRDYRZ4Dtqby",
        "outputId": "66509894-800f-4fb8-9b52-573eaf22b11d"
      },
      "source": [
        "# movies = train_df.movie.value_counts()\r\n",
        "# users = train_df.user.value_counts()\r\n",
        "print(\"Training data\")\r\n",
        "print(\"-\"*70)\r\n",
        "print(\"\\nTotal no of ratings : \",test_df.shape[0])\r\n",
        "print(\"Total no of Users : \", len(np.unique(test_df.user)))\r\n",
        "print(\"Total no. of movies : \", len(np.unique(test_df.movie)))"
      ],
      "execution_count": 48,
      "outputs": [
        {
          "output_type": "stream",
          "text": [
            "Training data\n",
            "----------------------------------------------------------------------\n",
            "\n",
            "Total no of ratings :  4810753\n",
            "Total no of Users :  302727\n",
            "Total no. of movies :  4497\n"
          ],
          "name": "stdout"
        }
      ]
    },
    {
      "cell_type": "markdown",
      "metadata": {
        "id": "0K6MQ5lOR7zF"
      },
      "source": [
        "EDA On Train data"
      ]
    },
    {
      "cell_type": "code",
      "metadata": {
        "id": "s28HdaTivb5I"
      },
      "source": [
        "def human(num, units = \"M\"):\r\n",
        "  units = units.lower()\r\n",
        "  num = float(num)\r\n",
        "  if units == 'k':\r\n",
        "    return str(num/10**3) + 'K'\r\n",
        "  elif units == 'M':\r\n",
        "    return str(num/10**6) + 'M'\r\n",
        "  elif units == 'b':\r\n",
        "    return str(num/10**9) + 'B'\r\n"
      ],
      "execution_count": 49,
      "outputs": []
    },
    {
      "cell_type": "markdown",
      "metadata": {
        "id": "4_HwhdAeThab"
      },
      "source": [
        "Distribution of ratings"
      ]
    },
    {
      "cell_type": "code",
      "metadata": {
        "colab": {
          "base_uri": "https://localhost:8080/",
          "height": 350
        },
        "id": "I_9q9v3YTet3",
        "outputId": "1c084950-4c2d-44df-de8e-1ae1d318a8b0"
      },
      "source": [
        "fig, ax = plt.subplots()\r\n",
        "plt.title(\"Distribution of ratings over Training dataset\", fontsize=15)\r\n",
        "sns.countplot(train_df.rating)\r\n",
        "ax.set_yticklabels([human(item, 'M') for item in ax.get_yticks()])\r\n",
        "ax.set_ylabel(\"No. of ratings(Millions)\")\r\n",
        "plt.show()"
      ],
      "execution_count": 50,
      "outputs": [
        {
          "output_type": "stream",
          "text": [
            "/usr/local/lib/python3.6/dist-packages/seaborn/_decorators.py:43: FutureWarning: Pass the following variable as a keyword arg: x. From version 0.12, the only valid positional argument will be `data`, and passing other arguments without an explicit keyword will result in an error or misinterpretation.\n",
            "  FutureWarning\n"
          ],
          "name": "stderr"
        },
        {
          "output_type": "display_data",
          "data": {
            "image/png": "[encoded data removed]",
            "text/plain": [
              "<Figure size 432x288 with 1 Axes>"
            ]
          },
          "metadata": {
            "tags": []
          }
        }
      ]
    },
    {
      "cell_type": "code",
      "metadata": {
        "id": "du5hHRsjUf0G",
        "colab": {
          "base_uri": "https://localhost:8080/",
          "height": 639
        },
        "outputId": "f8e09f6e-67cb-44e8-fedf-bfacc599c476"
      },
      "source": [
        "# It is used to skip the warnings 'SettingWithCopyWarning'...\r\n",
        "pd.options.mode.chained_assignment = None        #default = 'warn'\r\n",
        "train_df['day_of_week'] = train_df.date.dt.day_name()\r\n",
        "#df['day_of_week'] = df['mydate'].dt.day_name() \r\n",
        "train_df.head(20)\r\n",
        "\r\n"
      ],
      "execution_count": 51,
      "outputs": [
        {
          "output_type": "execute_result",
          "data": {
            "text/html": [
              "<div>\n",
              "<style scoped>\n",
              "    .dataframe tbody tr th:only-of-type {\n",
              "        vertical-align: middle;\n",
              "    }\n",
              "\n",
              "    .dataframe tbody tr th {\n",
              "        vertical-align: top;\n",
              "    }\n",
              "\n",
              "    .dataframe thead th {\n",
              "        text-align: right;\n",
              "    }\n",
              "</style>\n",
              "<table border=\"1\" class=\"dataframe\">\n",
              "  <thead>\n",
              "    <tr style=\"text-align: right;\">\n",
              "      <th></th>\n",
              "      <th>movie</th>\n",
              "      <th>user</th>\n",
              "      <th>rating</th>\n",
              "      <th>date</th>\n",
              "      <th>day_of_week</th>\n",
              "    </tr>\n",
              "  </thead>\n",
              "  <tbody>\n",
              "    <tr>\n",
              "      <th>0</th>\n",
              "      <td>1798</td>\n",
              "      <td>510180</td>\n",
              "      <td>5</td>\n",
              "      <td>1999-11-11</td>\n",
              "      <td>Thursday</td>\n",
              "    </tr>\n",
              "    <tr>\n",
              "      <th>1</th>\n",
              "      <td>2866</td>\n",
              "      <td>510180</td>\n",
              "      <td>3</td>\n",
              "      <td>1999-11-11</td>\n",
              "      <td>Thursday</td>\n",
              "    </tr>\n",
              "    <tr>\n",
              "      <th>2</th>\n",
              "      <td>3730</td>\n",
              "      <td>510180</td>\n",
              "      <td>4</td>\n",
              "      <td>1999-11-11</td>\n",
              "      <td>Thursday</td>\n",
              "    </tr>\n",
              "    <tr>\n",
              "      <th>3</th>\n",
              "      <td>3870</td>\n",
              "      <td>510180</td>\n",
              "      <td>2</td>\n",
              "      <td>1999-11-11</td>\n",
              "      <td>Thursday</td>\n",
              "    </tr>\n",
              "    <tr>\n",
              "      <th>4</th>\n",
              "      <td>1367</td>\n",
              "      <td>510180</td>\n",
              "      <td>5</td>\n",
              "      <td>1999-11-11</td>\n",
              "      <td>Thursday</td>\n",
              "    </tr>\n",
              "    <tr>\n",
              "      <th>5</th>\n",
              "      <td>2948</td>\n",
              "      <td>510180</td>\n",
              "      <td>3</td>\n",
              "      <td>1999-12-06</td>\n",
              "      <td>Monday</td>\n",
              "    </tr>\n",
              "    <tr>\n",
              "      <th>6</th>\n",
              "      <td>3421</td>\n",
              "      <td>510180</td>\n",
              "      <td>3</td>\n",
              "      <td>1999-12-06</td>\n",
              "      <td>Monday</td>\n",
              "    </tr>\n",
              "    <tr>\n",
              "      <th>7</th>\n",
              "      <td>2478</td>\n",
              "      <td>510180</td>\n",
              "      <td>3</td>\n",
              "      <td>1999-12-06</td>\n",
              "      <td>Monday</td>\n",
              "    </tr>\n",
              "    <tr>\n",
              "      <th>8</th>\n",
              "      <td>1615</td>\n",
              "      <td>122223</td>\n",
              "      <td>3</td>\n",
              "      <td>1999-12-08</td>\n",
              "      <td>Wednesday</td>\n",
              "    </tr>\n",
              "    <tr>\n",
              "      <th>9</th>\n",
              "      <td>2780</td>\n",
              "      <td>122223</td>\n",
              "      <td>3</td>\n",
              "      <td>1999-12-08</td>\n",
              "      <td>Wednesday</td>\n",
              "    </tr>\n",
              "    <tr>\n",
              "      <th>10</th>\n",
              "      <td>1367</td>\n",
              "      <td>122223</td>\n",
              "      <td>3</td>\n",
              "      <td>1999-12-08</td>\n",
              "      <td>Wednesday</td>\n",
              "    </tr>\n",
              "    <tr>\n",
              "      <th>11</th>\n",
              "      <td>607</td>\n",
              "      <td>122223</td>\n",
              "      <td>4</td>\n",
              "      <td>1999-12-08</td>\n",
              "      <td>Wednesday</td>\n",
              "    </tr>\n",
              "    <tr>\n",
              "      <th>12</th>\n",
              "      <td>1202</td>\n",
              "      <td>122223</td>\n",
              "      <td>4</td>\n",
              "      <td>1999-12-08</td>\n",
              "      <td>Wednesday</td>\n",
              "    </tr>\n",
              "    <tr>\n",
              "      <th>13</th>\n",
              "      <td>3893</td>\n",
              "      <td>122223</td>\n",
              "      <td>3</td>\n",
              "      <td>1999-12-08</td>\n",
              "      <td>Wednesday</td>\n",
              "    </tr>\n",
              "    <tr>\n",
              "      <th>14</th>\n",
              "      <td>4171</td>\n",
              "      <td>122223</td>\n",
              "      <td>3</td>\n",
              "      <td>1999-12-08</td>\n",
              "      <td>Wednesday</td>\n",
              "    </tr>\n",
              "    <tr>\n",
              "      <th>15</th>\n",
              "      <td>3870</td>\n",
              "      <td>204439</td>\n",
              "      <td>5</td>\n",
              "      <td>1999-12-09</td>\n",
              "      <td>Thursday</td>\n",
              "    </tr>\n",
              "    <tr>\n",
              "      <th>16</th>\n",
              "      <td>4227</td>\n",
              "      <td>1972971</td>\n",
              "      <td>4</td>\n",
              "      <td>1999-12-09</td>\n",
              "      <td>Thursday</td>\n",
              "    </tr>\n",
              "    <tr>\n",
              "      <th>17</th>\n",
              "      <td>1770</td>\n",
              "      <td>204439</td>\n",
              "      <td>4</td>\n",
              "      <td>1999-12-09</td>\n",
              "      <td>Thursday</td>\n",
              "    </tr>\n",
              "    <tr>\n",
              "      <th>18</th>\n",
              "      <td>1367</td>\n",
              "      <td>204439</td>\n",
              "      <td>4</td>\n",
              "      <td>1999-12-09</td>\n",
              "      <td>Thursday</td>\n",
              "    </tr>\n",
              "    <tr>\n",
              "      <th>19</th>\n",
              "      <td>1309</td>\n",
              "      <td>204439</td>\n",
              "      <td>3</td>\n",
              "      <td>1999-12-09</td>\n",
              "      <td>Thursday</td>\n",
              "    </tr>\n",
              "  </tbody>\n",
              "</table>\n",
              "</div>"
            ],
            "text/plain": [
              "    movie     user  rating       date day_of_week\n",
              "0    1798   510180       5 1999-11-11    Thursday\n",
              "1    2866   510180       3 1999-11-11    Thursday\n",
              "2    3730   510180       4 1999-11-11    Thursday\n",
              "3    3870   510180       2 1999-11-11    Thursday\n",
              "4    1367   510180       5 1999-11-11    Thursday\n",
              "5    2948   510180       3 1999-12-06      Monday\n",
              "6    3421   510180       3 1999-12-06      Monday\n",
              "7    2478   510180       3 1999-12-06      Monday\n",
              "8    1615   122223       3 1999-12-08   Wednesday\n",
              "9    2780   122223       3 1999-12-08   Wednesday\n",
              "10   1367   122223       3 1999-12-08   Wednesday\n",
              "11    607   122223       4 1999-12-08   Wednesday\n",
              "12   1202   122223       4 1999-12-08   Wednesday\n",
              "13   3893   122223       3 1999-12-08   Wednesday\n",
              "14   4171   122223       3 1999-12-08   Wednesday\n",
              "15   3870   204439       5 1999-12-09    Thursday\n",
              "16   4227  1972971       4 1999-12-09    Thursday\n",
              "17   1770   204439       4 1999-12-09    Thursday\n",
              "18   1367   204439       4 1999-12-09    Thursday\n",
              "19   1309   204439       3 1999-12-09    Thursday"
            ]
          },
          "metadata": {
            "tags": []
          },
          "execution_count": 51
        }
      ]
    },
    {
      "cell_type": "code",
      "metadata": {
        "id": "rC6NhB92VTVh",
        "colab": {
          "base_uri": "https://localhost:8080/"
        },
        "outputId": "b00b02d6-4af7-4869-f0ee-82dec87ab0a5"
      },
      "source": [
        "no_of_rated_movies_per_user = train_df.groupby(by='user')['rating'].count()\r\n",
        "no_of_rated_movies_per_user.head()"
      ],
      "execution_count": 52,
      "outputs": [
        {
          "output_type": "execute_result",
          "data": {
            "text/plain": [
              "user\n",
              "6     105\n",
              "7     190\n",
              "10     38\n",
              "25      2\n",
              "33      8\n",
              "Name: rating, dtype: int64"
            ]
          },
          "metadata": {
            "tags": []
          },
          "execution_count": 52
        }
      ]
    },
    {
      "cell_type": "code",
      "metadata": {
        "colab": {
          "base_uri": "https://localhost:8080/",
          "height": 295
        },
        "id": "dOpwanWaa87_",
        "outputId": "652c7135-02f7-4152-8ae7-a59d9a54462e"
      },
      "source": [
        "fig = plt.figure(figsize=plt.figaspect(.5))\r\n",
        "\r\n",
        "ax1 = plt.subplot(121)\r\n",
        "sns.kdeplot(no_of_rated_movies_per_user, shade=True, ax=ax1)\r\n",
        "plt.xlabel(\"No. of ratings by user\")\r\n",
        "plt.title(\"PDF\")\r\n",
        "\r\n",
        "ax2 = plt.subplot(122)\r\n",
        "sns.kdeplot(no_of_rated_movies_per_user, shade=True, cumulative=True, ax=ax2)\r\n",
        "plt.xlabel(\"No. of ratings by user\")\r\n",
        "plt.title('CDF')\r\n",
        "plt.show()"
      ],
      "execution_count": 53,
      "outputs": [
        {
          "output_type": "display_data",
          "data": {
            "image/png": "[encoded data removed]",
            "text/plain": [
              "<Figure size 576x288 with 2 Axes>"
            ]
          },
          "metadata": {
            "tags": []
          }
        }
      ]
    },
    {
      "cell_type": "code",
      "metadata": {
        "colab": {
          "base_uri": "https://localhost:8080/"
        },
        "id": "SM79yhjUMXXi",
        "outputId": "d63219e0-c217-4898-d015-21c9f90cf5eb"
      },
      "source": [
        "no_of_rated_movies_per_user.describe()"
      ],
      "execution_count": 54,
      "outputs": [
        {
          "output_type": "execute_result",
          "data": {
            "text/plain": [
              "count    389223.000000\n",
              "mean         49.439553\n",
              "std          71.463434\n",
              "min           1.000000\n",
              "25%           8.000000\n",
              "50%          23.000000\n",
              "75%          62.000000\n",
              "max        4326.000000\n",
              "Name: rating, dtype: float64"
            ]
          },
          "metadata": {
            "tags": []
          },
          "execution_count": 54
        }
      ]
    },
    {
      "cell_type": "code",
      "metadata": {
        "id": "nsQF5WOkP2RX"
      },
      "source": [
        "quantiles = no_of_rated_movies_per_user.quantile(np.arange(0, 1.01, 0.01))"
      ],
      "execution_count": 55,
      "outputs": []
    },
    {
      "cell_type": "code",
      "metadata": {
        "colab": {
          "base_uri": "https://localhost:8080/",
          "height": 529
        },
        "id": "0YrOnEVKZSz4",
        "outputId": "8181dc52-0def-4d4d-c110-09ce5e0f51b4"
      },
      "source": [
        "fig = plt.figure(figsize = (10, 6))\r\n",
        "axes = fig.add_axes([0.1, 0.1, 1, 1])\r\n",
        "axes.set_title(\"Quantile value of Rating per User\", fontsize = 20)\r\n",
        "axes.set_xlabel(\"Quantiles\", fontsize = 20)\r\n",
        "axes.set_ylabel(\"Ratings Per User\", fontsize = 20)\r\n",
        "axes.plot(quantiles)\r\n",
        "\r\n",
        "plt.scatter(x = quantiles.index[::5], y=quantiles.values[::5], c='blue', s=70, label=\"quantiles with 0.05 intervals\")\r\n",
        "\r\n",
        "plt.scatter(x = quantiles.index[::5], y=quantiles.values[::5], c=\"red\", s=70, label = \"quantiles with 0.25 intervals\")\r\n",
        "plt.legend(loc='upper left', fontsize = 20)\r\n",
        "\r\n",
        "for x, y in zip(quantiles.index[::25], quantiles.values[::25]):plt.annotate(s='({},{})'.format(x,y), xy = (x,y),fontweight\r\n",
        "                                                                            ='bold', fontsize = 16, xytext=(x-0.05, y+180))\r\n",
        "\r\n",
        "axes.tick_params(labelsize = 15)"
      ],
      "execution_count": 56,
      "outputs": [
        {
          "output_type": "display_data",
          "data": {
            "image/png": "[encoded data removed]",
            "text/plain": [
              "<Figure size 720x432 with 1 Axes>"
            ]
          },
          "metadata": {
            "tags": []
          }
        }
      ]
    },
    {
      "cell_type": "code",
      "metadata": {
        "colab": {
          "base_uri": "https://localhost:8080/"
        },
        "id": "4GBl_5H2cxVs",
        "outputId": "7625ae70-537f-4a23-9aaa-a384c22f4ec4"
      },
      "source": [
        "quantiles[::5]"
      ],
      "execution_count": 57,
      "outputs": [
        {
          "output_type": "execute_result",
          "data": {
            "text/plain": [
              "0.00       1.0\n",
              "0.05       2.0\n",
              "0.10       3.0\n",
              "0.15       5.0\n",
              "0.20       6.0\n",
              "0.25       8.0\n",
              "0.30      10.0\n",
              "0.35      13.0\n",
              "0.40      16.0\n",
              "0.45      19.0\n",
              "0.50      23.0\n",
              "0.55      28.0\n",
              "0.60      35.0\n",
              "0.65      42.0\n",
              "0.70      51.0\n",
              "0.75      62.0\n",
              "0.80      77.0\n",
              "0.85      97.0\n",
              "0.90     128.0\n",
              "0.95     184.0\n",
              "1.00    4326.0\n",
              "Name: rating, dtype: float64"
            ]
          },
          "metadata": {
            "tags": []
          },
          "execution_count": 57
        }
      ]
    },
    {
      "cell_type": "code",
      "metadata": {
        "colab": {
          "base_uri": "https://localhost:8080/"
        },
        "id": "pn1EV5UDd4Ye",
        "outputId": "7a81934d-6709-49fa-b991-6a18718ff61f"
      },
      "source": [
        "print(\"Total number of ratings below 75th percentile = \"+str(sum(no_of_rated_movies_per_user.values<=133)))\r\n",
        "print(\"Total number of ratings above 75th percentile = \"+str(sum(no_of_rated_movies_per_user.values>133)))"
      ],
      "execution_count": 58,
      "outputs": [
        {
          "output_type": "stream",
          "text": [
            "Total number of ratings below 75th percentile = 353210\n",
            "Total number of ratings above 75th percentile = 36013\n"
          ],
          "name": "stdout"
        }
      ]
    },
    {
      "cell_type": "code",
      "metadata": {
        "colab": {
          "base_uri": "https://localhost:8080/",
          "height": 514
        },
        "id": "VANmBTsqf50p",
        "outputId": "5c406861-de69-4f7e-a068-a04b880a51f0"
      },
      "source": [
        "fig = plt.figure(figsize = (12, 6))\r\n",
        "axes = fig.add_axes([0.1,0.1,1,1])\r\n",
        "plt.title(\"Number of Ratings Per Movie\", fontsize = 20)\r\n",
        "plt.xlabel(\"Movie\", fontsize=20)\r\n",
        "plt.ylabel(\"Count Of Ratings\", fontsize=20)\r\n",
        "plt.plot(no_of_rated_movies_per_user.values)\r\n",
        "plt.tick_params(labelsize = 15)\r\n",
        "axes.set_xticklabels([])\r\n",
        "plt.show()"
      ],
      "execution_count": 59,
      "outputs": [
        {
          "output_type": "display_data",
          "data": {
            "image/png": "[encoded data removed]",
            "text/plain": [
              "<Figure size 864x432 with 1 Axes>"
            ]
          },
          "metadata": {
            "tags": []
          }
        }
      ]
    },
    {
      "cell_type": "markdown",
      "metadata": {
        "id": "QzeYUTdFiZS8"
      },
      "source": [
        "**It is skewed nicely**\r\n",
        "\r\n",
        "It clearly shows that there are some movies which are very popular and were rated by 90% users as comapared to other movies"
      ]
    },
    {
      "cell_type": "markdown",
      "metadata": {
        "id": "UP9KWgqJwXnm"
      },
      "source": [
        "Number of ratings on each day of the week"
      ]
    },
    {
      "cell_type": "code",
      "metadata": {
        "colab": {
          "base_uri": "https://localhost:8080/",
          "height": 281
        },
        "id": "mKhEnireit52",
        "outputId": "7036cf0c-a93d-484b-d856-3de1ee543e58"
      },
      "source": [
        "fig, ax = plt.subplots()\n",
        "sns.countplot(x='day_of_week', data = train_df, ax = ax)\n",
        "plt.title(\"Number of ratings on each day\")\n",
        "plt.ylabel('Total number of ratings')\n",
        "plt.xlabel(\"\")\n",
        "ax.set_yticklabels([human(item, 'M') for item in ax.get_yticks()])\n",
        "plt.show()"
      ],
      "execution_count": 60,
      "outputs": [
        {
          "output_type": "display_data",
          "data": {
            "image/png": "[encoded data removed]",
            "text/plain": [
              "<Figure size 432x288 with 1 Axes>"
            ]
          },
          "metadata": {
            "tags": []
          }
        }
      ]
    },
    {
      "cell_type": "code",
      "metadata": {
        "colab": {
          "base_uri": "https://localhost:8080/",
          "height": 297
        },
        "id": "nEecdaWexYgm",
        "outputId": "b0b00f9e-6b49-45b6-87f3-bf9380944e69"
      },
      "source": [
        "start = datetime.now()\n",
        "fig = plt.figure(figsize=plt.figaspect(.45))\n",
        "sns.boxplot(y='rating', x='day_of_week', data=train_df)\n",
        "plt.show()\n",
        "print(datetime.now()-start)"
      ],
      "execution_count": 61,
      "outputs": [
        {
          "output_type": "display_data",
          "data": {
            "image/png": "[encoded data removed]",
            "text/plain": [
              "<Figure size 640x288 with 1 Axes>"
            ]
          },
          "metadata": {
            "tags": []
          }
        },
        {
          "output_type": "stream",
          "text": [
            "0:00:09.797169\n"
          ],
          "name": "stdout"
        }
      ]
    },
    {
      "cell_type": "code",
      "metadata": {
        "colab": {
          "base_uri": "https://localhost:8080/"
        },
        "id": "eU3-GhfrJAXr",
        "outputId": "127eeffa-bcfd-4283-d355-6285a9689ef8"
      },
      "source": [
        "avg_week_df = train_df.groupby(by=['day_of_week'])['rating'].mean()\n",
        "print('Average Ratings')\n",
        "print(\"_\"*30)\n",
        "print(avg_week_df)\n",
        "print(\"\\n\")"
      ],
      "execution_count": 62,
      "outputs": [
        {
          "output_type": "stream",
          "text": [
            "Average Ratings\n",
            "______________________________\n",
            "day_of_week\n",
            "Friday       3.576426\n",
            "Monday       3.573257\n",
            "Saturday     3.585673\n",
            "Sunday       3.588731\n",
            "Thursday     3.577798\n",
            "Tuesday      3.570347\n",
            "Wednesday    3.578739\n",
            "Name: rating, dtype: float64\n",
            "\n",
            "\n"
          ],
          "name": "stdout"
        }
      ]
    },
    {
      "cell_type": "markdown",
      "metadata": {
        "id": "8YwkO9lfip91"
      },
      "source": [
        "Creating sparse matrix from data frame"
      ]
    },
    {
      "cell_type": "code",
      "metadata": {
        "colab": {
          "base_uri": "https://localhost:8080/"
        },
        "id": "wQuxkzZFJtrj",
        "outputId": "8f57b4d4-318a-4938-de54-5b2998d47a50"
      },
      "source": [
        "start = datetime.now()\n",
        "if os.path.isfile('train_sparse_matrix.npz'):\n",
        "  print(\"It is present in your pwd, getting it from disk......\")\n",
        "  #just get it from the disk instead of computing it\n",
        "  train_sparse_matrix = sparse.load_npz('train_sparse_matrix.npz')\n",
        "  print(\"Done...\")\n",
        "\n",
        "else:\n",
        "  print(\"We are creating sparse matrix from the dataframe.....\")\n",
        "  #create sparse matrix and store it after usages.\n",
        "  #It should be in such a way that, Matrix[row, col] = data\n",
        "  train_sparse_matrix = sparse.csr_matrix((train_df.rating.values,(train_df.user.values, train_df.movie.values)),)\n",
        "  print(\"Done. It\\'s shape is : (user, movie\", train_sparse_matrix.shape)\n",
        "  print(\"Saving it into disk for further usages...\")\n",
        "  sparse.save_npz(\"train_sparse_matrix.npz\", train_sparse_matrix)\n",
        "  print(\"Done.....\\n\")\n",
        "  print(datetime.now()-start)"
      ],
      "execution_count": 63,
      "outputs": [
        {
          "output_type": "stream",
          "text": [
            "It is present in your pwd, getting it from disk......\n",
            "Done...\n"
          ],
          "name": "stdout"
        }
      ]
    },
    {
      "cell_type": "markdown",
      "metadata": {
        "id": "6t--_H9Ki1xN"
      },
      "source": [
        "The sparsity of train sparse matrix"
      ]
    },
    {
      "cell_type": "code",
      "metadata": {
        "colab": {
          "base_uri": "https://localhost:8080/"
        },
        "id": "R3X_T5N5heA5",
        "outputId": "aa9fd764-b70c-4048-8e5e-90f59e285c2d"
      },
      "source": [
        "us, mv = train_sparse_matrix.shape\n",
        "elem = train_sparse_matrix.count_nonzero()\n",
        "print(\"Sparsity of train matrix : {} % \".format((1-elem/(us*mv))*100))"
      ],
      "execution_count": 64,
      "outputs": [
        {
          "output_type": "stream",
          "text": [
            "Sparsity of train matrix : 99.83859831485766 % \n"
          ],
          "name": "stdout"
        }
      ]
    },
    {
      "cell_type": "markdown",
      "metadata": {
        "id": "0ZpgJzqpj7Wb"
      },
      "source": [
        "Creating sparse matrix from test data frame"
      ]
    },
    {
      "cell_type": "code",
      "metadata": {
        "colab": {
          "base_uri": "https://localhost:8080/"
        },
        "id": "7VQq4glRjj_I",
        "outputId": "473c2f90-2be1-4349-f864-97910641909a"
      },
      "source": [
        "start = datetime.now()\n",
        "if os.path.isfile('test_sparse_matrix.npz'):\n",
        "  print(\"It is present in your pwd, getting it from disk....\")\n",
        "  #just get it from the disk instead of computing it.\n",
        "  test_sparse_matrix = sparse.load_npz(\"test_sparse_matrix.npz\")\n",
        "  print(\"Done....\")\n",
        "else:\n",
        "  print(\"We are creating sparse matrix from the dataframe....\")\n",
        "  #create sparse_matrix and store it for after usages\n",
        "  #It should be in such a way that, matrix[row, col] = data\n",
        "  test_sparse_matrix = sparse.csr_matrix((test_df.rating.values,(test_df.user.values, test_df.movie.values)),)\n",
        "  print(\"Done. It\\'s shape is : (user, movie):\", test_sparse_matrix.shape)\n",
        "  print(\"Saving it into disk for further usages....\")\n",
        "  #save it into disk\n",
        "  sparse.save_npz(\"test_sparse_matrix.npz\", test_sparse_matrix)\n",
        "  print('Done...\\n')\n",
        "print(datetime.now()-start)"
      ],
      "execution_count": 65,
      "outputs": [
        {
          "output_type": "stream",
          "text": [
            "It is present in your pwd, getting it from disk....\n",
            "Done....\n",
            "0:00:00.308898\n"
          ],
          "name": "stdout"
        }
      ]
    },
    {
      "cell_type": "markdown",
      "metadata": {
        "id": "cV60D9uvo1Kd"
      },
      "source": [
        "The sparsity of test data matrix"
      ]
    },
    {
      "cell_type": "code",
      "metadata": {
        "colab": {
          "base_uri": "https://localhost:8080/"
        },
        "id": "rgeW9BHDoivn",
        "outputId": "5a077901-88cd-43e3-d339-4503ff4edd30"
      },
      "source": [
        "us, mv = test_sparse_matrix.shape\n",
        "elem = test_sparse_matrix.count_nonzero()\n",
        "print(\"sparsity of Test matrix : {} % \".format((1-elem/(us*mv))*100))"
      ],
      "execution_count": 66,
      "outputs": [
        {
          "output_type": "stream",
          "text": [
            "sparsity of Test matrix : 99.95964957661752 % \n"
          ],
          "name": "stdout"
        }
      ]
    },
    {
      "cell_type": "markdown",
      "metadata": {
        "id": "Bwfnx3dxpaM8"
      },
      "source": [
        "Finding Global Average of all movies ratings, Averages rating per user, and average rating per movie"
      ]
    },
    {
      "cell_type": "code",
      "metadata": {
        "id": "3g1TuWyapVgU"
      },
      "source": [
        "#get the averages in dictionary(key:user_id/movie_id, value:avg rating)\r\n",
        "def get_average_rating(sparse_matrix, of_users):\r\n",
        "  #average rating of user/axes\r\n",
        "  ax = 1 if of_users else 0 #1-user axes, 0-Movie axes\r\n",
        "  #\".AI\" is for converting column_matrix to 1-D numpy array\r\n",
        "  sum_of_ratings = sparse_matrix.sum(axis=ax).A1\r\n",
        "  #Boolean matrix of ratings(whether a user rated movie or not)\r\n",
        "  is_rated = sparse_matrix != 0\r\n",
        "  #no. of ratings that each user or movie\r\n",
        "  no_of_ratings = is_rated.sum(axis=ax).A1\r\n",
        "  #max_user and max_movie ids in sparse matrix\r\n",
        "  u, m = sparse_matrix.shape\r\n",
        "  #create a dictionary of users and their averages ratings..\r\n",
        "  averages_ratings = { i :sum_of_ratings[i]/no_of_ratings[i] for i in range(u if of_users else m) if no_of_ratings[i] != 0}\r\n",
        "  #return that dictionary of average rating\r\n",
        "  return averages_ratings\r\n"
      ],
      "execution_count": 67,
      "outputs": []
    },
    {
      "cell_type": "markdown",
      "metadata": {
        "id": "CjX6TbAlO6QO"
      },
      "source": [
        "Finding global average of all movie ratings"
      ]
    },
    {
      "cell_type": "code",
      "metadata": {
        "colab": {
          "base_uri": "https://localhost:8080/"
        },
        "id": "X9AMvOqLL1YB",
        "outputId": "6546a0b2-03b1-49d6-baee-a990cbb7fa2d"
      },
      "source": [
        "train_averages = dict()\r\n",
        "#get the global avetrage of ratings in our train set.\r\n",
        "train_global_average = train_sparse_matrix.sum()/train_sparse_matrix.count_nonzero()\r\n",
        "train_averages['global'] = train_global_average\r\n",
        "train_averages"
      ],
      "execution_count": 68,
      "outputs": [
        {
          "output_type": "execute_result",
          "data": {
            "text/plain": [
              "{'global': 3.577584765710522}"
            ]
          },
          "metadata": {
            "tags": []
          },
          "execution_count": 68
        }
      ]
    },
    {
      "cell_type": "markdown",
      "metadata": {
        "id": "ETZKWUrePDmE"
      },
      "source": [
        "Finding average rating per users"
      ]
    },
    {
      "cell_type": "code",
      "metadata": {
        "colab": {
          "base_uri": "https://localhost:8080/"
        },
        "id": "h6KpeLPENzmo",
        "outputId": "8605b41b-ff8d-4520-dc83-b45fda168c53"
      },
      "source": [
        "train_averages['user'] = get_average_rating(train_sparse_matrix, of_users=True)\r\n",
        "print('\\nAverage rating of user 10 : ',train_averages['user'][10])\r\n"
      ],
      "execution_count": 69,
      "outputs": [
        {
          "output_type": "stream",
          "text": [
            "\n",
            "Average rating of user 10 :  3.263157894736842\n"
          ],
          "name": "stdout"
        }
      ]
    },
    {
      "cell_type": "markdown",
      "metadata": {
        "id": "TVnDULylPLEM"
      },
      "source": [
        "Finding average rating per movie"
      ]
    },
    {
      "cell_type": "code",
      "metadata": {
        "colab": {
          "base_uri": "https://localhost:8080/"
        },
        "id": "pTT7AXzEO1Ox",
        "outputId": "eb99d830-e97e-4086-de27-c5e94e5cc679"
      },
      "source": [
        "train_averages['movie'] = get_average_rating(train_sparse_matrix, of_users=False)\r\n",
        "print('\\nAverages rating of movie 15 :',train_averages['movie'][15])"
      ],
      "execution_count": 70,
      "outputs": [
        {
          "output_type": "stream",
          "text": [
            "\n",
            "Averages rating of movie 15 : 3.312741312741313\n"
          ],
          "name": "stdout"
        }
      ]
    },
    {
      "cell_type": "markdown",
      "metadata": {
        "id": "bj8KNgdhQQpP"
      },
      "source": [
        "PDF's & CDF's of Avg ratings of users and movies(In Train data)"
      ]
    },
    {
      "cell_type": "code",
      "metadata": {
        "colab": {
          "base_uri": "https://localhost:8080/",
          "height": 432
        },
        "id": "IZcA4AwCQPQ0",
        "outputId": "6bf87e98-75b5-4135-a909-3377929eb6b2"
      },
      "source": [
        "start = datetime.now()\r\n",
        "#draw pdfs for averages rating per user and average\r\n",
        "fig,(ax1, ax2) = plt.subplots(nrows=1, ncols=2, figsize=plt.figaspect(.5))\r\n",
        "fig.suptitle(\"Avg Ratings per user and per movie\",fontsize=15)\r\n",
        "ax1.set_title('User-Avg_Ratings')\r\n",
        "#get the list average user ratings from the averages dictionary..\r\n",
        "user_averages = [rat for rat in train_averages['user'].values()]\r\n",
        "sns.distplot(user_averages, ax=ax1, hist=False,kde_kws=dict(cumulative=True),label='Cdf')\r\n",
        "sns.distplot(user_averages, ax=ax1,hist=False,label='pdf')\r\n",
        "\r\n",
        "ax2.set_title('Movies-Avg-Rating')\r\n",
        "#get the list of movie_average_ratings from the dictionary..\r\n",
        "movie_averages = [rat for rat in train_averages['movie'].values()]\r\n",
        "sns.distplot(movie_averages, ax=ax2, hist=False, kde_kws=dict(cumulative=True),label='pdf')\r\n",
        "plt.show()\r\n",
        "print(datetime.now()-start)"
      ],
      "execution_count": 71,
      "outputs": [
        {
          "output_type": "stream",
          "text": [
            "/usr/local/lib/python3.6/dist-packages/seaborn/distributions.py:2557: FutureWarning: `distplot` is a deprecated function and will be removed in a future version. Please adapt your code to use either `displot` (a figure-level function with similar flexibility) or `kdeplot` (an axes-level function for kernel density plots).\n",
            "  warnings.warn(msg, FutureWarning)\n",
            "/usr/local/lib/python3.6/dist-packages/seaborn/distributions.py:2557: FutureWarning: `distplot` is a deprecated function and will be removed in a future version. Please adapt your code to use either `displot` (a figure-level function with similar flexibility) or `kdeplot` (an axes-level function for kernel density plots).\n",
            "  warnings.warn(msg, FutureWarning)\n",
            "/usr/local/lib/python3.6/dist-packages/seaborn/distributions.py:2557: FutureWarning: `distplot` is a deprecated function and will be removed in a future version. Please adapt your code to use either `displot` (a figure-level function with similar flexibility) or `kdeplot` (an axes-level function for kernel density plots).\n",
            "  warnings.warn(msg, FutureWarning)\n"
          ],
          "name": "stderr"
        },
        {
          "output_type": "display_data",
          "data": {
            "image/png": "[encoded data removed]",
            "text/plain": [
              "<Figure size 576x288 with 2 Axes>"
            ]
          },
          "metadata": {
            "tags": []
          }
        },
        {
          "output_type": "stream",
          "text": [
            "0:00:07.272163\n"
          ],
          "name": "stdout"
        }
      ]
    },
    {
      "cell_type": "markdown",
      "metadata": {
        "id": "xBHOzjnH8ArT"
      },
      "source": [
        "Cold start Problem with users"
      ]
    },
    {
      "cell_type": "code",
      "metadata": {
        "colab": {
          "base_uri": "https://localhost:8080/"
        },
        "id": "v1pbmc_Q7Zqe",
        "outputId": "646fcc2c-08e7-4a51-c3c4-20d83623ff86"
      },
      "source": [
        "total_users = len(np.unique(df.user))\r\n",
        "users_train = len(train_averages['user'])\r\n",
        "new_users = total_users-users_train\r\n",
        "\r\n",
        "print('\\nTotal number of users : ',total_users)\r\n",
        "print('\\nNumber of Users in train data : ',users_train)\r\n",
        "print(\"\\nNumber of users that did not appear in train data : {}({} %)\".format(new_users,np.round((new_users/total_users)*100, 2)))"
      ],
      "execution_count": 72,
      "outputs": [
        {
          "output_type": "stream",
          "text": [
            "\n",
            "Total number of users :  470758\n",
            "\n",
            "Number of Users in train data :  389223\n",
            "\n",
            "Number of users that did not appear in train data : 81535(17.32 %)\n"
          ],
          "name": "stdout"
        }
      ]
    },
    {
      "cell_type": "markdown",
      "metadata": {
        "id": "wILeks5Q-xJd"
      },
      "source": [
        "Cold start problem with movies"
      ]
    },
    {
      "cell_type": "code",
      "metadata": {
        "colab": {
          "base_uri": "https://localhost:8080/"
        },
        "id": "X_3auDk1CrNk",
        "outputId": "499d4005-e3c8-40a8-a130-73a6b80d9590"
      },
      "source": [
        "total_movies = len(np.unique(df.movie))\r\n",
        "movies_train = len(train_averages['movie'])\r\n",
        "new_movies = total_movies-movies_train\r\n",
        "\r\n",
        "print('\\nTotal number of movies : ',total_movies)\r\n",
        "print('\\nNumber of User in train data : ',movies_train)\r\n",
        "print(\"\\n No of movies that did not appear in train data : {}({} %)\".format(new_movies, np.round((new_movies/total_movies)*100,2)))"
      ],
      "execution_count": 73,
      "outputs": [
        {
          "output_type": "stream",
          "text": [
            "\n",
            "Total number of movies :  4499\n",
            "\n",
            "Number of User in train data :  4403\n",
            "\n",
            " No of movies that did not appear in train data : 96(2.13 %)\n"
          ],
          "name": "stdout"
        }
      ]
    },
    {
      "cell_type": "markdown",
      "metadata": {
        "id": "ttnQt9-XE-Vg"
      },
      "source": [
        "Computing Similarity matrices"
      ]
    },
    {
      "cell_type": "markdown",
      "metadata": {
        "id": "PACcvP-9FYQ_"
      },
      "source": [
        "**Computing user-user Similarity matrix**\r\n",
        "\r\n",
        "1. Caculating user user Similarity_matrix is not very easy(unless you have huge Computing Power and lots of time) because of number of usersbeing lare\r\n"
      ]
    },
    {
      "cell_type": "code",
      "metadata": {
        "id": "m0O-g49a95kC"
      },
      "source": [
        "from sklearn.metrics.pairwise import cosine_similarity\r\n",
        "def compute_user_similarity(sparse_matrix, compute_for_few=False, top=100, verbose=False,\r\n",
        "                            verb_for_n_rows = 20,draw_time_taken = True):\r\n",
        "  no_of_users, _ = sparse_matrix.shape\r\n",
        "  #get the indices of non zero rows(users) from our sparse matrix\r\n",
        "  row_ind, col_ind = sparse_matrix.nonzero()\r\n",
        "  row_ind = sorted(set(row_ind))\r\n",
        "  time_taken = list() #time taken forn finding similar users for an user...\r\n",
        "  # we create row,cols and data list.., which can be used to create sparse matrices\r\n",
        "  rows, cols,data = list(), list(), list()\r\n",
        "  if verbose: print(\"Computing top\",top,\"similarities for each user...\")\r\n",
        "  start = datetime.now()\r\n",
        "  tmp=0\r\n",
        "  for row in row_ind[:top] if compute_for_few else row_ind:\r\n",
        "    tmp += 1\r\n",
        "    prev = datetime.now()\r\n",
        "\r\n",
        "    #get the similarity row for this user with all other users\r\n",
        "    sim = cosine_similarity(sparse_matrix.getrow(row), sparse_matrix).ravel()\r\n",
        "    #we will get only the 'top' most similar users and ignore rest of them\r\n",
        "    top_sim_ind = sim.argsort()[-top:]\r\n",
        "    top_sim_val = sim[top_sim_ind]\r\n",
        "    \r\n",
        "    #add them to our row, cols and data\r\n",
        "    rows.extend([row]*top)\r\n",
        "    cols.extend(top_sim_ind)\r\n",
        "    data.extend(top_sim_val)\r\n",
        "    time_taken.append(datetime.now().timestamp() - prev.timestamp())\r\n",
        "\r\n",
        "    if verbose:\r\n",
        "      if tmp%verb_for_n_rows == 0:\r\n",
        "        print(\"computing done for {} users [time elased : {} ]\".format(tmp, datetime.now()-start))\r\n",
        "\r\n",
        "\r\n",
        "    # lets create sparse matrix out of these and return it\r\n",
        "  if verbose: print(\"Creating sparse matrix from the computed similarities\")\r\n",
        "\r\n",
        "      #return rows, cols, data\r\n",
        "\r\n",
        "  if draw_time_taken:\r\n",
        "    plt.plot(time_taken, label = 'time taken for each user')\r\n",
        "    plt.plot(np.cumsum(time_taken), label='Total time')\r\n",
        "    plt.legend(loc='best')\r\n",
        "    plt.xlabel('User')\r\n",
        "    plt.ylabel('Time(seconds)')\r\n",
        "    plt.show()\r\n",
        "  return sparse.csr_matrix((data, (rows, cols)), shape=(no_of_users, no_of_users)), time_taken"
      ],
      "execution_count": 86,
      "outputs": []
    },
    {
      "cell_type": "code",
      "metadata": {
        "colab": {
          "base_uri": "https://localhost:8080/",
          "height": 450
        },
        "id": "06-2AeRt9lk6",
        "outputId": "452bbe87-b3ac-4f5d-fe8c-1f6698f3b544"
      },
      "source": [
        "# We are not going to run it on whole data it will gives us memory error or so we will try it on 100\r\n",
        "start = datetime.now()\r\n",
        "u_u_sim_sparse, _ = compute_user_similarity(train_sparse_matrix, compute_for_few=True, top = 100,verbose=True)\r\n",
        "print(\"-\"*100)\r\n",
        "print(\"Time taken :\",datetime.now()-start)"
      ],
      "execution_count": 87,
      "outputs": [
        {
          "output_type": "stream",
          "text": [
            "Computing top 100 similarities for each user...\n",
            "computing done for 20 users [time elased : 0:00:15.488084 ]\n",
            "computing done for 40 users [time elased : 0:00:30.703860 ]\n",
            "computing done for 60 users [time elased : 0:00:45.392834 ]\n",
            "computing done for 80 users [time elased : 0:01:00.020844 ]\n",
            "computing done for 100 users [time elased : 0:01:15.049254 ]\n",
            "Creating sparse matrix from the computed similarities\n"
          ],
          "name": "stdout"
        },
        {
          "output_type": "display_data",
          "data": {
            "image/png": "[encoded data removed]",
            "text/plain": [
              "<Figure size 432x288 with 1 Axes>"
            ]
          },
          "metadata": {
            "tags": []
          }
        },
        {
          "output_type": "stream",
          "text": [
            "----------------------------------------------------------------------------------------------------\n",
            "Time taken : 0:01:17.877562\n"
          ],
          "name": "stdout"
        }
      ]
    },
    {
      "cell_type": "code",
      "metadata": {
        "id": "FS_yL-G8K5T4"
      },
      "source": [
        ""
      ],
      "execution_count": null,
      "outputs": []
    }
  ]
}