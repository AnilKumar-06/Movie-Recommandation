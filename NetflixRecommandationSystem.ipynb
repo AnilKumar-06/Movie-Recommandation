{
  "nbformat": 4,
  "nbformat_minor": 0,
  "metadata": {
    "colab": {
      "name": "NetflixRecommandationSystem.ipynb",
      "provenance": [],
      "collapsed_sections": [],
      "include_colab_link": true
    },
    "kernelspec": {
      "display_name": "Python 3",
      "name": "python3"
    }
  },
  "cells": [
    {
      "cell_type": "markdown",
      "metadata": {
        "id": "view-in-github",
        "colab_type": "text"
      },
      "source": [
        "<a href=\"https://colab.research.google.com/github/AnilKumar-06/Movie-Recommandation/blob/main/NetflixRecommandationSystem.ipynb\" target=\"_parent\"><img src=\"https://colab.research.google.com/assets/colab-badge.svg\" alt=\"Open In Colab\"/></a>"
      ]
    },
    {
      "cell_type": "code",
      "metadata": {
        "id": "Zg1vfTD0aQ0X",
        "colab": {
          "base_uri": "https://localhost:8080/"
        },
        "outputId": "f2de6d63-7f76-4d17-eab0-e953850bc537"
      },
      "source": [
        "from google.colab import drive\r\n",
        "drive.mount('/content/drive/') "
      ],
      "execution_count": null,
      "outputs": [
        {
          "output_type": "stream",
          "text": [
            "Drive already mounted at /content/drive/; to attempt to forcibly remount, call drive.mount(\"/content/drive/\", force_remount=True).\n"
          ],
          "name": "stdout"
        }
      ]
    },
    {
      "cell_type": "code",
      "metadata": {
        "id": "2NoLlrGteVDV"
      },
      "source": [
        "from datetime import datetime\r\n",
        "import pandas as pd\r\n",
        "import numpy as np\r\n",
        "import matplotlib\r\n",
        "#matplotlib.use('nbagg')\r\n",
        "\r\n",
        "import matplotlib.pyplot as plt\r\n",
        "#plt.rcParams.update({'figure.max_open_warning': 0})\r\n",
        "import seaborn as sns\r\n",
        "sns.set_style('whitegrid')\r\n",
        "import os\r\n",
        "from scipy import sparse\r\n",
        "from scipy.sparse import csr_matrix\r\n",
        "from sklearn.decomposition import TruncatedSVD\r\n",
        "from sklearn.metrics.pairwise import cosine_similarity\r\n",
        "import random"
      ],
      "execution_count": null,
      "outputs": []
    },
    {
      "cell_type": "code",
      "metadata": {
        "id": "IwL1j8AphFdu"
      },
      "source": [
        "\r\n",
        "start = datetime.now()\r\n",
        "if not os.path.isfile('data.csv'):\r\n",
        "  data = open('data.csv', mode='w')\r\n",
        "  row = list()\r\n",
        "  files = ['/content/drive/MyDrive/ML_Projects/NetflixRecoomandation/combined_data_1.txt']#,'/content/drive/MyDrive/ML_Projects/NetflixRecoomandation/combined_data_2.txt']#, '/content/drive/MyDrive/ML_Projects/NetflixRecoomandation/combined_data_3.txt', '/content/drive/MyDrive/ML_Projects/NetflixRecoomandation/combined_data_4.txt']\r\n",
        "\r\n",
        "  for file in files:\r\n",
        "    print('Reading rating from {}...'.format(file))\r\n",
        "    with open(file) as f:\r\n",
        "      for line in f:\r\n",
        "        del row[:] #you don't have to do this\r\n",
        "        line = line.strip()\r\n",
        "        if line.endswith(':'):\r\n",
        "          #all below are rating for this movie, until another\r\n",
        "          movie_id = line.replace(':', '')\r\n",
        "        else:\r\n",
        "          row = [x for x in line.split(',')]\r\n",
        "          row.insert(0, movie_id)\r\n",
        "          data.write(','.join(row))\r\n",
        "          data.write('\\n')\r\n",
        "\r\n",
        "    print('Done.\\n')\r\n",
        "  data.close()\r\n",
        "  print('Time taken :',datetime.now() - start)"
      ],
      "execution_count": null,
      "outputs": []
    },
    {
      "cell_type": "code",
      "metadata": {
        "id": "Vg6me8_lmK3-",
        "colab": {
          "base_uri": "https://localhost:8080/"
        },
        "outputId": "c35304a4-30e7-4b2b-a001-309305eadbae"
      },
      "source": [
        "print(\"Creating the dataframe from data.csv file...\")\r\n",
        "df = pd.read_csv('data.csv', sep=',',names = ['movie', 'user', 'rating', 'date'])\r\n",
        "df.date = pd.to_datetime(df.date)\r\n",
        "print('Done.\\n')\r\n",
        "\r\n",
        "#arranging the rating according to time\r\n",
        "print('Sorting the datetime by date...')\r\n",
        "df.sort_values(by='date', inplace=True)\r\n",
        "print('Done..')"
      ],
      "execution_count": null,
      "outputs": [
        {
          "output_type": "stream",
          "text": [
            "Creating the dataframe from data.csv file...\n",
            "Done.\n",
            "\n",
            "Sorting the datetime by date...\n",
            "Done..\n"
          ],
          "name": "stdout"
        }
      ]
    },
    {
      "cell_type": "code",
      "metadata": {
        "id": "nQloFsuwoOM2",
        "colab": {
          "base_uri": "https://localhost:8080/",
          "height": 204
        },
        "outputId": "1c48eac2-2309-464d-c439-4a259f823466"
      },
      "source": [
        "df.head()"
      ],
      "execution_count": null,
      "outputs": [
        {
          "output_type": "execute_result",
          "data": {
            "text/html": [
              "<div>\n",
              "<style scoped>\n",
              "    .dataframe tbody tr th:only-of-type {\n",
              "        vertical-align: middle;\n",
              "    }\n",
              "\n",
              "    .dataframe tbody tr th {\n",
              "        vertical-align: top;\n",
              "    }\n",
              "\n",
              "    .dataframe thead th {\n",
              "        text-align: right;\n",
              "    }\n",
              "</style>\n",
              "<table border=\"1\" class=\"dataframe\">\n",
              "  <thead>\n",
              "    <tr style=\"text-align: right;\">\n",
              "      <th></th>\n",
              "      <th>movie</th>\n",
              "      <th>user</th>\n",
              "      <th>rating</th>\n",
              "      <th>date</th>\n",
              "    </tr>\n",
              "  </thead>\n",
              "  <tbody>\n",
              "    <tr>\n",
              "      <th>9056171</th>\n",
              "      <td>1798</td>\n",
              "      <td>510180</td>\n",
              "      <td>5</td>\n",
              "      <td>1999-11-11</td>\n",
              "    </tr>\n",
              "    <tr>\n",
              "      <th>14892677</th>\n",
              "      <td>2866</td>\n",
              "      <td>510180</td>\n",
              "      <td>3</td>\n",
              "      <td>1999-11-11</td>\n",
              "    </tr>\n",
              "    <tr>\n",
              "      <th>19585852</th>\n",
              "      <td>3730</td>\n",
              "      <td>510180</td>\n",
              "      <td>4</td>\n",
              "      <td>1999-11-11</td>\n",
              "    </tr>\n",
              "    <tr>\n",
              "      <th>20393918</th>\n",
              "      <td>3870</td>\n",
              "      <td>510180</td>\n",
              "      <td>2</td>\n",
              "      <td>1999-11-11</td>\n",
              "    </tr>\n",
              "    <tr>\n",
              "      <th>6901473</th>\n",
              "      <td>1367</td>\n",
              "      <td>510180</td>\n",
              "      <td>5</td>\n",
              "      <td>1999-11-11</td>\n",
              "    </tr>\n",
              "  </tbody>\n",
              "</table>\n",
              "</div>"
            ],
            "text/plain": [
              "          movie    user  rating       date\n",
              "9056171    1798  510180       5 1999-11-11\n",
              "14892677   2866  510180       3 1999-11-11\n",
              "19585852   3730  510180       4 1999-11-11\n",
              "20393918   3870  510180       2 1999-11-11\n",
              "6901473    1367  510180       5 1999-11-11"
            ]
          },
          "metadata": {
            "tags": []
          },
          "execution_count": 5
        }
      ]
    },
    {
      "cell_type": "code",
      "metadata": {
        "id": "bI4xKuY3osVl",
        "colab": {
          "base_uri": "https://localhost:8080/"
        },
        "outputId": "63f96539-f8cd-45a5-d4bc-528aa890296b"
      },
      "source": [
        "df.describe()['rating']"
      ],
      "execution_count": null,
      "outputs": [
        {
          "output_type": "execute_result",
          "data": {
            "text/plain": [
              "count    2.405376e+07\n",
              "mean     3.599634e+00\n",
              "std      1.086118e+00\n",
              "min      1.000000e+00\n",
              "25%      3.000000e+00\n",
              "50%      4.000000e+00\n",
              "75%      4.000000e+00\n",
              "max      5.000000e+00\n",
              "Name: rating, dtype: float64"
            ]
          },
          "metadata": {
            "tags": []
          },
          "execution_count": 6
        }
      ]
    },
    {
      "cell_type": "code",
      "metadata": {
        "id": "xouKb84Ko-DP",
        "colab": {
          "base_uri": "https://localhost:8080/"
        },
        "outputId": "768f8b95-8722-4cb9-b789-e45b1e177dcf"
      },
      "source": [
        "# Just to make sure that all NAN containing rows are deleted..\r\n",
        "\r\n",
        "print(\"Number of Nan values in our dataframe : \", sum(df.isnull().any()))"
      ],
      "execution_count": null,
      "outputs": [
        {
          "output_type": "stream",
          "text": [
            "Number of Nan values in our dataframe :  0\n"
          ],
          "name": "stdout"
        }
      ]
    },
    {
      "cell_type": "markdown",
      "metadata": {
        "id": "uQ7zHwCGqLmh"
      },
      "source": [
        "Removing Duplicates"
      ]
    },
    {
      "cell_type": "code",
      "metadata": {
        "id": "xiom6HPRpc34",
        "colab": {
          "base_uri": "https://localhost:8080/"
        },
        "outputId": "827afe90-00aa-4f91-a20a-2f75585cad3f"
      },
      "source": [
        "dup_bool = df.duplicated(['movie', 'user', 'rating'])\r\n",
        "dups = sum(dup_bool) #by considering all columns..(including timestamp)\r\n",
        "print(\"There are {} duplicate rating entries in the data...\".format(dups))"
      ],
      "execution_count": null,
      "outputs": [
        {
          "output_type": "stream",
          "text": [
            "There are 0 duplicate rating entries in the data...\n"
          ],
          "name": "stdout"
        }
      ]
    },
    {
      "cell_type": "markdown",
      "metadata": {
        "id": "5vjdTbVaqZdp"
      },
      "source": [
        "Basic Statistics(# of Rating, # of Users, # of Movies)"
      ]
    },
    {
      "cell_type": "code",
      "metadata": {
        "id": "ILlACSq3qHF0",
        "colab": {
          "base_uri": "https://localhost:8080/"
        },
        "outputId": "05086df0-3e0c-4eb1-e6db-49c28b10db78"
      },
      "source": [
        "print(\"Total Data\")\r\n",
        "print(\"-\"*70)\r\n",
        "print(\"\\nTotal no. of rating : \",df.shape[0])\r\n",
        "print(\"Total No. of Users : \", len(np.unique(df.user)))\r\n",
        "print(\"Total No. of Movies : \", len(np.unique(df.movie)))"
      ],
      "execution_count": null,
      "outputs": [
        {
          "output_type": "stream",
          "text": [
            "Total Data\n",
            "----------------------------------------------------------------------\n",
            "\n",
            "Total no. of rating :  24053764\n",
            "Total No. of Users :  470758\n",
            "Total No. of Movies :  4499\n"
          ],
          "name": "stdout"
        }
      ]
    },
    {
      "cell_type": "markdown",
      "metadata": {
        "id": "VG-8RRoor6cP"
      },
      "source": [
        "Spliting data into Train and Test"
      ]
    },
    {
      "cell_type": "code",
      "metadata": {
        "id": "yOfSodyHrcr2"
      },
      "source": [
        "if not os.path.isfile('train.csv'):\r\n",
        "  #create the dataframe and store it in the disk for offline purpose...\r\n",
        "  df.iloc[:int(df.shape[0]*0.80)].to_csv(\"train.csv\", index=False)\r\n",
        "\r\n",
        "if not os.path.isfile('test.csv'):\r\n",
        "  #creating the dataframe and store it in the disk for offline purpose...\r\n",
        "  df.iloc[int(df.shape[0]*0.80):].to_csv(\"test.csv\", index = False)\r\n",
        "\r\n",
        "train_df = pd.read_csv(\"train.csv\", parse_dates=['date'])\r\n",
        "test_df = pd.read_csv(\"test.csv\")"
      ],
      "execution_count": null,
      "outputs": []
    },
    {
      "cell_type": "markdown",
      "metadata": {
        "id": "yyISxCdqtuR8"
      },
      "source": [
        "Basic statistic in Train data (# of Ratings # of Users and # of Movies)"
      ]
    },
    {
      "cell_type": "code",
      "metadata": {
        "id": "IRDYRZ4Dtqby",
        "colab": {
          "base_uri": "https://localhost:8080/"
        },
        "outputId": "2b7f0a99-c1ad-48d4-bf43-ea588e4cd7fb"
      },
      "source": [
        "# movies = train_df.movie.value_counts()\r\n",
        "# users = train_df.user.value_counts()\r\n",
        "print(\"Training data\")\r\n",
        "print(\"-\"*70)\r\n",
        "print(\"\\nTotal no of ratings : \",test_df.shape[0])\r\n",
        "print(\"Total no of Users : \", len(np.unique(test_df.user)))\r\n",
        "print(\"Total no. of movies : \", len(np.unique(test_df.movie)))"
      ],
      "execution_count": null,
      "outputs": [
        {
          "output_type": "stream",
          "text": [
            "Training data\n",
            "----------------------------------------------------------------------\n",
            "\n",
            "Total no of ratings :  4810753\n",
            "Total no of Users :  302727\n",
            "Total no. of movies :  4497\n"
          ],
          "name": "stdout"
        }
      ]
    },
    {
      "cell_type": "markdown",
      "metadata": {
        "id": "0K6MQ5lOR7zF"
      },
      "source": [
        "EDA On Train data"
      ]
    },
    {
      "cell_type": "code",
      "metadata": {
        "id": "s28HdaTivb5I"
      },
      "source": [
        "def human(num, units = \"M\"):\r\n",
        "  units = units.lower()\r\n",
        "  num = float(num)\r\n",
        "  if units == 'k':\r\n",
        "    return str(num/10**3) + 'K'\r\n",
        "  elif units == 'M':\r\n",
        "    return str(num/10**6) + 'M'\r\n",
        "  elif units == 'b':\r\n",
        "    return str(num/10**9) + 'B'\r\n"
      ],
      "execution_count": null,
      "outputs": []
    },
    {
      "cell_type": "markdown",
      "metadata": {
        "id": "4_HwhdAeThab"
      },
      "source": [
        "Distribution of ratings"
      ]
    },
    {
      "cell_type": "code",
      "metadata": {
        "id": "I_9q9v3YTet3",
        "colab": {
          "base_uri": "https://localhost:8080/",
          "height": 351
        },
        "outputId": "2d83c006-e6a1-413f-c223-d89143ce8041"
      },
      "source": [
        "fig, ax = plt.subplots()\r\n",
        "plt.title(\"Distribution of ratings over Training dataset\", fontsize=15)\r\n",
        "sns.countplot(train_df.rating)\r\n",
        "ax.set_yticklabels([human(item, 'M') for item in ax.get_yticks()])\r\n",
        "ax.set_ylabel(\"No. of ratings(Millions)\")\r\n",
        "plt.show()"
      ],
      "execution_count": null,
      "outputs": [
        {
          "output_type": "stream",
          "text": [
            "/usr/local/lib/python3.7/dist-packages/seaborn/_decorators.py:43: FutureWarning: Pass the following variable as a keyword arg: x. From version 0.12, the only valid positional argument will be `data`, and passing other arguments without an explicit keyword will result in an error or misinterpretation.\n",
            "  FutureWarning\n"
          ],
          "name": "stderr"
        },
        {
          "output_type": "display_data",
          "data": {
            "image/png": "[encoded data removed]",
            "text/plain": [
              "<Figure size 432x288 with 1 Axes>"
            ]
          },
          "metadata": {
            "tags": []
          }
        }
      ]
    },
    {
      "cell_type": "code",
      "metadata": {
        "id": "du5hHRsjUf0G",
        "colab": {
          "base_uri": "https://localhost:8080/",
          "height": 669
        },
        "outputId": "97c7961e-f690-4ccf-807b-50076b9599b4"
      },
      "source": [
        "# It is used to skip the warnings 'SettingWithCopyWarning'...\r\n",
        "pd.options.mode.chained_assignment = None        #default = 'warn'\r\n",
        "train_df['day_of_week'] = train_df.date.dt.day_name()\r\n",
        "#df['day_of_week'] = df['mydate'].dt.day_name() \r\n",
        "train_df.head(20)\r\n",
        "\r\n"
      ],
      "execution_count": null,
      "outputs": [
        {
          "output_type": "execute_result",
          "data": {
            "text/html": [
              "<div>\n",
              "<style scoped>\n",
              "    .dataframe tbody tr th:only-of-type {\n",
              "        vertical-align: middle;\n",
              "    }\n",
              "\n",
              "    .dataframe tbody tr th {\n",
              "        vertical-align: top;\n",
              "    }\n",
              "\n",
              "    .dataframe thead th {\n",
              "        text-align: right;\n",
              "    }\n",
              "</style>\n",
              "<table border=\"1\" class=\"dataframe\">\n",
              "  <thead>\n",
              "    <tr style=\"text-align: right;\">\n",
              "      <th></th>\n",
              "      <th>movie</th>\n",
              "      <th>user</th>\n",
              "      <th>rating</th>\n",
              "      <th>date</th>\n",
              "      <th>day_of_week</th>\n",
              "    </tr>\n",
              "  </thead>\n",
              "  <tbody>\n",
              "    <tr>\n",
              "      <th>0</th>\n",
              "      <td>1798</td>\n",
              "      <td>510180</td>\n",
              "      <td>5</td>\n",
              "      <td>1999-11-11</td>\n",
              "      <td>Thursday</td>\n",
              "    </tr>\n",
              "    <tr>\n",
              "      <th>1</th>\n",
              "      <td>2866</td>\n",
              "      <td>510180</td>\n",
              "      <td>3</td>\n",
              "      <td>1999-11-11</td>\n",
              "      <td>Thursday</td>\n",
              "    </tr>\n",
              "    <tr>\n",
              "      <th>2</th>\n",
              "      <td>3730</td>\n",
              "      <td>510180</td>\n",
              "      <td>4</td>\n",
              "      <td>1999-11-11</td>\n",
              "      <td>Thursday</td>\n",
              "    </tr>\n",
              "    <tr>\n",
              "      <th>3</th>\n",
              "      <td>3870</td>\n",
              "      <td>510180</td>\n",
              "      <td>2</td>\n",
              "      <td>1999-11-11</td>\n",
              "      <td>Thursday</td>\n",
              "    </tr>\n",
              "    <tr>\n",
              "      <th>4</th>\n",
              "      <td>1367</td>\n",
              "      <td>510180</td>\n",
              "      <td>5</td>\n",
              "      <td>1999-11-11</td>\n",
              "      <td>Thursday</td>\n",
              "    </tr>\n",
              "    <tr>\n",
              "      <th>5</th>\n",
              "      <td>2948</td>\n",
              "      <td>510180</td>\n",
              "      <td>3</td>\n",
              "      <td>1999-12-06</td>\n",
              "      <td>Monday</td>\n",
              "    </tr>\n",
              "    <tr>\n",
              "      <th>6</th>\n",
              "      <td>3421</td>\n",
              "      <td>510180</td>\n",
              "      <td>3</td>\n",
              "      <td>1999-12-06</td>\n",
              "      <td>Monday</td>\n",
              "    </tr>\n",
              "    <tr>\n",
              "      <th>7</th>\n",
              "      <td>2478</td>\n",
              "      <td>510180</td>\n",
              "      <td>3</td>\n",
              "      <td>1999-12-06</td>\n",
              "      <td>Monday</td>\n",
              "    </tr>\n",
              "    <tr>\n",
              "      <th>8</th>\n",
              "      <td>1615</td>\n",
              "      <td>122223</td>\n",
              "      <td>3</td>\n",
              "      <td>1999-12-08</td>\n",
              "      <td>Wednesday</td>\n",
              "    </tr>\n",
              "    <tr>\n",
              "      <th>9</th>\n",
              "      <td>2780</td>\n",
              "      <td>122223</td>\n",
              "      <td>3</td>\n",
              "      <td>1999-12-08</td>\n",
              "      <td>Wednesday</td>\n",
              "    </tr>\n",
              "    <tr>\n",
              "      <th>10</th>\n",
              "      <td>1367</td>\n",
              "      <td>122223</td>\n",
              "      <td>3</td>\n",
              "      <td>1999-12-08</td>\n",
              "      <td>Wednesday</td>\n",
              "    </tr>\n",
              "    <tr>\n",
              "      <th>11</th>\n",
              "      <td>607</td>\n",
              "      <td>122223</td>\n",
              "      <td>4</td>\n",
              "      <td>1999-12-08</td>\n",
              "      <td>Wednesday</td>\n",
              "    </tr>\n",
              "    <tr>\n",
              "      <th>12</th>\n",
              "      <td>1202</td>\n",
              "      <td>122223</td>\n",
              "      <td>4</td>\n",
              "      <td>1999-12-08</td>\n",
              "      <td>Wednesday</td>\n",
              "    </tr>\n",
              "    <tr>\n",
              "      <th>13</th>\n",
              "      <td>3893</td>\n",
              "      <td>122223</td>\n",
              "      <td>3</td>\n",
              "      <td>1999-12-08</td>\n",
              "      <td>Wednesday</td>\n",
              "    </tr>\n",
              "    <tr>\n",
              "      <th>14</th>\n",
              "      <td>4171</td>\n",
              "      <td>122223</td>\n",
              "      <td>3</td>\n",
              "      <td>1999-12-08</td>\n",
              "      <td>Wednesday</td>\n",
              "    </tr>\n",
              "    <tr>\n",
              "      <th>15</th>\n",
              "      <td>3870</td>\n",
              "      <td>204439</td>\n",
              "      <td>5</td>\n",
              "      <td>1999-12-09</td>\n",
              "      <td>Thursday</td>\n",
              "    </tr>\n",
              "    <tr>\n",
              "      <th>16</th>\n",
              "      <td>4227</td>\n",
              "      <td>1972971</td>\n",
              "      <td>4</td>\n",
              "      <td>1999-12-09</td>\n",
              "      <td>Thursday</td>\n",
              "    </tr>\n",
              "    <tr>\n",
              "      <th>17</th>\n",
              "      <td>1770</td>\n",
              "      <td>204439</td>\n",
              "      <td>4</td>\n",
              "      <td>1999-12-09</td>\n",
              "      <td>Thursday</td>\n",
              "    </tr>\n",
              "    <tr>\n",
              "      <th>18</th>\n",
              "      <td>1367</td>\n",
              "      <td>204439</td>\n",
              "      <td>4</td>\n",
              "      <td>1999-12-09</td>\n",
              "      <td>Thursday</td>\n",
              "    </tr>\n",
              "    <tr>\n",
              "      <th>19</th>\n",
              "      <td>1309</td>\n",
              "      <td>204439</td>\n",
              "      <td>3</td>\n",
              "      <td>1999-12-09</td>\n",
              "      <td>Thursday</td>\n",
              "    </tr>\n",
              "  </tbody>\n",
              "</table>\n",
              "</div>"
            ],
            "text/plain": [
              "    movie     user  rating       date day_of_week\n",
              "0    1798   510180       5 1999-11-11    Thursday\n",
              "1    2866   510180       3 1999-11-11    Thursday\n",
              "2    3730   510180       4 1999-11-11    Thursday\n",
              "3    3870   510180       2 1999-11-11    Thursday\n",
              "4    1367   510180       5 1999-11-11    Thursday\n",
              "5    2948   510180       3 1999-12-06      Monday\n",
              "6    3421   510180       3 1999-12-06      Monday\n",
              "7    2478   510180       3 1999-12-06      Monday\n",
              "8    1615   122223       3 1999-12-08   Wednesday\n",
              "9    2780   122223       3 1999-12-08   Wednesday\n",
              "10   1367   122223       3 1999-12-08   Wednesday\n",
              "11    607   122223       4 1999-12-08   Wednesday\n",
              "12   1202   122223       4 1999-12-08   Wednesday\n",
              "13   3893   122223       3 1999-12-08   Wednesday\n",
              "14   4171   122223       3 1999-12-08   Wednesday\n",
              "15   3870   204439       5 1999-12-09    Thursday\n",
              "16   4227  1972971       4 1999-12-09    Thursday\n",
              "17   1770   204439       4 1999-12-09    Thursday\n",
              "18   1367   204439       4 1999-12-09    Thursday\n",
              "19   1309   204439       3 1999-12-09    Thursday"
            ]
          },
          "metadata": {
            "tags": []
          },
          "execution_count": 14
        }
      ]
    },
    {
      "cell_type": "code",
      "metadata": {
        "id": "rC6NhB92VTVh",
        "colab": {
          "base_uri": "https://localhost:8080/"
        },
        "outputId": "64ea871e-985f-47dd-8135-b7e2125af9d3"
      },
      "source": [
        "no_of_rated_movies_per_user = train_df.groupby(by='user')['rating'].count()\r\n",
        "no_of_rated_movies_per_user.head()"
      ],
      "execution_count": null,
      "outputs": [
        {
          "output_type": "execute_result",
          "data": {
            "text/plain": [
              "user\n",
              "6     105\n",
              "7     190\n",
              "10     38\n",
              "25      2\n",
              "33      8\n",
              "Name: rating, dtype: int64"
            ]
          },
          "metadata": {
            "tags": []
          },
          "execution_count": 15
        }
      ]
    },
    {
      "cell_type": "code",
      "metadata": {
        "id": "dOpwanWaa87_",
        "colab": {
          "base_uri": "https://localhost:8080/",
          "height": 295
        },
        "outputId": "cba86019-6a7f-43ac-b909-766901e4cd80"
      },
      "source": [
        "fig = plt.figure(figsize=plt.figaspect(.5))\r\n",
        "\r\n",
        "ax1 = plt.subplot(121)\r\n",
        "sns.kdeplot(no_of_rated_movies_per_user, shade=True, ax=ax1)\r\n",
        "plt.xlabel(\"No. of ratings by user\")\r\n",
        "plt.title(\"PDF\")\r\n",
        "\r\n",
        "ax2 = plt.subplot(122)\r\n",
        "sns.kdeplot(no_of_rated_movies_per_user, shade=True, cumulative=True, ax=ax2)\r\n",
        "plt.xlabel(\"No. of ratings by user\")\r\n",
        "plt.title('CDF')\r\n",
        "plt.show()"
      ],
      "execution_count": null,
      "outputs": [
        {
          "output_type": "display_data",
          "data": {
            "image/png": "[encoded data removed]",
            "text/plain": [
              "<Figure size 576x288 with 2 Axes>"
            ]
          },
          "metadata": {
            "tags": []
          }
        }
      ]
    },
    {
      "cell_type": "code",
      "metadata": {
        "id": "SM79yhjUMXXi",
        "colab": {
          "base_uri": "https://localhost:8080/"
        },
        "outputId": "a110277b-5757-4962-ce22-d6abde16b227"
      },
      "source": [
        "no_of_rated_movies_per_user.describe()"
      ],
      "execution_count": null,
      "outputs": [
        {
          "output_type": "execute_result",
          "data": {
            "text/plain": [
              "count    389223.000000\n",
              "mean         49.439553\n",
              "std          71.463434\n",
              "min           1.000000\n",
              "25%           8.000000\n",
              "50%          23.000000\n",
              "75%          62.000000\n",
              "max        4326.000000\n",
              "Name: rating, dtype: float64"
            ]
          },
          "metadata": {
            "tags": []
          },
          "execution_count": 17
        }
      ]
    },
    {
      "cell_type": "code",
      "metadata": {
        "id": "nsQF5WOkP2RX"
      },
      "source": [
        "quantiles = no_of_rated_movies_per_user.quantile(np.arange(0, 1.01, 0.01))"
      ],
      "execution_count": null,
      "outputs": []
    },
    {
      "cell_type": "code",
      "metadata": {
        "id": "0YrOnEVKZSz4",
        "colab": {
          "base_uri": "https://localhost:8080/",
          "height": 529
        },
        "outputId": "7709a59a-fc9f-45af-855b-9575839845ed"
      },
      "source": [
        "fig = plt.figure(figsize = (10, 6))\r\n",
        "axes = fig.add_axes([0.1, 0.1, 1, 1])\r\n",
        "axes.set_title(\"Quantile value of Rating per User\", fontsize = 20)\r\n",
        "axes.set_xlabel(\"Quantiles\", fontsize = 20)\r\n",
        "axes.set_ylabel(\"Ratings Per User\", fontsize = 20)\r\n",
        "axes.plot(quantiles)\r\n",
        "\r\n",
        "plt.scatter(x = quantiles.index[::5], y=quantiles.values[::5], c='blue', s=70, label=\"quantiles with 0.05 intervals\")\r\n",
        "\r\n",
        "plt.scatter(x = quantiles.index[::5], y=quantiles.values[::5], c=\"red\", s=70, label = \"quantiles with 0.25 intervals\")\r\n",
        "plt.legend(loc='upper left', fontsize = 20)\r\n",
        "\r\n",
        "for x, y in zip(quantiles.index[::25], quantiles.values[::25]):plt.annotate(s='({},{})'.format(x,y), xy = (x,y),fontweight\r\n",
        "                                                                            ='bold', fontsize = 16, xytext=(x-0.05, y+180))\r\n",
        "\r\n",
        "axes.tick_params(labelsize = 15)"
      ],
      "execution_count": null,
      "outputs": [
        {
          "output_type": "display_data",
          "data": {
            "image/png": "[encoded data removed]",
            "text/plain": [
              "<Figure size 720x432 with 1 Axes>"
            ]
          },
          "metadata": {
            "tags": []
          }
        }
      ]
    },
    {
      "cell_type": "code",
      "metadata": {
        "id": "4GBl_5H2cxVs",
        "colab": {
          "base_uri": "https://localhost:8080/"
        },
        "outputId": "7d8c9717-ecfc-470f-a771-882f3b01bf1a"
      },
      "source": [
        "quantiles[::5]"
      ],
      "execution_count": null,
      "outputs": [
        {
          "output_type": "execute_result",
          "data": {
            "text/plain": [
              "0.00       1.0\n",
              "0.05       2.0\n",
              "0.10       3.0\n",
              "0.15       5.0\n",
              "0.20       6.0\n",
              "0.25       8.0\n",
              "0.30      10.0\n",
              "0.35      13.0\n",
              "0.40      16.0\n",
              "0.45      19.0\n",
              "0.50      23.0\n",
              "0.55      28.0\n",
              "0.60      35.0\n",
              "0.65      42.0\n",
              "0.70      51.0\n",
              "0.75      62.0\n",
              "0.80      77.0\n",
              "0.85      97.0\n",
              "0.90     128.0\n",
              "0.95     184.0\n",
              "1.00    4326.0\n",
              "Name: rating, dtype: float64"
            ]
          },
          "metadata": {
            "tags": []
          },
          "execution_count": 20
        }
      ]
    },
    {
      "cell_type": "code",
      "metadata": {
        "id": "pn1EV5UDd4Ye",
        "colab": {
          "base_uri": "https://localhost:8080/"
        },
        "outputId": "b33325c9-2fe5-4e5f-8ff5-afbe764a9200"
      },
      "source": [
        "print(\"Total number of ratings below 75th percentile = \"+str(sum(no_of_rated_movies_per_user.values<=133)))\r\n",
        "print(\"Total number of ratings above 75th percentile = \"+str(sum(no_of_rated_movies_per_user.values>133)))"
      ],
      "execution_count": null,
      "outputs": [
        {
          "output_type": "stream",
          "text": [
            "Total number of ratings below 75th percentile = 353210\n",
            "Total number of ratings above 75th percentile = 36013\n"
          ],
          "name": "stdout"
        }
      ]
    },
    {
      "cell_type": "code",
      "metadata": {
        "id": "VANmBTsqf50p",
        "colab": {
          "base_uri": "https://localhost:8080/",
          "height": 514
        },
        "outputId": "ebc56891-4ba7-449a-edbd-2df506223f0b"
      },
      "source": [
        "fig = plt.figure(figsize = (12, 6))\r\n",
        "axes = fig.add_axes([0.1,0.1,1,1])\r\n",
        "plt.title(\"Number of Ratings Per Movie\", fontsize = 20)\r\n",
        "plt.xlabel(\"Movie\", fontsize=20)\r\n",
        "plt.ylabel(\"Count Of Ratings\", fontsize=20)\r\n",
        "plt.plot(no_of_rated_movies_per_user.values)\r\n",
        "plt.tick_params(labelsize = 15)\r\n",
        "axes.set_xticklabels([])\r\n",
        "plt.show()"
      ],
      "execution_count": null,
      "outputs": [
        {
          "output_type": "display_data",
          "data": {
            "image/png": "[encoded data removed]",
            "text/plain": [
              "<Figure size 864x432 with 1 Axes>"
            ]
          },
          "metadata": {
            "tags": []
          }
        }
      ]
    },
    {
      "cell_type": "markdown",
      "metadata": {
        "id": "QzeYUTdFiZS8"
      },
      "source": [
        "**It is skewed nicely**\r\n",
        "\r\n",
        "It clearly shows that there are some movies which are very popular and were rated by 90% users as comapared to other movies"
      ]
    },
    {
      "cell_type": "markdown",
      "metadata": {
        "id": "UP9KWgqJwXnm"
      },
      "source": [
        "Number of ratings on each day of the week"
      ]
    },
    {
      "cell_type": "code",
      "metadata": {
        "id": "mKhEnireit52",
        "colab": {
          "base_uri": "https://localhost:8080/",
          "height": 281
        },
        "outputId": "886d41df-57b8-48ee-b96d-6912968beaa1"
      },
      "source": [
        "fig, ax = plt.subplots()\n",
        "sns.countplot(x='day_of_week', data = train_df, ax = ax)\n",
        "plt.title(\"Number of ratings on each day\")\n",
        "plt.ylabel('Total number of ratings')\n",
        "plt.xlabel(\"\")\n",
        "ax.set_yticklabels([human(item, 'M') for item in ax.get_yticks()])\n",
        "plt.show()"
      ],
      "execution_count": null,
      "outputs": [
        {
          "output_type": "display_data",
          "data": {
            "image/png": "[encoded data removed]",
            "text/plain": [
              "<Figure size 432x288 with 1 Axes>"
            ]
          },
          "metadata": {
            "tags": []
          }
        }
      ]
    },
    {
      "cell_type": "code",
      "metadata": {
        "id": "nEecdaWexYgm",
        "colab": {
          "base_uri": "https://localhost:8080/",
          "height": 297
        },
        "outputId": "68bfd48e-224b-4921-df91-924ac7386ef6"
      },
      "source": [
        "start = datetime.now()\n",
        "fig = plt.figure(figsize=plt.figaspect(.45))\n",
        "sns.boxplot(y='rating', x='day_of_week', data=train_df)\n",
        "plt.show()\n",
        "print(datetime.now()-start)"
      ],
      "execution_count": null,
      "outputs": [
        {
          "output_type": "display_data",
          "data": {
            "image/png": "[encoded data removed]",
            "text/plain": [
              "<Figure size 640x288 with 1 Axes>"
            ]
          },
          "metadata": {
            "tags": []
          }
        },
        {
          "output_type": "stream",
          "text": [
            "0:00:10.124553\n"
          ],
          "name": "stdout"
        }
      ]
    },
    {
      "cell_type": "code",
      "metadata": {
        "id": "eU3-GhfrJAXr",
        "colab": {
          "base_uri": "https://localhost:8080/"
        },
        "outputId": "384729df-956d-44aa-e6a0-188fb81413d5"
      },
      "source": [
        "avg_week_df = train_df.groupby(by=['day_of_week'])['rating'].mean()\n",
        "print('Average Ratings')\n",
        "print(\"_\"*30)\n",
        "print(avg_week_df)\n",
        "print(\"\\n\")"
      ],
      "execution_count": null,
      "outputs": [
        {
          "output_type": "stream",
          "text": [
            "Average Ratings\n",
            "______________________________\n",
            "day_of_week\n",
            "Friday       3.576426\n",
            "Monday       3.573257\n",
            "Saturday     3.585673\n",
            "Sunday       3.588731\n",
            "Thursday     3.577798\n",
            "Tuesday      3.570347\n",
            "Wednesday    3.578739\n",
            "Name: rating, dtype: float64\n",
            "\n",
            "\n"
          ],
          "name": "stdout"
        }
      ]
    },
    {
      "cell_type": "markdown",
      "metadata": {
        "id": "8YwkO9lfip91"
      },
      "source": [
        "Creating sparse matrix from data frame"
      ]
    },
    {
      "cell_type": "code",
      "metadata": {
        "id": "wQuxkzZFJtrj",
        "colab": {
          "base_uri": "https://localhost:8080/"
        },
        "outputId": "3b0ca390-dd09-4824-dbef-edc51f476938"
      },
      "source": [
        "start = datetime.now()\n",
        "if os.path.isfile('train_sparse_matrix.npz'):\n",
        "  print(\"It is present in your pwd, getting it from disk......\")\n",
        "  #just get it from the disk instead of computing it\n",
        "  train_sparse_matrix = sparse.load_npz('train_sparse_matrix.npz')\n",
        "  print(\"Done...\")\n",
        "\n",
        "else:\n",
        "  print(\"We are creating sparse matrix from the dataframe.....\")\n",
        "  #create sparse matrix and store it after usages.\n",
        "  #It should be in such a way that, Matrix[row, col] = data\n",
        "  train_sparse_matrix = sparse.csr_matrix((train_df.rating.values,(train_df.user.values, train_df.movie.values)),)\n",
        "  print(\"Done. It\\'s shape is : (user, movie\", train_sparse_matrix.shape)\n",
        "  print(\"Saving it into disk for further usages...\")\n",
        "  sparse.save_npz(\"train_sparse_matrix.npz\", train_sparse_matrix)\n",
        "  print(\"Done.....\\n\")\n",
        "  print(datetime.now()-start)"
      ],
      "execution_count": null,
      "outputs": [
        {
          "output_type": "stream",
          "text": [
            "It is present in your pwd, getting it from disk......\n",
            "Done...\n"
          ],
          "name": "stdout"
        }
      ]
    },
    {
      "cell_type": "markdown",
      "metadata": {
        "id": "6t--_H9Ki1xN"
      },
      "source": [
        "The sparsity of train sparse matrix"
      ]
    },
    {
      "cell_type": "code",
      "metadata": {
        "id": "R3X_T5N5heA5",
        "colab": {
          "base_uri": "https://localhost:8080/"
        },
        "outputId": "33c590f0-3cdd-4ceb-f255-a395e9283a2d"
      },
      "source": [
        "us, mv = train_sparse_matrix.shape\n",
        "elem = train_sparse_matrix.count_nonzero()\n",
        "print(\"Sparsity of train matrix : {} % \".format((1-elem/(us*mv))*100))"
      ],
      "execution_count": null,
      "outputs": [
        {
          "output_type": "stream",
          "text": [
            "Sparsity of train matrix : 99.83859831485766 % \n"
          ],
          "name": "stdout"
        }
      ]
    },
    {
      "cell_type": "markdown",
      "metadata": {
        "id": "0ZpgJzqpj7Wb"
      },
      "source": [
        "Creating sparse matrix from test data frame"
      ]
    },
    {
      "cell_type": "code",
      "metadata": {
        "id": "7VQq4glRjj_I",
        "colab": {
          "base_uri": "https://localhost:8080/"
        },
        "outputId": "65e90ecd-c348-4a85-9ef1-848a896eac4e"
      },
      "source": [
        "start = datetime.now()\n",
        "if os.path.isfile('test_sparse_matrix.npz'):\n",
        "  print(\"It is present in your pwd, getting it from disk....\")\n",
        "  #just get it from the disk instead of computing it.\n",
        "  test_sparse_matrix = sparse.load_npz(\"test_sparse_matrix.npz\")\n",
        "  print(\"Done....\")\n",
        "else:\n",
        "  print(\"We are creating sparse matrix from the dataframe....\")\n",
        "  #create sparse_matrix and store it for after usages\n",
        "  #It should be in such a way that, matrix[row, col] = data\n",
        "  test_sparse_matrix = sparse.csr_matrix((test_df.rating.values,(test_df.user.values, test_df.movie.values)),)\n",
        "  print(\"Done. It\\'s shape is : (user, movie):\", test_sparse_matrix.shape)\n",
        "  print(\"Saving it into disk for further usages....\")\n",
        "  #save it into disk\n",
        "  sparse.save_npz(\"test_sparse_matrix.npz\", test_sparse_matrix)\n",
        "  print('Done...\\n')\n",
        "print(datetime.now()-start)"
      ],
      "execution_count": null,
      "outputs": [
        {
          "output_type": "stream",
          "text": [
            "It is present in your pwd, getting it from disk....\n",
            "Done....\n",
            "0:00:00.301148\n"
          ],
          "name": "stdout"
        }
      ]
    },
    {
      "cell_type": "markdown",
      "metadata": {
        "id": "cV60D9uvo1Kd"
      },
      "source": [
        "The sparsity of test data matrix"
      ]
    },
    {
      "cell_type": "code",
      "metadata": {
        "id": "rgeW9BHDoivn",
        "colab": {
          "base_uri": "https://localhost:8080/"
        },
        "outputId": "13f0f863-b828-4711-a220-2c2101c0b0cc"
      },
      "source": [
        "us, mv = test_sparse_matrix.shape\n",
        "elem = test_sparse_matrix.count_nonzero()\n",
        "print(\"sparsity of Test matrix : {} % \".format((1-elem/(us*mv))*100))"
      ],
      "execution_count": null,
      "outputs": [
        {
          "output_type": "stream",
          "text": [
            "sparsity of Test matrix : 99.95964957661752 % \n"
          ],
          "name": "stdout"
        }
      ]
    },
    {
      "cell_type": "markdown",
      "metadata": {
        "id": "Bwfnx3dxpaM8"
      },
      "source": [
        "Finding Global Average of all movies ratings, Averages rating per user, and average rating per movie"
      ]
    },
    {
      "cell_type": "code",
      "metadata": {
        "id": "3g1TuWyapVgU"
      },
      "source": [
        "#get the averages in dictionary(key:user_id/movie_id, value:avg rating)\r\n",
        "def get_average_rating(sparse_matrix, of_users):\r\n",
        "  #average rating of user/axes\r\n",
        "  ax = 1 if of_users else 0 #1-user axes, 0-Movie axes\r\n",
        "  #\".AI\" is for converting column_matrix to 1-D numpy array\r\n",
        "  sum_of_ratings = sparse_matrix.sum(axis=ax).A1\r\n",
        "  #Boolean matrix of ratings(whether a user rated movie or not)\r\n",
        "  is_rated = sparse_matrix != 0\r\n",
        "  #no. of ratings that each user or movie\r\n",
        "  no_of_ratings = is_rated.sum(axis=ax).A1\r\n",
        "  #max_user and max_movie ids in sparse matrix\r\n",
        "  u, m = sparse_matrix.shape\r\n",
        "  #create a dictionary of users and their averages ratings..\r\n",
        "  averages_ratings = { i :sum_of_ratings[i]/no_of_ratings[i] for i in range(u if of_users else m) if no_of_ratings[i] != 0}\r\n",
        "  #return that dictionary of average rating\r\n",
        "  return averages_ratings\r\n"
      ],
      "execution_count": null,
      "outputs": []
    },
    {
      "cell_type": "markdown",
      "metadata": {
        "id": "CjX6TbAlO6QO"
      },
      "source": [
        "Finding global average of all movie ratings"
      ]
    },
    {
      "cell_type": "code",
      "metadata": {
        "id": "X9AMvOqLL1YB",
        "colab": {
          "base_uri": "https://localhost:8080/"
        },
        "outputId": "34cff8a2-a0f7-4098-e616-222f70ad9f76"
      },
      "source": [
        "train_averages = dict()\r\n",
        "#get the global avetrage of ratings in our train set.\r\n",
        "train_global_average = train_sparse_matrix.sum()/train_sparse_matrix.count_nonzero()\r\n",
        "train_averages['global'] = train_global_average\r\n",
        "train_averages"
      ],
      "execution_count": null,
      "outputs": [
        {
          "output_type": "execute_result",
          "data": {
            "text/plain": [
              "{'global': 3.577584765710522}"
            ]
          },
          "metadata": {
            "tags": []
          },
          "execution_count": 31
        }
      ]
    },
    {
      "cell_type": "markdown",
      "metadata": {
        "id": "ETZKWUrePDmE"
      },
      "source": [
        "Finding average rating per users"
      ]
    },
    {
      "cell_type": "code",
      "metadata": {
        "id": "h6KpeLPENzmo",
        "colab": {
          "base_uri": "https://localhost:8080/"
        },
        "outputId": "4d5310e3-e7df-4e09-c5cd-c6c31a21efea"
      },
      "source": [
        "train_averages['user'] = get_average_rating(train_sparse_matrix, of_users=True)\r\n",
        "print('\\nAverage rating of user 10 : ',train_averages['user'][10])\r\n"
      ],
      "execution_count": null,
      "outputs": [
        {
          "output_type": "stream",
          "text": [
            "\n",
            "Average rating of user 10 :  3.263157894736842\n"
          ],
          "name": "stdout"
        }
      ]
    },
    {
      "cell_type": "markdown",
      "metadata": {
        "id": "TVnDULylPLEM"
      },
      "source": [
        "Finding average rating per movie"
      ]
    },
    {
      "cell_type": "code",
      "metadata": {
        "id": "pTT7AXzEO1Ox",
        "colab": {
          "base_uri": "https://localhost:8080/"
        },
        "outputId": "85bf4992-5968-4178-df65-99f98c277e86"
      },
      "source": [
        "train_averages['movie'] = get_average_rating(train_sparse_matrix, of_users=False)\r\n",
        "print('\\nAverages rating of movie 15 :',train_averages['movie'][15])"
      ],
      "execution_count": null,
      "outputs": [
        {
          "output_type": "stream",
          "text": [
            "\n",
            "Averages rating of movie 15 : 3.312741312741313\n"
          ],
          "name": "stdout"
        }
      ]
    },
    {
      "cell_type": "markdown",
      "metadata": {
        "id": "bj8KNgdhQQpP"
      },
      "source": [
        "PDF's & CDF's of Avg ratings of users and movies(In Train data)"
      ]
    },
    {
      "cell_type": "code",
      "metadata": {
        "id": "IZcA4AwCQPQ0",
        "colab": {
          "base_uri": "https://localhost:8080/",
          "height": 433
        },
        "outputId": "41614aa5-f5f0-47e0-87ce-1238e6deca06"
      },
      "source": [
        "start = datetime.now()\r\n",
        "#draw pdfs for averages rating per user and average\r\n",
        "fig,(ax1, ax2) = plt.subplots(nrows=1, ncols=2, figsize=plt.figaspect(.5))\r\n",
        "fig.suptitle(\"Avg Ratings per user and per movie\",fontsize=15)\r\n",
        "ax1.set_title('User-Avg_Ratings')\r\n",
        "#get the list average user ratings from the averages dictionary..\r\n",
        "user_averages = [rat for rat in train_averages['user'].values()]\r\n",
        "sns.distplot(user_averages, ax=ax1, hist=False,kde_kws=dict(cumulative=True),label='Cdf')\r\n",
        "sns.distplot(user_averages, ax=ax1,hist=False,label='pdf')\r\n",
        "\r\n",
        "ax2.set_title('Movies-Avg-Rating')\r\n",
        "#get the list of movie_average_ratings from the dictionary..\r\n",
        "movie_averages = [rat for rat in train_averages['movie'].values()]\r\n",
        "sns.distplot(movie_averages, ax=ax2, hist=False, kde_kws=dict(cumulative=True),label='pdf')\r\n",
        "plt.show()\r\n",
        "print(datetime.now()-start)"
      ],
      "execution_count": null,
      "outputs": [
        {
          "output_type": "stream",
          "text": [
            "/usr/local/lib/python3.7/dist-packages/seaborn/distributions.py:2557: FutureWarning: `distplot` is a deprecated function and will be removed in a future version. Please adapt your code to use either `displot` (a figure-level function with similar flexibility) or `kdeplot` (an axes-level function for kernel density plots).\n",
            "  warnings.warn(msg, FutureWarning)\n",
            "/usr/local/lib/python3.7/dist-packages/seaborn/distributions.py:2557: FutureWarning: `distplot` is a deprecated function and will be removed in a future version. Please adapt your code to use either `displot` (a figure-level function with similar flexibility) or `kdeplot` (an axes-level function for kernel density plots).\n",
            "  warnings.warn(msg, FutureWarning)\n",
            "/usr/local/lib/python3.7/dist-packages/seaborn/distributions.py:2557: FutureWarning: `distplot` is a deprecated function and will be removed in a future version. Please adapt your code to use either `displot` (a figure-level function with similar flexibility) or `kdeplot` (an axes-level function for kernel density plots).\n",
            "  warnings.warn(msg, FutureWarning)\n"
          ],
          "name": "stderr"
        },
        {
          "output_type": "display_data",
          "data": {
            "image/png": "[encoded data removed]",
            "text/plain": [
              "<Figure size 576x288 with 2 Axes>"
            ]
          },
          "metadata": {
            "tags": []
          }
        },
        {
          "output_type": "stream",
          "text": [
            "0:00:06.390625\n"
          ],
          "name": "stdout"
        }
      ]
    },
    {
      "cell_type": "markdown",
      "metadata": {
        "id": "xBHOzjnH8ArT"
      },
      "source": [
        "Cold start Problem with users"
      ]
    },
    {
      "cell_type": "code",
      "metadata": {
        "id": "v1pbmc_Q7Zqe",
        "colab": {
          "base_uri": "https://localhost:8080/"
        },
        "outputId": "9c31d2e5-7413-4b3d-9c3d-f5f8fb37f9bd"
      },
      "source": [
        "total_users = len(np.unique(df.user))\r\n",
        "users_train = len(train_averages['user'])\r\n",
        "new_users = total_users-users_train\r\n",
        "\r\n",
        "print('\\nTotal number of users : ',total_users)\r\n",
        "print('\\nNumber of Users in train data : ',users_train)\r\n",
        "print(\"\\nNumber of users that did not appear in train data : {}({} %)\".format(new_users,np.round((new_users/total_users)*100, 2)))"
      ],
      "execution_count": null,
      "outputs": [
        {
          "output_type": "stream",
          "text": [
            "\n",
            "Total number of users :  470758\n",
            "\n",
            "Number of Users in train data :  389223\n",
            "\n",
            "Number of users that did not appear in train data : 81535(17.32 %)\n"
          ],
          "name": "stdout"
        }
      ]
    },
    {
      "cell_type": "markdown",
      "metadata": {
        "id": "wILeks5Q-xJd"
      },
      "source": [
        "Cold start problem with movies"
      ]
    },
    {
      "cell_type": "code",
      "metadata": {
        "id": "X_3auDk1CrNk",
        "colab": {
          "base_uri": "https://localhost:8080/"
        },
        "outputId": "7d211090-1d78-4fab-c4d0-eed9c2166974"
      },
      "source": [
        "total_movies = len(np.unique(df.movie))\r\n",
        "movies_train = len(train_averages['movie'])\r\n",
        "new_movies = total_movies-movies_train\r\n",
        "\r\n",
        "print('\\nTotal number of movies : ',total_movies)\r\n",
        "print('\\nNumber of User in train data : ',movies_train)\r\n",
        "print(\"\\n No of movies that did not appear in train data : {}({} %)\".format(new_movies, np.round((new_movies/total_movies)*100,2)))"
      ],
      "execution_count": null,
      "outputs": [
        {
          "output_type": "stream",
          "text": [
            "\n",
            "Total number of movies :  4499\n",
            "\n",
            "Number of User in train data :  4403\n",
            "\n",
            " No of movies that did not appear in train data : 96(2.13 %)\n"
          ],
          "name": "stdout"
        }
      ]
    },
    {
      "cell_type": "markdown",
      "metadata": {
        "id": "ttnQt9-XE-Vg"
      },
      "source": [
        "Computing Similarity matrices"
      ]
    },
    {
      "cell_type": "markdown",
      "metadata": {
        "id": "PACcvP-9FYQ_"
      },
      "source": [
        "**Computing user-user Similarity matrix**\r\n",
        "\r\n",
        "1. Caculating user user Similarity_matrix is not very easy(unless you have huge Computing Power and lots of time) because of number of usersbeing lare\r\n"
      ]
    },
    {
      "cell_type": "code",
      "metadata": {
        "id": "m0O-g49a95kC"
      },
      "source": [
        "from sklearn.metrics.pairwise import cosine_similarity\r\n",
        "def compute_user_similarity(sparse_matrix, compute_for_few=False, top=100, verbose=False,\r\n",
        "                            verb_for_n_rows = 20,draw_time_taken = True):\r\n",
        "  no_of_users, _ = sparse_matrix.shape\r\n",
        "  #get the indices of non zero rows(users) from our sparse matrix\r\n",
        "  row_ind, col_ind = sparse_matrix.nonzero()\r\n",
        "  row_ind = sorted(set(row_ind))\r\n",
        "  time_taken = list() #time taken forn finding similar users for an user...\r\n",
        "  # we create row,cols and data list.., which can be used to create sparse matrices\r\n",
        "  rows, cols,data = list(), list(), list()\r\n",
        "  if verbose: print(\"Computing top\",top,\"similarities for each user...\")\r\n",
        "  start = datetime.now()\r\n",
        "  tmp=0\r\n",
        "  for row in row_ind[:top] if compute_for_few else row_ind:\r\n",
        "    tmp += 1\r\n",
        "    prev = datetime.now()\r\n",
        "\r\n",
        "    #get the similarity row for this user with all other users\r\n",
        "    sim = cosine_similarity(sparse_matrix.getrow(row), sparse_matrix).ravel()\r\n",
        "    #we will get only the 'top' most similar users and ignore rest of them\r\n",
        "    top_sim_ind = sim.argsort()[-top:]\r\n",
        "    top_sim_val = sim[top_sim_ind]\r\n",
        "    \r\n",
        "    #add them to our row, cols and data\r\n",
        "    rows.extend([row]*top)\r\n",
        "    cols.extend(top_sim_ind)\r\n",
        "    data.extend(top_sim_val)\r\n",
        "    time_taken.append(datetime.now().timestamp() - prev.timestamp())\r\n",
        "\r\n",
        "    if verbose:\r\n",
        "      if tmp%verb_for_n_rows == 0:\r\n",
        "        print(\"computing done for {} users [time elased : {} ]\".format(tmp, datetime.now()-start))\r\n",
        "\r\n",
        "\r\n",
        "    # lets create sparse matrix out of these and return it\r\n",
        "  if verbose: print(\"Creating sparse matrix from the computed similarities\")\r\n",
        "\r\n",
        "      #return rows, cols, data\r\n",
        "\r\n",
        "  if draw_time_taken:\r\n",
        "    plt.plot(time_taken, label = 'time taken for each user')\r\n",
        "    plt.plot(np.cumsum(time_taken), label='Total time')\r\n",
        "    plt.legend(loc='best')\r\n",
        "    plt.xlabel('User')\r\n",
        "    plt.ylabel('Time(seconds)')\r\n",
        "    plt.show()\r\n",
        "  return sparse.csr_matrix((data, (rows, cols)), shape=(no_of_users, no_of_users)), time_taken"
      ],
      "execution_count": null,
      "outputs": []
    },
    {
      "cell_type": "code",
      "metadata": {
        "id": "06-2AeRt9lk6",
        "colab": {
          "base_uri": "https://localhost:8080/",
          "height": 381
        },
        "outputId": "f6f135c1-5fcc-42c3-8ee2-dfaf9ec7e4b9"
      },
      "source": [
        "# We are not going to run it on whole data it will gives us memory error or so we will try it on 100\r\n",
        "start = datetime.now()\r\n",
        "u_u_sim_sparse, _ = compute_user_similarity(train_sparse_matrix, compute_for_few=True, top = 40,verbose=True)\r\n",
        "print(\"-\"*100)\r\n",
        "print(\"Time taken :\",datetime.now()-start)"
      ],
      "execution_count": null,
      "outputs": [
        {
          "output_type": "stream",
          "text": [
            "Computing top 40 similarities for each user...\n",
            "computing done for 20 users [time elased : 0:00:14.744780 ]\n",
            "computing done for 40 users [time elased : 0:00:29.544749 ]\n",
            "Creating sparse matrix from the computed similarities\n"
          ],
          "name": "stdout"
        },
        {
          "output_type": "display_data",
          "data": {
            "image/png": "[encoded data removed]",
            "text/plain": [
              "<Figure size 432x288 with 1 Axes>"
            ]
          },
          "metadata": {
            "tags": []
          }
        },
        {
          "output_type": "stream",
          "text": [
            "----------------------------------------------------------------------------------------------------\n",
            "Time taken : 0:00:32.538626\n"
          ],
          "name": "stdout"
        }
      ]
    },
    {
      "cell_type": "markdown",
      "metadata": {
        "id": "xkO3aqT5QoLw"
      },
      "source": [
        "Trying with reduced dimensions (Using TruncatedSVD for dimensionality reduction of user vector)\n",
        "We have 405,041 users in out training set and computing similarities between them..( 17K dimensional vector..) is time consuming..\n",
        "From above plot, It took roughly 8.88 sec for computing simlilar users for one user\n",
        "We have 405,041 users with us in training set.\n",
        "${ 405041 \\times 8.88 = 3596764.08  \\sec } =  59946.068 \\min = 999.101133333 \\text{ hours}\n",
        "= 41.629213889 \\text{ days}...$\n",
        "\n",
        "Even if we run on 4 cores parallelly (a typical system now a days), It will still take almost 10 and 1/2 days.\n",
        "IDEA: Instead, we will try to reduce the dimentsions using SVD, so that it might speed up the process...\n",
        "\n"
      ]
    },
    {
      "cell_type": "code",
      "metadata": {
        "id": "cL9_sjIlQ8F3",
        "colab": {
          "base_uri": "https://localhost:8080/"
        },
        "outputId": "6a0636c7-1fbe-4118-9cfb-270922575acc"
      },
      "source": [
        "from datetime import datetime\n",
        "from sklearn.decomposition import TruncatedSVD\n",
        "start = datetime.now()\n",
        "#initilize the algorithm with some parameter\n",
        "#All of them are default except n_component. n_iter is for randomized SVD solver\n",
        "netflix_svd = TruncatedSVD(n_components=40, algorithm='randomized', random_state=15)\n",
        "trunc_svd = netflix_svd.fit_transform(train_sparse_matrix)\n",
        "print(datetime.now()-start)"
      ],
      "execution_count": null,
      "outputs": [
        {
          "output_type": "stream",
          "text": [
            "0:01:03.900402\n"
          ],
          "name": "stdout"
        }
      ]
    },
    {
      "cell_type": "markdown",
      "metadata": {
        "id": "f6KtmcAGYf2N"
      },
      "source": [
        "\n",
        "Here,\n",
        "\n",
        "$\\sum \\longleftarrow$ (netflix_svd.singular_values_ )\n",
        "\n",
        "$\\bigvee^T \\longleftarrow$ (netflix_svd.components_)\n",
        "\n",
        "$\\bigcup$ is not returned. instead Projection_of_X onto the new vectorspace is returned.\n",
        "\n",
        "It uses randomized svd internally, which returns All 3 of them saperately. Use that instead."
      ]
    },
    {
      "cell_type": "code",
      "metadata": {
        "id": "FS_yL-G8K5T4"
      },
      "source": [
        "expl_var = np.cumsum(netflix_svd.explained_variance_ratio_)\r\n"
      ],
      "execution_count": null,
      "outputs": []
    },
    {
      "cell_type": "code",
      "metadata": {
        "id": "27vF-lJdjzQV",
        "colab": {
          "base_uri": "https://localhost:8080/",
          "height": 288
        },
        "outputId": "558b551e-1f79-4a39-ca42-580a088d1f63"
      },
      "source": [
        "fig, (ax1, ax2) = plt.subplots(nrows=1, ncols=2, figsize=plt.figaspect(.5))\n",
        "\n",
        "ax1.set_ylabel(\"Variance Explained\", fontsize=15)\n",
        "ax1.set_xlabel(\"# Latent Facors\", fontsize=15)\n",
        "ax1.plot(expl_var)\n",
        "# annote some (latentfactors, expl_var) to make it clear\n",
        "ind = [1, 2,4,8,20,40]\n",
        "ax1.scatter(x = [i-1 for i in ind], y = expl_var[[i-1 for i in ind]], c='#ff3300')\n",
        "for i in ind:\n",
        "    ax1.annotate(s =\"({}, {})\".format(i,  np.round(expl_var[i-1], 2)), xy=(i-1, expl_var[i-1]),\n",
        "                xytext = ( i+20, expl_var[i-1] - 0.01), fontweight='bold')\n",
        "\n",
        "change_in_expl_var = [expl_var[i+1] - expl_var[i] for i in range(len(expl_var)-1)]\n",
        "ax2.plot(change_in_expl_var)\n",
        "\n",
        "\n",
        "\n",
        "ax2.set_ylabel(\"Gain in Var_Expl with One Additional LF\", fontsize=10)\n",
        "ax2.yaxis.set_label_position(\"right\")\n",
        "ax2.set_xlabel(\"# Latent Facors\", fontsize=20)\n",
        "\n",
        "plt.show()"
      ],
      "execution_count": null,
      "outputs": [
        {
          "output_type": "display_data",
          "data": {
            "image/png": "[encoded data removed]",
            "text/plain": [
              "<Figure size 576x288 with 2 Axes>"
            ]
          },
          "metadata": {
            "tags": []
          }
        }
      ]
    },
    {
      "cell_type": "code",
      "metadata": {
        "id": "2ud4PdhznTqH",
        "colab": {
          "base_uri": "https://localhost:8080/"
        },
        "outputId": "c3c934e7-d398-4f8f-8c11-6b98b1e5dad1"
      },
      "source": [
        "for i in ind:\n",
        "  print(\"({}, {})\".format(i, np.round(expl_var[i-1], 2)))"
      ],
      "execution_count": null,
      "outputs": [
        {
          "output_type": "stream",
          "text": [
            "(1, 0.23)\n",
            "(2, 0.26)\n",
            "(4, 0.31)\n",
            "(8, 0.35)\n",
            "(20, 0.4)\n",
            "(40, 0.46)\n"
          ],
          "name": "stdout"
        }
      ]
    },
    {
      "cell_type": "code",
      "metadata": {
        "id": "2b47tsO7rkvp",
        "colab": {
          "base_uri": "https://localhost:8080/"
        },
        "outputId": "31ae267d-09fb-424e-d6c0-8f1aa818878a"
      },
      "source": [
        "#lets project our original U_M matrix into 40 Dimentional space\r\n",
        "start = datetime.now()\r\n",
        "trunc_matrix = train_sparse_matrix.dot(netflix_svd.components_.T)\r\n",
        "print(datetime.now()-start)"
      ],
      "execution_count": null,
      "outputs": [
        {
          "output_type": "stream",
          "text": [
            "0:00:00.935655\n"
          ],
          "name": "stdout"
        }
      ]
    },
    {
      "cell_type": "code",
      "metadata": {
        "id": "ENp6qeYky1ka",
        "colab": {
          "base_uri": "https://localhost:8080/"
        },
        "outputId": "3f5b3339-b44f-43e9-9157-c5ae5d73c708"
      },
      "source": [
        "type(trunc_matrix), trunc_matrix.shape"
      ],
      "execution_count": null,
      "outputs": [
        {
          "output_type": "execute_result",
          "data": {
            "text/plain": [
              "(numpy.ndarray, (2649430, 40))"
            ]
          },
          "metadata": {
            "tags": []
          },
          "execution_count": 44
        }
      ]
    },
    {
      "cell_type": "markdown",
      "metadata": {
        "id": "erJfLgS_zGEj"
      },
      "source": [
        "Lets Convert this to actual sparse matrix and store it for future purpose"
      ]
    },
    {
      "cell_type": "code",
      "metadata": {
        "id": "1gLGsKprzC9q"
      },
      "source": [
        "if not os.path.isfile(\"trunc_sparse_matrix.npz\"):\r\n",
        "#create that sparse matrix\r\n",
        "  trunc_sparse_matrix = sparse.csr_matrix(trunc_matrix)\r\n",
        "#save this truncated sparse matrix for later usage\r\n",
        "  sparse.save_npz('trunc_sparse_matrix', trunc_sparse_matrix)\r\n",
        "else:\r\n",
        "  trunc_sparse_matrix = sparse.load_npz('trunc_sparse_matrix.npz')\r\n"
      ],
      "execution_count": null,
      "outputs": []
    },
    {
      "cell_type": "code",
      "metadata": {
        "id": "TN9vpo_O3BNc",
        "colab": {
          "base_uri": "https://localhost:8080/"
        },
        "outputId": "942b568e-7b24-41d8-ff40-97b8f1dc5a23"
      },
      "source": [
        "trunc_sparse_matrix.shape"
      ],
      "execution_count": null,
      "outputs": [
        {
          "output_type": "execute_result",
          "data": {
            "text/plain": [
              "(2649430, 40)"
            ]
          },
          "metadata": {
            "tags": []
          },
          "execution_count": 46
        }
      ]
    },
    {
      "cell_type": "code",
      "metadata": {
        "id": "rgylg9wJ3KJB",
        "colab": {
          "base_uri": "https://localhost:8080/",
          "height": 432
        },
        "outputId": "9d52b590-4c76-4a6b-e77b-943569bc1978"
      },
      "source": [
        "#getting memory error\r\n",
        "start = datetime.now()\r\n",
        "trunc_u_u_sim_matrix, _ = compute_user_similarity(trunc_sparse_matrix, compute_for_few = True, top=50, verbose=True, verb_for_n_rows=10)\r\n",
        "print(\"_\"*50)\r\n",
        "print(\"time:\",datetime.now()-start)"
      ],
      "execution_count": null,
      "outputs": [
        {
          "output_type": "stream",
          "text": [
            "Computing top 50 similarities for each user...\n",
            "computing done for 10 users [time elased : 0:00:07.067942 ]\n",
            "computing done for 20 users [time elased : 0:00:14.042558 ]\n",
            "computing done for 30 users [time elased : 0:00:21.200336 ]\n",
            "computing done for 40 users [time elased : 0:00:28.285921 ]\n",
            "computing done for 50 users [time elased : 0:00:35.181805 ]\n",
            "Creating sparse matrix from the computed similarities\n"
          ],
          "name": "stdout"
        },
        {
          "output_type": "display_data",
          "data": {
            "image/png": "[encoded data removed]",
            "text/plain": [
              "<Figure size 432x288 with 1 Axes>"
            ]
          },
          "metadata": {
            "tags": []
          }
        },
        {
          "output_type": "stream",
          "text": [
            "__________________________________________________\n",
            "time: 0:00:37.700488\n"
          ],
          "name": "stdout"
        }
      ]
    },
    {
      "cell_type": "markdown",
      "metadata": {
        "id": "qCv5xJoK5gPD"
      },
      "source": [
        "**Computing Movies-Movies Similarity matrix**\r\n",
        "\r\n",
        "\r\n",
        "\r\n"
      ]
    },
    {
      "cell_type": "code",
      "metadata": {
        "id": "84DpeKyV44sh",
        "colab": {
          "base_uri": "https://localhost:8080/"
        },
        "outputId": "ca33f12c-b13d-4396-930a-bb8cbb360859"
      },
      "source": [
        "start = datetime.now()\r\n",
        "if not os.path.isfile(\"Movie_Movie_sim_sparse.npz\"):\r\n",
        "  print(\"It seems you don't have that file. Computing movie_movie similarity..\")\r\n",
        "  start = datetime.now()\r\n",
        "  m_m_sim_sparse = cosine_similarity(X = train_sparse_matrix.T, dense_output=False)\r\n",
        "  print(\"Done...\")\r\n",
        "  #store this sparse matrix in disk before using it. For future purposes.\r\n",
        "  print(\"Saving it to disk without the need of re-computing it again...\")\r\n",
        "  sparse.save_npz(\"movie_movie_sim_sparse.npz\",m_m_sim_sparse)\r\n",
        "  print(\"Done...\")\r\n",
        "else:\r\n",
        "  print(\"It is there, we will get it.\")\r\n",
        "  m_m_sim_sparse = sparse.load_npz(\"m_m_sim_sparse.npz\")\r\n",
        "  print(\"Done...\")\r\n",
        "\r\n",
        "print(datetime.now() - start)"
      ],
      "execution_count": null,
      "outputs": [
        {
          "output_type": "stream",
          "text": [
            "It seems you don't have that file. Computing movie_movie similarity..\n",
            "Done...\n",
            "Saving it to disk without the need of re-computing it again...\n",
            "Done...\n",
            "0:00:33.491907\n"
          ],
          "name": "stdout"
        }
      ]
    },
    {
      "cell_type": "code",
      "metadata": {
        "id": "kzauY8Of5d2t",
        "colab": {
          "base_uri": "https://localhost:8080/"
        },
        "outputId": "25412a6e-b8d2-4d1a-9c4d-6d0e57bb0642"
      },
      "source": [
        "m_m_sim_sparse.shape"
      ],
      "execution_count": null,
      "outputs": [
        {
          "output_type": "execute_result",
          "data": {
            "text/plain": [
              "(4500, 4500)"
            ]
          },
          "metadata": {
            "tags": []
          },
          "execution_count": 49
        }
      ]
    },
    {
      "cell_type": "markdown",
      "metadata": {
        "id": "FICA2ThE9ir4"
      },
      "source": [
        "Even though we have similarity measure \r\n",
        "of each movie, with all other movies, we generally don't care much about least similar movies.\r\n",
        "\r\n",
        "Most of the times, only top_xxx similar items matters. It may be 10 or 100.\r\n",
        "\r\n",
        "We take only those top similar movie rating and store them in a saperate dictionary\r\n",
        "\r\n"
      ]
    },
    {
      "cell_type": "code",
      "metadata": {
        "id": "6DW8Dwu59Slv"
      },
      "source": [
        "movie_ids = np.unique(m_m_sim_sparse.nonzero()[1])"
      ],
      "execution_count": null,
      "outputs": []
    },
    {
      "cell_type": "code",
      "metadata": {
        "id": "D9LgQ_eh-l8w"
      },
      "source": [
        ""
      ],
      "execution_count": null,
      "outputs": []
    },
    {
      "cell_type": "code",
      "metadata": {
        "id": "tANKEWKx-y-i",
        "colab": {
          "base_uri": "https://localhost:8080/"
        },
        "outputId": "6ba38437-59aa-447a-a671-6d00bf9ea864"
      },
      "source": [
        "start = datetime.now()\r\n",
        "similar_movies = dict()\r\n",
        "for movie in movie_ids:\r\n",
        "  #get the top similar movies and store them in the dictionary\r\n",
        "  sim_movies = m_m_sim_sparse[movie].toarray().ravel().argsort()[::-1][1:]\r\n",
        "  similar_movies[movie] = sim_movies[:100]\r\n",
        "print(datetime.now() - start)\r\n",
        "\r\n",
        "#just testing similar movies for movie_15\r\n",
        "similar_movies[15]"
      ],
      "execution_count": null,
      "outputs": [
        {
          "output_type": "stream",
          "text": [
            "0:00:02.247030\n"
          ],
          "name": "stdout"
        },
        {
          "output_type": "execute_result",
          "data": {
            "text/plain": [
              "array([4424, 3755,  590, 3973, 1720, 2818, 4095, 3162, 2280, 2450, 2534,\n",
              "       1072, 1416, 3338,  376,  598, 2187, 1942, 2716,  565, 1690, 4376,\n",
              "        847, 1510, 2429, 3706, 1030, 2399, 4486, 2879, 4467, 3502, 2107,\n",
              "       1391,  882,  509, 3726, 2215, 2637, 4037, 3580, 1493, 3602,  610,\n",
              "        791, 2764,   31, 3511,  218, 3329, 1696, 2636, 1335,   61, 4326,\n",
              "       1149, 1184, 4175, 4276, 2859, 2827, 1453, 1177,  280, 1874,  772,\n",
              "       2219, 3396,  327, 3741, 3016,  914,  714,  679, 2545, 3616, 1647,\n",
              "       2061, 3294, 1494, 2902, 1930, 4163, 3940, 1575, 4079,  756, 4090,\n",
              "       1351, 4223, 3941, 3279, 2774, 4006,  917,  277, 2419, 2761, 2624,\n",
              "       1249])"
            ]
          },
          "metadata": {
            "tags": []
          },
          "execution_count": 51
        }
      ]
    },
    {
      "cell_type": "markdown",
      "metadata": {
        "id": "MFal7xKj_0Q3"
      },
      "source": [
        "**Finding most similar movies using similarity matrix**\r\n",
        "\r\n",
        "Does Similarity really work as the way we expected?\r\n",
        "\r\n",
        "Lets pick some random movie and check for its similar movies.."
      ]
    },
    {
      "cell_type": "code",
      "metadata": {
        "id": "LB2vC2GMAa1T",
        "colab": {
          "base_uri": "https://localhost:8080/",
          "height": 286
        },
        "outputId": "90a7c0a6-f804-4097-bd57-93ad432d7139"
      },
      "source": [
        "#First lets load the movie details into soe dataframe\r\n",
        "#movie details are in 'netflix/movie_titles.csv'\r\n",
        "\r\n",
        "movie_titles = pd.read_csv(\"/content/drive/MyDrive/ML_Projects/NetflixRecoomandation/movie_titles.csv\", sep=',',header=None, names=['movie_id','year_of_release','title'],\r\n",
        "                           verbose=True, index_col = 'movie_id', encoding='ISO-8859-1')\r\n",
        "movie_titles.head()"
      ],
      "execution_count": null,
      "outputs": [
        {
          "output_type": "stream",
          "text": [
            "Tokenization took: 4.90 ms\n",
            "Type conversion took: 11.28 ms\n",
            "Parser memory cleanup took: 0.01 ms\n"
          ],
          "name": "stdout"
        },
        {
          "output_type": "execute_result",
          "data": {
            "text/html": [
              "<div>\n",
              "<style scoped>\n",
              "    .dataframe tbody tr th:only-of-type {\n",
              "        vertical-align: middle;\n",
              "    }\n",
              "\n",
              "    .dataframe tbody tr th {\n",
              "        vertical-align: top;\n",
              "    }\n",
              "\n",
              "    .dataframe thead th {\n",
              "        text-align: right;\n",
              "    }\n",
              "</style>\n",
              "<table border=\"1\" class=\"dataframe\">\n",
              "  <thead>\n",
              "    <tr style=\"text-align: right;\">\n",
              "      <th></th>\n",
              "      <th>year_of_release</th>\n",
              "      <th>title</th>\n",
              "    </tr>\n",
              "    <tr>\n",
              "      <th>movie_id</th>\n",
              "      <th></th>\n",
              "      <th></th>\n",
              "    </tr>\n",
              "  </thead>\n",
              "  <tbody>\n",
              "    <tr>\n",
              "      <th>1</th>\n",
              "      <td>2003.0</td>\n",
              "      <td>Dinosaur Planet</td>\n",
              "    </tr>\n",
              "    <tr>\n",
              "      <th>2</th>\n",
              "      <td>2004.0</td>\n",
              "      <td>Isle of Man TT 2004 Review</td>\n",
              "    </tr>\n",
              "    <tr>\n",
              "      <th>3</th>\n",
              "      <td>1997.0</td>\n",
              "      <td>Character</td>\n",
              "    </tr>\n",
              "    <tr>\n",
              "      <th>4</th>\n",
              "      <td>1994.0</td>\n",
              "      <td>Paula Abdul's Get Up &amp; Dance</td>\n",
              "    </tr>\n",
              "    <tr>\n",
              "      <th>5</th>\n",
              "      <td>2004.0</td>\n",
              "      <td>The Rise and Fall of ECW</td>\n",
              "    </tr>\n",
              "  </tbody>\n",
              "</table>\n",
              "</div>"
            ],
            "text/plain": [
              "          year_of_release                         title\n",
              "movie_id                                               \n",
              "1                  2003.0               Dinosaur Planet\n",
              "2                  2004.0    Isle of Man TT 2004 Review\n",
              "3                  1997.0                     Character\n",
              "4                  1994.0  Paula Abdul's Get Up & Dance\n",
              "5                  2004.0      The Rise and Fall of ECW"
            ]
          },
          "metadata": {
            "tags": []
          },
          "execution_count": 52
        }
      ]
    },
    {
      "cell_type": "markdown",
      "metadata": {
        "id": "dD99ix1yPeew"
      },
      "source": [
        "**Does similarity really works as the way we expected?**\r\n",
        "\r\n",
        "Let's pick some random movie and check for its similar movies"
      ]
    },
    {
      "cell_type": "code",
      "metadata": {
        "id": "C5nuu5yuBoWW"
      },
      "source": [
        "# First let's load the movie details into soe dataframe..\r\n",
        "# movie details are in 'netflix/movie_titles.csv'\r\n",
        "\r\n",
        "movie_titles_df = pd.read_csv(\"/content/drive/MyDrive/ML_Projects/NetflixRecoomandation/movie_titles.csv\", sep = \",\",\r\n",
        "                           header = None, names = ['MovieID', 'Year_of_Release', 'Movie_Title'], index_col = \"MovieID\", encoding = \"iso8859_2\")"
      ],
      "execution_count": null,
      "outputs": []
    },
    {
      "cell_type": "code",
      "metadata": {
        "id": "bwYeEvfeSGyZ",
        "colab": {
          "base_uri": "https://localhost:8080/",
          "height": 235
        },
        "outputId": "efbf4ba7-8c46-4813-cf21-526948a2b0c0"
      },
      "source": [
        "movie_titles_df.head()"
      ],
      "execution_count": null,
      "outputs": [
        {
          "output_type": "execute_result",
          "data": {
            "text/html": [
              "<div>\n",
              "<style scoped>\n",
              "    .dataframe tbody tr th:only-of-type {\n",
              "        vertical-align: middle;\n",
              "    }\n",
              "\n",
              "    .dataframe tbody tr th {\n",
              "        vertical-align: top;\n",
              "    }\n",
              "\n",
              "    .dataframe thead th {\n",
              "        text-align: right;\n",
              "    }\n",
              "</style>\n",
              "<table border=\"1\" class=\"dataframe\">\n",
              "  <thead>\n",
              "    <tr style=\"text-align: right;\">\n",
              "      <th></th>\n",
              "      <th>Year_of_Release</th>\n",
              "      <th>Movie_Title</th>\n",
              "    </tr>\n",
              "    <tr>\n",
              "      <th>MovieID</th>\n",
              "      <th></th>\n",
              "      <th></th>\n",
              "    </tr>\n",
              "  </thead>\n",
              "  <tbody>\n",
              "    <tr>\n",
              "      <th>1</th>\n",
              "      <td>2003.0</td>\n",
              "      <td>Dinosaur Planet</td>\n",
              "    </tr>\n",
              "    <tr>\n",
              "      <th>2</th>\n",
              "      <td>2004.0</td>\n",
              "      <td>Isle of Man TT 2004 Review</td>\n",
              "    </tr>\n",
              "    <tr>\n",
              "      <th>3</th>\n",
              "      <td>1997.0</td>\n",
              "      <td>Character</td>\n",
              "    </tr>\n",
              "    <tr>\n",
              "      <th>4</th>\n",
              "      <td>1994.0</td>\n",
              "      <td>Paula Abdul's Get Up &amp; Dance</td>\n",
              "    </tr>\n",
              "    <tr>\n",
              "      <th>5</th>\n",
              "      <td>2004.0</td>\n",
              "      <td>The Rise and Fall of ECW</td>\n",
              "    </tr>\n",
              "  </tbody>\n",
              "</table>\n",
              "</div>"
            ],
            "text/plain": [
              "         Year_of_Release                   Movie_Title\n",
              "MovieID                                               \n",
              "1                 2003.0               Dinosaur Planet\n",
              "2                 2004.0    Isle of Man TT 2004 Review\n",
              "3                 1997.0                     Character\n",
              "4                 1994.0  Paula Abdul's Get Up & Dance\n",
              "5                 2004.0      The Rise and Fall of ECW"
            ]
          },
          "metadata": {
            "tags": []
          },
          "execution_count": 54
        }
      ]
    },
    {
      "cell_type": "code",
      "metadata": {
        "id": "1Sw-bKfbSNJJ",
        "colab": {
          "base_uri": "https://localhost:8080/"
        },
        "outputId": "1414dbc2-32fc-4797-ff3e-3df6a936ca0c"
      },
      "source": [
        "mv_id = 67\r\n",
        "\r\n",
        "print(\"\\nMovie----------->\",movie_titles.loc[mv_id].values[1])\r\n",
        "print(\"\\nIt has {} Ratings from users.\".format(train_sparse_matrix[:, mv_id].getnnz()))\r\n",
        "print(\"\\nWe have {} movies which are similar to this and we will get only top most.\".format(m_m_sim_sparse[:,mv_id].getnnz()))\r\n",
        "print()"
      ],
      "execution_count": null,
      "outputs": [
        {
          "output_type": "stream",
          "text": [
            "\n",
            "Movie-----------> Vampire Journals\n",
            "\n",
            "It has 268 Ratings from users.\n",
            "\n",
            "We have 4369 movies which are similar to this and we will get only top most.\n",
            "\n"
          ],
          "name": "stdout"
        }
      ]
    },
    {
      "cell_type": "code",
      "metadata": {
        "id": "qTxNjlwmXQta"
      },
      "source": [
        "similarities = m_m_sim_sparse[mv_id].toarray().ravel()\r\n",
        "similar_indices = similarities.argsort()[::-1][1:]\r\n",
        "similarities[similar_indices]\r\n",
        "similar_indices = similarities.argsort()[::-1][1:] # It will sort and reverse the array and ignore its similarity(i.e., 1)\r\n",
        "# and return its indices(movie_ids)"
      ],
      "execution_count": null,
      "outputs": []
    },
    {
      "cell_type": "code",
      "metadata": {
        "id": "A66-hp1qmi2m",
        "colab": {
          "base_uri": "https://localhost:8080/",
          "height": 307
        },
        "outputId": "9c723156-3baf-4882-b9fc-ee29bc28b5a1"
      },
      "source": [
        "plt.plot(similarities[similar_indices], label = \"Ratings\")\r\n",
        "plt.plot(similarities[similar_indices[:100]], label = \"Top 100 similar movies\")\r\n",
        "plt.title(\"Similar Movies of {}(movie_id)\".format(mv_id), fontsize = 20)\r\n",
        "plt.xlabel(\"Movie (Not Movie_Ids)\", fontsize=15)\r\n",
        "plt.ylabel(\"Cosine Similarity\", fontsize = 15)\r\n",
        "plt.legend()\r\n",
        "plt.show()"
      ],
      "execution_count": null,
      "outputs": [
        {
          "output_type": "display_data",
          "data": {
            "image/png": "[encoded data removed]",
            "text/plain": [
              "<Figure size 432x288 with 1 Axes>"
            ]
          },
          "metadata": {
            "tags": []
          }
        }
      ]
    },
    {
      "cell_type": "code",
      "metadata": {
        "id": "oSzEIePJpQ3r",
        "colab": {
          "base_uri": "https://localhost:8080/",
          "height": 390
        },
        "outputId": "7b8ccc27-34f9-49a0-f3ec-679ba0076a7f"
      },
      "source": [
        "movie_titles.loc[similar_indices[:10]]"
      ],
      "execution_count": null,
      "outputs": [
        {
          "output_type": "execute_result",
          "data": {
            "text/html": [
              "<div>\n",
              "<style scoped>\n",
              "    .dataframe tbody tr th:only-of-type {\n",
              "        vertical-align: middle;\n",
              "    }\n",
              "\n",
              "    .dataframe tbody tr th {\n",
              "        vertical-align: top;\n",
              "    }\n",
              "\n",
              "    .dataframe thead th {\n",
              "        text-align: right;\n",
              "    }\n",
              "</style>\n",
              "<table border=\"1\" class=\"dataframe\">\n",
              "  <thead>\n",
              "    <tr style=\"text-align: right;\">\n",
              "      <th></th>\n",
              "      <th>year_of_release</th>\n",
              "      <th>title</th>\n",
              "    </tr>\n",
              "    <tr>\n",
              "      <th>movie_id</th>\n",
              "      <th></th>\n",
              "      <th></th>\n",
              "    </tr>\n",
              "  </thead>\n",
              "  <tbody>\n",
              "    <tr>\n",
              "      <th>323</th>\n",
              "      <td>1999.0</td>\n",
              "      <td>Modern Vampires</td>\n",
              "    </tr>\n",
              "    <tr>\n",
              "      <th>4044</th>\n",
              "      <td>1998.0</td>\n",
              "      <td>Subspecies 4: Bloodstorm</td>\n",
              "    </tr>\n",
              "    <tr>\n",
              "      <th>1688</th>\n",
              "      <td>1993.0</td>\n",
              "      <td>To Sleep With a Vampire</td>\n",
              "    </tr>\n",
              "    <tr>\n",
              "      <th>1900</th>\n",
              "      <td>1997.0</td>\n",
              "      <td>Club Vampire</td>\n",
              "    </tr>\n",
              "    <tr>\n",
              "      <th>2004</th>\n",
              "      <td>2001.0</td>\n",
              "      <td>She Creature</td>\n",
              "    </tr>\n",
              "    <tr>\n",
              "      <th>415</th>\n",
              "      <td>2002.0</td>\n",
              "      <td>Reign in Darkness</td>\n",
              "    </tr>\n",
              "    <tr>\n",
              "      <th>3496</th>\n",
              "      <td>1998.0</td>\n",
              "      <td>Vampires</td>\n",
              "    </tr>\n",
              "    <tr>\n",
              "      <th>938</th>\n",
              "      <td>2002.0</td>\n",
              "      <td>Scarecrow</td>\n",
              "    </tr>\n",
              "    <tr>\n",
              "      <th>2948</th>\n",
              "      <td>1998.0</td>\n",
              "      <td>Razor Blade Smile</td>\n",
              "    </tr>\n",
              "    <tr>\n",
              "      <th>4111</th>\n",
              "      <td>1998.0</td>\n",
              "      <td>Bram Stoker's Shadowbuilder</td>\n",
              "    </tr>\n",
              "  </tbody>\n",
              "</table>\n",
              "</div>"
            ],
            "text/plain": [
              "          year_of_release                        title\n",
              "movie_id                                              \n",
              "323                1999.0              Modern Vampires\n",
              "4044               1998.0     Subspecies 4: Bloodstorm\n",
              "1688               1993.0      To Sleep With a Vampire\n",
              "1900               1997.0                 Club Vampire\n",
              "2004               2001.0                 She Creature\n",
              "415                2002.0            Reign in Darkness\n",
              "3496               1998.0                     Vampires\n",
              "938                2002.0                    Scarecrow\n",
              "2948               1998.0            Razor Blade Smile\n",
              "4111               1998.0  Bram Stoker's Shadowbuilder"
            ]
          },
          "metadata": {
            "tags": []
          },
          "execution_count": 58
        }
      ]
    },
    {
      "cell_type": "markdown",
      "metadata": {
        "id": "UVvEoIhCpmGO"
      },
      "source": [
        "Machine Learning Models"
      ]
    },
    {
      "cell_type": "code",
      "metadata": {
        "id": "MSnMmFB5piX_"
      },
      "source": [
        "def get_sample_sparse_matrix(sparse_matrix, no_users, no_movies, path, verbose = True):\r\n",
        "  \"\"\"It will get it from the 'path' if it is present or it will create and store the sampled sparse matrix in the path specified.\"\"\"\r\n",
        "   #get(row, col) and (rating) tuple from sparse matrix.\r\n",
        "  row_ind, col_ind, ratings = sparse.find(sparse_matrix)\r\n",
        "  users = np.unique(row_ind)\r\n",
        "  movies = np.unique(col_ind)\r\n",
        "\r\n",
        "  print(\"Original Matrix : (users, movies) => ({} {})\".format(len(users), len(movies)))\r\n",
        "  print(\"Original Matrix : Ratings -- {}\\n\".format(len(ratings)))\r\n",
        "   # It just to make sure to get same sample everytime we run this program everytime\r\n",
        "   # and pick without replacement\r\n",
        "  np.random.seed(15)\r\n",
        "  sample_users = np.random.choice(users, no_users, replace = False)\r\n",
        "  sample_movies = np.random.choice(movies, no_movies, replace=False)\r\n",
        "\r\n",
        "   #get the boolean mask or these sampled items in original row/col_inds\r\n",
        "  mask = np.logical_and(np.isin(row_ind, sample_users), np.isin(col_ind, sample_movies))\r\n",
        "\r\n",
        "  sample_sparse_matrix = sparse.csr_matrix((ratings[mask], (row_ind[mask], col_ind[mask])),\r\n",
        "                                            shape=(max(sample_users)+1, max(sample_movies)+1))\r\n",
        "   \r\n",
        "\r\n",
        "  if verbose:\r\n",
        "    print(\"Sampled Matrix : (Users, movies) => ({} {})\".format(len(sample_users), len(sample_movies)))\r\n",
        "    print(\"Sampled Matrix : Ratings => \".format(ratings[mask].shape[0]))\r\n",
        "    print(\"Saving it into disk for further usages.\")\r\n",
        "     #save it into disk\r\n",
        "    sparse.save_npz(path, sample_sparse_matrix)\r\n",
        "    if verbose:\r\n",
        "      print(\"Done..\\n\")\r\n",
        "    return sample_sparse_matrix"
      ],
      "execution_count": null,
      "outputs": []
    },
    {
      "cell_type": "markdown",
      "metadata": {
        "id": "yGnsK4u6lFy2"
      },
      "source": [
        "### **Sampling Data**\r\n",
        "\r\n",
        "Build sample train data from the train data"
      ]
    },
    {
      "cell_type": "code",
      "metadata": {
        "id": "bcO3LriXzXoX"
      },
      "source": [
        "#train_sparse_matrix = sparse.load_npz(\"train_sparse_matrix.npz\")\r\n",
        "#test_sparse_matrix = sparse.load_npz(\"test_sparse_matrix.npz\")\r\n",
        "#above are the matrix for all the users and movies\r\n",
        "#train_sparse_matrix.shape"
      ],
      "execution_count": null,
      "outputs": []
    },
    {
      "cell_type": "code",
      "metadata": {
        "id": "WrCK4PASmDhB",
        "colab": {
          "base_uri": "https://localhost:8080/"
        },
        "outputId": "25c262d1-871b-4e66-e2b5-bf8ed041f531"
      },
      "source": [
        "# As we know train_sparse_matrix contains matrix for user and movies lets take user and movies from it\r\n",
        "start = datetime.now()\r\n",
        "path = \"/content/drive/MyDrive/ML_Projects/NetflixRecoomandation/sample_train_sparse_matrix.npz\"\r\n",
        "if os.path.isfile(path):\r\n",
        "  print(\"It is present in your pwd, getting it from disk...\")\r\n",
        "  # just get it from the disk instead of computing it\r\n",
        "  sample_train_sparse_matrix = sparse.load_npz(path)\r\n",
        "  print(\"Done...\")\r\n",
        "else:\r\n",
        "  # get 10k users and 1k movies from available data\r\n",
        "  sample_train_sparse_matrix = get_sample_sparse_matrix(train_sparse_matrix, no_users=10000, no_movies=1000,path = path)\r\n",
        "print(datetime.now() - start)"
      ],
      "execution_count": null,
      "outputs": [
        {
          "output_type": "stream",
          "text": [
            "It is present in your pwd, getting it from disk...\n",
            "Done...\n",
            "0:00:00.044128\n"
          ],
          "name": "stdout"
        }
      ]
    },
    {
      "cell_type": "markdown",
      "metadata": {
        "id": "q1CQI5AEvpl7"
      },
      "source": [
        "Build sample test data from the test data"
      ]
    },
    {
      "cell_type": "code",
      "metadata": {
        "id": "wku6ViCmnjuJ",
        "colab": {
          "base_uri": "https://localhost:8080/"
        },
        "outputId": "6a23146f-f817-4c2c-9026-8e181af8bf6a"
      },
      "source": [
        "start = datetime.now()\r\n",
        "\r\n",
        "path = \"/content/drive/MyDrive/ML_Projects/NetflixRecoomandation/sample_test_sparse_matrix.npz\"\r\n",
        "if os.path.isfile(path):\r\n",
        "  print(\"It is present in your pwd, getting it from disk...\")\r\n",
        "  # just get it from the disk instead of computing it\r\n",
        "  sample_test_sparse_matrix = sparse.load_npz(path)\r\n",
        "  print(\"Done..\")\r\n",
        "else:\r\n",
        "  #get 5k users and 500 movies from available data\r\n",
        "  sample_test_sparse_matrix = get_sample_sparse_matrix(test_sparse_matrix, no_users=5000, no_movies=500,path = path)\r\n",
        "print(datetime.now() - start)"
      ],
      "execution_count": null,
      "outputs": [
        {
          "output_type": "stream",
          "text": [
            "It is present in your pwd, getting it from disk...\n",
            "Done..\n",
            "0:00:00.049165\n"
          ],
          "name": "stdout"
        }
      ]
    },
    {
      "cell_type": "markdown",
      "metadata": {
        "id": "8w9M1nldx2vP"
      },
      "source": [
        "### Finding Global Average of all movie ratings, Average rating per User, and Average rating per Movie(from sampled train)"
      ]
    },
    {
      "cell_type": "code",
      "metadata": {
        "id": "tbNGoNKMxEjd"
      },
      "source": [
        "sample_train_averages = dict()"
      ],
      "execution_count": null,
      "outputs": []
    },
    {
      "cell_type": "markdown",
      "metadata": {
        "id": "YzwQApWNyPp1"
      },
      "source": [
        "Finding Global Averages of all movie ratings"
      ]
    },
    {
      "cell_type": "code",
      "metadata": {
        "id": "BWUmMfFByOTO",
        "colab": {
          "base_uri": "https://localhost:8080/"
        },
        "outputId": "9aea5fde-e368-4d9e-e575-6da34e7552f0"
      },
      "source": [
        "# get the global average of ratings in our train set\r\n",
        "global_average = sample_train_sparse_matrix.sum()/sample_train_sparse_matrix.count_nonzero()\r\n",
        "sample_train_averages[\"global\"] = global_average\r\n",
        "sample_train_averages"
      ],
      "execution_count": null,
      "outputs": [
        {
          "output_type": "execute_result",
          "data": {
            "text/plain": [
              "{'global': 3.603744628606507}"
            ]
          },
          "metadata": {
            "tags": []
          },
          "execution_count": 64
        }
      ]
    },
    {
      "cell_type": "markdown",
      "metadata": {
        "id": "aai3RK29y80k"
      },
      "source": [
        "**Finding Average rating per User**"
      ]
    },
    {
      "cell_type": "code",
      "metadata": {
        "id": "VOhv28dIy2Fp",
        "colab": {
          "base_uri": "https://localhost:8080/"
        },
        "outputId": "7a25ad8b-be02-4ddb-c476-776bc78827a2"
      },
      "source": [
        "sample_train_averages['user'] = get_average_rating(sample_train_sparse_matrix, of_users = True)\r\n",
        "print('\\nAverage rating of user 195 =',train_averages['user'][195])"
      ],
      "execution_count": null,
      "outputs": [
        {
          "output_type": "stream",
          "text": [
            "\n",
            "Average rating of user 195 = 3.673076923076923\n"
          ],
          "name": "stdout"
        }
      ]
    },
    {
      "cell_type": "markdown",
      "metadata": {
        "id": "FwMD_WF0MmXd"
      },
      "source": [
        "**Finding Average Rating per Movie**"
      ]
    },
    {
      "cell_type": "code",
      "metadata": {
        "id": "7JIXa7sVKNTg",
        "colab": {
          "base_uri": "https://localhost:8080/"
        },
        "outputId": "73b09b39-e15b-4bbc-ec4f-c5f97e198ce9"
      },
      "source": [
        "sample_train_averages['movie'] = get_average_rating(sample_train_sparse_matrix, of_users=False)\r\n",
        "print('\\n AVerage rating of movie 150 :',sample_train_averages['movie'][150])"
      ],
      "execution_count": null,
      "outputs": [
        {
          "output_type": "stream",
          "text": [
            "\n",
            " AVerage rating of movie 150 : 2.1666666666666665\n"
          ],
          "name": "stdout"
        }
      ]
    },
    {
      "cell_type": "markdown",
      "metadata": {
        "id": "vqRk9RS4Nyfl"
      },
      "source": [
        "**Featurizing data**"
      ]
    },
    {
      "cell_type": "code",
      "metadata": {
        "id": "FK6DjTgcNYG8",
        "colab": {
          "base_uri": "https://localhost:8080/"
        },
        "outputId": "4c08eeca-4959-4cca-e6ef-7c661b465fb1"
      },
      "source": [
        "print(\"\\nNo of ratings in our Sampled train matrix = {}\\n\".format(sample_train_sparse_matrix.count_nonzero()))\r\n",
        "print(\"\\nNo of ratings in our Sampled test matrix = {}\\n\".format(sample_test_sparse_matrix.count_nonzero()))"
      ],
      "execution_count": null,
      "outputs": [
        {
          "output_type": "stream",
          "text": [
            "\n",
            "No of ratings in our Sampled train matrix = 127062\n",
            "\n",
            "\n",
            "No of ratings in our Sampled test matrix = 10988\n",
            "\n"
          ],
          "name": "stdout"
        }
      ]
    },
    {
      "cell_type": "markdown",
      "metadata": {
        "id": "4LMEOSMpOfN4"
      },
      "source": [
        "**Featuring data for regression**"
      ]
    },
    {
      "cell_type": "markdown",
      "metadata": {
        "id": "_tzubR88PrPG"
      },
      "source": [
        "Featurinzing train data"
      ]
    },
    {
      "cell_type": "code",
      "metadata": {
        "id": "i3-iiSRuOWRJ"
      },
      "source": [
        "#get users, movies and ratings from our samples train sparse matrix\r\n",
        "sample_train_users, sample_train_movies, sample_train_ratings = sparse.find(sample_train_sparse_matrix)"
      ],
      "execution_count": null,
      "outputs": []
    },
    {
      "cell_type": "code",
      "metadata": {
        "id": "Gn8qRBHaPB7f",
        "colab": {
          "base_uri": "https://localhost:8080/"
        },
        "outputId": "62725ff0-1cba-4900-be73-24bbf7786750"
      },
      "source": [
        "sample_train_ratings.shape"
      ],
      "execution_count": null,
      "outputs": [
        {
          "output_type": "execute_result",
          "data": {
            "text/plain": [
              "(127062,)"
            ]
          },
          "metadata": {
            "tags": []
          },
          "execution_count": 69
        }
      ]
    },
    {
      "cell_type": "code",
      "metadata": {
        "colab": {
          "base_uri": "https://localhost:8080/"
        },
        "id": "hQ-bA8UVPJhM",
        "outputId": "d2b10c06-b6d1-431a-8722-fcaf5eccf1b8"
      },
      "source": [
        "start = datetime.now()\r\n",
        "if os.path.isfile(\"/content/drive/MyDrive/ML_Projects/NetflixRecoomandation/reg_train.csv\"):\r\n",
        "  print(\"File already exits you don't have to prepare again.\")\r\n",
        "\r\n",
        "else:\r\n",
        "  print(\"Preparing {} tuples for the dataset.\\n\".format(len(sample_train_ratings)))\r\n",
        "\r\n",
        "  with open(\"/content/drive/MyDrive/ML_Projects/NetflixRecoomandation/reg_train.csv\", mode='w') as reg_data_file:\r\n",
        "    count = 0\r\n",
        "    for (user, movie, rating) in zip(sample_train_users, sample_train_movies, sample_train_ratings):\r\n",
        "      st = datetime.now()\r\n",
        "      #print(user, movie)\r\n",
        "      #Rating of movie by similar user of user\r\n",
        "      #compute the similar users of the user\r\n",
        "\r\n",
        "      user_sim = cosine_similarity(sample_test_sparse_matrix[user], sample_test_sparse_matrix).ravel()\r\n",
        "      top_sim_users = user_sim.argsort()[::-1][1:]  #we are ignoring the User from its similar user.\r\n",
        "      #get the ratings of most similar users for this movie\r\n",
        "\r\n",
        "      top_ratings = sample_test_sparse_matrix[top_sim_users, movie].toarray().ravel()\r\n",
        "      #we will make its length '5' by adding movie averages to.\r\n",
        "\r\n",
        "      top_sim_users_ratings = list(top_ratings[top_ratings != 0][:5])\r\n",
        "\r\n",
        "      top_sim_users_ratings.extend([sample_train_averages['movie'][movie]]*(5-len(top_sim_users_ratings)))\r\n",
        "\r\n",
        "      #print(top_sim_users_ratings, end = \" \")\r\n",
        "      #Prepare the row to be stores in a file\r\n",
        "\r\n",
        "      row = list()\r\n",
        "      row.append(user)\r\n",
        "      row.append(movie)\r\n",
        "      # Now add the other features to this data\r\n",
        "      row.append(sample_train_averages['global'])  #first feature\r\n",
        "      # next five features are similar_users \"movie\" ratings\r\n",
        "      row.extend(top_sim_users_ratings)\r\n",
        "\r\n",
        "      # next 5 features are \"user\" ratings for similar_movies\r\n",
        "      row.extend(top_sim_users_ratings)\r\n",
        "      #Avg user rating\r\n",
        "      row.append(sample_train_averages['user'][user])\r\n",
        "      #Avg movie rating\r\n",
        "      row.append(sample_train_averages['movie'][movie])\r\n",
        "\r\n",
        "      #Actual Rating of this user movie pair\r\n",
        "      row.append(rating)\r\n",
        "      count += 1\r\n",
        "\r\n",
        "      #add rows to the file opened.\r\n",
        "      reg_data_file.write(','.join(map(str, row)))\r\n",
        "      reg_data_file.write(\"\\n\")\r\n",
        "      if count%10000 == 0:\r\n",
        "        #print(','.join(map(str, row)))\r\n",
        "        print(\"Done for {} row------{}\".format(count, datetime.now() - start))\r\n",
        "\r\n",
        "print(datetime.now() - start)"
      ],
      "execution_count": null,
      "outputs": [
        {
          "output_type": "stream",
          "text": [
            "File already exits you don't have to prepare again.\n",
            "0:00:00.003537\n"
          ],
          "name": "stdout"
        }
      ]
    },
    {
      "cell_type": "markdown",
      "metadata": {
        "id": "twF6_F_GbViN"
      },
      "source": [
        "**GAvg :** Average rating of all the ratings\r\n",
        "\r\n",
        "**Similar users rating of this movie:** sur1, sur2, sur3, sur4, sur5(top 5 similar users who rated that movie)\r\n",
        "\r\n",
        "**Similar movies  rated by this user:** smr1, smr2, smr3, smr4, smr5(top 5 similar movies rated by this movie)\r\n",
        "\r\n",
        "**UAvg:** User's Average rating\r\n",
        "\r\n",
        "**MAvg** Average rating of this movie\r\n",
        "\r\n",
        "**Rating** Rating of this movie by this user"
      ]
    },
    {
      "cell_type": "code",
      "metadata": {
        "colab": {
          "base_uri": "https://localhost:8080/",
          "height": 204
        },
        "id": "gRt1AGd3ZvCC",
        "outputId": "05ac3b4e-8ba5-4f3e-b8a9-71d1fa9ac87a"
      },
      "source": [
        "reg_train = pd.read_csv(\"/content/drive/MyDrive/ML_Projects/NetflixRecoomandation/reg_train.csv\",\r\n",
        "                        names = ['user', 'movie','gAvg','sur1','sur2','sur3','sur4','sur5','smr1',\r\n",
        "                                 'smr2','smr3','smr4','smr5','UAvg','MAvg','rating'], header=None)\r\n",
        "reg_train.head()"
      ],
      "execution_count": null,
      "outputs": [
        {
          "output_type": "execute_result",
          "data": {
            "text/html": [
              "<div>\n",
              "<style scoped>\n",
              "    .dataframe tbody tr th:only-of-type {\n",
              "        vertical-align: middle;\n",
              "    }\n",
              "\n",
              "    .dataframe tbody tr th {\n",
              "        vertical-align: top;\n",
              "    }\n",
              "\n",
              "    .dataframe thead th {\n",
              "        text-align: right;\n",
              "    }\n",
              "</style>\n",
              "<table border=\"1\" class=\"dataframe\">\n",
              "  <thead>\n",
              "    <tr style=\"text-align: right;\">\n",
              "      <th></th>\n",
              "      <th>user</th>\n",
              "      <th>movie</th>\n",
              "      <th>gAvg</th>\n",
              "      <th>sur1</th>\n",
              "      <th>sur2</th>\n",
              "      <th>sur3</th>\n",
              "      <th>sur4</th>\n",
              "      <th>sur5</th>\n",
              "      <th>smr1</th>\n",
              "      <th>smr2</th>\n",
              "      <th>smr3</th>\n",
              "      <th>smr4</th>\n",
              "      <th>smr5</th>\n",
              "      <th>UAvg</th>\n",
              "      <th>MAvg</th>\n",
              "      <th>rating</th>\n",
              "    </tr>\n",
              "  </thead>\n",
              "  <tbody>\n",
              "    <tr>\n",
              "      <th>0</th>\n",
              "      <td>1117050</td>\n",
              "      <td>15</td>\n",
              "      <td>3.603745</td>\n",
              "      <td>2.25</td>\n",
              "      <td>2.25</td>\n",
              "      <td>2.25</td>\n",
              "      <td>2.25</td>\n",
              "      <td>2.25</td>\n",
              "      <td>2.25</td>\n",
              "      <td>2.25</td>\n",
              "      <td>2.25</td>\n",
              "      <td>2.25</td>\n",
              "      <td>2.25</td>\n",
              "      <td>3.222222</td>\n",
              "      <td>2.25</td>\n",
              "      <td>2</td>\n",
              "    </tr>\n",
              "    <tr>\n",
              "      <th>1</th>\n",
              "      <td>1292631</td>\n",
              "      <td>15</td>\n",
              "      <td>3.603745</td>\n",
              "      <td>2.25</td>\n",
              "      <td>2.25</td>\n",
              "      <td>2.25</td>\n",
              "      <td>2.25</td>\n",
              "      <td>2.25</td>\n",
              "      <td>2.25</td>\n",
              "      <td>2.25</td>\n",
              "      <td>2.25</td>\n",
              "      <td>2.25</td>\n",
              "      <td>2.25</td>\n",
              "      <td>2.313131</td>\n",
              "      <td>2.25</td>\n",
              "      <td>1</td>\n",
              "    </tr>\n",
              "    <tr>\n",
              "      <th>2</th>\n",
              "      <td>1550619</td>\n",
              "      <td>15</td>\n",
              "      <td>3.603745</td>\n",
              "      <td>2.25</td>\n",
              "      <td>2.25</td>\n",
              "      <td>2.25</td>\n",
              "      <td>2.25</td>\n",
              "      <td>2.25</td>\n",
              "      <td>2.25</td>\n",
              "      <td>2.25</td>\n",
              "      <td>2.25</td>\n",
              "      <td>2.25</td>\n",
              "      <td>2.25</td>\n",
              "      <td>4.000000</td>\n",
              "      <td>2.25</td>\n",
              "      <td>4</td>\n",
              "    </tr>\n",
              "    <tr>\n",
              "      <th>3</th>\n",
              "      <td>1719753</td>\n",
              "      <td>15</td>\n",
              "      <td>3.603745</td>\n",
              "      <td>2.25</td>\n",
              "      <td>2.25</td>\n",
              "      <td>2.25</td>\n",
              "      <td>2.25</td>\n",
              "      <td>2.25</td>\n",
              "      <td>2.25</td>\n",
              "      <td>2.25</td>\n",
              "      <td>2.25</td>\n",
              "      <td>2.25</td>\n",
              "      <td>2.25</td>\n",
              "      <td>3.785714</td>\n",
              "      <td>2.25</td>\n",
              "      <td>2</td>\n",
              "    </tr>\n",
              "    <tr>\n",
              "      <th>4</th>\n",
              "      <td>1830763</td>\n",
              "      <td>15</td>\n",
              "      <td>3.603745</td>\n",
              "      <td>2.25</td>\n",
              "      <td>2.25</td>\n",
              "      <td>2.25</td>\n",
              "      <td>2.25</td>\n",
              "      <td>2.25</td>\n",
              "      <td>2.25</td>\n",
              "      <td>2.25</td>\n",
              "      <td>2.25</td>\n",
              "      <td>2.25</td>\n",
              "      <td>2.25</td>\n",
              "      <td>2.978022</td>\n",
              "      <td>2.25</td>\n",
              "      <td>1</td>\n",
              "    </tr>\n",
              "  </tbody>\n",
              "</table>\n",
              "</div>"
            ],
            "text/plain": [
              "      user  movie      gAvg  sur1  sur2  ...  smr4  smr5      UAvg  MAvg  rating\n",
              "0  1117050     15  3.603745  2.25  2.25  ...  2.25  2.25  3.222222  2.25       2\n",
              "1  1292631     15  3.603745  2.25  2.25  ...  2.25  2.25  2.313131  2.25       1\n",
              "2  1550619     15  3.603745  2.25  2.25  ...  2.25  2.25  4.000000  2.25       4\n",
              "3  1719753     15  3.603745  2.25  2.25  ...  2.25  2.25  3.785714  2.25       2\n",
              "4  1830763     15  3.603745  2.25  2.25  ...  2.25  2.25  2.978022  2.25       1\n",
              "\n",
              "[5 rows x 16 columns]"
            ]
          },
          "metadata": {
            "tags": []
          },
          "execution_count": 71
        }
      ]
    },
    {
      "cell_type": "markdown",
      "metadata": {
        "id": "Diy3lwdsrv2l"
      },
      "source": [
        "**Featurizing test data**"
      ]
    },
    {
      "cell_type": "code",
      "metadata": {
        "id": "y6O8C_T_KEna"
      },
      "source": [
        "#get users, movies, and rating from the sampled Test\r\n",
        "sample_test_users, sample_test_movies, sample_test_ratings = sparse.find(sample_test_sparse_matrix)"
      ],
      "execution_count": null,
      "outputs": []
    },
    {
      "cell_type": "code",
      "metadata": {
        "colab": {
          "base_uri": "https://localhost:8080/"
        },
        "id": "HsYObzl0sL44",
        "outputId": "c62937bf-e7b3-4bc9-f221-23b7f682065f"
      },
      "source": [
        "sample_train_averages['global']"
      ],
      "execution_count": null,
      "outputs": [
        {
          "output_type": "execute_result",
          "data": {
            "text/plain": [
              "3.603744628606507"
            ]
          },
          "metadata": {
            "tags": []
          },
          "execution_count": 73
        }
      ]
    },
    {
      "cell_type": "code",
      "metadata": {
        "colab": {
          "base_uri": "https://localhost:8080/"
        },
        "id": "SC9Jay4_sPGB",
        "outputId": "369837f6-edfe-4f56-d8cf-ae29ddb74bcc"
      },
      "source": [
        "\r\n",
        "if os.path.isfile('/content/drive/MyDrive/ML_Projects/NetflixRecoomandation/reg_test.csv'):\r\n",
        "    print(\"It is already created...\")\r\n",
        "else:\r\n",
        "\r\n",
        "    print('preparing {} tuples for the dataset..\\n'.format(len(sample_test_ratings)))\r\n",
        "    with open('/content/drive/MyDrive/ML_Projects/NetflixRecoomandation/reg_test.csv', mode='w') as reg_data_file:\r\n",
        "        count = 0 \r\n",
        "        for (user, movie, rating)  in zip(sample_test_users, sample_test_movies, sample_test_ratings):\r\n",
        "            st = datetime.now()\r\n",
        "\r\n",
        "        #--------------------- Ratings of \"movie\" by similar users of \"user\" ---------------------\r\n",
        "            #print(user, movie)\r\n",
        "            try:\r\n",
        "                # compute the similar Users of the \"user\"        \r\n",
        "                user_sim = cosine_similarity(sample_train_sparse_matrix[user], sample_train_sparse_matrix).ravel()\r\n",
        "                top_sim_users = user_sim.argsort()[::-1][1:] # we are ignoring 'The User' from its similar users.\r\n",
        "                # get the ratings of most similar users for this movie\r\n",
        "                top_ratings = sample_train_sparse_matrix[top_sim_users, movie].toarray().ravel()\r\n",
        "                # we will make it's length \"5\" by adding movie averages to .\r\n",
        "                top_sim_users_ratings = list(top_ratings[top_ratings != 0][:5])\r\n",
        "                top_sim_users_ratings.extend([sample_train_averages['movie'][movie]]*(5 - len(top_sim_users_ratings)))\r\n",
        "                # print(top_sim_users_ratings, end=\"--\")\r\n",
        "\r\n",
        "            except (IndexError, KeyError):\r\n",
        "                # It is a new User or new Movie or there are no ratings for given user for top similar movies...\r\n",
        "                ########## Cold STart Problem ##########\r\n",
        "                top_sim_users_ratings.extend([sample_train_averages['global']]*(5 - len(top_sim_users_ratings)))\r\n",
        "                #print(top_sim_users_ratings)\r\n",
        "            except:\r\n",
        "                print(user, movie)\r\n",
        "                # we just want KeyErrors to be resolved. Not every Exception...\r\n",
        "                raise\r\n",
        "\r\n",
        "\r\n",
        "\r\n",
        "            #--------------------- Ratings by \"user\"  to similar movies of \"movie\" ---------------------\r\n",
        "            try:\r\n",
        "                # compute the similar movies of the \"movie\"        \r\n",
        "                movie_sim = cosine_similarity(sample_train_sparse_matrix[:,movie].T, sample_train_sparse_matrix.T).ravel()\r\n",
        "                top_sim_movies = movie_sim.argsort()[::-1][1:] # we are ignoring 'The User' from its similar users.\r\n",
        "                # get the ratings of most similar movie rated by this user..\r\n",
        "                top_ratings = sample_train_sparse_matrix[user, top_sim_movies].toarray().ravel()\r\n",
        "                # we will make it's length \"5\" by adding user averages to.\r\n",
        "                top_sim_movies_ratings = list(top_ratings[top_ratings != 0][:5])\r\n",
        "                top_sim_movies_ratings.extend([sample_train_averages['user'][user]]*(5-len(top_sim_movies_ratings))) \r\n",
        "                #print(top_sim_movies_ratings)\r\n",
        "            except (IndexError, KeyError):\r\n",
        "                #print(top_sim_movies_ratings, end=\" : -- \")\r\n",
        "                top_sim_movies_ratings.extend([sample_train_averages['global']]*(5-len(top_sim_movies_ratings)))\r\n",
        "                #print(top_sim_movies_ratings)\r\n",
        "            except :\r\n",
        "                raise\r\n",
        "\r\n",
        "            #-----------------prepare the row to be stores in a file-----------------#\r\n",
        "            row = list()\r\n",
        "            # add usser and movie name first\r\n",
        "            row.append(user)\r\n",
        "            row.append(movie)\r\n",
        "            row.append(sample_train_averages['global']) # first feature\r\n",
        "            #print(row)\r\n",
        "            # next 5 features are similar_users \"movie\" ratings\r\n",
        "            row.extend(top_sim_users_ratings)\r\n",
        "            #print(row)\r\n",
        "            # next 5 features are \"user\" ratings for similar_movies\r\n",
        "            row.extend(top_sim_movies_ratings)\r\n",
        "            #print(row)\r\n",
        "            # Avg_user rating\r\n",
        "            try:\r\n",
        "                row.append(sample_train_averages['user'][user])\r\n",
        "            except KeyError:\r\n",
        "                row.append(sample_train_averages['global'])\r\n",
        "            except:\r\n",
        "                raise\r\n",
        "            #print(row)\r\n",
        "            # Avg_movie rating\r\n",
        "            try:\r\n",
        "                row.append(sample_train_averages['movie'][movie])\r\n",
        "            except KeyError:\r\n",
        "                row.append(sample_train_averages['global'])\r\n",
        "            except:\r\n",
        "                raise\r\n",
        "            #print(row)\r\n",
        "            # finalley, The actual Rating of this user-movie pair...\r\n",
        "            row.append(rating)\r\n",
        "            #print(row)\r\n",
        "            count = count + 1\r\n",
        "\r\n",
        "            # add rows to the file opened..\r\n",
        "            reg_data_file.write(','.join(map(str, row)))\r\n",
        "            #print(','.join(map(str, row)))\r\n",
        "            reg_data_file.write('\\n')        \r\n",
        "            if (count)%1000 == 0:\r\n",
        "                #print(','.join(map(str, row)))\r\n",
        "                print(\"Done for {} rows----- {}\".format(count, datetime.now() - start))\r\n",
        "    print(\"\",datetime.now() - start)   "
      ],
      "execution_count": 74,
      "outputs": [
        {
          "output_type": "stream",
          "text": [
            "preparing 10988 tuples for the dataset..\n",
            "\n",
            "Done for 1000 rows----- 0:03:55.756841\n",
            "Done for 2000 rows----- 0:07:50.040691\n",
            "Done for 3000 rows----- 0:11:47.241371\n",
            "Done for 4000 rows----- 0:15:41.278962\n",
            "Done for 5000 rows----- 0:19:31.170347\n",
            "Done for 6000 rows----- 0:23:21.570871\n",
            "Done for 7000 rows----- 0:27:14.998209\n",
            "Done for 8000 rows----- 0:31:08.743133\n",
            "Done for 9000 rows----- 0:35:04.121736\n",
            "Done for 10000 rows----- 0:38:58.313386\n",
            " 0:42:45.642079\n"
          ],
          "name": "stdout"
        }
      ]
    },
    {
      "cell_type": "markdown",
      "metadata": {
        "id": "xR9PlweYbkkq"
      },
      "source": [
        "**Reading from the file to make a dataframe**"
      ]
    },
    {
      "cell_type": "code",
      "metadata": {
        "id": "kCK_at0gbiYo",
        "colab": {
          "base_uri": "https://localhost:8080/",
          "height": 166
        },
        "outputId": "6208547f-2520-4b2d-b966-18f2e85eab45"
      },
      "source": [
        "\r\n",
        "reg_test_df = pd.read_csv('/content/drive/MyDrive/ML_Projects/NetflixRecoomandation/reg_test.csv', names = ['user', 'movie', 'GAvg', 'sur1', 'sur2', 'sur3', 'sur4', 'sur5',\r\n",
        "                                                          'smr1', 'smr2', 'smr3', 'smr4', 'smr5',\r\n",
        "                                                          'UAvg', 'MAvg', 'rating'], header=None)\r\n",
        "reg_test_df.head(4)"
      ],
      "execution_count": 75,
      "outputs": [
        {
          "output_type": "execute_result",
          "data": {
            "text/html": [
              "<div>\n",
              "<style scoped>\n",
              "    .dataframe tbody tr th:only-of-type {\n",
              "        vertical-align: middle;\n",
              "    }\n",
              "\n",
              "    .dataframe tbody tr th {\n",
              "        vertical-align: top;\n",
              "    }\n",
              "\n",
              "    .dataframe thead th {\n",
              "        text-align: right;\n",
              "    }\n",
              "</style>\n",
              "<table border=\"1\" class=\"dataframe\">\n",
              "  <thead>\n",
              "    <tr style=\"text-align: right;\">\n",
              "      <th></th>\n",
              "      <th>user</th>\n",
              "      <th>movie</th>\n",
              "      <th>GAvg</th>\n",
              "      <th>sur1</th>\n",
              "      <th>sur2</th>\n",
              "      <th>sur3</th>\n",
              "      <th>sur4</th>\n",
              "      <th>sur5</th>\n",
              "      <th>smr1</th>\n",
              "      <th>smr2</th>\n",
              "      <th>smr3</th>\n",
              "      <th>smr4</th>\n",
              "      <th>smr5</th>\n",
              "      <th>UAvg</th>\n",
              "      <th>MAvg</th>\n",
              "      <th>rating</th>\n",
              "    </tr>\n",
              "  </thead>\n",
              "  <tbody>\n",
              "    <tr>\n",
              "      <th>0</th>\n",
              "      <td>760104</td>\n",
              "      <td>5</td>\n",
              "      <td>3.603745</td>\n",
              "      <td>3.603745</td>\n",
              "      <td>3.603745</td>\n",
              "      <td>3.603745</td>\n",
              "      <td>3.603745</td>\n",
              "      <td>3.603745</td>\n",
              "      <td>3.603745</td>\n",
              "      <td>3.603745</td>\n",
              "      <td>3.603745</td>\n",
              "      <td>3.603745</td>\n",
              "      <td>3.603745</td>\n",
              "      <td>3.603745</td>\n",
              "      <td>3.603745</td>\n",
              "      <td>5</td>\n",
              "    </tr>\n",
              "    <tr>\n",
              "      <th>1</th>\n",
              "      <td>777147</td>\n",
              "      <td>5</td>\n",
              "      <td>3.603745</td>\n",
              "      <td>3.603745</td>\n",
              "      <td>3.603745</td>\n",
              "      <td>3.603745</td>\n",
              "      <td>3.603745</td>\n",
              "      <td>3.603745</td>\n",
              "      <td>3.603745</td>\n",
              "      <td>3.603745</td>\n",
              "      <td>3.603745</td>\n",
              "      <td>3.603745</td>\n",
              "      <td>3.603745</td>\n",
              "      <td>3.603745</td>\n",
              "      <td>3.603745</td>\n",
              "      <td>5</td>\n",
              "    </tr>\n",
              "    <tr>\n",
              "      <th>2</th>\n",
              "      <td>1451564</td>\n",
              "      <td>5</td>\n",
              "      <td>3.603745</td>\n",
              "      <td>3.603745</td>\n",
              "      <td>3.603745</td>\n",
              "      <td>3.603745</td>\n",
              "      <td>3.603745</td>\n",
              "      <td>3.603745</td>\n",
              "      <td>3.603745</td>\n",
              "      <td>3.603745</td>\n",
              "      <td>3.603745</td>\n",
              "      <td>3.603745</td>\n",
              "      <td>3.603745</td>\n",
              "      <td>3.603745</td>\n",
              "      <td>3.603745</td>\n",
              "      <td>5</td>\n",
              "    </tr>\n",
              "    <tr>\n",
              "      <th>3</th>\n",
              "      <td>1496376</td>\n",
              "      <td>5</td>\n",
              "      <td>3.603745</td>\n",
              "      <td>3.603745</td>\n",
              "      <td>3.603745</td>\n",
              "      <td>3.603745</td>\n",
              "      <td>3.603745</td>\n",
              "      <td>3.603745</td>\n",
              "      <td>3.603745</td>\n",
              "      <td>3.603745</td>\n",
              "      <td>3.603745</td>\n",
              "      <td>3.603745</td>\n",
              "      <td>3.603745</td>\n",
              "      <td>3.603745</td>\n",
              "      <td>3.603745</td>\n",
              "      <td>1</td>\n",
              "    </tr>\n",
              "  </tbody>\n",
              "</table>\n",
              "</div>"
            ],
            "text/plain": [
              "      user  movie      GAvg      sur1  ...      smr5      UAvg      MAvg  rating\n",
              "0   760104      5  3.603745  3.603745  ...  3.603745  3.603745  3.603745       5\n",
              "1   777147      5  3.603745  3.603745  ...  3.603745  3.603745  3.603745       5\n",
              "2  1451564      5  3.603745  3.603745  ...  3.603745  3.603745  3.603745       5\n",
              "3  1496376      5  3.603745  3.603745  ...  3.603745  3.603745  3.603745       1\n",
              "\n",
              "[4 rows x 16 columns]"
            ]
          },
          "metadata": {
            "tags": []
          },
          "execution_count": 75
        }
      ]
    },
    {
      "cell_type": "code",
      "metadata": {
        "colab": {
          "base_uri": "https://localhost:8080/"
        },
        "id": "y9pANfoCNdWr",
        "outputId": "c77631e4-811b-4289-9e11-d699e74ebb96"
      },
      "source": [
        "!pip install surprise"
      ],
      "execution_count": 77,
      "outputs": [
        {
          "output_type": "stream",
          "text": [
            "Collecting surprise\n",
            "  Downloading https://files.pythonhosted.org/packages/61/de/e5cba8682201fcf9c3719a6fdda95693468ed061945493dea2dd37c5618b/surprise-0.1-py2.py3-none-any.whl\n",
            "Collecting scikit-surprise\n",
            "\u001b[?25l  Downloading https://files.pythonhosted.org/packages/97/37/5d334adaf5ddd65da99fc65f6507e0e4599d092ba048f4302fe8775619e8/scikit-surprise-1.1.1.tar.gz (11.8MB)\n",
            "\u001b[K     |████████████████████████████████| 11.8MB 9.0MB/s \n",
            "\u001b[?25hRequirement already satisfied: joblib>=0.11 in /usr/local/lib/python3.7/dist-packages (from scikit-surprise->surprise) (1.0.1)\n",
            "Requirement already satisfied: numpy>=1.11.2 in /usr/local/lib/python3.7/dist-packages (from scikit-surprise->surprise) (1.19.5)\n",
            "Requirement already satisfied: scipy>=1.0.0 in /usr/local/lib/python3.7/dist-packages (from scikit-surprise->surprise) (1.4.1)\n",
            "Requirement already satisfied: six>=1.10.0 in /usr/local/lib/python3.7/dist-packages (from scikit-surprise->surprise) (1.15.0)\n",
            "Building wheels for collected packages: scikit-surprise\n",
            "  Building wheel for scikit-surprise (setup.py) ... \u001b[?25l\u001b[?25hdone\n",
            "  Created wheel for scikit-surprise: filename=scikit_surprise-1.1.1-cp37-cp37m-linux_x86_64.whl size=1617564 sha256=eea7931d51517a5e22ecc8f76a17ca9ee226f248f5701f0e0b2ce089b4679917\n",
            "  Stored in directory: /root/.cache/pip/wheels/78/9c/3d/41b419c9d2aff5b6e2b4c0fc8d25c538202834058f9ed110d0\n",
            "Successfully built scikit-surprise\n",
            "Installing collected packages: scikit-surprise, surprise\n",
            "Successfully installed scikit-surprise-1.1.1 surprise-0.1\n"
          ],
          "name": "stdout"
        }
      ]
    },
    {
      "cell_type": "markdown",
      "metadata": {
        "id": "6oxnZoFWc9GO"
      },
      "source": [
        "## **Transforming data for Surprise models**"
      ]
    },
    {
      "cell_type": "code",
      "metadata": {
        "id": "JrQ9hTWCX41i"
      },
      "source": [
        "from surprise import Reader, Dataset"
      ],
      "execution_count": 78,
      "outputs": []
    },
    {
      "cell_type": "markdown",
      "metadata": {
        "id": "y4rRBxd4dMdz"
      },
      "source": [
        "## **Transforming train data**\r\n",
        "\r\n",
        ". We can't give raw data(movie, user, rating) to train the model in Surprise    library.\r\n",
        "\r\n",
        ". They have a seprate format for train and test data, which will be useful for training the models like SVD, KNNBaseLineOnly....etc, in Surprise.\r\n",
        "\r\n",
        ". We can form the trainset from a file, or from a pandas DataFrame.\r\n",
        "\r\n",
        "**Surprise Libraray**\r\n",
        "https://surprise.readthedocs.io/en/stable/getting_started.html#load-dom-dataframe-py"
      ]
    },
    {
      "cell_type": "code",
      "metadata": {
        "id": "wZwUT4YWec7I"
      },
      "source": [
        ""
      ],
      "execution_count": 78,
      "outputs": []
    }
  ]
}