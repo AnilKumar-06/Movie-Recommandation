{
  "nbformat": 4,
  "nbformat_minor": 0,
  "metadata": {
    "colab": {
      "name": "NetflixRecommandationSystem.ipynb",
      "provenance": [],
      "collapsed_sections": [],
      "include_colab_link": true
    },
    "kernelspec": {
      "display_name": "Python 3",
      "name": "python3"
    }
  },
  "cells": [
    {
      "cell_type": "markdown",
      "metadata": {
        "id": "view-in-github",
        "colab_type": "text"
      },
      "source": [
        "<a href=\"https://colab.research.google.com/github/AnilKumar-06/Movie-Recommandation/blob/main/NetflixRecommandationSystem.ipynb\" target=\"_parent\"><img src=\"https://colab.research.google.com/assets/colab-badge.svg\" alt=\"Open In Colab\"/></a>"
      ]
    },
    {
      "cell_type": "code",
      "metadata": {
        "id": "Zg1vfTD0aQ0X",
        "colab": {
          "base_uri": "https://localhost:8080/"
        },
        "outputId": "9f14d3e5-13ad-4f47-a337-a026a33c27a9"
      },
      "source": [
        "from google.colab import drive\n",
        "drive.mount('/content/drive/') "
      ],
      "execution_count": 94,
      "outputs": [
        {
          "output_type": "stream",
          "text": [
            "Drive already mounted at /content/drive/; to attempt to forcibly remount, call drive.mount(\"/content/drive/\", force_remount=True).\n"
          ],
          "name": "stdout"
        }
      ]
    },
    {
      "cell_type": "markdown",
      "metadata": {
        "id": "LsbugUIYnju8"
      },
      "source": [
        "# **Problem Description**\n",
        "\n",
        "Netflix is all about connecting people to the movie they love. To help cutomes find those movies, they devloped world-class recommandation system **CinematchSM**. Its job is to predict whether someone will enjoy a movie based on how much they liked or disliked other movies. Netflix use those predictions to make personal movie recommandations based on each customer's unique tastes. And while **Cinematch** is doing pretty well, it can always be made better.\n",
        "\n",
        "\n",
        "Now there are a lot of interesting alternative approaches to how Cinematch works that netflix have not tried.Some are descibed in the literature, some are not. we are curious whether any of these can beat Cinematch by making better prediction. Because, if there are much better approachm it could make a big diffrence to our customers and our business \n",
        "\n",
        "Credits: https://www.netflixprize.com/rules.html"
      ]
    },
    {
      "cell_type": "markdown",
      "metadata": {
        "id": "f7e4UFl8uTmS"
      },
      "source": [
        "# **Problem Statment**\n",
        "\n",
        "Netflix provided a lot of anonymous rating data, and a prediction accuracy bar that is 10% better than what Cinematch can do on the same training dataset. (Accuracy is a measurement of how closely predicted ratings of movies match subsequent actual ratings.)"
      ]
    },
    {
      "cell_type": "code",
      "metadata": {
        "id": "2NoLlrGteVDV"
      },
      "source": [
        "from datetime import datetime\n",
        "import pandas as pd\n",
        "import numpy as np\n",
        "import matplotlib\n",
        "#matplotlib.use('nbagg')\n",
        "\n",
        "import matplotlib.pyplot as plt\n",
        "#plt.rcParams.update({'figure.max_open_warning': 0})\n",
        "import seaborn as sns\n",
        "sns.set_style('whitegrid')\n",
        "import os\n",
        "from scipy import sparse\n",
        "from scipy.sparse import csr_matrix\n",
        "from sklearn.decomposition import TruncatedSVD\n",
        "from sklearn.metrics.pairwise import cosine_similarity\n",
        "import random"
      ],
      "execution_count": 3,
      "outputs": []
    },
    {
      "cell_type": "code",
      "metadata": {
        "id": "IwL1j8AphFdu",
        "colab": {
          "base_uri": "https://localhost:8080/"
        },
        "outputId": "1a2dff8d-2cb7-4f21-b85f-2301c7fafcf0"
      },
      "source": [
        "\n",
        "start = datetime.now()\n",
        "if not os.path.isfile('data.csv'):\n",
        "  data = open('data.csv', mode='w')\n",
        "  row = list()\n",
        "  files = ['/content/drive/MyDrive/ML_Projects/NetflixRecoomandation/combined_data_1.txt']#,'/content/drive/MyDrive/ML_Projects/NetflixRecoomandation/combined_data_2.txt']#, '/content/drive/MyDrive/ML_Projects/NetflixRecoomandation/combined_data_3.txt', '/content/drive/MyDrive/ML_Projects/NetflixRecoomandation/combined_data_4.txt']\n",
        "\n",
        "  for file in files:\n",
        "    print('Reading rating from {}...'.format(file))\n",
        "    with open(file) as f:\n",
        "      for line in f:\n",
        "        del row[:] #you don't have to do this\n",
        "        line = line.strip()\n",
        "        if line.endswith(':'):\n",
        "          #all below are rating for this movie, until another\n",
        "          movie_id = line.replace(':', '')\n",
        "        else:\n",
        "          row = [x for x in line.split(',')]\n",
        "          row.insert(0, movie_id)\n",
        "          data.write(','.join(row))\n",
        "          data.write('\\n')\n",
        "\n",
        "    print('Done.\\n')\n",
        "  data.close()\n",
        "  print('Time taken :',datetime.now() - start)"
      ],
      "execution_count": 4,
      "outputs": [
        {
          "output_type": "stream",
          "text": [
            "Reading rating from /content/drive/MyDrive/ML_Projects/NetflixRecoomandation/combined_data_1.txt...\n",
            "Done.\n",
            "\n",
            "Time taken : 0:00:40.929129\n"
          ],
          "name": "stdout"
        }
      ]
    },
    {
      "cell_type": "code",
      "metadata": {
        "id": "Vg6me8_lmK3-",
        "colab": {
          "base_uri": "https://localhost:8080/"
        },
        "outputId": "615248e7-5951-45ff-d1de-f5cd9763aa64"
      },
      "source": [
        "print(\"Creating the dataframe from data.csv file...\")\n",
        "df = pd.read_csv('data.csv', sep=',',names = ['movie', 'user', 'rating', 'date'])\n",
        "df.date = pd.to_datetime(df.date)\n",
        "print('Done.\\n')\n",
        "\n",
        "#arranging the rating according to time\n",
        "print('Sorting the datetime by date...')\n",
        "df.sort_values(by='date', inplace=True)\n",
        "print('Done..')"
      ],
      "execution_count": 5,
      "outputs": [
        {
          "output_type": "stream",
          "text": [
            "Creating the dataframe from data.csv file...\n",
            "Done.\n",
            "\n",
            "Sorting the datetime by date...\n",
            "Done..\n"
          ],
          "name": "stdout"
        }
      ]
    },
    {
      "cell_type": "code",
      "metadata": {
        "id": "nQloFsuwoOM2",
        "colab": {
          "base_uri": "https://localhost:8080/",
          "height": 195
        },
        "outputId": "9c2735e7-8dae-48a2-f22b-f41ba1557890"
      },
      "source": [
        "df.head()"
      ],
      "execution_count": 6,
      "outputs": [
        {
          "output_type": "execute_result",
          "data": {
            "text/html": [
              "<div>\n",
              "<style scoped>\n",
              "    .dataframe tbody tr th:only-of-type {\n",
              "        vertical-align: middle;\n",
              "    }\n",
              "\n",
              "    .dataframe tbody tr th {\n",
              "        vertical-align: top;\n",
              "    }\n",
              "\n",
              "    .dataframe thead th {\n",
              "        text-align: right;\n",
              "    }\n",
              "</style>\n",
              "<table border=\"1\" class=\"dataframe\">\n",
              "  <thead>\n",
              "    <tr style=\"text-align: right;\">\n",
              "      <th></th>\n",
              "      <th>movie</th>\n",
              "      <th>user</th>\n",
              "      <th>rating</th>\n",
              "      <th>date</th>\n",
              "    </tr>\n",
              "  </thead>\n",
              "  <tbody>\n",
              "    <tr>\n",
              "      <th>9056171</th>\n",
              "      <td>1798</td>\n",
              "      <td>510180</td>\n",
              "      <td>5</td>\n",
              "      <td>1999-11-11</td>\n",
              "    </tr>\n",
              "    <tr>\n",
              "      <th>14892677</th>\n",
              "      <td>2866</td>\n",
              "      <td>510180</td>\n",
              "      <td>3</td>\n",
              "      <td>1999-11-11</td>\n",
              "    </tr>\n",
              "    <tr>\n",
              "      <th>19585852</th>\n",
              "      <td>3730</td>\n",
              "      <td>510180</td>\n",
              "      <td>4</td>\n",
              "      <td>1999-11-11</td>\n",
              "    </tr>\n",
              "    <tr>\n",
              "      <th>20393918</th>\n",
              "      <td>3870</td>\n",
              "      <td>510180</td>\n",
              "      <td>2</td>\n",
              "      <td>1999-11-11</td>\n",
              "    </tr>\n",
              "    <tr>\n",
              "      <th>6901473</th>\n",
              "      <td>1367</td>\n",
              "      <td>510180</td>\n",
              "      <td>5</td>\n",
              "      <td>1999-11-11</td>\n",
              "    </tr>\n",
              "  </tbody>\n",
              "</table>\n",
              "</div>"
            ],
            "text/plain": [
              "          movie    user  rating       date\n",
              "9056171    1798  510180       5 1999-11-11\n",
              "14892677   2866  510180       3 1999-11-11\n",
              "19585852   3730  510180       4 1999-11-11\n",
              "20393918   3870  510180       2 1999-11-11\n",
              "6901473    1367  510180       5 1999-11-11"
            ]
          },
          "metadata": {
            "tags": []
          },
          "execution_count": 6
        }
      ]
    },
    {
      "cell_type": "code",
      "metadata": {
        "id": "bI4xKuY3osVl",
        "colab": {
          "base_uri": "https://localhost:8080/"
        },
        "outputId": "14d7313c-ccf5-45df-90d3-d8e61036075d"
      },
      "source": [
        "df.describe()['rating']"
      ],
      "execution_count": 7,
      "outputs": [
        {
          "output_type": "execute_result",
          "data": {
            "text/plain": [
              "count    2.405376e+07\n",
              "mean     3.599634e+00\n",
              "std      1.086118e+00\n",
              "min      1.000000e+00\n",
              "25%      3.000000e+00\n",
              "50%      4.000000e+00\n",
              "75%      4.000000e+00\n",
              "max      5.000000e+00\n",
              "Name: rating, dtype: float64"
            ]
          },
          "metadata": {
            "tags": []
          },
          "execution_count": 7
        }
      ]
    },
    {
      "cell_type": "code",
      "metadata": {
        "id": "xouKb84Ko-DP",
        "colab": {
          "base_uri": "https://localhost:8080/"
        },
        "outputId": "7816333d-7a5c-4220-c43d-33c808fd09cc"
      },
      "source": [
        "# Just to make sure that all NAN containing rows are deleted..\n",
        "\n",
        "print(\"Number of Nan values in our dataframe : \", sum(df.isnull().any()))"
      ],
      "execution_count": 8,
      "outputs": [
        {
          "output_type": "stream",
          "text": [
            "Number of Nan values in our dataframe :  0\n"
          ],
          "name": "stdout"
        }
      ]
    },
    {
      "cell_type": "markdown",
      "metadata": {
        "id": "uQ7zHwCGqLmh"
      },
      "source": [
        "Removing Duplicates"
      ]
    },
    {
      "cell_type": "code",
      "metadata": {
        "id": "xiom6HPRpc34",
        "colab": {
          "base_uri": "https://localhost:8080/"
        },
        "outputId": "3b4b81b2-cf3f-4252-f5bc-74fb1116f7c3"
      },
      "source": [
        "dup_bool = df.duplicated(['movie', 'user', 'rating'])\n",
        "dups = sum(dup_bool) #by considering all columns..(including timestamp)\n",
        "print(\"There are {} duplicate rating entries in the data...\".format(dups))"
      ],
      "execution_count": 9,
      "outputs": [
        {
          "output_type": "stream",
          "text": [
            "There are 0 duplicate rating entries in the data...\n"
          ],
          "name": "stdout"
        }
      ]
    },
    {
      "cell_type": "markdown",
      "metadata": {
        "id": "5vjdTbVaqZdp"
      },
      "source": [
        "Basic Statistics(# of Rating, # of Users, # of Movies)"
      ]
    },
    {
      "cell_type": "code",
      "metadata": {
        "id": "ILlACSq3qHF0",
        "colab": {
          "base_uri": "https://localhost:8080/"
        },
        "outputId": "7e699585-673c-448c-9eea-433517587e7e"
      },
      "source": [
        "print(\"Total Data\")\n",
        "print(\"-\"*70)\n",
        "print(\"\\nTotal no. of rating : \",df.shape[0])\n",
        "print(\"Total No. of Users : \", len(np.unique(df.user)))\n",
        "print(\"Total No. of Movies : \", len(np.unique(df.movie)))"
      ],
      "execution_count": 10,
      "outputs": [
        {
          "output_type": "stream",
          "text": [
            "Total Data\n",
            "----------------------------------------------------------------------\n",
            "\n",
            "Total no. of rating :  24053764\n",
            "Total No. of Users :  470758\n",
            "Total No. of Movies :  4499\n"
          ],
          "name": "stdout"
        }
      ]
    },
    {
      "cell_type": "markdown",
      "metadata": {
        "id": "VG-8RRoor6cP"
      },
      "source": [
        "Spliting data into Train and Test"
      ]
    },
    {
      "cell_type": "code",
      "metadata": {
        "id": "yOfSodyHrcr2"
      },
      "source": [
        "if not os.path.isfile('train.csv'):\n",
        "  #create the dataframe and store it in the disk for offline purpose...\n",
        "  df.iloc[:int(df.shape[0]*0.80)].to_csv(\"train.csv\", index=False)\n",
        "\n",
        "if not os.path.isfile('test.csv'):\n",
        "  #creating the dataframe and store it in the disk for offline purpose...\n",
        "  df.iloc[int(df.shape[0]*0.80):].to_csv(\"test.csv\", index = False)\n",
        "\n",
        "train_df = pd.read_csv(\"train.csv\", parse_dates=['date'])\n",
        "test_df = pd.read_csv(\"test.csv\")"
      ],
      "execution_count": 11,
      "outputs": []
    },
    {
      "cell_type": "markdown",
      "metadata": {
        "id": "yyISxCdqtuR8"
      },
      "source": [
        "Basic statistic in Train data (# of Ratings # of Users and # of Movies)"
      ]
    },
    {
      "cell_type": "code",
      "metadata": {
        "id": "IRDYRZ4Dtqby",
        "colab": {
          "base_uri": "https://localhost:8080/"
        },
        "outputId": "8e00a2ef-7186-42cb-8b97-2337eedd1b9d"
      },
      "source": [
        "# movies = train_df.movie.value_counts()\n",
        "# users = train_df.user.value_counts()\n",
        "print(\"Training data\")\n",
        "print(\"-\"*70)\n",
        "print(\"\\nTotal no of ratings : \",test_df.shape[0])\n",
        "print(\"Total no of Users : \", len(np.unique(test_df.user)))\n",
        "print(\"Total no. of movies : \", len(np.unique(test_df.movie)))"
      ],
      "execution_count": 12,
      "outputs": [
        {
          "output_type": "stream",
          "text": [
            "Training data\n",
            "----------------------------------------------------------------------\n",
            "\n",
            "Total no of ratings :  4810753\n",
            "Total no of Users :  302727\n",
            "Total no. of movies :  4497\n"
          ],
          "name": "stdout"
        }
      ]
    },
    {
      "cell_type": "markdown",
      "metadata": {
        "id": "0K6MQ5lOR7zF"
      },
      "source": [
        "EDA On Train data"
      ]
    },
    {
      "cell_type": "code",
      "metadata": {
        "id": "s28HdaTivb5I"
      },
      "source": [
        "def human(num, units = \"M\"):\n",
        "  units = units.lower()\n",
        "  num = float(num)\n",
        "  if units == 'k':\n",
        "    return str(num/10**3) + 'K'\n",
        "  elif units == 'M':\n",
        "    return str(num/10**6) + 'M'\n",
        "  elif units == 'b':\n",
        "    return str(num/10**9) + 'B'\n"
      ],
      "execution_count": 13,
      "outputs": []
    },
    {
      "cell_type": "markdown",
      "metadata": {
        "id": "4_HwhdAeThab"
      },
      "source": [
        "Distribution of ratings"
      ]
    },
    {
      "cell_type": "code",
      "metadata": {
        "id": "I_9q9v3YTet3",
        "colab": {
          "base_uri": "https://localhost:8080/",
          "height": 350
        },
        "outputId": "c3a4d006-39f2-4a50-e5ed-1ae198c55c29"
      },
      "source": [
        "fig, ax = plt.subplots()\n",
        "plt.title(\"Distribution of ratings over Training dataset\", fontsize=15)\n",
        "sns.countplot(train_df.rating)\n",
        "ax.set_yticklabels([human(item, 'M') for item in ax.get_yticks()])\n",
        "ax.set_ylabel(\"No. of ratings(Millions)\")\n",
        "plt.show()"
      ],
      "execution_count": 14,
      "outputs": [
        {
          "output_type": "stream",
          "text": [
            "/usr/local/lib/python3.7/dist-packages/seaborn/_decorators.py:43: FutureWarning: Pass the following variable as a keyword arg: x. From version 0.12, the only valid positional argument will be `data`, and passing other arguments without an explicit keyword will result in an error or misinterpretation.\n",
            "  FutureWarning\n"
          ],
          "name": "stderr"
        },
        {
          "output_type": "display_data",
          "data": {
            "image/png": "[encoded data removed]",
            "text/plain": [
              "<Figure size 432x288 with 1 Axes>"
            ]
          },
          "metadata": {
            "tags": []
          }
        }
      ]
    },
    {
      "cell_type": "code",
      "metadata": {
        "id": "du5hHRsjUf0G",
        "colab": {
          "base_uri": "https://localhost:8080/",
          "height": 639
        },
        "outputId": "b78e5614-4c40-478b-9789-338644a3be8d"
      },
      "source": [
        "# It is used to skip the warnings 'SettingWithCopyWarning'...\n",
        "pd.options.mode.chained_assignment = None        #default = 'warn'\n",
        "train_df['day_of_week'] = train_df.date.dt.day_name()\n",
        "#df['day_of_week'] = df['mydate'].dt.day_name() \n",
        "train_df.head(20)\n",
        "\n"
      ],
      "execution_count": 15,
      "outputs": [
        {
          "output_type": "execute_result",
          "data": {
            "text/html": [
              "<div>\n",
              "<style scoped>\n",
              "    .dataframe tbody tr th:only-of-type {\n",
              "        vertical-align: middle;\n",
              "    }\n",
              "\n",
              "    .dataframe tbody tr th {\n",
              "        vertical-align: top;\n",
              "    }\n",
              "\n",
              "    .dataframe thead th {\n",
              "        text-align: right;\n",
              "    }\n",
              "</style>\n",
              "<table border=\"1\" class=\"dataframe\">\n",
              "  <thead>\n",
              "    <tr style=\"text-align: right;\">\n",
              "      <th></th>\n",
              "      <th>movie</th>\n",
              "      <th>user</th>\n",
              "      <th>rating</th>\n",
              "      <th>date</th>\n",
              "      <th>day_of_week</th>\n",
              "    </tr>\n",
              "  </thead>\n",
              "  <tbody>\n",
              "    <tr>\n",
              "      <th>0</th>\n",
              "      <td>1798</td>\n",
              "      <td>510180</td>\n",
              "      <td>5</td>\n",
              "      <td>1999-11-11</td>\n",
              "      <td>Thursday</td>\n",
              "    </tr>\n",
              "    <tr>\n",
              "      <th>1</th>\n",
              "      <td>2866</td>\n",
              "      <td>510180</td>\n",
              "      <td>3</td>\n",
              "      <td>1999-11-11</td>\n",
              "      <td>Thursday</td>\n",
              "    </tr>\n",
              "    <tr>\n",
              "      <th>2</th>\n",
              "      <td>3730</td>\n",
              "      <td>510180</td>\n",
              "      <td>4</td>\n",
              "      <td>1999-11-11</td>\n",
              "      <td>Thursday</td>\n",
              "    </tr>\n",
              "    <tr>\n",
              "      <th>3</th>\n",
              "      <td>3870</td>\n",
              "      <td>510180</td>\n",
              "      <td>2</td>\n",
              "      <td>1999-11-11</td>\n",
              "      <td>Thursday</td>\n",
              "    </tr>\n",
              "    <tr>\n",
              "      <th>4</th>\n",
              "      <td>1367</td>\n",
              "      <td>510180</td>\n",
              "      <td>5</td>\n",
              "      <td>1999-11-11</td>\n",
              "      <td>Thursday</td>\n",
              "    </tr>\n",
              "    <tr>\n",
              "      <th>5</th>\n",
              "      <td>2948</td>\n",
              "      <td>510180</td>\n",
              "      <td>3</td>\n",
              "      <td>1999-12-06</td>\n",
              "      <td>Monday</td>\n",
              "    </tr>\n",
              "    <tr>\n",
              "      <th>6</th>\n",
              "      <td>3421</td>\n",
              "      <td>510180</td>\n",
              "      <td>3</td>\n",
              "      <td>1999-12-06</td>\n",
              "      <td>Monday</td>\n",
              "    </tr>\n",
              "    <tr>\n",
              "      <th>7</th>\n",
              "      <td>2478</td>\n",
              "      <td>510180</td>\n",
              "      <td>3</td>\n",
              "      <td>1999-12-06</td>\n",
              "      <td>Monday</td>\n",
              "    </tr>\n",
              "    <tr>\n",
              "      <th>8</th>\n",
              "      <td>1615</td>\n",
              "      <td>122223</td>\n",
              "      <td>3</td>\n",
              "      <td>1999-12-08</td>\n",
              "      <td>Wednesday</td>\n",
              "    </tr>\n",
              "    <tr>\n",
              "      <th>9</th>\n",
              "      <td>2780</td>\n",
              "      <td>122223</td>\n",
              "      <td>3</td>\n",
              "      <td>1999-12-08</td>\n",
              "      <td>Wednesday</td>\n",
              "    </tr>\n",
              "    <tr>\n",
              "      <th>10</th>\n",
              "      <td>1367</td>\n",
              "      <td>122223</td>\n",
              "      <td>3</td>\n",
              "      <td>1999-12-08</td>\n",
              "      <td>Wednesday</td>\n",
              "    </tr>\n",
              "    <tr>\n",
              "      <th>11</th>\n",
              "      <td>607</td>\n",
              "      <td>122223</td>\n",
              "      <td>4</td>\n",
              "      <td>1999-12-08</td>\n",
              "      <td>Wednesday</td>\n",
              "    </tr>\n",
              "    <tr>\n",
              "      <th>12</th>\n",
              "      <td>1202</td>\n",
              "      <td>122223</td>\n",
              "      <td>4</td>\n",
              "      <td>1999-12-08</td>\n",
              "      <td>Wednesday</td>\n",
              "    </tr>\n",
              "    <tr>\n",
              "      <th>13</th>\n",
              "      <td>3893</td>\n",
              "      <td>122223</td>\n",
              "      <td>3</td>\n",
              "      <td>1999-12-08</td>\n",
              "      <td>Wednesday</td>\n",
              "    </tr>\n",
              "    <tr>\n",
              "      <th>14</th>\n",
              "      <td>4171</td>\n",
              "      <td>122223</td>\n",
              "      <td>3</td>\n",
              "      <td>1999-12-08</td>\n",
              "      <td>Wednesday</td>\n",
              "    </tr>\n",
              "    <tr>\n",
              "      <th>15</th>\n",
              "      <td>3870</td>\n",
              "      <td>204439</td>\n",
              "      <td>5</td>\n",
              "      <td>1999-12-09</td>\n",
              "      <td>Thursday</td>\n",
              "    </tr>\n",
              "    <tr>\n",
              "      <th>16</th>\n",
              "      <td>4227</td>\n",
              "      <td>1972971</td>\n",
              "      <td>4</td>\n",
              "      <td>1999-12-09</td>\n",
              "      <td>Thursday</td>\n",
              "    </tr>\n",
              "    <tr>\n",
              "      <th>17</th>\n",
              "      <td>1770</td>\n",
              "      <td>204439</td>\n",
              "      <td>4</td>\n",
              "      <td>1999-12-09</td>\n",
              "      <td>Thursday</td>\n",
              "    </tr>\n",
              "    <tr>\n",
              "      <th>18</th>\n",
              "      <td>1367</td>\n",
              "      <td>204439</td>\n",
              "      <td>4</td>\n",
              "      <td>1999-12-09</td>\n",
              "      <td>Thursday</td>\n",
              "    </tr>\n",
              "    <tr>\n",
              "      <th>19</th>\n",
              "      <td>1309</td>\n",
              "      <td>204439</td>\n",
              "      <td>3</td>\n",
              "      <td>1999-12-09</td>\n",
              "      <td>Thursday</td>\n",
              "    </tr>\n",
              "  </tbody>\n",
              "</table>\n",
              "</div>"
            ],
            "text/plain": [
              "    movie     user  rating       date day_of_week\n",
              "0    1798   510180       5 1999-11-11    Thursday\n",
              "1    2866   510180       3 1999-11-11    Thursday\n",
              "2    3730   510180       4 1999-11-11    Thursday\n",
              "3    3870   510180       2 1999-11-11    Thursday\n",
              "4    1367   510180       5 1999-11-11    Thursday\n",
              "5    2948   510180       3 1999-12-06      Monday\n",
              "6    3421   510180       3 1999-12-06      Monday\n",
              "7    2478   510180       3 1999-12-06      Monday\n",
              "8    1615   122223       3 1999-12-08   Wednesday\n",
              "9    2780   122223       3 1999-12-08   Wednesday\n",
              "10   1367   122223       3 1999-12-08   Wednesday\n",
              "11    607   122223       4 1999-12-08   Wednesday\n",
              "12   1202   122223       4 1999-12-08   Wednesday\n",
              "13   3893   122223       3 1999-12-08   Wednesday\n",
              "14   4171   122223       3 1999-12-08   Wednesday\n",
              "15   3870   204439       5 1999-12-09    Thursday\n",
              "16   4227  1972971       4 1999-12-09    Thursday\n",
              "17   1770   204439       4 1999-12-09    Thursday\n",
              "18   1367   204439       4 1999-12-09    Thursday\n",
              "19   1309   204439       3 1999-12-09    Thursday"
            ]
          },
          "metadata": {
            "tags": []
          },
          "execution_count": 15
        }
      ]
    },
    {
      "cell_type": "code",
      "metadata": {
        "id": "rC6NhB92VTVh",
        "colab": {
          "base_uri": "https://localhost:8080/"
        },
        "outputId": "61b30261-01a7-4bb5-922b-a8a23d56afb0"
      },
      "source": [
        "no_of_rated_movies_per_user = train_df.groupby(by='user')['rating'].count()\n",
        "no_of_rated_movies_per_user.head()"
      ],
      "execution_count": 16,
      "outputs": [
        {
          "output_type": "execute_result",
          "data": {
            "text/plain": [
              "user\n",
              "6     105\n",
              "7     190\n",
              "10     38\n",
              "25      2\n",
              "33      8\n",
              "Name: rating, dtype: int64"
            ]
          },
          "metadata": {
            "tags": []
          },
          "execution_count": 16
        }
      ]
    },
    {
      "cell_type": "code",
      "metadata": {
        "id": "dOpwanWaa87_",
        "colab": {
          "base_uri": "https://localhost:8080/",
          "height": 295
        },
        "outputId": "6b9b7357-7ae8-4f12-ac4a-bc9b3ade3c7d"
      },
      "source": [
        "fig = plt.figure(figsize=plt.figaspect(.5))\n",
        "\n",
        "ax1 = plt.subplot(121)\n",
        "sns.kdeplot(no_of_rated_movies_per_user, shade=True, ax=ax1)\n",
        "plt.xlabel(\"No. of ratings by user\")\n",
        "plt.title(\"PDF\")\n",
        "\n",
        "ax2 = plt.subplot(122)\n",
        "sns.kdeplot(no_of_rated_movies_per_user, shade=True, cumulative=True, ax=ax2)\n",
        "plt.xlabel(\"No. of ratings by user\")\n",
        "plt.title('CDF')\n",
        "plt.show()"
      ],
      "execution_count": 17,
      "outputs": [
        {
          "output_type": "display_data",
          "data": {
            "image/png": "[encoded data removed]",
            "text/plain": [
              "<Figure size 576x288 with 2 Axes>"
            ]
          },
          "metadata": {
            "tags": []
          }
        }
      ]
    },
    {
      "cell_type": "code",
      "metadata": {
        "id": "SM79yhjUMXXi",
        "colab": {
          "base_uri": "https://localhost:8080/"
        },
        "outputId": "72c1ae64-ba22-4df8-b2fd-bff915770000"
      },
      "source": [
        "no_of_rated_movies_per_user.describe()"
      ],
      "execution_count": 18,
      "outputs": [
        {
          "output_type": "execute_result",
          "data": {
            "text/plain": [
              "count    389223.000000\n",
              "mean         49.439553\n",
              "std          71.463434\n",
              "min           1.000000\n",
              "25%           8.000000\n",
              "50%          23.000000\n",
              "75%          62.000000\n",
              "max        4326.000000\n",
              "Name: rating, dtype: float64"
            ]
          },
          "metadata": {
            "tags": []
          },
          "execution_count": 18
        }
      ]
    },
    {
      "cell_type": "code",
      "metadata": {
        "id": "nsQF5WOkP2RX"
      },
      "source": [
        "quantiles = no_of_rated_movies_per_user.quantile(np.arange(0, 1.01, 0.01))"
      ],
      "execution_count": 19,
      "outputs": []
    },
    {
      "cell_type": "code",
      "metadata": {
        "id": "0YrOnEVKZSz4",
        "colab": {
          "base_uri": "https://localhost:8080/",
          "height": 443
        },
        "outputId": "f33057c9-0a2b-4adf-9db7-ab1fe3c02c16"
      },
      "source": [
        "fig = plt.figure(figsize = (10, 6))\n",
        "axes = fig.add_axes([0.1, 0.1, 1, 1])\n",
        "axes.set_title(\"Quantile value of Rating per User\", fontsize = 20)\n",
        "axes.set_xlabel(\"Quantiles\", fontsize = 20)\n",
        "axes.set_ylabel(\"Ratings Per User\", fontsize = 20)\n",
        "axes.plot(quantiles)\n",
        "\n",
        "plt.scatter(x = quantiles.index[::5], y=quantiles.values[::5], c='blue', s=70, label=\"quantiles with 0.05 intervals\")\n",
        "\n",
        "plt.scatter(x = quantiles.index[::5], y=quantiles.values[::5], c=\"red\", s=70, label = \"quantiles with 0.25 intervals\")\n",
        "plt.legend(loc='upper left', fontsize = 20)\n",
        "\n",
        "for x, y in zip(quantiles.index[::25], quantiles.values[::25]):plt.annotate(s='({},{})'.format(x,y), xy = (x,y),fontweight\n",
        "                                                                            ='bold', fontsize = 16, xytext=(x-0.05, y+180))\n",
        "\n",
        "axes.tick_params(labelsize = 15)"
      ],
      "execution_count": 20,
      "outputs": [
        {
          "output_type": "display_data",
          "data": {
            "image/png": "[encoded data removed]",
            "text/plain": [
              "<Figure size 720x432 with 1 Axes>"
            ]
          },
          "metadata": {
            "tags": []
          }
        }
      ]
    },
    {
      "cell_type": "code",
      "metadata": {
        "id": "4GBl_5H2cxVs",
        "colab": {
          "base_uri": "https://localhost:8080/"
        },
        "outputId": "0bdf03d1-ee23-415e-cb42-58fa24cdc7e5"
      },
      "source": [
        "quantiles[::5]"
      ],
      "execution_count": 21,
      "outputs": [
        {
          "output_type": "execute_result",
          "data": {
            "text/plain": [
              "0.00       1.0\n",
              "0.05       2.0\n",
              "0.10       3.0\n",
              "0.15       5.0\n",
              "0.20       6.0\n",
              "0.25       8.0\n",
              "0.30      10.0\n",
              "0.35      13.0\n",
              "0.40      16.0\n",
              "0.45      19.0\n",
              "0.50      23.0\n",
              "0.55      28.0\n",
              "0.60      35.0\n",
              "0.65      42.0\n",
              "0.70      51.0\n",
              "0.75      62.0\n",
              "0.80      77.0\n",
              "0.85      97.0\n",
              "0.90     128.0\n",
              "0.95     184.0\n",
              "1.00    4326.0\n",
              "Name: rating, dtype: float64"
            ]
          },
          "metadata": {
            "tags": []
          },
          "execution_count": 21
        }
      ]
    },
    {
      "cell_type": "code",
      "metadata": {
        "id": "pn1EV5UDd4Ye",
        "colab": {
          "base_uri": "https://localhost:8080/"
        },
        "outputId": "fc418c2e-ef0f-4fab-adfd-d95cee710b7b"
      },
      "source": [
        "print(\"Total number of ratings below 75th percentile = \"+str(sum(no_of_rated_movies_per_user.values<=133)))\n",
        "print(\"Total number of ratings above 75th percentile = \"+str(sum(no_of_rated_movies_per_user.values>133)))"
      ],
      "execution_count": 22,
      "outputs": [
        {
          "output_type": "stream",
          "text": [
            "Total number of ratings below 75th percentile = 353210\n",
            "Total number of ratings above 75th percentile = 36013\n"
          ],
          "name": "stdout"
        }
      ]
    },
    {
      "cell_type": "code",
      "metadata": {
        "id": "VANmBTsqf50p",
        "colab": {
          "base_uri": "https://localhost:8080/",
          "height": 387
        },
        "outputId": "c6dc944b-4f48-4bbf-f2e3-fa7ad768d8d5"
      },
      "source": [
        "fig = plt.figure(figsize = (12, 6))\n",
        "axes = fig.add_axes([0.1,0.1,1,1])\n",
        "plt.title(\"Number of Ratings Per Movie\", fontsize = 20)\n",
        "plt.xlabel(\"Movie\", fontsize=20)\n",
        "plt.ylabel(\"Count Of Ratings\", fontsize=20)\n",
        "plt.plot(no_of_rated_movies_per_user.values)\n",
        "plt.tick_params(labelsize = 15)\n",
        "axes.set_xticklabels([])\n",
        "plt.show()"
      ],
      "execution_count": 23,
      "outputs": [
        {
          "output_type": "display_data",
          "data": {
            "image/png": "[encoded data removed]",
            "text/plain": [
              "<Figure size 864x432 with 1 Axes>"
            ]
          },
          "metadata": {
            "tags": []
          }
        }
      ]
    },
    {
      "cell_type": "markdown",
      "metadata": {
        "id": "QzeYUTdFiZS8"
      },
      "source": [
        "**It is skewed nicely**\n",
        "\n",
        "It clearly shows that there are some movies which are very popular and were rated by 90% users as comapared to other movies"
      ]
    },
    {
      "cell_type": "markdown",
      "metadata": {
        "id": "UP9KWgqJwXnm"
      },
      "source": [
        "Number of ratings on each day of the week"
      ]
    },
    {
      "cell_type": "code",
      "metadata": {
        "id": "mKhEnireit52",
        "colab": {
          "base_uri": "https://localhost:8080/",
          "height": 281
        },
        "outputId": "a4eed143-6250-470d-c668-28219b5c60d3"
      },
      "source": [
        "fig, ax = plt.subplots()\n",
        "sns.countplot(x='day_of_week', data = train_df, ax = ax)\n",
        "plt.title(\"Number of ratings on each day\")\n",
        "plt.ylabel('Total number of ratings')\n",
        "plt.xlabel(\"\")\n",
        "ax.set_yticklabels([human(item, 'M') for item in ax.get_yticks()])\n",
        "plt.show()"
      ],
      "execution_count": 24,
      "outputs": [
        {
          "output_type": "display_data",
          "data": {
            "image/png": "[encoded data removed]",
            "text/plain": [
              "<Figure size 432x288 with 1 Axes>"
            ]
          },
          "metadata": {
            "tags": []
          }
        }
      ]
    },
    {
      "cell_type": "code",
      "metadata": {
        "id": "nEecdaWexYgm",
        "colab": {
          "base_uri": "https://localhost:8080/",
          "height": 297
        },
        "outputId": "26657370-58ac-4f13-faad-3c95893f15de"
      },
      "source": [
        "start = datetime.now()\n",
        "fig = plt.figure(figsize=plt.figaspect(.45))\n",
        "sns.boxplot(y='rating', x='day_of_week', data=train_df)\n",
        "plt.show()\n",
        "print(datetime.now()-start)"
      ],
      "execution_count": 25,
      "outputs": [
        {
          "output_type": "display_data",
          "data": {
            "image/png": "[encoded data removed]",
            "text/plain": [
              "<Figure size 640x288 with 1 Axes>"
            ]
          },
          "metadata": {
            "tags": []
          }
        },
        {
          "output_type": "stream",
          "text": [
            "0:00:10.572007\n"
          ],
          "name": "stdout"
        }
      ]
    },
    {
      "cell_type": "code",
      "metadata": {
        "id": "eU3-GhfrJAXr",
        "colab": {
          "base_uri": "https://localhost:8080/"
        },
        "outputId": "2325ddfc-314f-473d-9026-2f2c7f677c8b"
      },
      "source": [
        "avg_week_df = train_df.groupby(by=['day_of_week'])['rating'].mean()\n",
        "print('Average Ratings')\n",
        "print(\"_\"*30)\n",
        "print(avg_week_df)\n",
        "print(\"\\n\")"
      ],
      "execution_count": 26,
      "outputs": [
        {
          "output_type": "stream",
          "text": [
            "Average Ratings\n",
            "______________________________\n",
            "day_of_week\n",
            "Friday       3.576426\n",
            "Monday       3.573257\n",
            "Saturday     3.585673\n",
            "Sunday       3.588731\n",
            "Thursday     3.577798\n",
            "Tuesday      3.570347\n",
            "Wednesday    3.578739\n",
            "Name: rating, dtype: float64\n",
            "\n",
            "\n"
          ],
          "name": "stdout"
        }
      ]
    },
    {
      "cell_type": "markdown",
      "metadata": {
        "id": "8YwkO9lfip91"
      },
      "source": [
        "Creating sparse matrix from data frame"
      ]
    },
    {
      "cell_type": "code",
      "metadata": {
        "id": "wQuxkzZFJtrj",
        "colab": {
          "base_uri": "https://localhost:8080/"
        },
        "outputId": "1f900e9e-b1a2-4e8a-eadb-01a52a1fed0b"
      },
      "source": [
        "start = datetime.now()\n",
        "if os.path.isfile('train_sparse_matrix.npz'):\n",
        "  print(\"It is present in your pwd, getting it from disk......\")\n",
        "  #just get it from the disk instead of computing it\n",
        "  train_sparse_matrix = sparse.load_npz('train_sparse_matrix.npz')\n",
        "  print(\"Done...\")\n",
        "\n",
        "else:\n",
        "  print(\"We are creating sparse matrix from the dataframe.....\")\n",
        "  #create sparse matrix and store it after usages.\n",
        "  #It should be in such a way that, Matrix[row, col] = data\n",
        "  train_sparse_matrix = sparse.csr_matrix((train_df.rating.values,(train_df.user.values, train_df.movie.values)),)\n",
        "  print(\"Done. It\\'s shape is : (user, movie\", train_sparse_matrix.shape)\n",
        "  print(\"Saving it into disk for further usages...\")\n",
        "  sparse.save_npz(\"train_sparse_matrix.npz\", train_sparse_matrix)\n",
        "  print(\"Done.....\\n\")\n",
        "  print(datetime.now()-start)"
      ],
      "execution_count": 27,
      "outputs": [
        {
          "output_type": "stream",
          "text": [
            "We are creating sparse matrix from the dataframe.....\n",
            "Done. It's shape is : (user, movie (2649430, 4500)\n",
            "Saving it into disk for further usages...\n",
            "Done.....\n",
            "\n",
            "0:00:14.863610\n"
          ],
          "name": "stdout"
        }
      ]
    },
    {
      "cell_type": "markdown",
      "metadata": {
        "id": "6t--_H9Ki1xN"
      },
      "source": [
        "The sparsity of train sparse matrix"
      ]
    },
    {
      "cell_type": "code",
      "metadata": {
        "id": "R3X_T5N5heA5",
        "colab": {
          "base_uri": "https://localhost:8080/"
        },
        "outputId": "4fb33482-541a-4f3e-b596-5ebe1991cb54"
      },
      "source": [
        "us, mv = train_sparse_matrix.shape\n",
        "elem = train_sparse_matrix.count_nonzero()\n",
        "print(\"Sparsity of train matrix : {} % \".format((1-elem/(us*mv))*100))"
      ],
      "execution_count": 28,
      "outputs": [
        {
          "output_type": "stream",
          "text": [
            "Sparsity of train matrix : 99.83859831485766 % \n"
          ],
          "name": "stdout"
        }
      ]
    },
    {
      "cell_type": "markdown",
      "metadata": {
        "id": "0ZpgJzqpj7Wb"
      },
      "source": [
        "Creating sparse matrix from test data frame"
      ]
    },
    {
      "cell_type": "code",
      "metadata": {
        "id": "7VQq4glRjj_I",
        "colab": {
          "base_uri": "https://localhost:8080/"
        },
        "outputId": "e1a3d8f5-ab4b-4606-9e88-80b199e24ffb"
      },
      "source": [
        "start = datetime.now()\n",
        "if os.path.isfile('test_sparse_matrix.npz'):\n",
        "  print(\"It is present in your pwd, getting it from disk....\")\n",
        "  #just get it from the disk instead of computing it.\n",
        "  test_sparse_matrix = sparse.load_npz(\"test_sparse_matrix.npz\")\n",
        "  print(\"Done....\")\n",
        "else:\n",
        "  print(\"We are creating sparse matrix from the dataframe....\")\n",
        "  #create sparse_matrix and store it for after usages\n",
        "  #It should be in such a way that, matrix[row, col] = data\n",
        "  test_sparse_matrix = sparse.csr_matrix((test_df.rating.values,(test_df.user.values, test_df.movie.values)),)\n",
        "  print(\"Done. It\\'s shape is : (user, movie):\", test_sparse_matrix.shape)\n",
        "  print(\"Saving it into disk for further usages....\")\n",
        "  #save it into disk\n",
        "  sparse.save_npz(\"test_sparse_matrix.npz\", test_sparse_matrix)\n",
        "  print('Done...\\n')\n",
        "print(datetime.now()-start)"
      ],
      "execution_count": 29,
      "outputs": [
        {
          "output_type": "stream",
          "text": [
            "We are creating sparse matrix from the dataframe....\n",
            "Done. It's shape is : (user, movie): (2649430, 4500)\n",
            "Saving it into disk for further usages....\n",
            "Done...\n",
            "\n",
            "0:00:04.069918\n"
          ],
          "name": "stdout"
        }
      ]
    },
    {
      "cell_type": "markdown",
      "metadata": {
        "id": "cV60D9uvo1Kd"
      },
      "source": [
        "The sparsity of test data matrix"
      ]
    },
    {
      "cell_type": "code",
      "metadata": {
        "id": "rgeW9BHDoivn",
        "colab": {
          "base_uri": "https://localhost:8080/"
        },
        "outputId": "bd3db6ce-80f2-4be8-f192-41beb0e6b473"
      },
      "source": [
        "us, mv = test_sparse_matrix.shape\n",
        "elem = test_sparse_matrix.count_nonzero()\n",
        "print(\"sparsity of Test matrix : {} % \".format((1-elem/(us*mv))*100))"
      ],
      "execution_count": 30,
      "outputs": [
        {
          "output_type": "stream",
          "text": [
            "sparsity of Test matrix : 99.95964957661752 % \n"
          ],
          "name": "stdout"
        }
      ]
    },
    {
      "cell_type": "markdown",
      "metadata": {
        "id": "Bwfnx3dxpaM8"
      },
      "source": [
        "Finding Global Average of all movies ratings, Averages rating per user, and average rating per movie"
      ]
    },
    {
      "cell_type": "code",
      "metadata": {
        "id": "3g1TuWyapVgU"
      },
      "source": [
        "#get the averages in dictionary(key:user_id/movie_id, value:avg rating)\n",
        "def get_average_rating(sparse_matrix, of_users):\n",
        "  #average rating of user/axes\n",
        "  ax = 1 if of_users else 0 #1-user axes, 0-Movie axes\n",
        "  #\".AI\" is for converting column_matrix to 1-D numpy array\n",
        "  sum_of_ratings = sparse_matrix.sum(axis=ax).A1\n",
        "  #Boolean matrix of ratings(whether a user rated movie or not)\n",
        "  is_rated = sparse_matrix != 0\n",
        "  #no. of ratings that each user or movie\n",
        "  no_of_ratings = is_rated.sum(axis=ax).A1\n",
        "  #max_user and max_movie ids in sparse matrix\n",
        "  u, m = sparse_matrix.shape\n",
        "  #create a dictionary of users and their averages ratings..\n",
        "  averages_ratings = { i :sum_of_ratings[i]/no_of_ratings[i] for i in range(u if of_users else m) if no_of_ratings[i] != 0}\n",
        "  #return that dictionary of average rating\n",
        "  return averages_ratings\n"
      ],
      "execution_count": 31,
      "outputs": []
    },
    {
      "cell_type": "markdown",
      "metadata": {
        "id": "CjX6TbAlO6QO"
      },
      "source": [
        "Finding global average of all movie ratings"
      ]
    },
    {
      "cell_type": "code",
      "metadata": {
        "id": "X9AMvOqLL1YB",
        "colab": {
          "base_uri": "https://localhost:8080/"
        },
        "outputId": "0fecfe5c-03a1-4a85-9e8d-c50da50c3c95"
      },
      "source": [
        "train_averages = dict()\n",
        "#get the global avetrage of ratings in our train set.\n",
        "train_global_average = train_sparse_matrix.sum()/train_sparse_matrix.count_nonzero()\n",
        "train_averages['global'] = train_global_average\n",
        "train_averages"
      ],
      "execution_count": 32,
      "outputs": [
        {
          "output_type": "execute_result",
          "data": {
            "text/plain": [
              "{'global': 3.577584765710522}"
            ]
          },
          "metadata": {
            "tags": []
          },
          "execution_count": 32
        }
      ]
    },
    {
      "cell_type": "markdown",
      "metadata": {
        "id": "ETZKWUrePDmE"
      },
      "source": [
        "Finding average rating per users"
      ]
    },
    {
      "cell_type": "code",
      "metadata": {
        "id": "h6KpeLPENzmo",
        "colab": {
          "base_uri": "https://localhost:8080/"
        },
        "outputId": "4c02eac1-2047-4f87-b752-97f5f732c42a"
      },
      "source": [
        "train_averages['user'] = get_average_rating(train_sparse_matrix, of_users=True)\n",
        "print('\\nAverage rating of user 10 : ',train_averages['user'][10])\n"
      ],
      "execution_count": 33,
      "outputs": [
        {
          "output_type": "stream",
          "text": [
            "\n",
            "Average rating of user 10 :  3.263157894736842\n"
          ],
          "name": "stdout"
        }
      ]
    },
    {
      "cell_type": "markdown",
      "metadata": {
        "id": "TVnDULylPLEM"
      },
      "source": [
        "Finding average rating per movie"
      ]
    },
    {
      "cell_type": "code",
      "metadata": {
        "id": "pTT7AXzEO1Ox",
        "colab": {
          "base_uri": "https://localhost:8080/"
        },
        "outputId": "b7e74e34-279e-495a-90b5-317f2a2872b1"
      },
      "source": [
        "train_averages['movie'] = get_average_rating(train_sparse_matrix, of_users=False)\n",
        "print('\\nAverages rating of movie 15 :',train_averages['movie'][15])"
      ],
      "execution_count": 34,
      "outputs": [
        {
          "output_type": "stream",
          "text": [
            "\n",
            "Averages rating of movie 15 : 3.312741312741313\n"
          ],
          "name": "stdout"
        }
      ]
    },
    {
      "cell_type": "markdown",
      "metadata": {
        "id": "bj8KNgdhQQpP"
      },
      "source": [
        "PDF's & CDF's of Avg ratings of users and movies(In Train data)"
      ]
    },
    {
      "cell_type": "code",
      "metadata": {
        "id": "IZcA4AwCQPQ0",
        "colab": {
          "base_uri": "https://localhost:8080/",
          "height": 432
        },
        "outputId": "6b5452c4-a72d-40b2-a84f-fc2e8f5b750c"
      },
      "source": [
        "start = datetime.now()\n",
        "#draw pdfs for averages rating per user and average\n",
        "fig,(ax1, ax2) = plt.subplots(nrows=1, ncols=2, figsize=plt.figaspect(.5))\n",
        "fig.suptitle(\"Avg Ratings per user and per movie\",fontsize=15)\n",
        "ax1.set_title('User-Avg_Ratings')\n",
        "#get the list average user ratings from the averages dictionary..\n",
        "user_averages = [rat for rat in train_averages['user'].values()]\n",
        "sns.distplot(user_averages, ax=ax1, hist=False,kde_kws=dict(cumulative=True),label='Cdf')\n",
        "sns.distplot(user_averages, ax=ax1,hist=False,label='pdf')\n",
        "\n",
        "ax2.set_title('Movies-Avg-Rating')\n",
        "#get the list of movie_average_ratings from the dictionary..\n",
        "movie_averages = [rat for rat in train_averages['movie'].values()]\n",
        "sns.distplot(movie_averages, ax=ax2, hist=False, kde_kws=dict(cumulative=True),label='pdf')\n",
        "plt.show()\n",
        "print(datetime.now()-start)"
      ],
      "execution_count": 35,
      "outputs": [
        {
          "output_type": "stream",
          "text": [
            "/usr/local/lib/python3.7/dist-packages/seaborn/distributions.py:2557: FutureWarning: `distplot` is a deprecated function and will be removed in a future version. Please adapt your code to use either `displot` (a figure-level function with similar flexibility) or `kdeplot` (an axes-level function for kernel density plots).\n",
            "  warnings.warn(msg, FutureWarning)\n",
            "/usr/local/lib/python3.7/dist-packages/seaborn/distributions.py:2557: FutureWarning: `distplot` is a deprecated function and will be removed in a future version. Please adapt your code to use either `displot` (a figure-level function with similar flexibility) or `kdeplot` (an axes-level function for kernel density plots).\n",
            "  warnings.warn(msg, FutureWarning)\n",
            "/usr/local/lib/python3.7/dist-packages/seaborn/distributions.py:2557: FutureWarning: `distplot` is a deprecated function and will be removed in a future version. Please adapt your code to use either `displot` (a figure-level function with similar flexibility) or `kdeplot` (an axes-level function for kernel density plots).\n",
            "  warnings.warn(msg, FutureWarning)\n"
          ],
          "name": "stderr"
        },
        {
          "output_type": "display_data",
          "data": {
            "image/png": "[encoded data removed]",
            "text/plain": [
              "<Figure size 576x288 with 2 Axes>"
            ]
          },
          "metadata": {
            "tags": []
          }
        },
        {
          "output_type": "stream",
          "text": [
            "0:00:08.079137\n"
          ],
          "name": "stdout"
        }
      ]
    },
    {
      "cell_type": "markdown",
      "metadata": {
        "id": "xBHOzjnH8ArT"
      },
      "source": [
        "Cold start Problem with users"
      ]
    },
    {
      "cell_type": "code",
      "metadata": {
        "id": "v1pbmc_Q7Zqe",
        "colab": {
          "base_uri": "https://localhost:8080/"
        },
        "outputId": "67844fb1-5429-42f2-dd6f-516fcbbd11cc"
      },
      "source": [
        "total_users = len(np.unique(df.user))\n",
        "users_train = len(train_averages['user'])\n",
        "new_users = total_users-users_train\n",
        "\n",
        "print('\\nTotal number of users : ',total_users)\n",
        "print('\\nNumber of Users in train data : ',users_train)\n",
        "print(\"\\nNumber of users that did not appear in train data : {}({} %)\".format(new_users,np.round((new_users/total_users)*100, 2)))"
      ],
      "execution_count": 36,
      "outputs": [
        {
          "output_type": "stream",
          "text": [
            "\n",
            "Total number of users :  470758\n",
            "\n",
            "Number of Users in train data :  389223\n",
            "\n",
            "Number of users that did not appear in train data : 81535(17.32 %)\n"
          ],
          "name": "stdout"
        }
      ]
    },
    {
      "cell_type": "markdown",
      "metadata": {
        "id": "wILeks5Q-xJd"
      },
      "source": [
        "Cold start problem with movies"
      ]
    },
    {
      "cell_type": "code",
      "metadata": {
        "id": "X_3auDk1CrNk",
        "colab": {
          "base_uri": "https://localhost:8080/"
        },
        "outputId": "4a300943-f42a-4e32-ace2-d40464cbf464"
      },
      "source": [
        "total_movies = len(np.unique(df.movie))\n",
        "movies_train = len(train_averages['movie'])\n",
        "new_movies = total_movies-movies_train\n",
        "\n",
        "print('\\nTotal number of movies : ',total_movies)\n",
        "print('\\nNumber of User in train data : ',movies_train)\n",
        "print(\"\\n No of movies that did not appear in train data : {}({} %)\".format(new_movies, np.round((new_movies/total_movies)*100,2)))"
      ],
      "execution_count": 37,
      "outputs": [
        {
          "output_type": "stream",
          "text": [
            "\n",
            "Total number of movies :  4499\n",
            "\n",
            "Number of User in train data :  4403\n",
            "\n",
            " No of movies that did not appear in train data : 96(2.13 %)\n"
          ],
          "name": "stdout"
        }
      ]
    },
    {
      "cell_type": "markdown",
      "metadata": {
        "id": "ttnQt9-XE-Vg"
      },
      "source": [
        "Computing Similarity matrices"
      ]
    },
    {
      "cell_type": "markdown",
      "metadata": {
        "id": "PACcvP-9FYQ_"
      },
      "source": [
        "**Computing user-user Similarity matrix**\n",
        "\n",
        "1. Caculating user user Similarity_matrix is not very easy(unless you have huge Computing Power and lots of time) because of number of usersbeing lare\n"
      ]
    },
    {
      "cell_type": "code",
      "metadata": {
        "id": "m0O-g49a95kC"
      },
      "source": [
        "from sklearn.metrics.pairwise import cosine_similarity\n",
        "def compute_user_similarity(sparse_matrix, compute_for_few=False, top=100, verbose=False,\n",
        "                            verb_for_n_rows = 20,draw_time_taken = True):\n",
        "  no_of_users, _ = sparse_matrix.shape\n",
        "  #get the indices of non zero rows(users) from our sparse matrix\n",
        "  row_ind, col_ind = sparse_matrix.nonzero()\n",
        "  row_ind = sorted(set(row_ind))\n",
        "  time_taken = list() #time taken forn finding similar users for an user...\n",
        "  # we create row,cols and data list.., which can be used to create sparse matrices\n",
        "  rows, cols,data = list(), list(), list()\n",
        "  if verbose: print(\"Computing top\",top,\"similarities for each user...\")\n",
        "  start = datetime.now()\n",
        "  tmp=0\n",
        "  for row in row_ind[:top] if compute_for_few else row_ind:\n",
        "    tmp += 1\n",
        "    prev = datetime.now()\n",
        "\n",
        "    #get the similarity row for this user with all other users\n",
        "    sim = cosine_similarity(sparse_matrix.getrow(row), sparse_matrix).ravel()\n",
        "    #we will get only the 'top' most similar users and ignore rest of them\n",
        "    top_sim_ind = sim.argsort()[-top:]\n",
        "    top_sim_val = sim[top_sim_ind]\n",
        "    \n",
        "    #add them to our row, cols and data\n",
        "    rows.extend([row]*top)\n",
        "    cols.extend(top_sim_ind)\n",
        "    data.extend(top_sim_val)\n",
        "    time_taken.append(datetime.now().timestamp() - prev.timestamp())\n",
        "\n",
        "    if verbose:\n",
        "      if tmp%verb_for_n_rows == 0:\n",
        "        print(\"computing done for {} users [time elased : {} ]\".format(tmp, datetime.now()-start))\n",
        "\n",
        "\n",
        "    # lets create sparse matrix out of these and return it\n",
        "  if verbose: print(\"Creating sparse matrix from the computed similarities\")\n",
        "\n",
        "      #return rows, cols, data\n",
        "\n",
        "  if draw_time_taken:\n",
        "    plt.plot(time_taken, label = 'time taken for each user')\n",
        "    plt.plot(np.cumsum(time_taken), label='Total time')\n",
        "    plt.legend(loc='best')\n",
        "    plt.xlabel('User')\n",
        "    plt.ylabel('Time(seconds)')\n",
        "    plt.show()\n",
        "  return sparse.csr_matrix((data, (rows, cols)), shape=(no_of_users, no_of_users)), time_taken"
      ],
      "execution_count": 38,
      "outputs": []
    },
    {
      "cell_type": "code",
      "metadata": {
        "id": "06-2AeRt9lk6",
        "colab": {
          "base_uri": "https://localhost:8080/",
          "height": 400
        },
        "outputId": "0b2fc1da-61ec-4b55-9334-c1da029a64f2"
      },
      "source": [
        "# We are not going to run it on whole data it will gives us memory error or so we will try it on 100\n",
        "start = datetime.now()\n",
        "u_u_sim_sparse, _ = compute_user_similarity(train_sparse_matrix, compute_for_few=True, top = 40,verbose=True)\n",
        "print(\"-\"*100)\n",
        "print(\"Time taken :\",datetime.now()-start)"
      ],
      "execution_count": 39,
      "outputs": [
        {
          "output_type": "stream",
          "text": [
            "Computing top 40 similarities for each user...\n",
            "computing done for 20 users [time elased : 0:00:17.710220 ]\n",
            "computing done for 40 users [time elased : 0:00:36.328199 ]\n",
            "Creating sparse matrix from the computed similarities\n"
          ],
          "name": "stdout"
        },
        {
          "output_type": "display_data",
          "data": {
            "image/png": "[encoded data removed]",
            "text/plain": [
              "<Figure size 432x288 with 1 Axes>"
            ]
          },
          "metadata": {
            "tags": []
          }
        },
        {
          "output_type": "stream",
          "text": [
            "----------------------------------------------------------------------------------------------------\n",
            "Time taken : 0:00:39.343396\n"
          ],
          "name": "stdout"
        }
      ]
    },
    {
      "cell_type": "markdown",
      "metadata": {
        "id": "xkO3aqT5QoLw"
      },
      "source": [
        "Trying with reduced dimensions (Using TruncatedSVD for dimensionality reduction of user vector)\n",
        "We have 405,041 users in out training set and computing similarities between them..( 17K dimensional vector..) is time consuming..\n",
        "From above plot, It took roughly 8.88 sec for computing simlilar users for one user\n",
        "We have 405,041 users with us in training set.\n",
        "${ 405041 \\times 8.88 = 3596764.08  \\sec } =  59946.068 \\min = 999.101133333 \\text{ hours}\n",
        "= 41.629213889 \\text{ days}...$\n",
        "\n",
        "Even if we run on 4 cores parallelly (a typical system now a days), It will still take almost 10 and 1/2 days.\n",
        "IDEA: Instead, we will try to reduce the dimentsions using SVD, so that it might speed up the process...\n",
        "\n"
      ]
    },
    {
      "cell_type": "code",
      "metadata": {
        "id": "cL9_sjIlQ8F3",
        "colab": {
          "base_uri": "https://localhost:8080/"
        },
        "outputId": "22bd764e-f7f1-41c1-c980-ac1afd10401e"
      },
      "source": [
        "from datetime import datetime\n",
        "from sklearn.decomposition import TruncatedSVD\n",
        "start = datetime.now()\n",
        "#initilize the algorithm with some parameter\n",
        "#All of them are default except n_component. n_iter is for randomized SVD solver\n",
        "netflix_svd = TruncatedSVD(n_components=40, algorithm='randomized', random_state=15)\n",
        "trunc_svd = netflix_svd.fit_transform(train_sparse_matrix)\n",
        "print(datetime.now()-start)"
      ],
      "execution_count": 40,
      "outputs": [
        {
          "output_type": "stream",
          "text": [
            "0:01:03.522355\n"
          ],
          "name": "stdout"
        }
      ]
    },
    {
      "cell_type": "markdown",
      "metadata": {
        "id": "f6KtmcAGYf2N"
      },
      "source": [
        "\n",
        "Here,\n",
        "\n",
        "$\\sum \\longleftarrow$ (netflix_svd.singular_values_ )\n",
        "\n",
        "$\\bigvee^T \\longleftarrow$ (netflix_svd.components_)\n",
        "\n",
        "$\\bigcup$ is not returned. instead Projection_of_X onto the new vectorspace is returned.\n",
        "\n",
        "It uses randomized svd internally, which returns All 3 of them saperately. Use that instead."
      ]
    },
    {
      "cell_type": "code",
      "metadata": {
        "id": "FS_yL-G8K5T4"
      },
      "source": [
        "expl_var = np.cumsum(netflix_svd.explained_variance_ratio_)\n"
      ],
      "execution_count": 41,
      "outputs": []
    },
    {
      "cell_type": "code",
      "metadata": {
        "id": "27vF-lJdjzQV",
        "colab": {
          "base_uri": "https://localhost:8080/",
          "height": 288
        },
        "outputId": "1acbfcdb-17ac-4f65-c004-c0ee9d1c2c82"
      },
      "source": [
        "fig, (ax1, ax2) = plt.subplots(nrows=1, ncols=2, figsize=plt.figaspect(.5))\n",
        "\n",
        "ax1.set_ylabel(\"Variance Explained\", fontsize=15)\n",
        "ax1.set_xlabel(\"# Latent Facors\", fontsize=15)\n",
        "ax1.plot(expl_var)\n",
        "# annote some (latentfactors, expl_var) to make it clear\n",
        "ind = [1, 2,4,8,20,40]\n",
        "ax1.scatter(x = [i-1 for i in ind], y = expl_var[[i-1 for i in ind]], c='#ff3300')\n",
        "for i in ind:\n",
        "    ax1.annotate(s =\"({}, {})\".format(i,  np.round(expl_var[i-1], 2)), xy=(i-1, expl_var[i-1]),\n",
        "                xytext = ( i+20, expl_var[i-1] - 0.01), fontweight='bold')\n",
        "\n",
        "change_in_expl_var = [expl_var[i+1] - expl_var[i] for i in range(len(expl_var)-1)]\n",
        "ax2.plot(change_in_expl_var)\n",
        "\n",
        "\n",
        "\n",
        "ax2.set_ylabel(\"Gain in Var_Expl with One Additional LF\", fontsize=10)\n",
        "ax2.yaxis.set_label_position(\"right\")\n",
        "ax2.set_xlabel(\"# Latent Facors\", fontsize=20)\n",
        "\n",
        "plt.show()"
      ],
      "execution_count": 42,
      "outputs": [
        {
          "output_type": "display_data",
          "data": {
            "image/png": "[encoded data removed]",
            "text/plain": [
              "<Figure size 576x288 with 2 Axes>"
            ]
          },
          "metadata": {
            "tags": []
          }
        }
      ]
    },
    {
      "cell_type": "code",
      "metadata": {
        "id": "2ud4PdhznTqH",
        "colab": {
          "base_uri": "https://localhost:8080/"
        },
        "outputId": "d07677a6-be13-4e1b-f953-eda852d407d3"
      },
      "source": [
        "for i in ind:\n",
        "  print(\"({}, {})\".format(i, np.round(expl_var[i-1], 2)))"
      ],
      "execution_count": 43,
      "outputs": [
        {
          "output_type": "stream",
          "text": [
            "(1, 0.23)\n",
            "(2, 0.26)\n",
            "(4, 0.31)\n",
            "(8, 0.35)\n",
            "(20, 0.4)\n",
            "(40, 0.46)\n"
          ],
          "name": "stdout"
        }
      ]
    },
    {
      "cell_type": "code",
      "metadata": {
        "id": "2b47tsO7rkvp",
        "colab": {
          "base_uri": "https://localhost:8080/"
        },
        "outputId": "e9f973ff-8bd5-4f36-c13f-bdfbcae4b6cd"
      },
      "source": [
        "#lets project our original U_M matrix into 40 Dimentional space\n",
        "start = datetime.now()\n",
        "trunc_matrix = train_sparse_matrix.dot(netflix_svd.components_.T)\n",
        "print(datetime.now()-start)"
      ],
      "execution_count": 44,
      "outputs": [
        {
          "output_type": "stream",
          "text": [
            "0:00:00.972654\n"
          ],
          "name": "stdout"
        }
      ]
    },
    {
      "cell_type": "code",
      "metadata": {
        "id": "ENp6qeYky1ka",
        "colab": {
          "base_uri": "https://localhost:8080/"
        },
        "outputId": "099a6ddb-e365-4ed7-b1c1-fd470f546c3b"
      },
      "source": [
        "type(trunc_matrix), trunc_matrix.shape"
      ],
      "execution_count": 45,
      "outputs": [
        {
          "output_type": "execute_result",
          "data": {
            "text/plain": [
              "(numpy.ndarray, (2649430, 40))"
            ]
          },
          "metadata": {
            "tags": []
          },
          "execution_count": 45
        }
      ]
    },
    {
      "cell_type": "markdown",
      "metadata": {
        "id": "erJfLgS_zGEj"
      },
      "source": [
        "Lets Convert this to actual sparse matrix and store it for future purpose"
      ]
    },
    {
      "cell_type": "code",
      "metadata": {
        "id": "1gLGsKprzC9q"
      },
      "source": [
        "if not os.path.isfile(\"trunc_sparse_matrix.npz\"):\n",
        "#create that sparse matrix\n",
        "  trunc_sparse_matrix = sparse.csr_matrix(trunc_matrix)\n",
        "#save this truncated sparse matrix for later usage\n",
        "  sparse.save_npz('trunc_sparse_matrix', trunc_sparse_matrix)\n",
        "else:\n",
        "  trunc_sparse_matrix = sparse.load_npz('trunc_sparse_matrix.npz')\n"
      ],
      "execution_count": 46,
      "outputs": []
    },
    {
      "cell_type": "code",
      "metadata": {
        "id": "TN9vpo_O3BNc",
        "colab": {
          "base_uri": "https://localhost:8080/"
        },
        "outputId": "07a25a21-af28-4220-88b6-a8dcb123b66e"
      },
      "source": [
        "trunc_sparse_matrix.shape"
      ],
      "execution_count": 47,
      "outputs": [
        {
          "output_type": "execute_result",
          "data": {
            "text/plain": [
              "(2649430, 40)"
            ]
          },
          "metadata": {
            "tags": []
          },
          "execution_count": 47
        }
      ]
    },
    {
      "cell_type": "code",
      "metadata": {
        "id": "rgylg9wJ3KJB",
        "colab": {
          "base_uri": "https://localhost:8080/",
          "height": 430
        },
        "outputId": "5ba10afb-0350-4d06-c287-15c314de5769"
      },
      "source": [
        "#getting memory error\n",
        "start = datetime.now()\n",
        "trunc_u_u_sim_matrix, _ = compute_user_similarity(trunc_sparse_matrix, compute_for_few = True, top=50, verbose=True, verb_for_n_rows=10)\n",
        "print(\"_\"*50)\n",
        "print(\"time:\",datetime.now()-start)"
      ],
      "execution_count": 48,
      "outputs": [
        {
          "output_type": "stream",
          "text": [
            "Computing top 50 similarities for each user...\n",
            "computing done for 10 users [time elased : 0:00:07.176469 ]\n",
            "computing done for 20 users [time elased : 0:00:14.331639 ]\n",
            "computing done for 30 users [time elased : 0:00:21.506727 ]\n",
            "computing done for 40 users [time elased : 0:00:28.661590 ]\n",
            "computing done for 50 users [time elased : 0:00:35.801592 ]\n",
            "Creating sparse matrix from the computed similarities\n"
          ],
          "name": "stdout"
        },
        {
          "output_type": "display_data",
          "data": {
            "image/png": "[encoded data removed]",
            "text/plain": [
              "<Figure size 432x288 with 1 Axes>"
            ]
          },
          "metadata": {
            "tags": []
          }
        },
        {
          "output_type": "stream",
          "text": [
            "__________________________________________________\n",
            "time: 0:00:38.390068\n"
          ],
          "name": "stdout"
        }
      ]
    },
    {
      "cell_type": "markdown",
      "metadata": {
        "id": "qCv5xJoK5gPD"
      },
      "source": [
        "**Computing Movies-Movies Similarity matrix**\n",
        "\n",
        "\n",
        "\n"
      ]
    },
    {
      "cell_type": "code",
      "metadata": {
        "id": "84DpeKyV44sh",
        "colab": {
          "base_uri": "https://localhost:8080/"
        },
        "outputId": "36875a9e-1125-492e-90cd-0696d785f983"
      },
      "source": [
        "start = datetime.now()\n",
        "if not os.path.isfile(\"Movie_Movie_sim_sparse.npz\"):\n",
        "  print(\"It seems you don't have that file. Computing movie_movie similarity..\")\n",
        "  start = datetime.now()\n",
        "  m_m_sim_sparse = cosine_similarity(X = train_sparse_matrix.T, dense_output=False)\n",
        "  print(\"Done...\")\n",
        "  #store this sparse matrix in disk before using it. For future purposes.\n",
        "  print(\"Saving it to disk without the need of re-computing it again...\")\n",
        "  sparse.save_npz(\"movie_movie_sim_sparse.npz\",m_m_sim_sparse)\n",
        "  print(\"Done...\")\n",
        "else:\n",
        "  print(\"It is there, we will get it.\")\n",
        "  m_m_sim_sparse = sparse.load_npz(\"m_m_sim_sparse.npz\")\n",
        "  print(\"Done...\")\n",
        "\n",
        "print(datetime.now() - start)"
      ],
      "execution_count": 49,
      "outputs": [
        {
          "output_type": "stream",
          "text": [
            "It seems you don't have that file. Computing movie_movie similarity..\n",
            "Done...\n",
            "Saving it to disk without the need of re-computing it again...\n",
            "Done...\n",
            "0:00:36.303283\n"
          ],
          "name": "stdout"
        }
      ]
    },
    {
      "cell_type": "code",
      "metadata": {
        "id": "kzauY8Of5d2t",
        "colab": {
          "base_uri": "https://localhost:8080/"
        },
        "outputId": "9a33d0de-3be1-4d7b-d381-93330b041b9f"
      },
      "source": [
        "m_m_sim_sparse.shape"
      ],
      "execution_count": 50,
      "outputs": [
        {
          "output_type": "execute_result",
          "data": {
            "text/plain": [
              "(4500, 4500)"
            ]
          },
          "metadata": {
            "tags": []
          },
          "execution_count": 50
        }
      ]
    },
    {
      "cell_type": "markdown",
      "metadata": {
        "id": "FICA2ThE9ir4"
      },
      "source": [
        "Even though we have similarity measure \n",
        "of each movie, with all other movies, we generally don't care much about least similar movies.\n",
        "\n",
        "Most of the times, only top_xxx similar items matters. It may be 10 or 100.\n",
        "\n",
        "We take only those top similar movie rating and store them in a saperate dictionary\n",
        "\n"
      ]
    },
    {
      "cell_type": "code",
      "metadata": {
        "id": "6DW8Dwu59Slv"
      },
      "source": [
        "movie_ids = np.unique(m_m_sim_sparse.nonzero()[1])"
      ],
      "execution_count": 51,
      "outputs": []
    },
    {
      "cell_type": "code",
      "metadata": {
        "id": "D9LgQ_eh-l8w"
      },
      "source": [
        ""
      ],
      "execution_count": 51,
      "outputs": []
    },
    {
      "cell_type": "code",
      "metadata": {
        "id": "tANKEWKx-y-i",
        "colab": {
          "base_uri": "https://localhost:8080/"
        },
        "outputId": "a4f7b9c3-39ad-41ef-cc3a-0ff329c761d7"
      },
      "source": [
        "start = datetime.now()\n",
        "similar_movies = dict()\n",
        "for movie in movie_ids:\n",
        "  #get the top similar movies and store them in the dictionary\n",
        "  sim_movies = m_m_sim_sparse[movie].toarray().ravel().argsort()[::-1][1:]\n",
        "  similar_movies[movie] = sim_movies[:100]\n",
        "print(datetime.now() - start)\n",
        "\n",
        "#just testing similar movies for movie_15\n",
        "similar_movies[15]"
      ],
      "execution_count": 52,
      "outputs": [
        {
          "output_type": "stream",
          "text": [
            "0:00:02.282294\n"
          ],
          "name": "stdout"
        },
        {
          "output_type": "execute_result",
          "data": {
            "text/plain": [
              "array([4424, 3755,  590, 3973, 1720, 2818, 4095, 3162, 2280, 2450, 2534,\n",
              "       1072, 1416, 3338,  376,  598, 2187, 1942, 2716,  565, 1690, 4376,\n",
              "        847, 1510, 2429, 3706, 1030, 2399, 4486, 2879, 4467, 3502, 2107,\n",
              "       1391,  882,  509, 3726, 2215, 2637, 4037, 3580, 1493, 3602,  610,\n",
              "        791, 2764,   31, 3511,  218, 3329, 1696, 2636, 1335,   61, 4326,\n",
              "       1149, 1184, 4175, 4276, 2859, 2827, 1453, 1177,  280, 1874,  772,\n",
              "       2219, 3396,  327, 3741, 3016,  914,  714,  679, 2545, 3616, 1647,\n",
              "       2061, 3294, 1494, 2902, 1930, 4163, 3940, 1575, 4079,  756, 4090,\n",
              "       1351, 4223, 3941, 3279, 2774, 4006,  917,  277, 2419, 2761, 2624,\n",
              "       1249])"
            ]
          },
          "metadata": {
            "tags": []
          },
          "execution_count": 52
        }
      ]
    },
    {
      "cell_type": "markdown",
      "metadata": {
        "id": "MFal7xKj_0Q3"
      },
      "source": [
        "**Finding most similar movies using similarity matrix**\n",
        "\n",
        "Does Similarity really work as the way we expected?\n",
        "\n",
        "Lets pick some random movie and check for its similar movies.."
      ]
    },
    {
      "cell_type": "code",
      "metadata": {
        "id": "LB2vC2GMAa1T",
        "colab": {
          "base_uri": "https://localhost:8080/",
          "height": 275
        },
        "outputId": "63674ba6-c14c-4f07-9424-3ee2758003ff"
      },
      "source": [
        "#First lets load the movie details into soe dataframe\n",
        "#movie details are in 'netflix/movie_titles.csv'\n",
        "\n",
        "movie_titles = pd.read_csv(\"/content/drive/MyDrive/ML_Projects/NetflixRecoomandation/movie_titles.csv\", sep=',',header=None, names=['movie_id','year_of_release','title'],\n",
        "                           verbose=True, index_col = 'movie_id', encoding='ISO-8859-1')\n",
        "movie_titles.head()"
      ],
      "execution_count": 53,
      "outputs": [
        {
          "output_type": "stream",
          "text": [
            "Tokenization took: 84.25 ms\n",
            "Type conversion took: 9.05 ms\n",
            "Parser memory cleanup took: 0.01 ms\n"
          ],
          "name": "stdout"
        },
        {
          "output_type": "execute_result",
          "data": {
            "text/html": [
              "<div>\n",
              "<style scoped>\n",
              "    .dataframe tbody tr th:only-of-type {\n",
              "        vertical-align: middle;\n",
              "    }\n",
              "\n",
              "    .dataframe tbody tr th {\n",
              "        vertical-align: top;\n",
              "    }\n",
              "\n",
              "    .dataframe thead th {\n",
              "        text-align: right;\n",
              "    }\n",
              "</style>\n",
              "<table border=\"1\" class=\"dataframe\">\n",
              "  <thead>\n",
              "    <tr style=\"text-align: right;\">\n",
              "      <th></th>\n",
              "      <th>year_of_release</th>\n",
              "      <th>title</th>\n",
              "    </tr>\n",
              "    <tr>\n",
              "      <th>movie_id</th>\n",
              "      <th></th>\n",
              "      <th></th>\n",
              "    </tr>\n",
              "  </thead>\n",
              "  <tbody>\n",
              "    <tr>\n",
              "      <th>1</th>\n",
              "      <td>2003.0</td>\n",
              "      <td>Dinosaur Planet</td>\n",
              "    </tr>\n",
              "    <tr>\n",
              "      <th>2</th>\n",
              "      <td>2004.0</td>\n",
              "      <td>Isle of Man TT 2004 Review</td>\n",
              "    </tr>\n",
              "    <tr>\n",
              "      <th>3</th>\n",
              "      <td>1997.0</td>\n",
              "      <td>Character</td>\n",
              "    </tr>\n",
              "    <tr>\n",
              "      <th>4</th>\n",
              "      <td>1994.0</td>\n",
              "      <td>Paula Abdul's Get Up &amp; Dance</td>\n",
              "    </tr>\n",
              "    <tr>\n",
              "      <th>5</th>\n",
              "      <td>2004.0</td>\n",
              "      <td>The Rise and Fall of ECW</td>\n",
              "    </tr>\n",
              "  </tbody>\n",
              "</table>\n",
              "</div>"
            ],
            "text/plain": [
              "          year_of_release                         title\n",
              "movie_id                                               \n",
              "1                  2003.0               Dinosaur Planet\n",
              "2                  2004.0    Isle of Man TT 2004 Review\n",
              "3                  1997.0                     Character\n",
              "4                  1994.0  Paula Abdul's Get Up & Dance\n",
              "5                  2004.0      The Rise and Fall of ECW"
            ]
          },
          "metadata": {
            "tags": []
          },
          "execution_count": 53
        }
      ]
    },
    {
      "cell_type": "markdown",
      "metadata": {
        "id": "dD99ix1yPeew"
      },
      "source": [
        "**Does similarity really works as the way we expected?**\n",
        "\n",
        "Let's pick some random movie and check for its similar movies"
      ]
    },
    {
      "cell_type": "code",
      "metadata": {
        "id": "C5nuu5yuBoWW"
      },
      "source": [
        "# First let's load the movie details into soe dataframe..\n",
        "# movie details are in 'netflix/movie_titles.csv'\n",
        "\n",
        "movie_titles_df = pd.read_csv(\"/content/drive/MyDrive/ML_Projects/NetflixRecoomandation/movie_titles.csv\", sep = \",\",\n",
        "                           header = None, names = ['MovieID', 'Year_of_Release', 'Movie_Title'], index_col = \"MovieID\", encoding = \"iso8859_2\")"
      ],
      "execution_count": 54,
      "outputs": []
    },
    {
      "cell_type": "code",
      "metadata": {
        "id": "bwYeEvfeSGyZ",
        "colab": {
          "base_uri": "https://localhost:8080/",
          "height": 225
        },
        "outputId": "abbf08ab-af21-4e6b-f8c6-e312491664d9"
      },
      "source": [
        "movie_titles_df.head()"
      ],
      "execution_count": 55,
      "outputs": [
        {
          "output_type": "execute_result",
          "data": {
            "text/html": [
              "<div>\n",
              "<style scoped>\n",
              "    .dataframe tbody tr th:only-of-type {\n",
              "        vertical-align: middle;\n",
              "    }\n",
              "\n",
              "    .dataframe tbody tr th {\n",
              "        vertical-align: top;\n",
              "    }\n",
              "\n",
              "    .dataframe thead th {\n",
              "        text-align: right;\n",
              "    }\n",
              "</style>\n",
              "<table border=\"1\" class=\"dataframe\">\n",
              "  <thead>\n",
              "    <tr style=\"text-align: right;\">\n",
              "      <th></th>\n",
              "      <th>Year_of_Release</th>\n",
              "      <th>Movie_Title</th>\n",
              "    </tr>\n",
              "    <tr>\n",
              "      <th>MovieID</th>\n",
              "      <th></th>\n",
              "      <th></th>\n",
              "    </tr>\n",
              "  </thead>\n",
              "  <tbody>\n",
              "    <tr>\n",
              "      <th>1</th>\n",
              "      <td>2003.0</td>\n",
              "      <td>Dinosaur Planet</td>\n",
              "    </tr>\n",
              "    <tr>\n",
              "      <th>2</th>\n",
              "      <td>2004.0</td>\n",
              "      <td>Isle of Man TT 2004 Review</td>\n",
              "    </tr>\n",
              "    <tr>\n",
              "      <th>3</th>\n",
              "      <td>1997.0</td>\n",
              "      <td>Character</td>\n",
              "    </tr>\n",
              "    <tr>\n",
              "      <th>4</th>\n",
              "      <td>1994.0</td>\n",
              "      <td>Paula Abdul's Get Up &amp; Dance</td>\n",
              "    </tr>\n",
              "    <tr>\n",
              "      <th>5</th>\n",
              "      <td>2004.0</td>\n",
              "      <td>The Rise and Fall of ECW</td>\n",
              "    </tr>\n",
              "  </tbody>\n",
              "</table>\n",
              "</div>"
            ],
            "text/plain": [
              "         Year_of_Release                   Movie_Title\n",
              "MovieID                                               \n",
              "1                 2003.0               Dinosaur Planet\n",
              "2                 2004.0    Isle of Man TT 2004 Review\n",
              "3                 1997.0                     Character\n",
              "4                 1994.0  Paula Abdul's Get Up & Dance\n",
              "5                 2004.0      The Rise and Fall of ECW"
            ]
          },
          "metadata": {
            "tags": []
          },
          "execution_count": 55
        }
      ]
    },
    {
      "cell_type": "code",
      "metadata": {
        "id": "1Sw-bKfbSNJJ",
        "colab": {
          "base_uri": "https://localhost:8080/"
        },
        "outputId": "d9d6fbfa-b855-4f60-c249-ccf5d3275273"
      },
      "source": [
        "mv_id = 67\n",
        "\n",
        "print(\"\\nMovie----------->\",movie_titles.loc[mv_id].values[1])\n",
        "print(\"\\nIt has {} Ratings from users.\".format(train_sparse_matrix[:, mv_id].getnnz()))\n",
        "print(\"\\nWe have {} movies which are similar to this and we will get only top most.\".format(m_m_sim_sparse[:,mv_id].getnnz()))\n",
        "print()"
      ],
      "execution_count": 56,
      "outputs": [
        {
          "output_type": "stream",
          "text": [
            "\n",
            "Movie-----------> Vampire Journals\n",
            "\n",
            "It has 268 Ratings from users.\n",
            "\n",
            "We have 4369 movies which are similar to this and we will get only top most.\n",
            "\n"
          ],
          "name": "stdout"
        }
      ]
    },
    {
      "cell_type": "code",
      "metadata": {
        "id": "qTxNjlwmXQta"
      },
      "source": [
        "similarities = m_m_sim_sparse[mv_id].toarray().ravel()\n",
        "similar_indices = similarities.argsort()[::-1][1:]\n",
        "similarities[similar_indices]\n",
        "similar_indices = similarities.argsort()[::-1][1:] # It will sort and reverse the array and ignore its similarity(i.e., 1)\n",
        "# and return its indices(movie_ids)"
      ],
      "execution_count": 57,
      "outputs": []
    },
    {
      "cell_type": "code",
      "metadata": {
        "id": "A66-hp1qmi2m",
        "colab": {
          "base_uri": "https://localhost:8080/",
          "height": 307
        },
        "outputId": "04f825f2-7952-48b1-851b-500288010822"
      },
      "source": [
        "plt.plot(similarities[similar_indices], label = \"Ratings\")\n",
        "plt.plot(similarities[similar_indices[:100]], label = \"Top 100 similar movies\")\n",
        "plt.title(\"Similar Movies of {}(movie_id)\".format(mv_id), fontsize = 20)\n",
        "plt.xlabel(\"Movie (Not Movie_Ids)\", fontsize=15)\n",
        "plt.ylabel(\"Cosine Similarity\", fontsize = 15)\n",
        "plt.legend()\n",
        "plt.show()"
      ],
      "execution_count": 58,
      "outputs": [
        {
          "output_type": "display_data",
          "data": {
            "image/png": "[encoded data removed]",
            "text/plain": [
              "<Figure size 432x288 with 1 Axes>"
            ]
          },
          "metadata": {
            "tags": []
          }
        }
      ]
    },
    {
      "cell_type": "code",
      "metadata": {
        "id": "oSzEIePJpQ3r",
        "colab": {
          "base_uri": "https://localhost:8080/",
          "height": 373
        },
        "outputId": "d901fa40-b403-48b1-a41c-a90b4b78962a"
      },
      "source": [
        "movie_titles.loc[similar_indices[:10]]"
      ],
      "execution_count": 59,
      "outputs": [
        {
          "output_type": "execute_result",
          "data": {
            "text/html": [
              "<div>\n",
              "<style scoped>\n",
              "    .dataframe tbody tr th:only-of-type {\n",
              "        vertical-align: middle;\n",
              "    }\n",
              "\n",
              "    .dataframe tbody tr th {\n",
              "        vertical-align: top;\n",
              "    }\n",
              "\n",
              "    .dataframe thead th {\n",
              "        text-align: right;\n",
              "    }\n",
              "</style>\n",
              "<table border=\"1\" class=\"dataframe\">\n",
              "  <thead>\n",
              "    <tr style=\"text-align: right;\">\n",
              "      <th></th>\n",
              "      <th>year_of_release</th>\n",
              "      <th>title</th>\n",
              "    </tr>\n",
              "    <tr>\n",
              "      <th>movie_id</th>\n",
              "      <th></th>\n",
              "      <th></th>\n",
              "    </tr>\n",
              "  </thead>\n",
              "  <tbody>\n",
              "    <tr>\n",
              "      <th>323</th>\n",
              "      <td>1999.0</td>\n",
              "      <td>Modern Vampires</td>\n",
              "    </tr>\n",
              "    <tr>\n",
              "      <th>4044</th>\n",
              "      <td>1998.0</td>\n",
              "      <td>Subspecies 4: Bloodstorm</td>\n",
              "    </tr>\n",
              "    <tr>\n",
              "      <th>1688</th>\n",
              "      <td>1993.0</td>\n",
              "      <td>To Sleep With a Vampire</td>\n",
              "    </tr>\n",
              "    <tr>\n",
              "      <th>1900</th>\n",
              "      <td>1997.0</td>\n",
              "      <td>Club Vampire</td>\n",
              "    </tr>\n",
              "    <tr>\n",
              "      <th>2004</th>\n",
              "      <td>2001.0</td>\n",
              "      <td>She Creature</td>\n",
              "    </tr>\n",
              "    <tr>\n",
              "      <th>415</th>\n",
              "      <td>2002.0</td>\n",
              "      <td>Reign in Darkness</td>\n",
              "    </tr>\n",
              "    <tr>\n",
              "      <th>3496</th>\n",
              "      <td>1998.0</td>\n",
              "      <td>Vampires</td>\n",
              "    </tr>\n",
              "    <tr>\n",
              "      <th>938</th>\n",
              "      <td>2002.0</td>\n",
              "      <td>Scarecrow</td>\n",
              "    </tr>\n",
              "    <tr>\n",
              "      <th>2948</th>\n",
              "      <td>1998.0</td>\n",
              "      <td>Razor Blade Smile</td>\n",
              "    </tr>\n",
              "    <tr>\n",
              "      <th>4111</th>\n",
              "      <td>1998.0</td>\n",
              "      <td>Bram Stoker's Shadowbuilder</td>\n",
              "    </tr>\n",
              "  </tbody>\n",
              "</table>\n",
              "</div>"
            ],
            "text/plain": [
              "          year_of_release                        title\n",
              "movie_id                                              \n",
              "323                1999.0              Modern Vampires\n",
              "4044               1998.0     Subspecies 4: Bloodstorm\n",
              "1688               1993.0      To Sleep With a Vampire\n",
              "1900               1997.0                 Club Vampire\n",
              "2004               2001.0                 She Creature\n",
              "415                2002.0            Reign in Darkness\n",
              "3496               1998.0                     Vampires\n",
              "938                2002.0                    Scarecrow\n",
              "2948               1998.0            Razor Blade Smile\n",
              "4111               1998.0  Bram Stoker's Shadowbuilder"
            ]
          },
          "metadata": {
            "tags": []
          },
          "execution_count": 59
        }
      ]
    },
    {
      "cell_type": "markdown",
      "metadata": {
        "id": "UVvEoIhCpmGO"
      },
      "source": [
        "Machine Learning Models"
      ]
    },
    {
      "cell_type": "code",
      "metadata": {
        "id": "MSnMmFB5piX_"
      },
      "source": [
        "def get_sample_sparse_matrix(sparse_matrix, no_users, no_movies, path, verbose = True):\n",
        "  \"\"\"It will get it from the 'path' if it is present or it will create and store the sampled sparse matrix in the path specified.\"\"\"\n",
        "   #get(row, col) and (rating) tuple from sparse matrix.\n",
        "  row_ind, col_ind, ratings = sparse.find(sparse_matrix)\n",
        "  users = np.unique(row_ind)\n",
        "  movies = np.unique(col_ind)\n",
        "\n",
        "  print(\"Original Matrix : (users, movies) => ({} {})\".format(len(users), len(movies)))\n",
        "  print(\"Original Matrix : Ratings -- {}\\n\".format(len(ratings)))\n",
        "   # It just to make sure to get same sample everytime we run this program everytime\n",
        "   # and pick without replacement\n",
        "  np.random.seed(15)\n",
        "  sample_users = np.random.choice(users, no_users, replace = False)\n",
        "  sample_movies = np.random.choice(movies, no_movies, replace=False)\n",
        "\n",
        "   #get the boolean mask or these sampled items in original row/col_inds\n",
        "  mask = np.logical_and(np.isin(row_ind, sample_users), np.isin(col_ind, sample_movies))\n",
        "\n",
        "  sample_sparse_matrix = sparse.csr_matrix((ratings[mask], (row_ind[mask], col_ind[mask])),\n",
        "                                            shape=(max(sample_users)+1, max(sample_movies)+1))\n",
        "   \n",
        "\n",
        "  if verbose:\n",
        "    print(\"Sampled Matrix : (Users, movies) => ({} {})\".format(len(sample_users), len(sample_movies)))\n",
        "    print(\"Sampled Matrix : Ratings => \".format(ratings[mask].shape[0]))\n",
        "    print(\"Saving it into disk for further usages.\")\n",
        "     #save it into disk\n",
        "    sparse.save_npz(path, sample_sparse_matrix)\n",
        "    if verbose:\n",
        "      print(\"Done..\\n\")\n",
        "    return sample_sparse_matrix"
      ],
      "execution_count": 60,
      "outputs": []
    },
    {
      "cell_type": "markdown",
      "metadata": {
        "id": "yGnsK4u6lFy2"
      },
      "source": [
        "### **Sampling Data**\n",
        "\n",
        "Build sample train data from the train data"
      ]
    },
    {
      "cell_type": "code",
      "metadata": {
        "id": "bcO3LriXzXoX"
      },
      "source": [
        "#train_sparse_matrix = sparse.load_npz(\"train_sparse_matrix.npz\")\n",
        "#test_sparse_matrix = sparse.load_npz(\"test_sparse_matrix.npz\")\n",
        "#above are the matrix for all the users and movies\n",
        "#train_sparse_matrix.shape"
      ],
      "execution_count": 61,
      "outputs": []
    },
    {
      "cell_type": "code",
      "metadata": {
        "id": "WrCK4PASmDhB",
        "colab": {
          "base_uri": "https://localhost:8080/"
        },
        "outputId": "5c6bc4cc-87ff-4d1a-e3c8-4780040ddf8d"
      },
      "source": [
        "# As we know train_sparse_matrix contains matrix for user and movies lets take user and movies from it\n",
        "start = datetime.now()\n",
        "path = \"/content/drive/MyDrive/ML_Projects/NetflixRecoomandation/sample_train_sparse_matrix.npz\"\n",
        "if os.path.isfile(path):\n",
        "  print(\"It is present in your pwd, getting it from disk...\")\n",
        "  # just get it from the disk instead of computing it\n",
        "  sample_train_sparse_matrix = sparse.load_npz(path)\n",
        "  print(\"Done...\")\n",
        "else:\n",
        "  # get 10k users and 1k movies from available data\n",
        "  sample_train_sparse_matrix = get_sample_sparse_matrix(train_sparse_matrix, no_users=10000, no_movies=1000,path = path)\n",
        "print(datetime.now() - start)"
      ],
      "execution_count": 62,
      "outputs": [
        {
          "output_type": "stream",
          "text": [
            "It is present in your pwd, getting it from disk...\n",
            "Done...\n",
            "0:00:00.247493\n"
          ],
          "name": "stdout"
        }
      ]
    },
    {
      "cell_type": "markdown",
      "metadata": {
        "id": "q1CQI5AEvpl7"
      },
      "source": [
        "Build sample test data from the test data"
      ]
    },
    {
      "cell_type": "code",
      "metadata": {
        "id": "wku6ViCmnjuJ",
        "colab": {
          "base_uri": "https://localhost:8080/"
        },
        "outputId": "1edf5c3f-f197-443a-8727-6b82b18aa24b"
      },
      "source": [
        "start = datetime.now()\n",
        "\n",
        "path = \"/content/drive/MyDrive/ML_Projects/NetflixRecoomandation/sample_test_sparse_matrix.npz\"\n",
        "if os.path.isfile(path):\n",
        "  print(\"It is present in your pwd, getting it from disk...\")\n",
        "  # just get it from the disk instead of computing it\n",
        "  sample_test_sparse_matrix = sparse.load_npz(path)\n",
        "  print(\"Done..\")\n",
        "else:\n",
        "  #get 5k users and 500 movies from available data\n",
        "  sample_test_sparse_matrix = get_sample_sparse_matrix(test_sparse_matrix, no_users=5000, no_movies=500,path = path)\n",
        "print(datetime.now() - start)"
      ],
      "execution_count": 63,
      "outputs": [
        {
          "output_type": "stream",
          "text": [
            "It is present in your pwd, getting it from disk...\n",
            "Done..\n",
            "0:00:00.183875\n"
          ],
          "name": "stdout"
        }
      ]
    },
    {
      "cell_type": "markdown",
      "metadata": {
        "id": "8w9M1nldx2vP"
      },
      "source": [
        "**Finding Global Average of all movie ratings, Average rating per User, and Average rating per Movie(from sampled train)**"
      ]
    },
    {
      "cell_type": "code",
      "metadata": {
        "id": "tbNGoNKMxEjd"
      },
      "source": [
        "sample_train_averages = dict()"
      ],
      "execution_count": 64,
      "outputs": []
    },
    {
      "cell_type": "markdown",
      "metadata": {
        "id": "YzwQApWNyPp1"
      },
      "source": [
        "Finding Global Averages of all movie ratings"
      ]
    },
    {
      "cell_type": "code",
      "metadata": {
        "id": "BWUmMfFByOTO",
        "colab": {
          "base_uri": "https://localhost:8080/"
        },
        "outputId": "84df7b75-597e-4b83-8c21-c7c896e8eb20"
      },
      "source": [
        "# get the global average of ratings in our train set\n",
        "global_average = sample_train_sparse_matrix.sum()/sample_train_sparse_matrix.count_nonzero()\n",
        "sample_train_averages[\"global\"] = global_average\n",
        "sample_train_averages"
      ],
      "execution_count": 65,
      "outputs": [
        {
          "output_type": "execute_result",
          "data": {
            "text/plain": [
              "{'global': 3.603744628606507}"
            ]
          },
          "metadata": {
            "tags": []
          },
          "execution_count": 65
        }
      ]
    },
    {
      "cell_type": "markdown",
      "metadata": {
        "id": "aai3RK29y80k"
      },
      "source": [
        "**Finding Average rating per User**"
      ]
    },
    {
      "cell_type": "code",
      "metadata": {
        "id": "VOhv28dIy2Fp",
        "colab": {
          "base_uri": "https://localhost:8080/"
        },
        "outputId": "fad57935-62d7-424f-e6a8-1c9e970fbc01"
      },
      "source": [
        "sample_train_averages['user'] = get_average_rating(sample_train_sparse_matrix, of_users = True)\n",
        "print('\\nAverage rating of user 195 =',train_averages['user'][195])"
      ],
      "execution_count": 66,
      "outputs": [
        {
          "output_type": "stream",
          "text": [
            "\n",
            "Average rating of user 195 = 3.673076923076923\n"
          ],
          "name": "stdout"
        }
      ]
    },
    {
      "cell_type": "markdown",
      "metadata": {
        "id": "FwMD_WF0MmXd"
      },
      "source": [
        "**Finding Average Rating per Movie**"
      ]
    },
    {
      "cell_type": "code",
      "metadata": {
        "id": "7JIXa7sVKNTg",
        "colab": {
          "base_uri": "https://localhost:8080/"
        },
        "outputId": "30423bdf-2599-4d4b-961c-3cd3582b85d5"
      },
      "source": [
        "sample_train_averages['movie'] = get_average_rating(sample_train_sparse_matrix, of_users=False)\n",
        "print('\\n AVerage rating of movie 150 :',sample_train_averages['movie'][150])"
      ],
      "execution_count": 67,
      "outputs": [
        {
          "output_type": "stream",
          "text": [
            "\n",
            " AVerage rating of movie 150 : 2.1666666666666665\n"
          ],
          "name": "stdout"
        }
      ]
    },
    {
      "cell_type": "markdown",
      "metadata": {
        "id": "vqRk9RS4Nyfl"
      },
      "source": [
        "**Featurizing data**"
      ]
    },
    {
      "cell_type": "code",
      "metadata": {
        "id": "FK6DjTgcNYG8",
        "colab": {
          "base_uri": "https://localhost:8080/"
        },
        "outputId": "ce0f9fdf-ce0b-44a3-dab0-b65c43659391"
      },
      "source": [
        "print(\"\\nNo of ratings in our Sampled train matrix = {}\\n\".format(sample_train_sparse_matrix.count_nonzero()))\n",
        "print(\"\\nNo of ratings in our Sampled test matrix = {}\\n\".format(sample_test_sparse_matrix.count_nonzero()))"
      ],
      "execution_count": 68,
      "outputs": [
        {
          "output_type": "stream",
          "text": [
            "\n",
            "No of ratings in our Sampled train matrix = 127062\n",
            "\n",
            "\n",
            "No of ratings in our Sampled test matrix = 10988\n",
            "\n"
          ],
          "name": "stdout"
        }
      ]
    },
    {
      "cell_type": "markdown",
      "metadata": {
        "id": "4LMEOSMpOfN4"
      },
      "source": [
        "**Featuring data for regression**"
      ]
    },
    {
      "cell_type": "markdown",
      "metadata": {
        "id": "_tzubR88PrPG"
      },
      "source": [
        "Featurinzing train data"
      ]
    },
    {
      "cell_type": "code",
      "metadata": {
        "id": "i3-iiSRuOWRJ"
      },
      "source": [
        "#get users, movies and ratings from our samples train sparse matrix\n",
        "sample_train_users, sample_train_movies, sample_train_ratings = sparse.find(sample_train_sparse_matrix)"
      ],
      "execution_count": 69,
      "outputs": []
    },
    {
      "cell_type": "code",
      "metadata": {
        "id": "Gn8qRBHaPB7f",
        "colab": {
          "base_uri": "https://localhost:8080/"
        },
        "outputId": "3913fa1b-f598-4666-a21f-0e9c217381d9"
      },
      "source": [
        "sample_train_ratings.shape"
      ],
      "execution_count": 70,
      "outputs": [
        {
          "output_type": "execute_result",
          "data": {
            "text/plain": [
              "(127062,)"
            ]
          },
          "metadata": {
            "tags": []
          },
          "execution_count": 70
        }
      ]
    },
    {
      "cell_type": "code",
      "metadata": {
        "colab": {
          "base_uri": "https://localhost:8080/"
        },
        "id": "hQ-bA8UVPJhM",
        "outputId": "df6c8cb4-80d0-4933-c0ce-39649608608f"
      },
      "source": [
        "start = datetime.now()\n",
        "if os.path.isfile(\"/content/drive/MyDrive/ML_Projects/NetflixRecoomandation/reg_train.csv\"):\n",
        "  print(\"File already exits you don't have to prepare again.\")\n",
        "\n",
        "else:\n",
        "  print(\"Preparing {} tuples for the dataset.\\n\".format(len(sample_train_ratings)))\n",
        "\n",
        "  with open(\"/content/drive/MyDrive/ML_Projects/NetflixRecoomandation/reg_train.csv\", mode='w') as reg_data_file:\n",
        "    count = 0\n",
        "    for (user, movie, rating) in zip(sample_train_users, sample_train_movies, sample_train_ratings):\n",
        "      st = datetime.now()\n",
        "      #print(user, movie)\n",
        "      #Rating of movie by similar user of user\n",
        "      #compute the similar users of the user\n",
        "\n",
        "      user_sim = cosine_similarity(sample_test_sparse_matrix[user], sample_test_sparse_matrix).ravel()\n",
        "      top_sim_users = user_sim.argsort()[::-1][1:]  #we are ignoring the User from its similar user.\n",
        "      #get the ratings of most similar users for this movie\n",
        "\n",
        "      top_ratings = sample_test_sparse_matrix[top_sim_users, movie].toarray().ravel()\n",
        "      #we will make its length '5' by adding movie averages to.\n",
        "\n",
        "      top_sim_users_ratings = list(top_ratings[top_ratings != 0][:5])\n",
        "\n",
        "      top_sim_users_ratings.extend([sample_train_averages['movie'][movie]]*(5-len(top_sim_users_ratings)))\n",
        "\n",
        "      #print(top_sim_users_ratings, end = \" \")\n",
        "      #Prepare the row to be stores in a file\n",
        "\n",
        "      row = list()\n",
        "      row.append(user)\n",
        "      row.append(movie)\n",
        "      # Now add the other features to this data\n",
        "      row.append(sample_train_averages['global'])  #first feature\n",
        "      # next five features are similar_users \"movie\" ratings\n",
        "      row.extend(top_sim_users_ratings)\n",
        "\n",
        "      # next 5 features are \"user\" ratings for similar_movies\n",
        "      row.extend(top_sim_users_ratings)\n",
        "      #Avg user rating\n",
        "      row.append(sample_train_averages['user'][user])\n",
        "      #Avg movie rating\n",
        "      row.append(sample_train_averages['movie'][movie])\n",
        "\n",
        "      #Actual Rating of this user movie pair\n",
        "      row.append(rating)\n",
        "      count += 1\n",
        "\n",
        "      #add rows to the file opened.\n",
        "      reg_data_file.write(','.join(map(str, row)))\n",
        "      reg_data_file.write(\"\\n\")\n",
        "      if count%10000 == 0:\n",
        "        #print(','.join(map(str, row)))\n",
        "        print(\"Done for {} row------{}\".format(count, datetime.now() - start))\n",
        "\n",
        "print(datetime.now() - start)"
      ],
      "execution_count": 71,
      "outputs": [
        {
          "output_type": "stream",
          "text": [
            "File already exits you don't have to prepare again.\n",
            "0:00:00.000946\n"
          ],
          "name": "stdout"
        }
      ]
    },
    {
      "cell_type": "markdown",
      "metadata": {
        "id": "twF6_F_GbViN"
      },
      "source": [
        "**GAvg :** Average rating of all the ratings\n",
        "\n",
        "**Similar users rating of this movie:** sur1, sur2, sur3, sur4, sur5(top 5 similar users who rated that movie)\n",
        "\n",
        "**Similar movies  rated by this user:** smr1, smr2, smr3, smr4, smr5(top 5 similar movies rated by this movie)\n",
        "\n",
        "**UAvg:** User's Average rating\n",
        "\n",
        "**MAvg** Average rating of this movie\n",
        "\n",
        "**Rating** Rating of this movie by this user"
      ]
    },
    {
      "cell_type": "code",
      "metadata": {
        "id": "gRt1AGd3ZvCC",
        "colab": {
          "base_uri": "https://localhost:8080/",
          "height": 363
        },
        "outputId": "d8f71533-962e-466e-d6af-05bddffbb8cd"
      },
      "source": [
        "reg_train = pd.read_csv(\"/content/drive/MyDrive/ML_Projects/NetflixRecoomandation/reg_train.csv\",\n",
        "                        names = ['user', 'movie','GAvg','sur1','sur2','sur3','sur4','sur5','smr1',\n",
        "                                 'smr2','smr3','smr4','smr5','UAvg','MAvg','rating'], header=None)\n",
        "reg_train.head(10)"
      ],
      "execution_count": 72,
      "outputs": [
        {
          "output_type": "execute_result",
          "data": {
            "text/html": [
              "<div>\n",
              "<style scoped>\n",
              "    .dataframe tbody tr th:only-of-type {\n",
              "        vertical-align: middle;\n",
              "    }\n",
              "\n",
              "    .dataframe tbody tr th {\n",
              "        vertical-align: top;\n",
              "    }\n",
              "\n",
              "    .dataframe thead th {\n",
              "        text-align: right;\n",
              "    }\n",
              "</style>\n",
              "<table border=\"1\" class=\"dataframe\">\n",
              "  <thead>\n",
              "    <tr style=\"text-align: right;\">\n",
              "      <th></th>\n",
              "      <th>user</th>\n",
              "      <th>movie</th>\n",
              "      <th>GAvg</th>\n",
              "      <th>sur1</th>\n",
              "      <th>sur2</th>\n",
              "      <th>sur3</th>\n",
              "      <th>sur4</th>\n",
              "      <th>sur5</th>\n",
              "      <th>smr1</th>\n",
              "      <th>smr2</th>\n",
              "      <th>smr3</th>\n",
              "      <th>smr4</th>\n",
              "      <th>smr5</th>\n",
              "      <th>UAvg</th>\n",
              "      <th>MAvg</th>\n",
              "      <th>rating</th>\n",
              "    </tr>\n",
              "  </thead>\n",
              "  <tbody>\n",
              "    <tr>\n",
              "      <th>0</th>\n",
              "      <td>1117050</td>\n",
              "      <td>15</td>\n",
              "      <td>3.603745</td>\n",
              "      <td>2.250000</td>\n",
              "      <td>2.250000</td>\n",
              "      <td>2.250000</td>\n",
              "      <td>2.250000</td>\n",
              "      <td>2.250000</td>\n",
              "      <td>2.250000</td>\n",
              "      <td>2.250000</td>\n",
              "      <td>2.250000</td>\n",
              "      <td>2.250000</td>\n",
              "      <td>2.250000</td>\n",
              "      <td>3.222222</td>\n",
              "      <td>2.250000</td>\n",
              "      <td>2</td>\n",
              "    </tr>\n",
              "    <tr>\n",
              "      <th>1</th>\n",
              "      <td>1292631</td>\n",
              "      <td>15</td>\n",
              "      <td>3.603745</td>\n",
              "      <td>2.250000</td>\n",
              "      <td>2.250000</td>\n",
              "      <td>2.250000</td>\n",
              "      <td>2.250000</td>\n",
              "      <td>2.250000</td>\n",
              "      <td>2.250000</td>\n",
              "      <td>2.250000</td>\n",
              "      <td>2.250000</td>\n",
              "      <td>2.250000</td>\n",
              "      <td>2.250000</td>\n",
              "      <td>2.313131</td>\n",
              "      <td>2.250000</td>\n",
              "      <td>1</td>\n",
              "    </tr>\n",
              "    <tr>\n",
              "      <th>2</th>\n",
              "      <td>1550619</td>\n",
              "      <td>15</td>\n",
              "      <td>3.603745</td>\n",
              "      <td>2.250000</td>\n",
              "      <td>2.250000</td>\n",
              "      <td>2.250000</td>\n",
              "      <td>2.250000</td>\n",
              "      <td>2.250000</td>\n",
              "      <td>2.250000</td>\n",
              "      <td>2.250000</td>\n",
              "      <td>2.250000</td>\n",
              "      <td>2.250000</td>\n",
              "      <td>2.250000</td>\n",
              "      <td>4.000000</td>\n",
              "      <td>2.250000</td>\n",
              "      <td>4</td>\n",
              "    </tr>\n",
              "    <tr>\n",
              "      <th>3</th>\n",
              "      <td>1719753</td>\n",
              "      <td>15</td>\n",
              "      <td>3.603745</td>\n",
              "      <td>2.250000</td>\n",
              "      <td>2.250000</td>\n",
              "      <td>2.250000</td>\n",
              "      <td>2.250000</td>\n",
              "      <td>2.250000</td>\n",
              "      <td>2.250000</td>\n",
              "      <td>2.250000</td>\n",
              "      <td>2.250000</td>\n",
              "      <td>2.250000</td>\n",
              "      <td>2.250000</td>\n",
              "      <td>3.785714</td>\n",
              "      <td>2.250000</td>\n",
              "      <td>2</td>\n",
              "    </tr>\n",
              "    <tr>\n",
              "      <th>4</th>\n",
              "      <td>1830763</td>\n",
              "      <td>15</td>\n",
              "      <td>3.603745</td>\n",
              "      <td>2.250000</td>\n",
              "      <td>2.250000</td>\n",
              "      <td>2.250000</td>\n",
              "      <td>2.250000</td>\n",
              "      <td>2.250000</td>\n",
              "      <td>2.250000</td>\n",
              "      <td>2.250000</td>\n",
              "      <td>2.250000</td>\n",
              "      <td>2.250000</td>\n",
              "      <td>2.250000</td>\n",
              "      <td>2.978022</td>\n",
              "      <td>2.250000</td>\n",
              "      <td>1</td>\n",
              "    </tr>\n",
              "    <tr>\n",
              "      <th>5</th>\n",
              "      <td>1902838</td>\n",
              "      <td>15</td>\n",
              "      <td>3.603745</td>\n",
              "      <td>2.250000</td>\n",
              "      <td>2.250000</td>\n",
              "      <td>2.250000</td>\n",
              "      <td>2.250000</td>\n",
              "      <td>2.250000</td>\n",
              "      <td>2.250000</td>\n",
              "      <td>2.250000</td>\n",
              "      <td>2.250000</td>\n",
              "      <td>2.250000</td>\n",
              "      <td>2.250000</td>\n",
              "      <td>2.145923</td>\n",
              "      <td>2.250000</td>\n",
              "      <td>1</td>\n",
              "    </tr>\n",
              "    <tr>\n",
              "      <th>6</th>\n",
              "      <td>2247936</td>\n",
              "      <td>15</td>\n",
              "      <td>3.603745</td>\n",
              "      <td>2.250000</td>\n",
              "      <td>2.250000</td>\n",
              "      <td>2.250000</td>\n",
              "      <td>2.250000</td>\n",
              "      <td>2.250000</td>\n",
              "      <td>2.250000</td>\n",
              "      <td>2.250000</td>\n",
              "      <td>2.250000</td>\n",
              "      <td>2.250000</td>\n",
              "      <td>2.250000</td>\n",
              "      <td>3.545455</td>\n",
              "      <td>2.250000</td>\n",
              "      <td>4</td>\n",
              "    </tr>\n",
              "    <tr>\n",
              "      <th>7</th>\n",
              "      <td>2441503</td>\n",
              "      <td>15</td>\n",
              "      <td>3.603745</td>\n",
              "      <td>2.250000</td>\n",
              "      <td>2.250000</td>\n",
              "      <td>2.250000</td>\n",
              "      <td>2.250000</td>\n",
              "      <td>2.250000</td>\n",
              "      <td>2.250000</td>\n",
              "      <td>2.250000</td>\n",
              "      <td>2.250000</td>\n",
              "      <td>2.250000</td>\n",
              "      <td>2.250000</td>\n",
              "      <td>3.384615</td>\n",
              "      <td>2.250000</td>\n",
              "      <td>3</td>\n",
              "    </tr>\n",
              "    <tr>\n",
              "      <th>8</th>\n",
              "      <td>117959</td>\n",
              "      <td>24</td>\n",
              "      <td>3.603745</td>\n",
              "      <td>2.826087</td>\n",
              "      <td>2.826087</td>\n",
              "      <td>2.826087</td>\n",
              "      <td>2.826087</td>\n",
              "      <td>2.826087</td>\n",
              "      <td>2.826087</td>\n",
              "      <td>2.826087</td>\n",
              "      <td>2.826087</td>\n",
              "      <td>2.826087</td>\n",
              "      <td>2.826087</td>\n",
              "      <td>4.725806</td>\n",
              "      <td>2.826087</td>\n",
              "      <td>5</td>\n",
              "    </tr>\n",
              "    <tr>\n",
              "      <th>9</th>\n",
              "      <td>133289</td>\n",
              "      <td>24</td>\n",
              "      <td>3.603745</td>\n",
              "      <td>2.826087</td>\n",
              "      <td>2.826087</td>\n",
              "      <td>2.826087</td>\n",
              "      <td>2.826087</td>\n",
              "      <td>2.826087</td>\n",
              "      <td>2.826087</td>\n",
              "      <td>2.826087</td>\n",
              "      <td>2.826087</td>\n",
              "      <td>2.826087</td>\n",
              "      <td>2.826087</td>\n",
              "      <td>4.000000</td>\n",
              "      <td>2.826087</td>\n",
              "      <td>3</td>\n",
              "    </tr>\n",
              "  </tbody>\n",
              "</table>\n",
              "</div>"
            ],
            "text/plain": [
              "      user  movie      GAvg      sur1  ...      smr5      UAvg      MAvg  rating\n",
              "0  1117050     15  3.603745  2.250000  ...  2.250000  3.222222  2.250000       2\n",
              "1  1292631     15  3.603745  2.250000  ...  2.250000  2.313131  2.250000       1\n",
              "2  1550619     15  3.603745  2.250000  ...  2.250000  4.000000  2.250000       4\n",
              "3  1719753     15  3.603745  2.250000  ...  2.250000  3.785714  2.250000       2\n",
              "4  1830763     15  3.603745  2.250000  ...  2.250000  2.978022  2.250000       1\n",
              "5  1902838     15  3.603745  2.250000  ...  2.250000  2.145923  2.250000       1\n",
              "6  2247936     15  3.603745  2.250000  ...  2.250000  3.545455  2.250000       4\n",
              "7  2441503     15  3.603745  2.250000  ...  2.250000  3.384615  2.250000       3\n",
              "8   117959     24  3.603745  2.826087  ...  2.826087  4.725806  2.826087       5\n",
              "9   133289     24  3.603745  2.826087  ...  2.826087  4.000000  2.826087       3\n",
              "\n",
              "[10 rows x 16 columns]"
            ]
          },
          "metadata": {
            "tags": []
          },
          "execution_count": 72
        }
      ]
    },
    {
      "cell_type": "markdown",
      "metadata": {
        "id": "Diy3lwdsrv2l"
      },
      "source": [
        "**Featurizing test data**"
      ]
    },
    {
      "cell_type": "code",
      "metadata": {
        "id": "y6O8C_T_KEna"
      },
      "source": [
        "#get users, movies, and rating from the sampled Test\n",
        "sample_test_users, sample_test_movies, sample_test_ratings = sparse.find(sample_test_sparse_matrix)"
      ],
      "execution_count": 73,
      "outputs": []
    },
    {
      "cell_type": "code",
      "metadata": {
        "id": "HsYObzl0sL44",
        "colab": {
          "base_uri": "https://localhost:8080/"
        },
        "outputId": "aaf09996-1e74-4b57-9479-c71c515ecaf0"
      },
      "source": [
        "sample_train_averages['global']"
      ],
      "execution_count": 74,
      "outputs": [
        {
          "output_type": "execute_result",
          "data": {
            "text/plain": [
              "3.603744628606507"
            ]
          },
          "metadata": {
            "tags": []
          },
          "execution_count": 74
        }
      ]
    },
    {
      "cell_type": "code",
      "metadata": {
        "id": "SC9Jay4_sPGB",
        "colab": {
          "base_uri": "https://localhost:8080/"
        },
        "outputId": "1c917b71-1af5-4996-8de9-5b0e126e1675"
      },
      "source": [
        "\n",
        "if os.path.isfile('/content/drive/MyDrive/ML_Projects/NetflixRecoomandation/reg_test.csv'):\n",
        "    print(\"It is already created...\")\n",
        "else:\n",
        "\n",
        "    print('preparing {} tuples for the dataset..\\n'.format(len(sample_test_ratings)))\n",
        "    with open('/content/drive/MyDrive/ML_Projects/NetflixRecoomandation/reg_test.csv', mode='w') as reg_data_file:\n",
        "        count = 0 \n",
        "        for (user, movie, rating)  in zip(sample_test_users, sample_test_movies, sample_test_ratings):\n",
        "            st = datetime.now()\n",
        "\n",
        "        #--------------------- Ratings of \"movie\" by similar users of \"user\" ---------------------\n",
        "            #print(user, movie)\n",
        "            try:\n",
        "                # compute the similar Users of the \"user\"        \n",
        "                user_sim = cosine_similarity(sample_train_sparse_matrix[user], sample_train_sparse_matrix).ravel()\n",
        "                top_sim_users = user_sim.argsort()[::-1][1:] # we are ignoring 'The User' from its similar users.\n",
        "                # get the ratings of most similar users for this movie\n",
        "                top_ratings = sample_train_sparse_matrix[top_sim_users, movie].toarray().ravel()\n",
        "                # we will make it's length \"5\" by adding movie averages to .\n",
        "                top_sim_users_ratings = list(top_ratings[top_ratings != 0][:5])\n",
        "                top_sim_users_ratings.extend([sample_train_averages['movie'][movie]]*(5 - len(top_sim_users_ratings)))\n",
        "                # print(top_sim_users_ratings, end=\"--\")\n",
        "\n",
        "            except (IndexError, KeyError):\n",
        "                # It is a new User or new Movie or there are no ratings for given user for top similar movies...\n",
        "                ########## Cold STart Problem ##########\n",
        "                top_sim_users_ratings.extend([sample_train_averages['global']]*(5 - len(top_sim_users_ratings)))\n",
        "                #print(top_sim_users_ratings)\n",
        "            except:\n",
        "                print(user, movie)\n",
        "                # we just want KeyErrors to be resolved. Not every Exception...\n",
        "                raise\n",
        "\n",
        "\n",
        "\n",
        "            #--------------------- Ratings by \"user\"  to similar movies of \"movie\" ---------------------\n",
        "            try:\n",
        "                # compute the similar movies of the \"movie\"        \n",
        "                movie_sim = cosine_similarity(sample_train_sparse_matrix[:,movie].T, sample_train_sparse_matrix.T).ravel()\n",
        "                top_sim_movies = movie_sim.argsort()[::-1][1:] # we are ignoring 'The User' from its similar users.\n",
        "                # get the ratings of most similar movie rated by this user..\n",
        "                top_ratings = sample_train_sparse_matrix[user, top_sim_movies].toarray().ravel()\n",
        "                # we will make it's length \"5\" by adding user averages to.\n",
        "                top_sim_movies_ratings = list(top_ratings[top_ratings != 0][:5])\n",
        "                top_sim_movies_ratings.extend([sample_train_averages['user'][user]]*(5-len(top_sim_movies_ratings))) \n",
        "                #print(top_sim_movies_ratings)\n",
        "            except (IndexError, KeyError):\n",
        "                #print(top_sim_movies_ratings, end=\" : -- \")\n",
        "                top_sim_movies_ratings.extend([sample_train_averages['global']]*(5-len(top_sim_movies_ratings)))\n",
        "                #print(top_sim_movies_ratings)\n",
        "            except :\n",
        "                raise\n",
        "\n",
        "            #-----------------prepare the row to be stores in a file-----------------#\n",
        "            row = list()\n",
        "            # add usser and movie name first\n",
        "            row.append(user)\n",
        "            row.append(movie)\n",
        "            row.append(sample_train_averages['global']) # first feature\n",
        "            #print(row)\n",
        "            # next 5 features are similar_users \"movie\" ratings\n",
        "            row.extend(top_sim_users_ratings)\n",
        "            #print(row)\n",
        "            # next 5 features are \"user\" ratings for similar_movies\n",
        "            row.extend(top_sim_movies_ratings)\n",
        "            #print(row)\n",
        "            # Avg_user rating\n",
        "            try:\n",
        "                row.append(sample_train_averages['user'][user])\n",
        "            except KeyError:\n",
        "                row.append(sample_train_averages['global'])\n",
        "            except:\n",
        "                raise\n",
        "            #print(row)\n",
        "            # Avg_movie rating\n",
        "            try:\n",
        "                row.append(sample_train_averages['movie'][movie])\n",
        "            except KeyError:\n",
        "                row.append(sample_train_averages['global'])\n",
        "            except:\n",
        "                raise\n",
        "            #print(row)\n",
        "            # finalley, The actual Rating of this user-movie pair...\n",
        "            row.append(rating)\n",
        "            #print(row)\n",
        "            count = count + 1\n",
        "\n",
        "            # add rows to the file opened..\n",
        "            reg_data_file.write(','.join(map(str, row)))\n",
        "            #print(','.join(map(str, row)))\n",
        "            reg_data_file.write('\\n')        \n",
        "            if (count)%1000 == 0:\n",
        "                #print(','.join(map(str, row)))\n",
        "                print(\"Done for {} rows----- {}\".format(count, datetime.now() - start))\n",
        "    print(\"\",datetime.now() - start)   "
      ],
      "execution_count": 75,
      "outputs": [
        {
          "output_type": "stream",
          "text": [
            "It is already created...\n"
          ],
          "name": "stdout"
        }
      ]
    },
    {
      "cell_type": "markdown",
      "metadata": {
        "id": "xR9PlweYbkkq"
      },
      "source": [
        "**Reading from the file to make a dataframe**"
      ]
    },
    {
      "cell_type": "code",
      "metadata": {
        "id": "kCK_at0gbiYo",
        "colab": {
          "base_uri": "https://localhost:8080/",
          "height": 363
        },
        "outputId": "d7ed6316-d136-436d-ac42-03ebe1af8660"
      },
      "source": [
        "\n",
        "reg_test_df = pd.read_csv('/content/drive/MyDrive/ML_Projects/NetflixRecoomandation/reg_test.csv', names = ['user', 'movie', 'GAvg', 'sur1', 'sur2', 'sur3', 'sur4', 'sur5',\n",
        "                                                          'smr1', 'smr2', 'smr3', 'smr4', 'smr5',\n",
        "                                                          'UAvg', 'MAvg', 'rating'], header=None)\n",
        "reg_test_df.head(10)"
      ],
      "execution_count": 76,
      "outputs": [
        {
          "output_type": "execute_result",
          "data": {
            "text/html": [
              "<div>\n",
              "<style scoped>\n",
              "    .dataframe tbody tr th:only-of-type {\n",
              "        vertical-align: middle;\n",
              "    }\n",
              "\n",
              "    .dataframe tbody tr th {\n",
              "        vertical-align: top;\n",
              "    }\n",
              "\n",
              "    .dataframe thead th {\n",
              "        text-align: right;\n",
              "    }\n",
              "</style>\n",
              "<table border=\"1\" class=\"dataframe\">\n",
              "  <thead>\n",
              "    <tr style=\"text-align: right;\">\n",
              "      <th></th>\n",
              "      <th>user</th>\n",
              "      <th>movie</th>\n",
              "      <th>GAvg</th>\n",
              "      <th>sur1</th>\n",
              "      <th>sur2</th>\n",
              "      <th>sur3</th>\n",
              "      <th>sur4</th>\n",
              "      <th>sur5</th>\n",
              "      <th>smr1</th>\n",
              "      <th>smr2</th>\n",
              "      <th>smr3</th>\n",
              "      <th>smr4</th>\n",
              "      <th>smr5</th>\n",
              "      <th>UAvg</th>\n",
              "      <th>MAvg</th>\n",
              "      <th>rating</th>\n",
              "    </tr>\n",
              "  </thead>\n",
              "  <tbody>\n",
              "    <tr>\n",
              "      <th>0</th>\n",
              "      <td>760104</td>\n",
              "      <td>5</td>\n",
              "      <td>3.603745</td>\n",
              "      <td>3.603745</td>\n",
              "      <td>3.603745</td>\n",
              "      <td>3.603745</td>\n",
              "      <td>3.603745</td>\n",
              "      <td>3.603745</td>\n",
              "      <td>3.603745</td>\n",
              "      <td>3.603745</td>\n",
              "      <td>3.603745</td>\n",
              "      <td>3.603745</td>\n",
              "      <td>3.603745</td>\n",
              "      <td>3.603745</td>\n",
              "      <td>3.603745</td>\n",
              "      <td>5</td>\n",
              "    </tr>\n",
              "    <tr>\n",
              "      <th>1</th>\n",
              "      <td>777147</td>\n",
              "      <td>5</td>\n",
              "      <td>3.603745</td>\n",
              "      <td>3.603745</td>\n",
              "      <td>3.603745</td>\n",
              "      <td>3.603745</td>\n",
              "      <td>3.603745</td>\n",
              "      <td>3.603745</td>\n",
              "      <td>3.603745</td>\n",
              "      <td>3.603745</td>\n",
              "      <td>3.603745</td>\n",
              "      <td>3.603745</td>\n",
              "      <td>3.603745</td>\n",
              "      <td>3.603745</td>\n",
              "      <td>3.603745</td>\n",
              "      <td>5</td>\n",
              "    </tr>\n",
              "    <tr>\n",
              "      <th>2</th>\n",
              "      <td>1451564</td>\n",
              "      <td>5</td>\n",
              "      <td>3.603745</td>\n",
              "      <td>3.603745</td>\n",
              "      <td>3.603745</td>\n",
              "      <td>3.603745</td>\n",
              "      <td>3.603745</td>\n",
              "      <td>3.603745</td>\n",
              "      <td>3.603745</td>\n",
              "      <td>3.603745</td>\n",
              "      <td>3.603745</td>\n",
              "      <td>3.603745</td>\n",
              "      <td>3.603745</td>\n",
              "      <td>3.603745</td>\n",
              "      <td>3.603745</td>\n",
              "      <td>5</td>\n",
              "    </tr>\n",
              "    <tr>\n",
              "      <th>3</th>\n",
              "      <td>1496376</td>\n",
              "      <td>5</td>\n",
              "      <td>3.603745</td>\n",
              "      <td>3.603745</td>\n",
              "      <td>3.603745</td>\n",
              "      <td>3.603745</td>\n",
              "      <td>3.603745</td>\n",
              "      <td>3.603745</td>\n",
              "      <td>3.603745</td>\n",
              "      <td>3.603745</td>\n",
              "      <td>3.603745</td>\n",
              "      <td>3.603745</td>\n",
              "      <td>3.603745</td>\n",
              "      <td>3.603745</td>\n",
              "      <td>3.603745</td>\n",
              "      <td>1</td>\n",
              "    </tr>\n",
              "    <tr>\n",
              "      <th>4</th>\n",
              "      <td>1748471</td>\n",
              "      <td>5</td>\n",
              "      <td>3.603745</td>\n",
              "      <td>3.603745</td>\n",
              "      <td>3.603745</td>\n",
              "      <td>3.603745</td>\n",
              "      <td>3.603745</td>\n",
              "      <td>3.603745</td>\n",
              "      <td>3.603745</td>\n",
              "      <td>3.603745</td>\n",
              "      <td>3.603745</td>\n",
              "      <td>3.603745</td>\n",
              "      <td>3.603745</td>\n",
              "      <td>3.603745</td>\n",
              "      <td>3.603745</td>\n",
              "      <td>5</td>\n",
              "    </tr>\n",
              "    <tr>\n",
              "      <th>5</th>\n",
              "      <td>1934002</td>\n",
              "      <td>5</td>\n",
              "      <td>3.603745</td>\n",
              "      <td>3.603745</td>\n",
              "      <td>3.603745</td>\n",
              "      <td>3.603745</td>\n",
              "      <td>3.603745</td>\n",
              "      <td>3.603745</td>\n",
              "      <td>3.603745</td>\n",
              "      <td>3.603745</td>\n",
              "      <td>3.603745</td>\n",
              "      <td>3.603745</td>\n",
              "      <td>3.603745</td>\n",
              "      <td>3.603745</td>\n",
              "      <td>3.603745</td>\n",
              "      <td>1</td>\n",
              "    </tr>\n",
              "    <tr>\n",
              "      <th>6</th>\n",
              "      <td>1934110</td>\n",
              "      <td>5</td>\n",
              "      <td>3.603745</td>\n",
              "      <td>3.603745</td>\n",
              "      <td>3.603745</td>\n",
              "      <td>3.603745</td>\n",
              "      <td>3.603745</td>\n",
              "      <td>3.603745</td>\n",
              "      <td>3.603745</td>\n",
              "      <td>3.603745</td>\n",
              "      <td>3.603745</td>\n",
              "      <td>3.603745</td>\n",
              "      <td>3.603745</td>\n",
              "      <td>3.603745</td>\n",
              "      <td>3.603745</td>\n",
              "      <td>1</td>\n",
              "    </tr>\n",
              "    <tr>\n",
              "      <th>7</th>\n",
              "      <td>2189335</td>\n",
              "      <td>5</td>\n",
              "      <td>3.603745</td>\n",
              "      <td>3.603745</td>\n",
              "      <td>3.603745</td>\n",
              "      <td>3.603745</td>\n",
              "      <td>3.603745</td>\n",
              "      <td>3.603745</td>\n",
              "      <td>3.603745</td>\n",
              "      <td>3.603745</td>\n",
              "      <td>3.603745</td>\n",
              "      <td>3.603745</td>\n",
              "      <td>3.603745</td>\n",
              "      <td>3.603745</td>\n",
              "      <td>3.603745</td>\n",
              "      <td>4</td>\n",
              "    </tr>\n",
              "    <tr>\n",
              "      <th>8</th>\n",
              "      <td>2411773</td>\n",
              "      <td>5</td>\n",
              "      <td>3.603745</td>\n",
              "      <td>3.603745</td>\n",
              "      <td>3.603745</td>\n",
              "      <td>3.603745</td>\n",
              "      <td>3.603745</td>\n",
              "      <td>3.603745</td>\n",
              "      <td>3.603745</td>\n",
              "      <td>3.603745</td>\n",
              "      <td>3.603745</td>\n",
              "      <td>3.603745</td>\n",
              "      <td>3.603745</td>\n",
              "      <td>3.603745</td>\n",
              "      <td>3.603745</td>\n",
              "      <td>3</td>\n",
              "    </tr>\n",
              "    <tr>\n",
              "      <th>9</th>\n",
              "      <td>128259</td>\n",
              "      <td>13</td>\n",
              "      <td>3.603745</td>\n",
              "      <td>3.603745</td>\n",
              "      <td>3.603745</td>\n",
              "      <td>3.603745</td>\n",
              "      <td>3.603745</td>\n",
              "      <td>3.603745</td>\n",
              "      <td>3.603745</td>\n",
              "      <td>3.603745</td>\n",
              "      <td>3.603745</td>\n",
              "      <td>3.603745</td>\n",
              "      <td>3.603745</td>\n",
              "      <td>3.603745</td>\n",
              "      <td>3.603745</td>\n",
              "      <td>4</td>\n",
              "    </tr>\n",
              "  </tbody>\n",
              "</table>\n",
              "</div>"
            ],
            "text/plain": [
              "      user  movie      GAvg      sur1  ...      smr5      UAvg      MAvg  rating\n",
              "0   760104      5  3.603745  3.603745  ...  3.603745  3.603745  3.603745       5\n",
              "1   777147      5  3.603745  3.603745  ...  3.603745  3.603745  3.603745       5\n",
              "2  1451564      5  3.603745  3.603745  ...  3.603745  3.603745  3.603745       5\n",
              "3  1496376      5  3.603745  3.603745  ...  3.603745  3.603745  3.603745       1\n",
              "4  1748471      5  3.603745  3.603745  ...  3.603745  3.603745  3.603745       5\n",
              "5  1934002      5  3.603745  3.603745  ...  3.603745  3.603745  3.603745       1\n",
              "6  1934110      5  3.603745  3.603745  ...  3.603745  3.603745  3.603745       1\n",
              "7  2189335      5  3.603745  3.603745  ...  3.603745  3.603745  3.603745       4\n",
              "8  2411773      5  3.603745  3.603745  ...  3.603745  3.603745  3.603745       3\n",
              "9   128259     13  3.603745  3.603745  ...  3.603745  3.603745  3.603745       4\n",
              "\n",
              "[10 rows x 16 columns]"
            ]
          },
          "metadata": {
            "tags": []
          },
          "execution_count": 76
        }
      ]
    },
    {
      "cell_type": "code",
      "metadata": {
        "id": "y9pANfoCNdWr",
        "colab": {
          "base_uri": "https://localhost:8080/"
        },
        "outputId": "858adb17-6b4d-4470-b4b9-1eaf5fe035c7"
      },
      "source": [
        "!pip install surprise"
      ],
      "execution_count": 77,
      "outputs": [
        {
          "output_type": "stream",
          "text": [
            "Collecting surprise\n",
            "  Downloading https://files.pythonhosted.org/packages/61/de/e5cba8682201fcf9c3719a6fdda95693468ed061945493dea2dd37c5618b/surprise-0.1-py2.py3-none-any.whl\n",
            "Collecting scikit-surprise\n",
            "\u001b[?25l  Downloading https://files.pythonhosted.org/packages/97/37/5d334adaf5ddd65da99fc65f6507e0e4599d092ba048f4302fe8775619e8/scikit-surprise-1.1.1.tar.gz (11.8MB)\n",
            "\u001b[K     |████████████████████████████████| 11.8MB 358kB/s \n",
            "\u001b[?25hRequirement already satisfied: joblib>=0.11 in /usr/local/lib/python3.7/dist-packages (from scikit-surprise->surprise) (1.0.1)\n",
            "Requirement already satisfied: numpy>=1.11.2 in /usr/local/lib/python3.7/dist-packages (from scikit-surprise->surprise) (1.19.5)\n",
            "Requirement already satisfied: scipy>=1.0.0 in /usr/local/lib/python3.7/dist-packages (from scikit-surprise->surprise) (1.4.1)\n",
            "Requirement already satisfied: six>=1.10.0 in /usr/local/lib/python3.7/dist-packages (from scikit-surprise->surprise) (1.15.0)\n",
            "Building wheels for collected packages: scikit-surprise\n",
            "  Building wheel for scikit-surprise (setup.py) ... \u001b[?25l\u001b[?25hdone\n",
            "  Created wheel for scikit-surprise: filename=scikit_surprise-1.1.1-cp37-cp37m-linux_x86_64.whl size=1617549 sha256=63a3cd452a245504b2d87ffa81cfc31eeb1d7eca7e02b49ee35098520529a369\n",
            "  Stored in directory: /root/.cache/pip/wheels/78/9c/3d/41b419c9d2aff5b6e2b4c0fc8d25c538202834058f9ed110d0\n",
            "Successfully built scikit-surprise\n",
            "Installing collected packages: scikit-surprise, surprise\n",
            "Successfully installed scikit-surprise-1.1.1 surprise-0.1\n"
          ],
          "name": "stdout"
        }
      ]
    },
    {
      "cell_type": "markdown",
      "metadata": {
        "id": "6oxnZoFWc9GO"
      },
      "source": [
        "## **Transforming data for Surprise models**"
      ]
    },
    {
      "cell_type": "code",
      "metadata": {
        "id": "JrQ9hTWCX41i"
      },
      "source": [
        "from surprise import Reader, Dataset"
      ],
      "execution_count": 78,
      "outputs": []
    },
    {
      "cell_type": "markdown",
      "metadata": {
        "id": "y4rRBxd4dMdz"
      },
      "source": [
        "## **Transforming train data**\n",
        "\n",
        ". We can't give raw data(movie, user, rating) to train the model in Surprise    library.\n",
        "\n",
        ". They have a seprate format for train and test data, which will be useful for training the models like SVD, KNNBaseLineOnly....etc, in Surprise.\n",
        "\n",
        ". We can form the trainset from a file, or from a pandas DataFrame.\n",
        "\n",
        "**Surprise Libraray**\n",
        "https://surprise.readthedocs.io/en/stable/getting_started.html#load-dom-dataframe-py"
      ]
    },
    {
      "cell_type": "code",
      "metadata": {
        "id": "wZwUT4YWec7I"
      },
      "source": [
        "# It is to specify how to read the datafram\n",
        "reader = Reader(rating_scale=(1, 5))\n",
        "\n",
        "# create the traindata from the dataframe\n",
        "train_data = Dataset.load_from_df(reg_train[['user', 'user', 'rating']], reader)\n",
        "#Build the trainset from traindata, it is of dataset format from surprise libraray.\n",
        "trainset = train_data.build_full_trainset()"
      ],
      "execution_count": 79,
      "outputs": []
    },
    {
      "cell_type": "markdown",
      "metadata": {
        "id": "ovYjy4L1xRXo"
      },
      "source": [
        "### **Transformin test data**\n",
        "\n",
        ". Testset is just a list of (user, movie, rating) tuples.(Order in the tuple is important"
      ]
    },
    {
      "cell_type": "code",
      "metadata": {
        "id": "xmye0goKtwzF",
        "colab": {
          "base_uri": "https://localhost:8080/"
        },
        "outputId": "11a6c506-89c5-47f7-8baa-55ea4b088ea7"
      },
      "source": [
        "testset = list(zip(reg_test_df.user.values, reg_test_df.movie.values, reg_test_df.rating.values))\n",
        "testset[:3]"
      ],
      "execution_count": 80,
      "outputs": [
        {
          "output_type": "execute_result",
          "data": {
            "text/plain": [
              "[(760104, 5, 5), (777147, 5, 5), (1451564, 5, 5)]"
            ]
          },
          "metadata": {
            "tags": []
          },
          "execution_count": 80
        }
      ]
    },
    {
      "cell_type": "markdown",
      "metadata": {
        "id": "I8tVWbQxyE38"
      },
      "source": [
        "## **Machine Learning Models**\n",
        "\n",
        ". Global dictionary that stores RMSE and MAPE for all the models.\n",
        "\n",
        "   . It stores the metrics in a dictionary of dictionaries\n",
        "\n",
        "   **Keys :** model name(string)\n",
        "\n",
        "   **Value :** dict(key : metric, value: value)"
      ]
    },
    {
      "cell_type": "code",
      "metadata": {
        "id": "6MRPGMrHx-93",
        "colab": {
          "base_uri": "https://localhost:8080/"
        },
        "outputId": "d75e429f-45bd-454f-c919-3c88c5fd93cc"
      },
      "source": [
        "models_evaluation_train = dict()\n",
        "models_evaluation_test = dict()\n",
        "\n",
        "models_evaluation_train, models_evaluation_test"
      ],
      "execution_count": 81,
      "outputs": [
        {
          "output_type": "execute_result",
          "data": {
            "text/plain": [
              "({}, {})"
            ]
          },
          "metadata": {
            "tags": []
          },
          "execution_count": 81
        }
      ]
    },
    {
      "cell_type": "markdown",
      "metadata": {
        "id": "NaVCga1wzNy-"
      },
      "source": [
        "**Utility functions for running regression models**"
      ]
    },
    {
      "cell_type": "code",
      "metadata": {
        "id": "AGayki_TzMI-"
      },
      "source": [
        "#To get rmse and mape given actual and predicted ratings.\n",
        "\n",
        "def get_error_metrics(y_true, y_pred):\n",
        "  rmse = np.sqrt(np.mean([ (y_true[i] - y_pred[i])**2 for i in range(len(y_pred)) ]))\n",
        "  mape = np.mean(np.abs((y_true - y_pred)/y_true))*100\n",
        "\n",
        "  return rmse, mape\n",
        "\n",
        "def run_xgboost(algo, x_train, y_train, x_test, y_test, verbose = True):\n",
        "    #it will return train and test results\n",
        "\n",
        "    #dictionaries to store train and test results.\n",
        "\n",
        "    train_results = dict()\n",
        "    test_results = dict()\n",
        "\n",
        "    #fit the model\n",
        "    print(\"Training the model...\")\n",
        "    start = datetime.now()\n",
        "    algo.fit(x_train, y_train, eval_metric = 'rmse')\n",
        "    print(\"Done. Time taken : {}\\n\".format(datetime.now() - start))\n",
        "    print(\"Done\\n\")\n",
        "\n",
        "    #from the trained model, get the predictions..\n",
        "    print(\"Evaluating the model with train data...\")\n",
        "    start = datetime.now()\n",
        "    y_train_pred = algo.predict(x_train)\n",
        "\n",
        "    #get the rmse and mape of train data...\n",
        "    rmse_train, mape_train = get_error_metrics(y_train.values, y_train_pred)\n",
        "\n",
        "    #Store the results in train_results dictionary.\n",
        "    train_results = {'rmse' : rmse_train,\n",
        "                     \"mape\" : mape_train,\n",
        "                     'predictions' : y_train_pred        \n",
        "    }\n",
        "\n",
        "    #get the test data predictions and compute rmse and mape\n",
        "    print(\"Evaluating test data.\")\n",
        "    y_test_pred = algo.predict(x_test)\n",
        "    rmse_test, mape_test = get_error_metrics(y_true=y_test.values, y_pred=y_test_pred)\n",
        "\n",
        "    #store them in our test results dictionary.\n",
        "    test_results = {'rmse': rmse_test,\n",
        "                    'mape': mape_test,\n",
        "                    'predictions': y_test_pred}\n",
        "\n",
        "    if verbose:\n",
        "      print(\"\\nTest Data\")\n",
        "      print('-'*50)\n",
        "      print('RMSE : ', rmse_test)\n",
        "      print(\"MAPE : \", mape_test)\n",
        "    #return these train and test results.\n",
        "    return train_results, test_results"
      ],
      "execution_count": 82,
      "outputs": []
    },
    {
      "cell_type": "markdown",
      "metadata": {
        "id": "IiIAhe-y8M_K"
      },
      "source": [
        "**Utility functions for surprise modes**"
      ]
    },
    {
      "cell_type": "code",
      "metadata": {
        "id": "QBTc3OoR8KPC"
      },
      "source": [
        "#it is just to make sure taht all of our algorithms should produce same results. Everytime they run\n",
        "\n",
        "my_seed = 15\n",
        "random.seed(my_seed)\n",
        "np.random.seed(my_seed)\n",
        "\n",
        "#get (actual_list, predicted_list) rating given list of predictions (prediction is a class in surprise)\n",
        "\n",
        "def get_ratings(predictions):\n",
        "  actual = np.array([pred.r_ui for pred in predictions])\n",
        "  pred = np.array([pred.est for pred in predictions])\n",
        "  return actual, pred\n",
        "\n",
        "\n",
        "# get 'RMSE' and \"MAPE\", given list of prediction objects\n",
        "\n",
        "def get_errors(predictions):\n",
        "  actual, pred = get_ratings(predictions)\n",
        "  rmse = np.sqrt(np.mean((pred - actual)**2))\n",
        "  mape = np.mean(np.abs(pred - actual)/actual)\n",
        "\n",
        "  return rmse, mape*100\n",
        "\n",
        "# It will return predicted ratings, rmse and mape of both train and test data\n",
        "\n",
        "def run_surprise(algo, trainset, testset, verbose=True):\n",
        "  #return train dict, test_dict. Each of them have 3 key-value pairs, which specify RMSE,\n",
        "  # MAPE and predicted ratings\n",
        "\n",
        "  start = datetime.now()\n",
        "  # dictionaries taht stores metrices for train and test\n",
        "  train = dict()\n",
        "  test = dict()\n",
        "\n",
        "  # train the algorithm with the trainset\n",
        "\n",
        "  st = datetime.now()\n",
        "  print(\"Training the model...\")\n",
        "  algo.fit(trainset)  \n",
        "  print(\"Don. time taken : {}\\n\".format(datetime.now() - st))\n",
        "\n",
        "  #Evaluating train data\n",
        "  st = datetime.now()\n",
        "  print(\"Evaluating the model with train data...\")\n",
        "  #get the train predictions(list of prediction class inside surprise)\n",
        "\n",
        "  train_preds = algo.test(trainset.build_testset())\n",
        "  #get predicted ratings from the train predictions\n",
        "  train_actual_ratings, train_pred_ratings = get_ratings(train_preds)\n",
        "\n",
        "  #get RMSE and MAPE from the train predictions\n",
        "  train_rmse, train_mape = get_errors(train_preds)\n",
        "  print(\"time taken : {}\".format(datetime.now() - st))\n",
        "  \n",
        "  if verbose:\n",
        "    print('-'*20)\n",
        "    print('Train Data')\n",
        "    print('-'*20)\n",
        "    print('RMSE : {}\\n\\nMAPE : {}\\n'.format(train_rmse, train_mape))\n",
        "\n",
        "    #store them in the train dictionary\n",
        "  if verbose:\n",
        "    print('Adding train results in the dictionary.')\n",
        "  train['rmse'] = train_rmse\n",
        "  train['mape'] = train_mape\n",
        "  train['predictions'] = train_pred_ratings\n",
        "\n",
        "  #Evaluating test data\n",
        "  st = datetime.now()\n",
        "  print('\\nEvaluating for test data.')\n",
        "  #get the predictions(list of prediction classes) of test data\n",
        "  test_preds = algo.test(testset)\n",
        "  #get the predicted ratings from the list of predictions\n",
        "\n",
        "  test_actual_ratings, test_pred_ratings = get_ratings(test_preds)\n",
        "  # get error metrics from the predicted and actual ratings\n",
        "\n",
        "  test_rmse, test_mape = get_errors(test_preds)\n",
        "  print('Time taken : {}'.format(datetime.now() - st))\n",
        "\n",
        "  if verbose:\n",
        "    print('-'*20)\n",
        "    print('Test Data')\n",
        "    print('-'*20)\n",
        "    print('RMSE : {}\\n\\nMAPE : {}\\n'.format(test_rmse, test_mape))\n",
        "\n",
        "  #store them in test dictionary\n",
        "  if verbose:\n",
        "    print('Storing the test results in test dictionary.')\n",
        "  test['rmse'] = test_rmse\n",
        "  test['mape'] = test_mape\n",
        "  test['predictions'] = test_pred_ratings\n",
        "  print('\\n'+\"-\"*50)\n",
        "  print('Toatl time taken to run this algorithm : ', datetime.now() - start)\n",
        "  return train, test"
      ],
      "execution_count": 83,
      "outputs": []
    },
    {
      "cell_type": "markdown",
      "metadata": {
        "id": "Oj3p5V7TC3pN"
      },
      "source": [
        "### **XGBoost with initial 13 features**"
      ]
    },
    {
      "cell_type": "code",
      "metadata": {
        "id": "zDCDqxi6CuOl"
      },
      "source": [
        "import xgboost as xgb\n",
        "from scipy.stats import randint as sp_randint\n",
        "from scipy import stats\n",
        "from sklearn.model_selection import RandomizedSearchCV"
      ],
      "execution_count": 84,
      "outputs": []
    },
    {
      "cell_type": "code",
      "metadata": {
        "id": "dnyWA7pzDQRa",
        "colab": {
          "base_uri": "https://localhost:8080/",
          "height": 564
        },
        "outputId": "750c7cef-281a-4ba6-cb7b-95350e28b5f2"
      },
      "source": [
        "#prepare train data\n",
        "x_train = reg_train.drop(['user', 'movie','rating'], axis=1)\n",
        "y_train = reg_train['rating']\n",
        "\n",
        "#prepare test data\n",
        "x_test = reg_test_df.drop(['user','movie','rating'], axis=1)\n",
        "y_test = reg_test_df['rating']\n",
        "\n",
        "#Hyperparameter tuning\n",
        "\n",
        "param = {'learning_rate' : stats.uniform(0.01, 0.2),\n",
        "         'n_estimators' : sp_randint(100, 1000),\n",
        "         'max_depth' : sp_randint(1, 10),\n",
        "         'min_child_weight' : sp_randint(1,8),\n",
        "         'gamma': stats.uniform(0, 0.02),\n",
        "         'subsample':stats.uniform(0.6, 0.4),\n",
        "         'reg_alpha' :sp_randint(0, 200),\n",
        "         'reg_lambda':stats.uniform(0, 200),\n",
        "         'colsample_bytree' : stats.uniform(0.6, 0.3)\n",
        "         }\n",
        "\n",
        "#initialize our first xgboost model\n",
        "xgbreg = xgb.XGBRegressor(silent=True, n_jobs=-1, random_state=15)\n",
        "start = datetime.now()\n",
        "print(\"TUning parameter: \\n\")\n",
        "xgb_best = RandomizedSearchCV(xgbreg, param_distributions=param,refit=False, scoring='neg_mean_squared_error',\n",
        "                              cv = 3, n_jobs = -1)\n",
        "xgb_best.fit(x_train, y_train)\n",
        "best_para = xgb_best.best_params_\n",
        "first_xgb = xgbreg.set_params(**best_para)\n",
        "\n",
        "print(\"Time taken to tune : {}\\n\".format(datetime.now() - start))\n",
        "\n",
        "train_results, test_results = run_xgboost(first_xgb, x_train, y_train, x_test, y_test)\n",
        "\n",
        "#store the results in models evaluations dictionaries\n",
        "models_evaluation_train['first_algo'] = train_results\n",
        "models_evaluation_test['first_algo'] = test_results\n",
        "\n",
        "xgb.plot_importance(first_xgb)\n",
        "plt.show()"
      ],
      "execution_count": 85,
      "outputs": [
        {
          "output_type": "stream",
          "text": [
            "TUning parameter: \n",
            "\n",
            "Time taken to tune : 0:02:29.920375\n",
            "\n",
            "Training the model...\n",
            "Done. Time taken : 0:00:20.844315\n",
            "\n",
            "Done\n",
            "\n",
            "Evaluating the model with train data...\n",
            "Evaluating test data.\n",
            "\n",
            "Test Data\n",
            "--------------------------------------------------\n",
            "RMSE :  1.0510168639694484\n",
            "MAPE :  31.78603542243779\n"
          ],
          "name": "stdout"
        },
        {
          "output_type": "display_data",
          "data": {
            "image/png": "[encoded data removed]",
            "text/plain": [
              "<Figure size 432x288 with 1 Axes>"
            ]
          },
          "metadata": {
            "tags": []
          }
        }
      ]
    },
    {
      "cell_type": "markdown",
      "metadata": {
        "id": "jDO7qUzD024g"
      },
      "source": [
        "### **Surprise Baseline Model**"
      ]
    },
    {
      "cell_type": "code",
      "metadata": {
        "id": "i5qeu1XxIVdx"
      },
      "source": [
        "from surprise import BaselineOnly"
      ],
      "execution_count": 86,
      "outputs": []
    },
    {
      "cell_type": "markdown",
      "metadata": {
        "id": "rznWg5CA1JHN"
      },
      "source": [
        "### **Predicting_rating : (baseline prediction)**\n",
        "\n",
        " http://surprise.readthedocs.io/en/stable/basic_algorithms.html#surprise.prediction_algorithms.baseline_only.BaselineOnly \n",
        "\n",
        " ![image.png](data:image/png;base64,iVBORw0KGgoAAAANSUhEUgAAAKsAAAAXCAYAAAB04L8XAAAE2UlEQVRoBe3ajZHkNBAFYIVwIRACGXAhEAIZQAaQwZEBl8GRAWQAGXAZcBkc9VF+Vb3y2CP7PLuGtapc+rHU/br7qaXxbmvz8r619ndr7c381TVyeeA8Hviqtfa5tfaxtfbTeWBdSC4PzD0gq3q+u7Lr3DnXyHk8kKyqVq7sOjniqs7ngWTVIEt2Tf+qLw+cwgN9Vg0o2RVpz1z8EPymtZYT4cxYXwrb15OPXkr/ml7YPMOlz6pZiKh/pXPC+m1r7ffpR6H2VeYe8EP50+Sn+duXG5FcYPODHv9eRUkwXoWxO41EiDN+3XEqwnb203un2+fLZNZf58P/6xHH5m+DFjpxEGLTUTsoO9PEYA/hvp2wvZornED8EK+9kjoEHDH3OU6evZnb8e930eZi533fWns3/fVKiv6ltXbmu2DdmfDDfnbMCYxMBH8tiDXi7y1k/bOcPHR+mOJ85F8o95IVUX+e+IZ7wVZ9crMtFTtOCWCINhBHHrF0/LjhuQm0DDI0XyzsUkEUHLiPPFqQaBT3qF4Y64lgnbGR43SUrLkT0iOOZGvTc+SPGvK23omrvbDYuME2JMsiDxIostWRO5A895vRZ4KxWCFmf19Ktu2z1qKQgRejeM1j470SstW5iCToI2TP+nt64otkr8yHk++OKnvIWolZOSb5wHe35BNHdeLdRS80ITuzNywBEtCzFpmDr2vJqVbHtMXCj6n6/DERu46lXdcjKSL1vsgmr3NH2/wdXanp8Ikz/dRrpwR7/cNUz7VwcBWPRZR+6fEAxJFZbQl0MlEfCPh7IizJyLg1dvpzFQHnp5Q139uUyF0feJPN6rh2LbeyVK4G/dy6bq3d69OHhU39uz42Va4Y9VxLAupJzldP4pO03DO9KhhpA1jTel1DdnbdSF3X9m2GCkYt9NqtWwMB19rxeyubLOEf8Z/gVucn4KObnI/JWCtLgacLUWqMkKNucL7tCbOmKxtnbU59x0fW9PYmphWbdbP4CMiR95gKLu1bWaLfjbWfdbdqRM3dOu8Zy4be2LzfW1dM99prpKc/REvWQQoyBQ/ue+urjDV7yI3MzCPbZu6JqJ9MD4N1Izgi13w2jJbYW+eHwPFLffekHYD3FBJoB0ZgbyTyPJrwgMewmp20bxGV023EBMjampGtq1nliWMe0EmgfF3wuSY+hB22+HZNtTkIslaQr84RY3fd+KGutcnjS/iqf+q8pfZWsoqHJ0WM2N9jg3kWn/wo4ay1ElJnDoUx0hiy9tkuc4+s4aDbUSzodK5tNM5PpjBXcFJClvQfXcNtc3gSHHhuZbwlLCNkJZuOfHKjYym+/OMdHyF59c8Shjq+law4Q2e+64tJ4lPlapu7Fc+/MpA6O4JwIKsD7I6RzNADemQfzmROJOekkITe2eX9kWAmn/V3ta0q+Txx2Lq2n1/9wy/kqmtc+zV9P2v68SP64lPjNSyzZjCZLCQgIOQdFvZMExnKYCUnCKwpbNgSmKzbUycj2jRnKWzng5xMiCeTnQWjhFjjNey3ZE5BZ1w9WkKKXYKHEWyfCKOjBGYY2RCMApUrwnMEx2Y/KiNu98R/b4XNnSvK5vjYgRwuyMjK8Qk8QrhDfukRd7RLYZRZGQ6bj9fBaKz2j9bdy7Nxort/d/XnHkh81O0fGkpstnuzTZ0AAAAASUVORK5CYII=)\n",
        "\n",
        " mu - Average of all rating in training data\n",
        "\n",
        " \n",
        " bu - User bias\n",
        "\n",
        "\n",
        " bi - item bias(movie biases)"
      ]
    },
    {
      "cell_type": "markdown",
      "metadata": {
        "id": "DXR7lXN92FqT"
      },
      "source": [
        "### **Optimization function(Least Square Problem)**\n",
        "\n",
        "http://surprise.readthedocs.io/en/stable/prediction_algorithms.html#baselines-estimates-configuration \n",
        "\n",
        "\n",
        "![image.png](data:image/png;base64,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)"
      ]
    },
    {
      "cell_type": "code",
      "metadata": {
        "id": "BVqfpBDM1IKX",
        "colab": {
          "base_uri": "https://localhost:8080/"
        },
        "outputId": "35023dcf-a9f8-4d4f-b1c4-fb4948d0ded1"
      },
      "source": [
        "#options are to specify., how to compute those user and item biases\n",
        "\n",
        "bsl_options = {'method' : 'sgd',\n",
        "               'learninig_rate' : .001\n",
        "    \n",
        "}\n",
        "\n",
        "bsl_algo = BaselineOnly(bsl_options = bsl_options)\n",
        "#it will return train and test results\n",
        "\n",
        "bsl_train_results, bsl_test_results = run_surprise(bsl_algo, trainset, testset, verbose=True)\n",
        "\n",
        "#just stores these error metrics in our models_evaluation datastructure\n",
        "models_evaluation_train['bsl_algo'] = bsl_train_results\n",
        "models_evaluation_test['bsl_algo'] = bsl_test_results"
      ],
      "execution_count": 97,
      "outputs": [
        {
          "output_type": "stream",
          "text": [
            "Training the model...\n",
            "Estimating biases using sgd...\n",
            "Don. time taken : 0:00:00.582713\n",
            "\n",
            "Evaluating the model with train data...\n",
            "time taken : 0:00:00.597388\n",
            "--------------------\n",
            "Train Data\n",
            "--------------------\n",
            "RMSE : 0.9306463853672049\n",
            "\n",
            "MAPE : 28.627714951730436\n",
            "\n",
            "Adding train results in the dictionary.\n",
            "\n",
            "Evaluating for test data.\n",
            "Time taken : 0:00:00.111661\n",
            "--------------------\n",
            "Test Data\n",
            "--------------------\n",
            "RMSE : 1.0538747947660807\n",
            "\n",
            "MAPE : 32.253564484203665\n",
            "\n",
            "Storing the test results in test dictionary.\n",
            "\n",
            "--------------------------------------------------\n",
            "Toatl time taken to run this algorithm :  0:00:01.294398\n"
          ],
          "name": "stdout"
        }
      ]
    },
    {
      "cell_type": "markdown",
      "metadata": {
        "id": "TwN0P-FF4AWA"
      },
      "source": [
        "## **XGBoost with initial 13 features and Surprise Baseline Predictor**\n",
        "\n",
        "**Updating Train Data**"
      ]
    },
    {
      "cell_type": "code",
      "metadata": {
        "id": "MCuHyS9G30F1",
        "colab": {
          "base_uri": "https://localhost:8080/",
          "height": 215
        },
        "outputId": "9f646ae0-7e3b-44c8-8663-8a9a8870c48b"
      },
      "source": [
        "#add our baseline_predicted value as our feature\n",
        "reg_train['bslpr'] = models_evaluation_train['bsl_algo']['predictions']\n",
        "reg_train.head()"
      ],
      "execution_count": 98,
      "outputs": [
        {
          "output_type": "execute_result",
          "data": {
            "text/html": [
              "<div>\n",
              "<style scoped>\n",
              "    .dataframe tbody tr th:only-of-type {\n",
              "        vertical-align: middle;\n",
              "    }\n",
              "\n",
              "    .dataframe tbody tr th {\n",
              "        vertical-align: top;\n",
              "    }\n",
              "\n",
              "    .dataframe thead th {\n",
              "        text-align: right;\n",
              "    }\n",
              "</style>\n",
              "<table border=\"1\" class=\"dataframe\">\n",
              "  <thead>\n",
              "    <tr style=\"text-align: right;\">\n",
              "      <th></th>\n",
              "      <th>user</th>\n",
              "      <th>movie</th>\n",
              "      <th>GAvg</th>\n",
              "      <th>sur1</th>\n",
              "      <th>sur2</th>\n",
              "      <th>sur3</th>\n",
              "      <th>sur4</th>\n",
              "      <th>sur5</th>\n",
              "      <th>smr1</th>\n",
              "      <th>smr2</th>\n",
              "      <th>smr3</th>\n",
              "      <th>smr4</th>\n",
              "      <th>smr5</th>\n",
              "      <th>UAvg</th>\n",
              "      <th>MAvg</th>\n",
              "      <th>rating</th>\n",
              "      <th>bslpr</th>\n",
              "    </tr>\n",
              "  </thead>\n",
              "  <tbody>\n",
              "    <tr>\n",
              "      <th>0</th>\n",
              "      <td>1117050</td>\n",
              "      <td>15</td>\n",
              "      <td>3.603745</td>\n",
              "      <td>2.25</td>\n",
              "      <td>2.25</td>\n",
              "      <td>2.25</td>\n",
              "      <td>2.25</td>\n",
              "      <td>2.25</td>\n",
              "      <td>2.25</td>\n",
              "      <td>2.25</td>\n",
              "      <td>2.25</td>\n",
              "      <td>2.25</td>\n",
              "      <td>2.25</td>\n",
              "      <td>3.222222</td>\n",
              "      <td>2.25</td>\n",
              "      <td>2</td>\n",
              "      <td>3.421890</td>\n",
              "    </tr>\n",
              "    <tr>\n",
              "      <th>1</th>\n",
              "      <td>1292631</td>\n",
              "      <td>15</td>\n",
              "      <td>3.603745</td>\n",
              "      <td>2.25</td>\n",
              "      <td>2.25</td>\n",
              "      <td>2.25</td>\n",
              "      <td>2.25</td>\n",
              "      <td>2.25</td>\n",
              "      <td>2.25</td>\n",
              "      <td>2.25</td>\n",
              "      <td>2.25</td>\n",
              "      <td>2.25</td>\n",
              "      <td>2.25</td>\n",
              "      <td>2.313131</td>\n",
              "      <td>2.25</td>\n",
              "      <td>1</td>\n",
              "      <td>3.421890</td>\n",
              "    </tr>\n",
              "    <tr>\n",
              "      <th>2</th>\n",
              "      <td>1550619</td>\n",
              "      <td>15</td>\n",
              "      <td>3.603745</td>\n",
              "      <td>2.25</td>\n",
              "      <td>2.25</td>\n",
              "      <td>2.25</td>\n",
              "      <td>2.25</td>\n",
              "      <td>2.25</td>\n",
              "      <td>2.25</td>\n",
              "      <td>2.25</td>\n",
              "      <td>2.25</td>\n",
              "      <td>2.25</td>\n",
              "      <td>2.25</td>\n",
              "      <td>4.000000</td>\n",
              "      <td>2.25</td>\n",
              "      <td>4</td>\n",
              "      <td>3.421890</td>\n",
              "    </tr>\n",
              "    <tr>\n",
              "      <th>3</th>\n",
              "      <td>1719753</td>\n",
              "      <td>15</td>\n",
              "      <td>3.603745</td>\n",
              "      <td>2.25</td>\n",
              "      <td>2.25</td>\n",
              "      <td>2.25</td>\n",
              "      <td>2.25</td>\n",
              "      <td>2.25</td>\n",
              "      <td>2.25</td>\n",
              "      <td>2.25</td>\n",
              "      <td>2.25</td>\n",
              "      <td>2.25</td>\n",
              "      <td>2.25</td>\n",
              "      <td>3.785714</td>\n",
              "      <td>2.25</td>\n",
              "      <td>2</td>\n",
              "      <td>3.421890</td>\n",
              "    </tr>\n",
              "    <tr>\n",
              "      <th>4</th>\n",
              "      <td>1830763</td>\n",
              "      <td>15</td>\n",
              "      <td>3.603745</td>\n",
              "      <td>2.25</td>\n",
              "      <td>2.25</td>\n",
              "      <td>2.25</td>\n",
              "      <td>2.25</td>\n",
              "      <td>2.25</td>\n",
              "      <td>2.25</td>\n",
              "      <td>2.25</td>\n",
              "      <td>2.25</td>\n",
              "      <td>2.25</td>\n",
              "      <td>2.25</td>\n",
              "      <td>2.978022</td>\n",
              "      <td>2.25</td>\n",
              "      <td>1</td>\n",
              "      <td>2.336162</td>\n",
              "    </tr>\n",
              "  </tbody>\n",
              "</table>\n",
              "</div>"
            ],
            "text/plain": [
              "      user  movie      GAvg  sur1  sur2  ...  smr5      UAvg  MAvg  rating     bslpr\n",
              "0  1117050     15  3.603745  2.25  2.25  ...  2.25  3.222222  2.25       2  3.421890\n",
              "1  1292631     15  3.603745  2.25  2.25  ...  2.25  2.313131  2.25       1  3.421890\n",
              "2  1550619     15  3.603745  2.25  2.25  ...  2.25  4.000000  2.25       4  3.421890\n",
              "3  1719753     15  3.603745  2.25  2.25  ...  2.25  3.785714  2.25       2  3.421890\n",
              "4  1830763     15  3.603745  2.25  2.25  ...  2.25  2.978022  2.25       1  2.336162\n",
              "\n",
              "[5 rows x 17 columns]"
            ]
          },
          "metadata": {
            "tags": []
          },
          "execution_count": 98
        }
      ]
    },
    {
      "cell_type": "markdown",
      "metadata": {
        "id": "CZ-frLY04tlc"
      },
      "source": [
        "**Updating Test Data**"
      ]
    },
    {
      "cell_type": "code",
      "metadata": {
        "id": "AyZustSB4yIu",
        "colab": {
          "base_uri": "https://localhost:8080/",
          "height": 215
        },
        "outputId": "d447931e-c3e0-4d08-bf9c-cbd7dba645f5"
      },
      "source": [
        "# add that baseline predicted ratings with surprise to the test data as well\n",
        "reg_test_df['bslpr'] = models_evaluation_test['bsl_algo']['predictions']\n",
        "\n",
        "reg_test_df.head()"
      ],
      "execution_count": 99,
      "outputs": [
        {
          "output_type": "execute_result",
          "data": {
            "text/html": [
              "<div>\n",
              "<style scoped>\n",
              "    .dataframe tbody tr th:only-of-type {\n",
              "        vertical-align: middle;\n",
              "    }\n",
              "\n",
              "    .dataframe tbody tr th {\n",
              "        vertical-align: top;\n",
              "    }\n",
              "\n",
              "    .dataframe thead th {\n",
              "        text-align: right;\n",
              "    }\n",
              "</style>\n",
              "<table border=\"1\" class=\"dataframe\">\n",
              "  <thead>\n",
              "    <tr style=\"text-align: right;\">\n",
              "      <th></th>\n",
              "      <th>user</th>\n",
              "      <th>movie</th>\n",
              "      <th>GAvg</th>\n",
              "      <th>sur1</th>\n",
              "      <th>sur2</th>\n",
              "      <th>sur3</th>\n",
              "      <th>sur4</th>\n",
              "      <th>sur5</th>\n",
              "      <th>smr1</th>\n",
              "      <th>smr2</th>\n",
              "      <th>smr3</th>\n",
              "      <th>smr4</th>\n",
              "      <th>smr5</th>\n",
              "      <th>UAvg</th>\n",
              "      <th>MAvg</th>\n",
              "      <th>rating</th>\n",
              "      <th>bslpr</th>\n",
              "    </tr>\n",
              "  </thead>\n",
              "  <tbody>\n",
              "    <tr>\n",
              "      <th>0</th>\n",
              "      <td>760104</td>\n",
              "      <td>5</td>\n",
              "      <td>3.603745</td>\n",
              "      <td>3.603745</td>\n",
              "      <td>3.603745</td>\n",
              "      <td>3.603745</td>\n",
              "      <td>3.603745</td>\n",
              "      <td>3.603745</td>\n",
              "      <td>3.603745</td>\n",
              "      <td>3.603745</td>\n",
              "      <td>3.603745</td>\n",
              "      <td>3.603745</td>\n",
              "      <td>3.603745</td>\n",
              "      <td>3.603745</td>\n",
              "      <td>3.603745</td>\n",
              "      <td>5</td>\n",
              "      <td>3.624708</td>\n",
              "    </tr>\n",
              "    <tr>\n",
              "      <th>1</th>\n",
              "      <td>777147</td>\n",
              "      <td>5</td>\n",
              "      <td>3.603745</td>\n",
              "      <td>3.603745</td>\n",
              "      <td>3.603745</td>\n",
              "      <td>3.603745</td>\n",
              "      <td>3.603745</td>\n",
              "      <td>3.603745</td>\n",
              "      <td>3.603745</td>\n",
              "      <td>3.603745</td>\n",
              "      <td>3.603745</td>\n",
              "      <td>3.603745</td>\n",
              "      <td>3.603745</td>\n",
              "      <td>3.603745</td>\n",
              "      <td>3.603745</td>\n",
              "      <td>5</td>\n",
              "      <td>3.624708</td>\n",
              "    </tr>\n",
              "    <tr>\n",
              "      <th>2</th>\n",
              "      <td>1451564</td>\n",
              "      <td>5</td>\n",
              "      <td>3.603745</td>\n",
              "      <td>3.603745</td>\n",
              "      <td>3.603745</td>\n",
              "      <td>3.603745</td>\n",
              "      <td>3.603745</td>\n",
              "      <td>3.603745</td>\n",
              "      <td>3.603745</td>\n",
              "      <td>3.603745</td>\n",
              "      <td>3.603745</td>\n",
              "      <td>3.603745</td>\n",
              "      <td>3.603745</td>\n",
              "      <td>3.603745</td>\n",
              "      <td>3.603745</td>\n",
              "      <td>5</td>\n",
              "      <td>3.624708</td>\n",
              "    </tr>\n",
              "    <tr>\n",
              "      <th>3</th>\n",
              "      <td>1496376</td>\n",
              "      <td>5</td>\n",
              "      <td>3.603745</td>\n",
              "      <td>3.603745</td>\n",
              "      <td>3.603745</td>\n",
              "      <td>3.603745</td>\n",
              "      <td>3.603745</td>\n",
              "      <td>3.603745</td>\n",
              "      <td>3.603745</td>\n",
              "      <td>3.603745</td>\n",
              "      <td>3.603745</td>\n",
              "      <td>3.603745</td>\n",
              "      <td>3.603745</td>\n",
              "      <td>3.603745</td>\n",
              "      <td>3.603745</td>\n",
              "      <td>1</td>\n",
              "      <td>3.624708</td>\n",
              "    </tr>\n",
              "    <tr>\n",
              "      <th>4</th>\n",
              "      <td>1748471</td>\n",
              "      <td>5</td>\n",
              "      <td>3.603745</td>\n",
              "      <td>3.603745</td>\n",
              "      <td>3.603745</td>\n",
              "      <td>3.603745</td>\n",
              "      <td>3.603745</td>\n",
              "      <td>3.603745</td>\n",
              "      <td>3.603745</td>\n",
              "      <td>3.603745</td>\n",
              "      <td>3.603745</td>\n",
              "      <td>3.603745</td>\n",
              "      <td>3.603745</td>\n",
              "      <td>3.603745</td>\n",
              "      <td>3.603745</td>\n",
              "      <td>5</td>\n",
              "      <td>3.624708</td>\n",
              "    </tr>\n",
              "  </tbody>\n",
              "</table>\n",
              "</div>"
            ],
            "text/plain": [
              "      user  movie      GAvg      sur1  ...      UAvg      MAvg  rating     bslpr\n",
              "0   760104      5  3.603745  3.603745  ...  3.603745  3.603745       5  3.624708\n",
              "1   777147      5  3.603745  3.603745  ...  3.603745  3.603745       5  3.624708\n",
              "2  1451564      5  3.603745  3.603745  ...  3.603745  3.603745       5  3.624708\n",
              "3  1496376      5  3.603745  3.603745  ...  3.603745  3.603745       1  3.624708\n",
              "4  1748471      5  3.603745  3.603745  ...  3.603745  3.603745       5  3.624708\n",
              "\n",
              "[5 rows x 17 columns]"
            ]
          },
          "metadata": {
            "tags": []
          },
          "execution_count": 99
        }
      ]
    },
    {
      "cell_type": "code",
      "metadata": {
        "id": "CZrRImvcSHwj"
      },
      "source": [
        ""
      ],
      "execution_count": 99,
      "outputs": []
    },
    {
      "cell_type": "code",
      "metadata": {
        "id": "YohVyyMS6sO_",
        "colab": {
          "base_uri": "https://localhost:8080/",
          "height": 564
        },
        "outputId": "a45e9a6d-9d55-43b6-96fc-d2cedb11d1fe"
      },
      "source": [
        "#prepare train data\n",
        "\n",
        "x_train = reg_train.drop(['user', 'movie', 'rating'], axis=1)\n",
        "y_train = reg_train['rating']\n",
        "\n",
        "#preparing test data\n",
        "x_test = reg_test_df.drop(['user', 'movie', 'rating'], axis=1)\n",
        "y_test = reg_test_df['rating']\n",
        "\n",
        "\n",
        "params = {'learning_rate' : stats.uniform(0.01, 0.2),\n",
        "          'n_estimators':sp_randint(100,1000),\n",
        "          'max_depth': sp_randint(1, 10),\n",
        "          'min_child_weight':sp_randint(1, 8),\n",
        "          'gamma' : stats.uniform(0, 0.02),\n",
        "          'subsample': stats.uniform(0.6,0.4),\n",
        "          'reg_alpha' : sp_randint(0, 200),\n",
        "          'reg_lambda': stats.uniform(0, 200),\n",
        "          'colsample_bytree' : stats.uniform(0.6, 0.3)\n",
        "}\n",
        "\n",
        "#initialize xgboost model.\n",
        "xgbreg = xgb.XGBRegressor(silent=True, n_jobs=-1, random_stats=15)\n",
        "start = datetime.now()\n",
        "print('Tuning parameters.\\n')\n",
        "xgb_best = RandomizedSearchCV(xgbreg, param_distributions=params, refit=False, scoring = 'neg_mean_squared_error',\n",
        "                              n_jobs = -1, cv = 3)\n",
        "\n",
        "xgb_best.fit(x_train, y_train)\n",
        "best_para = xgb_best.best_params_\n",
        "\n",
        "xgb_bsl = xgbreg.set_params(**best_para)\n",
        "print('Time taken to tune : {}\\n'.format(datetime.now()-start))\n",
        "\n",
        "train_results, test_results = run_xgboost(xgb_bsl, x_train, y_train, x_test, y_test)\n",
        "\n",
        "#stores the results in models_evaluations dictionaries\n",
        "models_evaluation_train['xgb_knn_bsl'] = train_results\n",
        "models_evaluation_test['xgb_knn_bsl'] = test_results\n",
        "\n",
        "xgb.plot_importance(first_xgb)\n",
        "plt.show()"
      ],
      "execution_count": 100,
      "outputs": [
        {
          "output_type": "stream",
          "text": [
            "Tuning parameters.\n",
            "\n",
            "Time taken to tune : 0:04:09.632632\n",
            "\n",
            "Training the model...\n",
            "Done. Time taken : 0:00:13.606263\n",
            "\n",
            "Done\n",
            "\n",
            "Evaluating the model with train data...\n",
            "Evaluating test data.\n",
            "\n",
            "Test Data\n",
            "--------------------------------------------------\n",
            "RMSE :  1.0508711498714294\n",
            "MAPE :  31.711307044454372\n"
          ],
          "name": "stdout"
        },
        {
          "output_type": "display_data",
          "data": {
            "image/png": "[encoded data removed]",
            "text/plain": [
              "<Figure size 432x288 with 1 Axes>"
            ]
          },
          "metadata": {
            "tags": []
          }
        }
      ]
    },
    {
      "cell_type": "markdown",
      "metadata": {
        "id": "klA4cn0TTFBb"
      },
      "source": [
        "## **Suprise KNNBaseline Predictor**\n",
        "\n",
        "**KNN BASELINE**\n",
        "\n",
        "\n",
        "http://surprise.readthedocs.io/en/stable/knn_inspired.html#surprise.prediction_algorithms.knns.KNNBaseline\n",
        "\n",
        "\n",
        "**Pearson baseline similarity**\n",
        "\n",
        "http://surprise.readthedocs.io/en/stable/similarities.html#surprise.similarities.pearson_baseline\n",
        "\n",
        "\n",
        "\n",
        "**shrinkage**\n",
        "\n",
        "neighborhood models in\n",
        "\n",
        "http://courses.ischool.berkeley.edu/i290-dm/s11/SECURE/a1-koren.pdf"
      ]
    },
    {
      "cell_type": "code",
      "metadata": {
        "colab": {
          "base_uri": "https://localhost:8080/"
        },
        "id": "bUWuUKnEUF-w",
        "outputId": "3cf38d64-8ca3-45dd-94a1-3a9897b83141"
      },
      "source": [
        "from surprise import KNNBaseline\n",
        "\n",
        "#we specify, how to compute similarities and what to consider with sim_options to our algorithm\n",
        "\n",
        "sim_options = {'user_based': True,\n",
        "               'name': 'pearson_baseline',\n",
        "               'shrinkage':100,\n",
        "               'min_support':2    \n",
        "}\n",
        "\n",
        "#we keep other parameters like regularization parameter and learning rate as default values.\n",
        "bsl_options = {'method':'sgd'}\n",
        "knn_bsl_u = KNNBaseline(k=40, sim_options= sim_options, bsl_options = bsl_options)\n",
        "\n",
        "knn_bsl_u_train_results, knn_bsl_u_test_results = run_surprise(knn_bsl_u, trainset, testset, verbose=True)\n",
        "\n",
        "#just store these error metrics in our models_evaluation datastructure\n",
        "\n",
        "models_evaluation_train['knn_bsl_u'] = knn_bsl_u_train_results\n",
        "models_evaluation_test['knn_bsl_u'] = knn_bsl_u_test_results"
      ],
      "execution_count": 102,
      "outputs": [
        {
          "output_type": "stream",
          "text": [
            "Training the model...\n",
            "Estimating biases using sgd...\n",
            "Computing the pearson_baseline similarity matrix...\n",
            "Done computing similarity matrix.\n",
            "Don. time taken : 0:00:03.354329\n",
            "\n",
            "Evaluating the model with train data...\n",
            "time taken : 0:00:02.030941\n",
            "--------------------\n",
            "Train Data\n",
            "--------------------\n",
            "RMSE : 0.8955304404631884\n",
            "\n",
            "MAPE : 26.4188618421069\n",
            "\n",
            "Adding train results in the dictionary.\n",
            "\n",
            "Evaluating for test data.\n",
            "Time taken : 0:00:00.106229\n",
            "--------------------\n",
            "Test Data\n",
            "--------------------\n",
            "RMSE : 1.0538747947660807\n",
            "\n",
            "MAPE : 32.253564484203665\n",
            "\n",
            "Storing the test results in test dictionary.\n",
            "\n",
            "--------------------------------------------------\n",
            "Toatl time taken to run this algorithm :  0:00:05.493584\n"
          ],
          "name": "stdout"
        }
      ]
    },
    {
      "cell_type": "markdown",
      "metadata": {
        "id": "wmdMyKMmXNri"
      },
      "source": [
        "**Surprise KNNBaseline with movie movie similarities**"
      ]
    },
    {
      "cell_type": "code",
      "metadata": {
        "colab": {
          "base_uri": "https://localhost:8080/"
        },
        "id": "vEJ0TITbXjpX",
        "outputId": "f8da7634-3472-455d-d875-30701e445121"
      },
      "source": [
        "#we specify, how to compute similarities and what to consider with sim_options to our algorithm\n",
        "\n",
        "#'user_based' : False => this consider the similarities of movies instead of users\n",
        "\n",
        "sim_options = {'user_based' : False,\n",
        "               'name':'pearson_baseline',\n",
        "               'shrinkage': 100,\n",
        "               'min_support': 2\n",
        "               }\n",
        "\n",
        "#we keep other parameter like regularization parameter and learning_rate as default values.\n",
        "bsl_options = {'method': 'sgd'}\n",
        "\n",
        "knn_bsl_m = KNNBaseline(k=40, sim_options=sim_options, bsl_options = bsl_options)\n",
        "\n",
        "knn_bsl_m_train_results, knn_bsl_m_test_results = run_surprise(knn_bsl_m, trainset, testset, verbose=True)\n",
        "\n",
        "#just store these error metrics in our models_evaluation datastructure\n",
        "\n",
        "models_evaluation_train['knn_bsl_m'] = knn_bsl_m_train_results\n",
        "models_evaluation_test['knn_bsl_m'] = knn_bsl_m_test_results\n"
      ],
      "execution_count": 103,
      "outputs": [
        {
          "output_type": "stream",
          "text": [
            "Training the model...\n",
            "Estimating biases using sgd...\n",
            "Computing the pearson_baseline similarity matrix...\n",
            "Done computing similarity matrix.\n",
            "Don. time taken : 0:00:03.408226\n",
            "\n",
            "Evaluating the model with train data...\n",
            "time taken : 0:00:02.127065\n",
            "--------------------\n",
            "Train Data\n",
            "--------------------\n",
            "RMSE : 0.8955304404631884\n",
            "\n",
            "MAPE : 26.4188618421069\n",
            "\n",
            "Adding train results in the dictionary.\n",
            "\n",
            "Evaluating for test data.\n",
            "Time taken : 0:00:00.237266\n",
            "--------------------\n",
            "Test Data\n",
            "--------------------\n",
            "RMSE : 1.0538747947660807\n",
            "\n",
            "MAPE : 32.253564484203665\n",
            "\n",
            "Storing the test results in test dictionary.\n",
            "\n",
            "--------------------------------------------------\n",
            "Toatl time taken to run this algorithm :  0:00:05.774025\n"
          ],
          "name": "stdout"
        }
      ]
    },
    {
      "cell_type": "markdown",
      "metadata": {
        "id": "x8Nz2qUiClDb"
      },
      "source": [
        "### **XGBoost with initial 13 features, Surprise Baseline Predictor And KNNBaseline Predictor**\n",
        "\n",
        "\n",
        "\n",
        "*  First we will run XGBoost with predictions from both KNN's(User_User and Item_Item similarities along with previous features).\n",
        "*   Then we will run XGBoost with just predictions from both knn models and predictions from our baseline model.\n",
        "\n",
        "\n",
        "\n",
        "**Preparing Train Data**"
      ]
    },
    {
      "cell_type": "code",
      "metadata": {
        "colab": {
          "base_uri": "https://localhost:8080/",
          "height": 215
        },
        "id": "MJ3hB6HeD4r7",
        "outputId": "335b24b7-92de-4c35-8426-e8f076ddc288"
      },
      "source": [
        "#add the predicted values from both knn to this dataframe\n",
        "\n",
        "reg_train['knn_bsl_u'] = models_evaluation_train['knn_bsl_u']['predictions']\n",
        "reg_train['knn_bsl_m'] = models_evaluation_train['knn_bsl_m']['predictions']\n",
        "\n",
        "reg_train.head()"
      ],
      "execution_count": 104,
      "outputs": [
        {
          "output_type": "execute_result",
          "data": {
            "text/html": [
              "<div>\n",
              "<style scoped>\n",
              "    .dataframe tbody tr th:only-of-type {\n",
              "        vertical-align: middle;\n",
              "    }\n",
              "\n",
              "    .dataframe tbody tr th {\n",
              "        vertical-align: top;\n",
              "    }\n",
              "\n",
              "    .dataframe thead th {\n",
              "        text-align: right;\n",
              "    }\n",
              "</style>\n",
              "<table border=\"1\" class=\"dataframe\">\n",
              "  <thead>\n",
              "    <tr style=\"text-align: right;\">\n",
              "      <th></th>\n",
              "      <th>user</th>\n",
              "      <th>movie</th>\n",
              "      <th>GAvg</th>\n",
              "      <th>sur1</th>\n",
              "      <th>sur2</th>\n",
              "      <th>sur3</th>\n",
              "      <th>sur4</th>\n",
              "      <th>sur5</th>\n",
              "      <th>smr1</th>\n",
              "      <th>smr2</th>\n",
              "      <th>smr3</th>\n",
              "      <th>smr4</th>\n",
              "      <th>smr5</th>\n",
              "      <th>UAvg</th>\n",
              "      <th>MAvg</th>\n",
              "      <th>rating</th>\n",
              "      <th>bslpr</th>\n",
              "      <th>knn_bsl_u</th>\n",
              "      <th>knn_bsl_m</th>\n",
              "    </tr>\n",
              "  </thead>\n",
              "  <tbody>\n",
              "    <tr>\n",
              "      <th>0</th>\n",
              "      <td>1117050</td>\n",
              "      <td>15</td>\n",
              "      <td>3.603745</td>\n",
              "      <td>2.25</td>\n",
              "      <td>2.25</td>\n",
              "      <td>2.25</td>\n",
              "      <td>2.25</td>\n",
              "      <td>2.25</td>\n",
              "      <td>2.25</td>\n",
              "      <td>2.25</td>\n",
              "      <td>2.25</td>\n",
              "      <td>2.25</td>\n",
              "      <td>2.25</td>\n",
              "      <td>3.222222</td>\n",
              "      <td>2.25</td>\n",
              "      <td>2</td>\n",
              "      <td>3.421890</td>\n",
              "      <td>3.25</td>\n",
              "      <td>3.25</td>\n",
              "    </tr>\n",
              "    <tr>\n",
              "      <th>1</th>\n",
              "      <td>1292631</td>\n",
              "      <td>15</td>\n",
              "      <td>3.603745</td>\n",
              "      <td>2.25</td>\n",
              "      <td>2.25</td>\n",
              "      <td>2.25</td>\n",
              "      <td>2.25</td>\n",
              "      <td>2.25</td>\n",
              "      <td>2.25</td>\n",
              "      <td>2.25</td>\n",
              "      <td>2.25</td>\n",
              "      <td>2.25</td>\n",
              "      <td>2.25</td>\n",
              "      <td>2.313131</td>\n",
              "      <td>2.25</td>\n",
              "      <td>1</td>\n",
              "      <td>3.421890</td>\n",
              "      <td>3.25</td>\n",
              "      <td>3.25</td>\n",
              "    </tr>\n",
              "    <tr>\n",
              "      <th>2</th>\n",
              "      <td>1550619</td>\n",
              "      <td>15</td>\n",
              "      <td>3.603745</td>\n",
              "      <td>2.25</td>\n",
              "      <td>2.25</td>\n",
              "      <td>2.25</td>\n",
              "      <td>2.25</td>\n",
              "      <td>2.25</td>\n",
              "      <td>2.25</td>\n",
              "      <td>2.25</td>\n",
              "      <td>2.25</td>\n",
              "      <td>2.25</td>\n",
              "      <td>2.25</td>\n",
              "      <td>4.000000</td>\n",
              "      <td>2.25</td>\n",
              "      <td>4</td>\n",
              "      <td>3.421890</td>\n",
              "      <td>3.25</td>\n",
              "      <td>3.25</td>\n",
              "    </tr>\n",
              "    <tr>\n",
              "      <th>3</th>\n",
              "      <td>1719753</td>\n",
              "      <td>15</td>\n",
              "      <td>3.603745</td>\n",
              "      <td>2.25</td>\n",
              "      <td>2.25</td>\n",
              "      <td>2.25</td>\n",
              "      <td>2.25</td>\n",
              "      <td>2.25</td>\n",
              "      <td>2.25</td>\n",
              "      <td>2.25</td>\n",
              "      <td>2.25</td>\n",
              "      <td>2.25</td>\n",
              "      <td>2.25</td>\n",
              "      <td>3.785714</td>\n",
              "      <td>2.25</td>\n",
              "      <td>2</td>\n",
              "      <td>3.421890</td>\n",
              "      <td>3.25</td>\n",
              "      <td>3.25</td>\n",
              "    </tr>\n",
              "    <tr>\n",
              "      <th>4</th>\n",
              "      <td>1830763</td>\n",
              "      <td>15</td>\n",
              "      <td>3.603745</td>\n",
              "      <td>2.25</td>\n",
              "      <td>2.25</td>\n",
              "      <td>2.25</td>\n",
              "      <td>2.25</td>\n",
              "      <td>2.25</td>\n",
              "      <td>2.25</td>\n",
              "      <td>2.25</td>\n",
              "      <td>2.25</td>\n",
              "      <td>2.25</td>\n",
              "      <td>2.25</td>\n",
              "      <td>2.978022</td>\n",
              "      <td>2.25</td>\n",
              "      <td>1</td>\n",
              "      <td>2.336162</td>\n",
              "      <td>2.30</td>\n",
              "      <td>2.30</td>\n",
              "    </tr>\n",
              "  </tbody>\n",
              "</table>\n",
              "</div>"
            ],
            "text/plain": [
              "      user  movie      GAvg  sur1  ...  rating     bslpr  knn_bsl_u  knn_bsl_m\n",
              "0  1117050     15  3.603745  2.25  ...       2  3.421890       3.25       3.25\n",
              "1  1292631     15  3.603745  2.25  ...       1  3.421890       3.25       3.25\n",
              "2  1550619     15  3.603745  2.25  ...       4  3.421890       3.25       3.25\n",
              "3  1719753     15  3.603745  2.25  ...       2  3.421890       3.25       3.25\n",
              "4  1830763     15  3.603745  2.25  ...       1  2.336162       2.30       2.30\n",
              "\n",
              "[5 rows x 19 columns]"
            ]
          },
          "metadata": {
            "tags": []
          },
          "execution_count": 104
        }
      ]
    },
    {
      "cell_type": "markdown",
      "metadata": {
        "id": "xzKK1SCZEr-c"
      },
      "source": [
        "**Preparing Test Data**"
      ]
    },
    {
      "cell_type": "code",
      "metadata": {
        "colab": {
          "base_uri": "https://localhost:8080/",
          "height": 215
        },
        "id": "sa3Dc0m0EqiF",
        "outputId": "28a3fac3-1294-40b1-f05e-584655e9b978"
      },
      "source": [
        "reg_test_df['knn_bsl_u'] = models_evaluation_test['knn_bsl_u']['predictions']\n",
        "reg_test_df['knn_bsl_m'] = models_evaluation_test['knn_bsl_m']['predictions']\n",
        "\n",
        "reg_test_df.head()"
      ],
      "execution_count": 105,
      "outputs": [
        {
          "output_type": "execute_result",
          "data": {
            "text/html": [
              "<div>\n",
              "<style scoped>\n",
              "    .dataframe tbody tr th:only-of-type {\n",
              "        vertical-align: middle;\n",
              "    }\n",
              "\n",
              "    .dataframe tbody tr th {\n",
              "        vertical-align: top;\n",
              "    }\n",
              "\n",
              "    .dataframe thead th {\n",
              "        text-align: right;\n",
              "    }\n",
              "</style>\n",
              "<table border=\"1\" class=\"dataframe\">\n",
              "  <thead>\n",
              "    <tr style=\"text-align: right;\">\n",
              "      <th></th>\n",
              "      <th>user</th>\n",
              "      <th>movie</th>\n",
              "      <th>GAvg</th>\n",
              "      <th>sur1</th>\n",
              "      <th>sur2</th>\n",
              "      <th>sur3</th>\n",
              "      <th>sur4</th>\n",
              "      <th>sur5</th>\n",
              "      <th>smr1</th>\n",
              "      <th>smr2</th>\n",
              "      <th>smr3</th>\n",
              "      <th>smr4</th>\n",
              "      <th>smr5</th>\n",
              "      <th>UAvg</th>\n",
              "      <th>MAvg</th>\n",
              "      <th>rating</th>\n",
              "      <th>bslpr</th>\n",
              "      <th>knn_bsl_u</th>\n",
              "      <th>knn_bsl_m</th>\n",
              "    </tr>\n",
              "  </thead>\n",
              "  <tbody>\n",
              "    <tr>\n",
              "      <th>0</th>\n",
              "      <td>760104</td>\n",
              "      <td>5</td>\n",
              "      <td>3.603745</td>\n",
              "      <td>3.603745</td>\n",
              "      <td>3.603745</td>\n",
              "      <td>3.603745</td>\n",
              "      <td>3.603745</td>\n",
              "      <td>3.603745</td>\n",
              "      <td>3.603745</td>\n",
              "      <td>3.603745</td>\n",
              "      <td>3.603745</td>\n",
              "      <td>3.603745</td>\n",
              "      <td>3.603745</td>\n",
              "      <td>3.603745</td>\n",
              "      <td>3.603745</td>\n",
              "      <td>5</td>\n",
              "      <td>3.624708</td>\n",
              "      <td>3.624708</td>\n",
              "      <td>3.624708</td>\n",
              "    </tr>\n",
              "    <tr>\n",
              "      <th>1</th>\n",
              "      <td>777147</td>\n",
              "      <td>5</td>\n",
              "      <td>3.603745</td>\n",
              "      <td>3.603745</td>\n",
              "      <td>3.603745</td>\n",
              "      <td>3.603745</td>\n",
              "      <td>3.603745</td>\n",
              "      <td>3.603745</td>\n",
              "      <td>3.603745</td>\n",
              "      <td>3.603745</td>\n",
              "      <td>3.603745</td>\n",
              "      <td>3.603745</td>\n",
              "      <td>3.603745</td>\n",
              "      <td>3.603745</td>\n",
              "      <td>3.603745</td>\n",
              "      <td>5</td>\n",
              "      <td>3.624708</td>\n",
              "      <td>3.624708</td>\n",
              "      <td>3.624708</td>\n",
              "    </tr>\n",
              "    <tr>\n",
              "      <th>2</th>\n",
              "      <td>1451564</td>\n",
              "      <td>5</td>\n",
              "      <td>3.603745</td>\n",
              "      <td>3.603745</td>\n",
              "      <td>3.603745</td>\n",
              "      <td>3.603745</td>\n",
              "      <td>3.603745</td>\n",
              "      <td>3.603745</td>\n",
              "      <td>3.603745</td>\n",
              "      <td>3.603745</td>\n",
              "      <td>3.603745</td>\n",
              "      <td>3.603745</td>\n",
              "      <td>3.603745</td>\n",
              "      <td>3.603745</td>\n",
              "      <td>3.603745</td>\n",
              "      <td>5</td>\n",
              "      <td>3.624708</td>\n",
              "      <td>3.624708</td>\n",
              "      <td>3.624708</td>\n",
              "    </tr>\n",
              "    <tr>\n",
              "      <th>3</th>\n",
              "      <td>1496376</td>\n",
              "      <td>5</td>\n",
              "      <td>3.603745</td>\n",
              "      <td>3.603745</td>\n",
              "      <td>3.603745</td>\n",
              "      <td>3.603745</td>\n",
              "      <td>3.603745</td>\n",
              "      <td>3.603745</td>\n",
              "      <td>3.603745</td>\n",
              "      <td>3.603745</td>\n",
              "      <td>3.603745</td>\n",
              "      <td>3.603745</td>\n",
              "      <td>3.603745</td>\n",
              "      <td>3.603745</td>\n",
              "      <td>3.603745</td>\n",
              "      <td>1</td>\n",
              "      <td>3.624708</td>\n",
              "      <td>3.624708</td>\n",
              "      <td>3.624708</td>\n",
              "    </tr>\n",
              "    <tr>\n",
              "      <th>4</th>\n",
              "      <td>1748471</td>\n",
              "      <td>5</td>\n",
              "      <td>3.603745</td>\n",
              "      <td>3.603745</td>\n",
              "      <td>3.603745</td>\n",
              "      <td>3.603745</td>\n",
              "      <td>3.603745</td>\n",
              "      <td>3.603745</td>\n",
              "      <td>3.603745</td>\n",
              "      <td>3.603745</td>\n",
              "      <td>3.603745</td>\n",
              "      <td>3.603745</td>\n",
              "      <td>3.603745</td>\n",
              "      <td>3.603745</td>\n",
              "      <td>3.603745</td>\n",
              "      <td>5</td>\n",
              "      <td>3.624708</td>\n",
              "      <td>3.624708</td>\n",
              "      <td>3.624708</td>\n",
              "    </tr>\n",
              "  </tbody>\n",
              "</table>\n",
              "</div>"
            ],
            "text/plain": [
              "      user  movie      GAvg      sur1  ...  rating     bslpr  knn_bsl_u  knn_bsl_m\n",
              "0   760104      5  3.603745  3.603745  ...       5  3.624708   3.624708   3.624708\n",
              "1   777147      5  3.603745  3.603745  ...       5  3.624708   3.624708   3.624708\n",
              "2  1451564      5  3.603745  3.603745  ...       5  3.624708   3.624708   3.624708\n",
              "3  1496376      5  3.603745  3.603745  ...       1  3.624708   3.624708   3.624708\n",
              "4  1748471      5  3.603745  3.603745  ...       5  3.624708   3.624708   3.624708\n",
              "\n",
              "[5 rows x 19 columns]"
            ]
          },
          "metadata": {
            "tags": []
          },
          "execution_count": 105
        }
      ]
    },
    {
      "cell_type": "code",
      "metadata": {
        "colab": {
          "base_uri": "https://localhost:8080/",
          "height": 564
        },
        "id": "AcXG1YJoFXP5",
        "outputId": "d689f5c5-2f0e-42ee-8bc8-4fb7f9997c9b"
      },
      "source": [
        "#prepare the train data\n",
        "\n",
        "x_train = reg_train.drop(['user','movie', 'rating'], axis = 1)\n",
        "y_train = reg_train['rating']\n",
        "\n",
        "\n",
        "#prepare the train data\n",
        "x_test = reg_test_df.drop(['user', 'movie', 'rating'], axis=1)\n",
        "y_test = reg_test_df['rating']\n",
        "\n",
        "params = {'learning_rate' : stats.uniform(0.01, 0.2),\n",
        "          'n_estimators':sp_randint(100, 1000),\n",
        "          'max_depth' : sp_randint(1, 10),\n",
        "          'min_child_weight': sp_randint(1,8),\n",
        "          'gamma': stats.uniform(0, 0.02),\n",
        "          'subsample' : stats.uniform(0.6, 0.4),\n",
        "          'reg_alpha' : sp_randint(0, 200),\n",
        "          'reg_lambda': stats.uniform(0, 200),\n",
        "          'colsample_bytree':stats.uniform(0.6, 0.3)\n",
        "    \n",
        "}\n",
        "\n",
        "#Declare xgboost model\n",
        "\n",
        "xgbreg = xgb.XGBRegressor(silent=True, n_jobs=-1, random_state=15)\n",
        "start = datetime.now()\n",
        "print(\"Tuning parameter\\n\")\n",
        "xgb_best = RandomizedSearchCV(xgbreg, param_distributions=params, refit=False, scoring='neg_mean_squared_error',\n",
        "                              n_jobs=-1, cv=3)\n",
        "\n",
        "xgb_best.fit(x_train, y_train)\n",
        "best_para = xgb_best.best_params_\n",
        "\n",
        "xgb_knn_bsl = xgbreg.set_params(**best_para)\n",
        "print('Time taken to tune : {}\\n'.format(datetime.now() - start))\n",
        "\n",
        "train_results, test_results = run_xgboost(xgb_knn_bsl, x_train, y_train, x_test, y_test)\n",
        "\n",
        "#store the results in model_evaluations dictionaries\n",
        "\n",
        "models_evaluation_train['xgb_knn_bsl'] = train_results\n",
        "models_evaluation_test['xgb_knn_bsl'] = test_results\n",
        "\n",
        "xgb.plot_importance(xgb_knn_bsl)\n",
        "plt.show()"
      ],
      "execution_count": 107,
      "outputs": [
        {
          "output_type": "stream",
          "text": [
            "Tuning parameter\n",
            "\n",
            "Time taken to tune : 0:05:04.467406\n",
            "\n",
            "Training the model...\n",
            "Done. Time taken : 0:00:07.979290\n",
            "\n",
            "Done\n",
            "\n",
            "Evaluating the model with train data...\n",
            "Evaluating test data.\n",
            "\n",
            "Test Data\n",
            "--------------------------------------------------\n",
            "RMSE :  1.0461163898476744\n",
            "MAPE :  31.98379315539856\n"
          ],
          "name": "stdout"
        },
        {
          "output_type": "display_data",
          "data": {
            "image/png": "[encoded data removed]",
            "text/plain": [
              "<Figure size 432x288 with 1 Axes>"
            ]
          },
          "metadata": {
            "tags": []
          }
        }
      ]
    },
    {
      "cell_type": "markdown",
      "metadata": {
        "id": "ytUUTdIFJh7Y"
      },
      "source": [
        "## **Matrix Factorization Techniques**\n",
        "\n",
        "**SVD Matrix Factorization user movie intractions**"
      ]
    },
    {
      "cell_type": "code",
      "metadata": {
        "id": "Geg1VdEWpOgi"
      },
      "source": [
        "from surprise import SVD"
      ],
      "execution_count": 118,
      "outputs": []
    },
    {
      "cell_type": "markdown",
      "metadata": {
        "id": "7el672VcKZer"
      },
      "source": [
        "### **Predicting Rating:**"
      ]
    },
    {
      "cell_type": "markdown",
      "metadata": {
        "id": "B_tHcUCbpgHA"
      },
      "source": [
        "### **Optimazation problem with user item interactios and regularization(to avoid overfitting)**"
      ]
    },
    {
      "cell_type": "code",
      "metadata": {
        "colab": {
          "base_uri": "https://localhost:8080/"
        },
        "id": "rwx01W0Epyt8",
        "outputId": "f4b0e11f-96a6-4ccd-e94c-a7c52232dca4"
      },
      "source": [
        "#initialize the model\n",
        "svd = SVD(n_factors=100, biased=True, random_state=15, verbose=True)\n",
        "svd_train_results, svd_test_results = run_surprise(svd, trainset, testset, verbose=True)\n",
        "\n",
        "#just store these error metrics in our models_evaluation datastructure\n",
        "\n",
        "models_evaluation_train['svd'] = svd_train_results\n",
        "models_evaluation_test['svd'] = svd_test_results"
      ],
      "execution_count": 120,
      "outputs": [
        {
          "output_type": "stream",
          "text": [
            "Training the model...\n",
            "Processing epoch 0\n",
            "Processing epoch 1\n",
            "Processing epoch 2\n",
            "Processing epoch 3\n",
            "Processing epoch 4\n",
            "Processing epoch 5\n",
            "Processing epoch 6\n",
            "Processing epoch 7\n",
            "Processing epoch 8\n",
            "Processing epoch 9\n",
            "Processing epoch 10\n",
            "Processing epoch 11\n",
            "Processing epoch 12\n",
            "Processing epoch 13\n",
            "Processing epoch 14\n",
            "Processing epoch 15\n",
            "Processing epoch 16\n",
            "Processing epoch 17\n",
            "Processing epoch 18\n",
            "Processing epoch 19\n",
            "Don. time taken : 0:00:02.997541\n",
            "\n",
            "Evaluating the model with train data...\n",
            "time taken : 0:00:00.575105\n",
            "--------------------\n",
            "Train Data\n",
            "--------------------\n",
            "RMSE : 0.9130338335710877\n",
            "\n",
            "MAPE : 27.840056724141387\n",
            "\n",
            "Adding train results in the dictionary.\n",
            "\n",
            "Evaluating for test data.\n",
            "Time taken : 0:00:00.103193\n",
            "--------------------\n",
            "Test Data\n",
            "--------------------\n",
            "RMSE : 1.053972338086155\n",
            "\n",
            "MAPE : 32.25979142901061\n",
            "\n",
            "Storing the test results in test dictionary.\n",
            "\n",
            "--------------------------------------------------\n",
            "Toatl time taken to run this algorithm :  0:00:03.677846\n"
          ],
          "name": "stdout"
        }
      ]
    },
    {
      "cell_type": "code",
      "metadata": {
        "colab": {
          "base_uri": "https://localhost:8080/"
        },
        "id": "ukVtnYr5J52U",
        "outputId": "5c38983b-77cd-48cd-83be-f7e4ccfb80ff"
      },
      "source": [
        "#initialize the model\n",
        "svdpp = SVDpp(n_factors=50, random_state = 15, verbose=True)\n",
        "svdpp_train_results, svdapp_test_results = run_surprise(svdpp, trainset, testset, verbose=True)\n",
        "\n",
        "#just store these error metrics in our model_evaluation datastructure\n",
        "\n",
        "models_evaluation_train['knn_bsl_m'] = knn_bsl_m_train_results\n",
        "models_evaluation_test['knn_bsl_m'] = knn_bsl_m_test_results\n",
        "\n"
      ],
      "execution_count": 121,
      "outputs": [
        {
          "output_type": "stream",
          "text": [
            "Training the model...\n",
            " processing epoch 0\n",
            " processing epoch 1\n",
            " processing epoch 2\n",
            " processing epoch 3\n",
            " processing epoch 4\n",
            " processing epoch 5\n",
            " processing epoch 6\n",
            " processing epoch 7\n",
            " processing epoch 8\n",
            " processing epoch 9\n",
            " processing epoch 10\n",
            " processing epoch 11\n",
            " processing epoch 12\n",
            " processing epoch 13\n",
            " processing epoch 14\n",
            " processing epoch 15\n",
            " processing epoch 16\n",
            " processing epoch 17\n",
            " processing epoch 18\n",
            " processing epoch 19\n",
            "Don. time taken : 0:00:22.605942\n",
            "\n",
            "Evaluating the model with train data...\n",
            "time taken : 0:00:01.574600\n",
            "--------------------\n",
            "Train Data\n",
            "--------------------\n",
            "RMSE : 0.9071335746302033\n",
            "\n",
            "MAPE : 27.512404658542128\n",
            "\n",
            "Adding train results in the dictionary.\n",
            "\n",
            "Evaluating for test data.\n",
            "Time taken : 0:00:00.234044\n",
            "--------------------\n",
            "Test Data\n",
            "--------------------\n",
            "RMSE : 1.0541369616181917\n",
            "\n",
            "MAPE : 32.266986975290266\n",
            "\n",
            "Storing the test results in test dictionary.\n",
            "\n",
            "--------------------------------------------------\n",
            "Toatl time taken to run this algorithm :  0:00:24.416486\n"
          ],
          "name": "stdout"
        }
      ]
    },
    {
      "cell_type": "markdown",
      "metadata": {
        "id": "xySYcCPxlKVu"
      },
      "source": [
        "### **SVD Matrix Factorization with implicit feedback from user (user rated movie)**"
      ]
    },
    {
      "cell_type": "markdown",
      "metadata": {
        "id": "WuPjRgWcllgT"
      },
      "source": [
        "# **Predictd Rating**\n",
        "\n",
        "### **Optimization problem  with user item interactions and regularization(to avoid overfitting)**"
      ]
    },
    {
      "cell_type": "code",
      "metadata": {
        "colab": {
          "base_uri": "https://localhost:8080/"
        },
        "id": "NrZhXyBimDww",
        "outputId": "6db0383c-40fd-4ea3-8984-0ebd833ce3ec"
      },
      "source": [
        "#initialize the model\n",
        "svdpp = SVDpp(n_factors = 50, random_state = 15, verbose = True)\n",
        "svdpp_train_results, svd_test_results = run_surprise(svdpp, trainset, testset, verbose=True)\n",
        "\n",
        "#"
      ],
      "execution_count": 122,
      "outputs": [
        {
          "output_type": "stream",
          "text": [
            "Training the model...\n",
            " processing epoch 0\n",
            " processing epoch 1\n",
            " processing epoch 2\n",
            " processing epoch 3\n",
            " processing epoch 4\n",
            " processing epoch 5\n",
            " processing epoch 6\n",
            " processing epoch 7\n",
            " processing epoch 8\n",
            " processing epoch 9\n",
            " processing epoch 10\n",
            " processing epoch 11\n",
            " processing epoch 12\n",
            " processing epoch 13\n",
            " processing epoch 14\n",
            " processing epoch 15\n",
            " processing epoch 16\n",
            " processing epoch 17\n",
            " processing epoch 18\n",
            " processing epoch 19\n",
            "Don. time taken : 0:00:22.788092\n",
            "\n",
            "Evaluating the model with train data...\n",
            "time taken : 0:00:01.604232\n",
            "--------------------\n",
            "Train Data\n",
            "--------------------\n",
            "RMSE : 0.9071335746302033\n",
            "\n",
            "MAPE : 27.512404658542128\n",
            "\n",
            "Adding train results in the dictionary.\n",
            "\n",
            "Evaluating for test data.\n",
            "Time taken : 0:00:00.106561\n",
            "--------------------\n",
            "Test Data\n",
            "--------------------\n",
            "RMSE : 1.0541369616181917\n",
            "\n",
            "MAPE : 32.266986975290266\n",
            "\n",
            "Storing the test results in test dictionary.\n",
            "\n",
            "--------------------------------------------------\n",
            "Toatl time taken to run this algorithm :  0:00:24.499749\n"
          ],
          "name": "stdout"
        }
      ]
    },
    {
      "cell_type": "markdown",
      "metadata": {
        "id": "Z1ZlMJpirfc9"
      },
      "source": [
        "**SVD Matrix factorization with implicit feedback from user(user rated movies)**"
      ]
    },
    {
      "cell_type": "code",
      "metadata": {
        "id": "US2XFCaWreqd"
      },
      "source": [
        "from surprise import SVDpp"
      ],
      "execution_count": 123,
      "outputs": []
    },
    {
      "cell_type": "markdown",
      "metadata": {
        "id": "1KnJzTeir1gG"
      },
      "source": [
        "### **Predicted Rating:**"
      ]
    },
    {
      "cell_type": "markdown",
      "metadata": {
        "id": "ACdBteKar-Rn"
      },
      "source": [
        "### **Optimiazation problem with user item interactions and regularization(to avoid overfitting)**"
      ]
    },
    {
      "cell_type": "code",
      "metadata": {
        "colab": {
          "base_uri": "https://localhost:8080/"
        },
        "id": "DHx9Wk1xry8U",
        "outputId": "3fd94a62-347e-49b7-9b28-642d8e6a761e"
      },
      "source": [
        "#initialize  the model\n",
        "svdpp = SVDpp(n_factors=50, random_state=15, verbose=True)\n",
        "svdpp_train_results, svdapp_test_results = run_surprise(svdpp, trainset, testset, verbose=True)\n",
        "\n",
        "#just store these error metrics in our model evaluation datastructure\n",
        "\n",
        "models_evaluation_train['svdpp'] = svdpp_train_results\n",
        "models_evaluation_test['svdpp'] = svdapp_test_results"
      ],
      "execution_count": 124,
      "outputs": [
        {
          "output_type": "stream",
          "text": [
            "Training the model...\n",
            " processing epoch 0\n",
            " processing epoch 1\n",
            " processing epoch 2\n",
            " processing epoch 3\n",
            " processing epoch 4\n",
            " processing epoch 5\n",
            " processing epoch 6\n",
            " processing epoch 7\n",
            " processing epoch 8\n",
            " processing epoch 9\n",
            " processing epoch 10\n",
            " processing epoch 11\n",
            " processing epoch 12\n",
            " processing epoch 13\n",
            " processing epoch 14\n",
            " processing epoch 15\n",
            " processing epoch 16\n",
            " processing epoch 17\n",
            " processing epoch 18\n",
            " processing epoch 19\n",
            "Don. time taken : 0:00:23.428660\n",
            "\n",
            "Evaluating the model with train data...\n",
            "time taken : 0:00:01.849056\n",
            "--------------------\n",
            "Train Data\n",
            "--------------------\n",
            "RMSE : 0.9071335746302033\n",
            "\n",
            "MAPE : 27.512404658542128\n",
            "\n",
            "Adding train results in the dictionary.\n",
            "\n",
            "Evaluating for test data.\n",
            "Time taken : 0:00:00.263094\n",
            "--------------------\n",
            "Test Data\n",
            "--------------------\n",
            "RMSE : 1.0541369616181917\n",
            "\n",
            "MAPE : 32.266986975290266\n",
            "\n",
            "Storing the test results in test dictionary.\n",
            "\n",
            "--------------------------------------------------\n",
            "Toatl time taken to run this algorithm :  0:00:25.542744\n"
          ],
          "name": "stdout"
        }
      ]
    },
    {
      "cell_type": "code",
      "metadata": {
        "id": "oB4EAkYorzHn"
      },
      "source": [
        ""
      ],
      "execution_count": null,
      "outputs": []
    },
    {
      "cell_type": "markdown",
      "metadata": {
        "id": "62Mg28r6nWkv"
      },
      "source": [
        "## **XgBoost with 13 features and Surprise Baseline, Surprise KNNBaseline and MF techniques**\n",
        "\n",
        "**Preparing Train data**"
      ]
    },
    {
      "cell_type": "code",
      "metadata": {
        "colab": {
          "base_uri": "https://localhost:8080/",
          "height": 215
        },
        "id": "JpDGOzB4muuH",
        "outputId": "6f145293-2fe3-48e6-b57e-f0f07a1b64c5"
      },
      "source": [
        "#add the predicted values from both knn to this dataframe\n",
        "\n",
        "reg_train['svd'] = models_evaluation_train['svd']['predictions']\n",
        "reg_train['svdpp'] = models_evaluation_train['svdpp']['predictions']\n",
        "\n",
        "reg_train.head()"
      ],
      "execution_count": 125,
      "outputs": [
        {
          "output_type": "execute_result",
          "data": {
            "text/html": [
              "<div>\n",
              "<style scoped>\n",
              "    .dataframe tbody tr th:only-of-type {\n",
              "        vertical-align: middle;\n",
              "    }\n",
              "\n",
              "    .dataframe tbody tr th {\n",
              "        vertical-align: top;\n",
              "    }\n",
              "\n",
              "    .dataframe thead th {\n",
              "        text-align: right;\n",
              "    }\n",
              "</style>\n",
              "<table border=\"1\" class=\"dataframe\">\n",
              "  <thead>\n",
              "    <tr style=\"text-align: right;\">\n",
              "      <th></th>\n",
              "      <th>user</th>\n",
              "      <th>movie</th>\n",
              "      <th>GAvg</th>\n",
              "      <th>sur1</th>\n",
              "      <th>sur2</th>\n",
              "      <th>sur3</th>\n",
              "      <th>sur4</th>\n",
              "      <th>sur5</th>\n",
              "      <th>smr1</th>\n",
              "      <th>smr2</th>\n",
              "      <th>smr3</th>\n",
              "      <th>smr4</th>\n",
              "      <th>smr5</th>\n",
              "      <th>UAvg</th>\n",
              "      <th>MAvg</th>\n",
              "      <th>rating</th>\n",
              "      <th>bslpr</th>\n",
              "      <th>knn_bsl_u</th>\n",
              "      <th>knn_bsl_m</th>\n",
              "      <th>svd</th>\n",
              "      <th>svdpp</th>\n",
              "    </tr>\n",
              "  </thead>\n",
              "  <tbody>\n",
              "    <tr>\n",
              "      <th>0</th>\n",
              "      <td>1117050</td>\n",
              "      <td>15</td>\n",
              "      <td>3.603745</td>\n",
              "      <td>2.25</td>\n",
              "      <td>2.25</td>\n",
              "      <td>2.25</td>\n",
              "      <td>2.25</td>\n",
              "      <td>2.25</td>\n",
              "      <td>2.25</td>\n",
              "      <td>2.25</td>\n",
              "      <td>2.25</td>\n",
              "      <td>2.25</td>\n",
              "      <td>2.25</td>\n",
              "      <td>3.222222</td>\n",
              "      <td>2.25</td>\n",
              "      <td>2</td>\n",
              "      <td>3.421890</td>\n",
              "      <td>3.25</td>\n",
              "      <td>3.25</td>\n",
              "      <td>3.344186</td>\n",
              "      <td>3.288634</td>\n",
              "    </tr>\n",
              "    <tr>\n",
              "      <th>1</th>\n",
              "      <td>1292631</td>\n",
              "      <td>15</td>\n",
              "      <td>3.603745</td>\n",
              "      <td>2.25</td>\n",
              "      <td>2.25</td>\n",
              "      <td>2.25</td>\n",
              "      <td>2.25</td>\n",
              "      <td>2.25</td>\n",
              "      <td>2.25</td>\n",
              "      <td>2.25</td>\n",
              "      <td>2.25</td>\n",
              "      <td>2.25</td>\n",
              "      <td>2.25</td>\n",
              "      <td>2.313131</td>\n",
              "      <td>2.25</td>\n",
              "      <td>1</td>\n",
              "      <td>3.421890</td>\n",
              "      <td>3.25</td>\n",
              "      <td>3.25</td>\n",
              "      <td>3.344186</td>\n",
              "      <td>3.288634</td>\n",
              "    </tr>\n",
              "    <tr>\n",
              "      <th>2</th>\n",
              "      <td>1550619</td>\n",
              "      <td>15</td>\n",
              "      <td>3.603745</td>\n",
              "      <td>2.25</td>\n",
              "      <td>2.25</td>\n",
              "      <td>2.25</td>\n",
              "      <td>2.25</td>\n",
              "      <td>2.25</td>\n",
              "      <td>2.25</td>\n",
              "      <td>2.25</td>\n",
              "      <td>2.25</td>\n",
              "      <td>2.25</td>\n",
              "      <td>2.25</td>\n",
              "      <td>4.000000</td>\n",
              "      <td>2.25</td>\n",
              "      <td>4</td>\n",
              "      <td>3.421890</td>\n",
              "      <td>3.25</td>\n",
              "      <td>3.25</td>\n",
              "      <td>3.344186</td>\n",
              "      <td>3.288634</td>\n",
              "    </tr>\n",
              "    <tr>\n",
              "      <th>3</th>\n",
              "      <td>1719753</td>\n",
              "      <td>15</td>\n",
              "      <td>3.603745</td>\n",
              "      <td>2.25</td>\n",
              "      <td>2.25</td>\n",
              "      <td>2.25</td>\n",
              "      <td>2.25</td>\n",
              "      <td>2.25</td>\n",
              "      <td>2.25</td>\n",
              "      <td>2.25</td>\n",
              "      <td>2.25</td>\n",
              "      <td>2.25</td>\n",
              "      <td>2.25</td>\n",
              "      <td>3.785714</td>\n",
              "      <td>2.25</td>\n",
              "      <td>2</td>\n",
              "      <td>3.421890</td>\n",
              "      <td>3.25</td>\n",
              "      <td>3.25</td>\n",
              "      <td>3.344186</td>\n",
              "      <td>3.288634</td>\n",
              "    </tr>\n",
              "    <tr>\n",
              "      <th>4</th>\n",
              "      <td>1830763</td>\n",
              "      <td>15</td>\n",
              "      <td>3.603745</td>\n",
              "      <td>2.25</td>\n",
              "      <td>2.25</td>\n",
              "      <td>2.25</td>\n",
              "      <td>2.25</td>\n",
              "      <td>2.25</td>\n",
              "      <td>2.25</td>\n",
              "      <td>2.25</td>\n",
              "      <td>2.25</td>\n",
              "      <td>2.25</td>\n",
              "      <td>2.25</td>\n",
              "      <td>2.978022</td>\n",
              "      <td>2.25</td>\n",
              "      <td>1</td>\n",
              "      <td>2.336162</td>\n",
              "      <td>2.30</td>\n",
              "      <td>2.30</td>\n",
              "      <td>2.335511</td>\n",
              "      <td>2.481326</td>\n",
              "    </tr>\n",
              "  </tbody>\n",
              "</table>\n",
              "</div>"
            ],
            "text/plain": [
              "      user  movie      GAvg  sur1  ...  knn_bsl_u  knn_bsl_m       svd     svdpp\n",
              "0  1117050     15  3.603745  2.25  ...       3.25       3.25  3.344186  3.288634\n",
              "1  1292631     15  3.603745  2.25  ...       3.25       3.25  3.344186  3.288634\n",
              "2  1550619     15  3.603745  2.25  ...       3.25       3.25  3.344186  3.288634\n",
              "3  1719753     15  3.603745  2.25  ...       3.25       3.25  3.344186  3.288634\n",
              "4  1830763     15  3.603745  2.25  ...       2.30       2.30  2.335511  2.481326\n",
              "\n",
              "[5 rows x 21 columns]"
            ]
          },
          "metadata": {
            "tags": []
          },
          "execution_count": 125
        }
      ]
    },
    {
      "cell_type": "markdown",
      "metadata": {
        "id": "mmebsZd1tNlI"
      },
      "source": [
        "**Preparing test data**"
      ]
    },
    {
      "cell_type": "code",
      "metadata": {
        "colab": {
          "base_uri": "https://localhost:8080/",
          "height": 215
        },
        "id": "pj0xlyKTot90",
        "outputId": "332f1d4d-946e-4ffa-ec33-d08b5a06a34a"
      },
      "source": [
        "reg_test_df['svd'] = models_evaluation_test['svd']['predictions']\n",
        "reg_test_df['svdpp'] = models_evaluation_test['svdpp']['predictions']\n",
        "\n",
        "reg_test_df.head()"
      ],
      "execution_count": 126,
      "outputs": [
        {
          "output_type": "execute_result",
          "data": {
            "text/html": [
              "<div>\n",
              "<style scoped>\n",
              "    .dataframe tbody tr th:only-of-type {\n",
              "        vertical-align: middle;\n",
              "    }\n",
              "\n",
              "    .dataframe tbody tr th {\n",
              "        vertical-align: top;\n",
              "    }\n",
              "\n",
              "    .dataframe thead th {\n",
              "        text-align: right;\n",
              "    }\n",
              "</style>\n",
              "<table border=\"1\" class=\"dataframe\">\n",
              "  <thead>\n",
              "    <tr style=\"text-align: right;\">\n",
              "      <th></th>\n",
              "      <th>user</th>\n",
              "      <th>movie</th>\n",
              "      <th>GAvg</th>\n",
              "      <th>sur1</th>\n",
              "      <th>sur2</th>\n",
              "      <th>sur3</th>\n",
              "      <th>sur4</th>\n",
              "      <th>sur5</th>\n",
              "      <th>smr1</th>\n",
              "      <th>smr2</th>\n",
              "      <th>smr3</th>\n",
              "      <th>smr4</th>\n",
              "      <th>smr5</th>\n",
              "      <th>UAvg</th>\n",
              "      <th>MAvg</th>\n",
              "      <th>rating</th>\n",
              "      <th>bslpr</th>\n",
              "      <th>knn_bsl_u</th>\n",
              "      <th>knn_bsl_m</th>\n",
              "      <th>svd</th>\n",
              "      <th>svdpp</th>\n",
              "    </tr>\n",
              "  </thead>\n",
              "  <tbody>\n",
              "    <tr>\n",
              "      <th>0</th>\n",
              "      <td>760104</td>\n",
              "      <td>5</td>\n",
              "      <td>3.603745</td>\n",
              "      <td>3.603745</td>\n",
              "      <td>3.603745</td>\n",
              "      <td>3.603745</td>\n",
              "      <td>3.603745</td>\n",
              "      <td>3.603745</td>\n",
              "      <td>3.603745</td>\n",
              "      <td>3.603745</td>\n",
              "      <td>3.603745</td>\n",
              "      <td>3.603745</td>\n",
              "      <td>3.603745</td>\n",
              "      <td>3.603745</td>\n",
              "      <td>3.603745</td>\n",
              "      <td>5</td>\n",
              "      <td>3.624708</td>\n",
              "      <td>3.624708</td>\n",
              "      <td>3.624708</td>\n",
              "      <td>3.624708</td>\n",
              "      <td>3.624708</td>\n",
              "    </tr>\n",
              "    <tr>\n",
              "      <th>1</th>\n",
              "      <td>777147</td>\n",
              "      <td>5</td>\n",
              "      <td>3.603745</td>\n",
              "      <td>3.603745</td>\n",
              "      <td>3.603745</td>\n",
              "      <td>3.603745</td>\n",
              "      <td>3.603745</td>\n",
              "      <td>3.603745</td>\n",
              "      <td>3.603745</td>\n",
              "      <td>3.603745</td>\n",
              "      <td>3.603745</td>\n",
              "      <td>3.603745</td>\n",
              "      <td>3.603745</td>\n",
              "      <td>3.603745</td>\n",
              "      <td>3.603745</td>\n",
              "      <td>5</td>\n",
              "      <td>3.624708</td>\n",
              "      <td>3.624708</td>\n",
              "      <td>3.624708</td>\n",
              "      <td>3.624708</td>\n",
              "      <td>3.624708</td>\n",
              "    </tr>\n",
              "    <tr>\n",
              "      <th>2</th>\n",
              "      <td>1451564</td>\n",
              "      <td>5</td>\n",
              "      <td>3.603745</td>\n",
              "      <td>3.603745</td>\n",
              "      <td>3.603745</td>\n",
              "      <td>3.603745</td>\n",
              "      <td>3.603745</td>\n",
              "      <td>3.603745</td>\n",
              "      <td>3.603745</td>\n",
              "      <td>3.603745</td>\n",
              "      <td>3.603745</td>\n",
              "      <td>3.603745</td>\n",
              "      <td>3.603745</td>\n",
              "      <td>3.603745</td>\n",
              "      <td>3.603745</td>\n",
              "      <td>5</td>\n",
              "      <td>3.624708</td>\n",
              "      <td>3.624708</td>\n",
              "      <td>3.624708</td>\n",
              "      <td>3.624708</td>\n",
              "      <td>3.624708</td>\n",
              "    </tr>\n",
              "    <tr>\n",
              "      <th>3</th>\n",
              "      <td>1496376</td>\n",
              "      <td>5</td>\n",
              "      <td>3.603745</td>\n",
              "      <td>3.603745</td>\n",
              "      <td>3.603745</td>\n",
              "      <td>3.603745</td>\n",
              "      <td>3.603745</td>\n",
              "      <td>3.603745</td>\n",
              "      <td>3.603745</td>\n",
              "      <td>3.603745</td>\n",
              "      <td>3.603745</td>\n",
              "      <td>3.603745</td>\n",
              "      <td>3.603745</td>\n",
              "      <td>3.603745</td>\n",
              "      <td>3.603745</td>\n",
              "      <td>1</td>\n",
              "      <td>3.624708</td>\n",
              "      <td>3.624708</td>\n",
              "      <td>3.624708</td>\n",
              "      <td>3.624708</td>\n",
              "      <td>3.624708</td>\n",
              "    </tr>\n",
              "    <tr>\n",
              "      <th>4</th>\n",
              "      <td>1748471</td>\n",
              "      <td>5</td>\n",
              "      <td>3.603745</td>\n",
              "      <td>3.603745</td>\n",
              "      <td>3.603745</td>\n",
              "      <td>3.603745</td>\n",
              "      <td>3.603745</td>\n",
              "      <td>3.603745</td>\n",
              "      <td>3.603745</td>\n",
              "      <td>3.603745</td>\n",
              "      <td>3.603745</td>\n",
              "      <td>3.603745</td>\n",
              "      <td>3.603745</td>\n",
              "      <td>3.603745</td>\n",
              "      <td>3.603745</td>\n",
              "      <td>5</td>\n",
              "      <td>3.624708</td>\n",
              "      <td>3.624708</td>\n",
              "      <td>3.624708</td>\n",
              "      <td>3.624708</td>\n",
              "      <td>3.624708</td>\n",
              "    </tr>\n",
              "  </tbody>\n",
              "</table>\n",
              "</div>"
            ],
            "text/plain": [
              "      user  movie      GAvg      sur1  ...  knn_bsl_u  knn_bsl_m       svd     svdpp\n",
              "0   760104      5  3.603745  3.603745  ...   3.624708   3.624708  3.624708  3.624708\n",
              "1   777147      5  3.603745  3.603745  ...   3.624708   3.624708  3.624708  3.624708\n",
              "2  1451564      5  3.603745  3.603745  ...   3.624708   3.624708  3.624708  3.624708\n",
              "3  1496376      5  3.603745  3.603745  ...   3.624708   3.624708  3.624708  3.624708\n",
              "4  1748471      5  3.603745  3.603745  ...   3.624708   3.624708  3.624708  3.624708\n",
              "\n",
              "[5 rows x 21 columns]"
            ]
          },
          "metadata": {
            "tags": []
          },
          "execution_count": 126
        }
      ]
    },
    {
      "cell_type": "code",
      "metadata": {
        "id": "7oE_nEzltsdh"
      },
      "source": [
        ""
      ],
      "execution_count": null,
      "outputs": []
    }
  ]
}