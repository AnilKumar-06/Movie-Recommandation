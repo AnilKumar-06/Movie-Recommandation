{
  "nbformat": 4,
  "nbformat_minor": 0,
  "metadata": {
    "colab": {
      "name": "NetflixRecommandationSystem.ipynb",
      "provenance": [],
      "collapsed_sections": [],
      "include_colab_link": true
    },
    "kernelspec": {
      "name": "python3",
      "display_name": "Python 3"
    }
  },
  "cells": [
    {
      "cell_type": "markdown",
      "metadata": {
        "id": "view-in-github",
        "colab_type": "text"
      },
      "source": [
        "<a href=\"https://colab.research.google.com/github/AnilKumar-06/Movie-Recommandation/blob/main/NetflixRecommandationSystem.ipynb\" target=\"_parent\"><img src=\"https://colab.research.google.com/assets/colab-badge.svg\" alt=\"Open In Colab\"/></a>"
      ]
    },
    {
      "cell_type": "code",
      "metadata": {
        "colab": {
          "base_uri": "https://localhost:8080/"
        },
        "id": "Zg1vfTD0aQ0X",
        "outputId": "fb77c161-8a2d-4049-dff8-906cb8fc91cd"
      },
      "source": [
        "from google.colab import drive\r\n",
        "drive.mount('/content/drive/')"
      ],
      "execution_count": 55,
      "outputs": [
        {
          "output_type": "stream",
          "text": [
            "Drive already mounted at /content/drive/; to attempt to forcibly remount, call drive.mount(\"/content/drive/\", force_remount=True).\n"
          ],
          "name": "stdout"
        }
      ]
    },
    {
      "cell_type": "code",
      "metadata": {
        "id": "2NoLlrGteVDV"
      },
      "source": [
        "from datetime import datetime\r\n",
        "import pandas as pd\r\n",
        "import numpy as np\r\n",
        "import matplotlib\r\n",
        "#matplotlib.use('nbagg')\r\n",
        "\r\n",
        "import matplotlib.pyplot as plt\r\n",
        "#plt.rcParams.update({'figure.max_open_warning': 0})\r\n",
        "import seaborn as sns\r\n",
        "sns.set_style('whitegrid')\r\n",
        "import os\r\n",
        "from scipy import sparse\r\n",
        "from scipy.sparse import csr_matrix\r\n",
        "from sklearn.decomposition import TruncatedSVD\r\n",
        "from sklearn.metrics.pairwise import cosine_similarity\r\n",
        "import random"
      ],
      "execution_count": 56,
      "outputs": []
    },
    {
      "cell_type": "code",
      "metadata": {
        "id": "IwL1j8AphFdu"
      },
      "source": [
        "start = datetime.now()\r\n",
        "if not os.path.isfile('data.csv'):\r\n",
        "  data = open('data.csv', mode='w')\r\n",
        "  row = list()\r\n",
        "  files = ['/content/drive/MyDrive/ML_Projects/NetflixRecoomandation/combined_data_1.txt','/content/drive/MyDrive/ML_Projects/NetflixRecoomandation/combined_data_2.txt', '/content/drive/MyDrive/ML_Projects/NetflixRecoomandation/combined_data_3.txt', '/content/drive/MyDrive/ML_Projects/NetflixRecoomandation/combined_data_4.txt']\r\n",
        "\r\n",
        "  for file in files:\r\n",
        "    print('Reading rating from {}...'.format(file))\r\n",
        "    with open(file) as f:\r\n",
        "      for line in f:\r\n",
        "        del row[:] #you don't have to do this\r\n",
        "        line = line.strip()\r\n",
        "        if line.endswith(':'):\r\n",
        "          #all below are rating for this movie, until another\r\n",
        "          movie_id = line.replace(':', '')\r\n",
        "        else:\r\n",
        "          row = [x for x in line.split(',')]\r\n",
        "          row.insert(0, movie_id)\r\n",
        "          data.write(','.join(row))\r\n",
        "          data.write('\\n')\r\n",
        "\r\n",
        "    print('Done.\\n')\r\n",
        "  data.close()\r\n",
        "  print('Time taken :',datetime.now() - start)"
      ],
      "execution_count": 57,
      "outputs": []
    },
    {
      "cell_type": "code",
      "metadata": {
        "id": "Vg6me8_lmK3-",
        "colab": {
          "base_uri": "https://localhost:8080/"
        },
        "outputId": "967baab3-9ac2-4b16-9da3-61b43255ef46"
      },
      "source": [
        "print(\"Creating the dataframe from data.csv file...\")\r\n",
        "df = pd.read_csv('data.csv', sep=',',names = ['movie', 'user', 'rating', 'date'])\r\n",
        "df.date = pd.to_datetime(df.date)\r\n",
        "print('Done.\\n')\r\n",
        "\r\n",
        "#arranging the rating according to time\r\n",
        "print('Sorting the datetime by date...')\r\n",
        "df.sort_values(by='date', inplace=True)\r\n",
        "print('Done..')"
      ],
      "execution_count": 58,
      "outputs": [
        {
          "output_type": "stream",
          "text": [
            "Creating the dataframe from data.csv file...\n",
            "Done.\n",
            "\n",
            "Sorting the datetime by date...\n",
            "Done..\n"
          ],
          "name": "stdout"
        }
      ]
    },
    {
      "cell_type": "code",
      "metadata": {
        "id": "nQloFsuwoOM2",
        "colab": {
          "base_uri": "https://localhost:8080/",
          "height": 47
        },
        "outputId": "8f2eba73-b8d0-432b-91a8-d94d4110aa9c"
      },
      "source": [
        "df.head()"
      ],
      "execution_count": 59,
      "outputs": [
        {
          "output_type": "execute_result",
          "data": {
            "text/html": [
              "<div>\n",
              "<style scoped>\n",
              "    .dataframe tbody tr th:only-of-type {\n",
              "        vertical-align: middle;\n",
              "    }\n",
              "\n",
              "    .dataframe tbody tr th {\n",
              "        vertical-align: top;\n",
              "    }\n",
              "\n",
              "    .dataframe thead th {\n",
              "        text-align: right;\n",
              "    }\n",
              "</style>\n",
              "<table border=\"1\" class=\"dataframe\">\n",
              "  <thead>\n",
              "    <tr style=\"text-align: right;\">\n",
              "      <th></th>\n",
              "      <th>movie</th>\n",
              "      <th>user</th>\n",
              "      <th>rating</th>\n",
              "      <th>date</th>\n",
              "    </tr>\n",
              "  </thead>\n",
              "  <tbody>\n",
              "  </tbody>\n",
              "</table>\n",
              "</div>"
            ],
            "text/plain": [
              "Empty DataFrame\n",
              "Columns: [movie, user, rating, date]\n",
              "Index: []"
            ]
          },
          "metadata": {
            "tags": []
          },
          "execution_count": 59
        }
      ]
    },
    {
      "cell_type": "code",
      "metadata": {
        "id": "bI4xKuY3osVl",
        "colab": {
          "base_uri": "https://localhost:8080/"
        },
        "outputId": "996937eb-f730-4e5a-efe2-d564fec89da7"
      },
      "source": [
        "df.describe()['rating']"
      ],
      "execution_count": 54,
      "outputs": [
        {
          "output_type": "execute_result",
          "data": {
            "text/plain": [
              "count       0\n",
              "unique      0\n",
              "top       NaN\n",
              "freq      NaN\n",
              "Name: rating, dtype: object"
            ]
          },
          "metadata": {
            "tags": []
          },
          "execution_count": 54
        }
      ]
    },
    {
      "cell_type": "code",
      "metadata": {
        "id": "xouKb84Ko-DP",
        "colab": {
          "base_uri": "https://localhost:8080/"
        },
        "outputId": "abf49b24-9a95-4abe-d48d-f9f1a136d929"
      },
      "source": [
        "# Just to make sure that all NAN containing rows are deleted..\r\n",
        "\r\n",
        "print(\"Number of Nan values in our dataframe : \", sum(df.isnull().any()))"
      ],
      "execution_count": 48,
      "outputs": [
        {
          "output_type": "stream",
          "text": [
            "Number of Nan values in our dataframe :  0\n"
          ],
          "name": "stdout"
        }
      ]
    },
    {
      "cell_type": "markdown",
      "metadata": {
        "id": "uQ7zHwCGqLmh"
      },
      "source": [
        "Removing Duplicates"
      ]
    },
    {
      "cell_type": "code",
      "metadata": {
        "id": "xiom6HPRpc34",
        "colab": {
          "base_uri": "https://localhost:8080/"
        },
        "outputId": "01a678ac-976e-4a2b-a1d6-03baef5e165d"
      },
      "source": [
        "dup_bool = df.duplicated(['movie', 'user', 'rating'])\r\n",
        "dups = sum(dup_bool) #by considering all columns..(including timestamp)\r\n",
        "print(\"There are {} duplicate rating entries in the data...\".format(dups))"
      ],
      "execution_count": null,
      "outputs": [
        {
          "output_type": "stream",
          "text": [
            "There are 0 duplicate rating entries in the data...\n"
          ],
          "name": "stdout"
        }
      ]
    },
    {
      "cell_type": "markdown",
      "metadata": {
        "id": "5vjdTbVaqZdp"
      },
      "source": [
        "Basic Statistics(# of Rating, # of Users, # of Movies)"
      ]
    },
    {
      "cell_type": "code",
      "metadata": {
        "id": "ILlACSq3qHF0",
        "colab": {
          "base_uri": "https://localhost:8080/"
        },
        "outputId": "9d720809-fe19-4860-f4ac-eb12890e5ca5"
      },
      "source": [
        "print(\"Total Data\")\r\n",
        "print(\"-\"*70)\r\n",
        "print(\"\\nTotal no. of rating : \",df.shape[0])\r\n",
        "print(\"Total No. of Users : \", len(np.unique(df.user)))\r\n",
        "print(\"Total No. of Movies : \", len(np.unique(df.movie)))"
      ],
      "execution_count": null,
      "outputs": [
        {
          "output_type": "stream",
          "text": [
            "Total Data\n",
            "----------------------------------------------------------------------\n",
            "\n",
            "Total no. of rating :  0\n",
            "Total No. of Users :  0\n",
            "Total No. of Movies :  0\n"
          ],
          "name": "stdout"
        }
      ]
    },
    {
      "cell_type": "markdown",
      "metadata": {
        "id": "VG-8RRoor6cP"
      },
      "source": [
        "Spliting data into Train and Test"
      ]
    },
    {
      "cell_type": "code",
      "metadata": {
        "id": "yOfSodyHrcr2"
      },
      "source": [
        "if not os.path.isfile('train.csv'):\r\n",
        "  #create the dataframe and store it in the disk for offline purpose...\r\n",
        "  df.iloc[:int(df.shape[0]*0.80)].to_csv(\"train.csv\", index=False)\r\n",
        "\r\n",
        "if not os.path.isfile('test.csv'):\r\n",
        "  #creating the dataframe and store it in the disk for offline purpose...\r\n",
        "  df.iloc[int(df.shape[0]*0.80):].to_csv(\"test.csv\", index = False)\r\n",
        "\r\n",
        "train_df = pd.read_csv(\"train.csv\", parse_dates=['date'])\r\n",
        "test_df = pd.read_csv(\"test.csv\")"
      ],
      "execution_count": null,
      "outputs": []
    },
    {
      "cell_type": "markdown",
      "metadata": {
        "id": "yyISxCdqtuR8"
      },
      "source": [
        "Basic statistic in Train data (# of Ratings # of Users and # of Movies)"
      ]
    },
    {
      "cell_type": "code",
      "metadata": {
        "id": "IRDYRZ4Dtqby",
        "colab": {
          "base_uri": "https://localhost:8080/"
        },
        "outputId": "eb0293c7-ee18-4a7c-a88a-755c513c2e88"
      },
      "source": [
        "# movies = train_df.movie.value_counts()\r\n",
        "# users = train_df.user.value_counts()\r\n",
        "print(\"Training data\")\r\n",
        "print(\"-\"*70)\r\n",
        "print(\"\\nTotal no of ratings : \",test_df.shape[0])\r\n",
        "print(\"Total no of Users : \", len(np.unique(test_df.user)))\r\n",
        "print(\"Total no. of movies : \", len(np.unique(test_df.movie)))"
      ],
      "execution_count": null,
      "outputs": [
        {
          "output_type": "stream",
          "text": [
            "Training data\n",
            "----------------------------------------------------------------------\n",
            "\n",
            "Total no of ratings :  0\n",
            "Total no of Users :  0\n",
            "Total no. of movies :  0\n"
          ],
          "name": "stdout"
        }
      ]
    },
    {
      "cell_type": "markdown",
      "metadata": {
        "id": "0K6MQ5lOR7zF"
      },
      "source": [
        "EDA On Train data"
      ]
    },
    {
      "cell_type": "code",
      "metadata": {
        "id": "s28HdaTivb5I"
      },
      "source": [
        "def human(num, units = \"M\"):\r\n",
        "  units = units.lower()\r\n",
        "  num = float(num)\r\n",
        "  if units == 'k':\r\n",
        "    return str(num/10**3) + 'K'\r\n",
        "  elif units == 'M':\r\n",
        "    return str(num/10**6) + 'M'\r\n",
        "  elif units == 'b':\r\n",
        "    return str(num/10**9) + 'B'\r\n"
      ],
      "execution_count": null,
      "outputs": []
    },
    {
      "cell_type": "markdown",
      "metadata": {
        "id": "4_HwhdAeThab"
      },
      "source": [
        "Distribution of ratings"
      ]
    },
    {
      "cell_type": "code",
      "metadata": {
        "id": "I_9q9v3YTet3",
        "colab": {
          "base_uri": "https://localhost:8080/",
          "height": 707
        },
        "outputId": "8250cb3b-6bb7-4013-d6ca-c41b3aab675b"
      },
      "source": [
        "fig, ax = plt.subplots()\r\n",
        "plt.title(\"Distribution of ratings over Training dataset\", fontsize=15)\r\n",
        "sns.countplot(train_df.rating)\r\n",
        "ax.set_yticklabels([human(item, 'M') for item in ax.get_yticks()])\r\n",
        "ax.set_ylabel(\"No. of ratings(Millions)\")\r\n",
        "plt.show()"
      ],
      "execution_count": null,
      "outputs": [
        {
          "output_type": "stream",
          "text": [
            "/usr/local/lib/python3.6/dist-packages/seaborn/_decorators.py:43: FutureWarning: Pass the following variable as a keyword arg: x. From version 0.12, the only valid positional argument will be `data`, and passing other arguments without an explicit keyword will result in an error or misinterpretation.\n",
            "  FutureWarning\n"
          ],
          "name": "stderr"
        },
        {
          "output_type": "error",
          "ename": "ValueError",
          "evalue": "ignored",
          "traceback": [
            "\u001b[0;31m---------------------------------------------------------------------------\u001b[0m",
            "\u001b[0;31mValueError\u001b[0m                                Traceback (most recent call last)",
            "\u001b[0;32m<ipython-input-41-dc9f2b1fa9c3>\u001b[0m in \u001b[0;36m<module>\u001b[0;34m()\u001b[0m\n\u001b[1;32m      1\u001b[0m \u001b[0mfig\u001b[0m\u001b[0;34m,\u001b[0m \u001b[0max\u001b[0m \u001b[0;34m=\u001b[0m \u001b[0mplt\u001b[0m\u001b[0;34m.\u001b[0m\u001b[0msubplots\u001b[0m\u001b[0;34m(\u001b[0m\u001b[0;34m)\u001b[0m\u001b[0;34m\u001b[0m\u001b[0;34m\u001b[0m\u001b[0m\n\u001b[1;32m      2\u001b[0m \u001b[0mplt\u001b[0m\u001b[0;34m.\u001b[0m\u001b[0mtitle\u001b[0m\u001b[0;34m(\u001b[0m\u001b[0;34m\"Distribution of ratings over Training dataset\"\u001b[0m\u001b[0;34m,\u001b[0m \u001b[0mfontsize\u001b[0m\u001b[0;34m=\u001b[0m\u001b[0;36m15\u001b[0m\u001b[0;34m)\u001b[0m\u001b[0;34m\u001b[0m\u001b[0;34m\u001b[0m\u001b[0m\n\u001b[0;32m----> 3\u001b[0;31m \u001b[0msns\u001b[0m\u001b[0;34m.\u001b[0m\u001b[0mcountplot\u001b[0m\u001b[0;34m(\u001b[0m\u001b[0mtrain_df\u001b[0m\u001b[0;34m.\u001b[0m\u001b[0mrating\u001b[0m\u001b[0;34m)\u001b[0m\u001b[0;34m\u001b[0m\u001b[0;34m\u001b[0m\u001b[0m\n\u001b[0m\u001b[1;32m      4\u001b[0m \u001b[0max\u001b[0m\u001b[0;34m.\u001b[0m\u001b[0mset_yticklabels\u001b[0m\u001b[0;34m(\u001b[0m\u001b[0;34m[\u001b[0m\u001b[0mhuman\u001b[0m\u001b[0;34m(\u001b[0m\u001b[0mitem\u001b[0m\u001b[0;34m,\u001b[0m \u001b[0;34m'M'\u001b[0m\u001b[0;34m)\u001b[0m \u001b[0;32mfor\u001b[0m \u001b[0mitem\u001b[0m \u001b[0;32min\u001b[0m \u001b[0max\u001b[0m\u001b[0;34m.\u001b[0m\u001b[0mget_yticks\u001b[0m\u001b[0;34m(\u001b[0m\u001b[0;34m)\u001b[0m\u001b[0;34m]\u001b[0m\u001b[0;34m)\u001b[0m\u001b[0;34m\u001b[0m\u001b[0;34m\u001b[0m\u001b[0m\n\u001b[1;32m      5\u001b[0m \u001b[0max\u001b[0m\u001b[0;34m.\u001b[0m\u001b[0mset_ylabel\u001b[0m\u001b[0;34m(\u001b[0m\u001b[0;34m\"No. of ratings(Millions)\"\u001b[0m\u001b[0;34m)\u001b[0m\u001b[0;34m\u001b[0m\u001b[0;34m\u001b[0m\u001b[0m\n",
            "\u001b[0;32m/usr/local/lib/python3.6/dist-packages/seaborn/_decorators.py\u001b[0m in \u001b[0;36minner_f\u001b[0;34m(*args, **kwargs)\u001b[0m\n\u001b[1;32m     44\u001b[0m             )\n\u001b[1;32m     45\u001b[0m         \u001b[0mkwargs\u001b[0m\u001b[0;34m.\u001b[0m\u001b[0mupdate\u001b[0m\u001b[0;34m(\u001b[0m\u001b[0;34m{\u001b[0m\u001b[0mk\u001b[0m\u001b[0;34m:\u001b[0m \u001b[0marg\u001b[0m \u001b[0;32mfor\u001b[0m \u001b[0mk\u001b[0m\u001b[0;34m,\u001b[0m \u001b[0marg\u001b[0m \u001b[0;32min\u001b[0m \u001b[0mzip\u001b[0m\u001b[0;34m(\u001b[0m\u001b[0msig\u001b[0m\u001b[0;34m.\u001b[0m\u001b[0mparameters\u001b[0m\u001b[0;34m,\u001b[0m \u001b[0margs\u001b[0m\u001b[0;34m)\u001b[0m\u001b[0;34m}\u001b[0m\u001b[0;34m)\u001b[0m\u001b[0;34m\u001b[0m\u001b[0;34m\u001b[0m\u001b[0m\n\u001b[0;32m---> 46\u001b[0;31m         \u001b[0;32mreturn\u001b[0m \u001b[0mf\u001b[0m\u001b[0;34m(\u001b[0m\u001b[0;34m**\u001b[0m\u001b[0mkwargs\u001b[0m\u001b[0;34m)\u001b[0m\u001b[0;34m\u001b[0m\u001b[0;34m\u001b[0m\u001b[0m\n\u001b[0m\u001b[1;32m     47\u001b[0m     \u001b[0;32mreturn\u001b[0m \u001b[0minner_f\u001b[0m\u001b[0;34m\u001b[0m\u001b[0;34m\u001b[0m\u001b[0m\n\u001b[1;32m     48\u001b[0m \u001b[0;34m\u001b[0m\u001b[0m\n",
            "\u001b[0;32m/usr/local/lib/python3.6/dist-packages/seaborn/categorical.py\u001b[0m in \u001b[0;36mcountplot\u001b[0;34m(x, y, hue, data, order, hue_order, orient, color, palette, saturation, dodge, ax, **kwargs)\u001b[0m\n\u001b[1;32m   3597\u001b[0m         \u001b[0mestimator\u001b[0m\u001b[0;34m,\u001b[0m \u001b[0mci\u001b[0m\u001b[0;34m,\u001b[0m \u001b[0mn_boot\u001b[0m\u001b[0;34m,\u001b[0m \u001b[0munits\u001b[0m\u001b[0;34m,\u001b[0m \u001b[0mseed\u001b[0m\u001b[0;34m,\u001b[0m\u001b[0;34m\u001b[0m\u001b[0;34m\u001b[0m\u001b[0m\n\u001b[1;32m   3598\u001b[0m         \u001b[0morient\u001b[0m\u001b[0;34m,\u001b[0m \u001b[0mcolor\u001b[0m\u001b[0;34m,\u001b[0m \u001b[0mpalette\u001b[0m\u001b[0;34m,\u001b[0m \u001b[0msaturation\u001b[0m\u001b[0;34m,\u001b[0m\u001b[0;34m\u001b[0m\u001b[0;34m\u001b[0m\u001b[0m\n\u001b[0;32m-> 3599\u001b[0;31m         \u001b[0merrcolor\u001b[0m\u001b[0;34m,\u001b[0m \u001b[0merrwidth\u001b[0m\u001b[0;34m,\u001b[0m \u001b[0mcapsize\u001b[0m\u001b[0;34m,\u001b[0m \u001b[0mdodge\u001b[0m\u001b[0;34m\u001b[0m\u001b[0;34m\u001b[0m\u001b[0m\n\u001b[0m\u001b[1;32m   3600\u001b[0m     )\n\u001b[1;32m   3601\u001b[0m \u001b[0;34m\u001b[0m\u001b[0m\n",
            "\u001b[0;32m/usr/local/lib/python3.6/dist-packages/seaborn/categorical.py\u001b[0m in \u001b[0;36m__init__\u001b[0;34m(self, x, y, hue, data, order, hue_order, estimator, ci, n_boot, units, seed, orient, color, palette, saturation, errcolor, errwidth, capsize, dodge)\u001b[0m\n\u001b[1;32m   1584\u001b[0m         self.establish_variables(x, y, hue, data, orient,\n\u001b[1;32m   1585\u001b[0m                                  order, hue_order, units)\n\u001b[0;32m-> 1586\u001b[0;31m         \u001b[0mself\u001b[0m\u001b[0;34m.\u001b[0m\u001b[0mestablish_colors\u001b[0m\u001b[0;34m(\u001b[0m\u001b[0mcolor\u001b[0m\u001b[0;34m,\u001b[0m \u001b[0mpalette\u001b[0m\u001b[0;34m,\u001b[0m \u001b[0msaturation\u001b[0m\u001b[0;34m)\u001b[0m\u001b[0;34m\u001b[0m\u001b[0;34m\u001b[0m\u001b[0m\n\u001b[0m\u001b[1;32m   1587\u001b[0m         \u001b[0mself\u001b[0m\u001b[0;34m.\u001b[0m\u001b[0mestimate_statistic\u001b[0m\u001b[0;34m(\u001b[0m\u001b[0mestimator\u001b[0m\u001b[0;34m,\u001b[0m \u001b[0mci\u001b[0m\u001b[0;34m,\u001b[0m \u001b[0mn_boot\u001b[0m\u001b[0;34m,\u001b[0m \u001b[0mseed\u001b[0m\u001b[0;34m)\u001b[0m\u001b[0;34m\u001b[0m\u001b[0;34m\u001b[0m\u001b[0m\n\u001b[1;32m   1588\u001b[0m \u001b[0;34m\u001b[0m\u001b[0m\n",
            "\u001b[0;32m/usr/local/lib/python3.6/dist-packages/seaborn/categorical.py\u001b[0m in \u001b[0;36mestablish_colors\u001b[0;34m(self, color, palette, saturation)\u001b[0m\n\u001b[1;32m    317\u001b[0m         \u001b[0;31m# Determine the gray color to use for the lines framing the plot\u001b[0m\u001b[0;34m\u001b[0m\u001b[0;34m\u001b[0m\u001b[0;34m\u001b[0m\u001b[0m\n\u001b[1;32m    318\u001b[0m         \u001b[0mlight_vals\u001b[0m \u001b[0;34m=\u001b[0m \u001b[0;34m[\u001b[0m\u001b[0mcolorsys\u001b[0m\u001b[0;34m.\u001b[0m\u001b[0mrgb_to_hls\u001b[0m\u001b[0;34m(\u001b[0m\u001b[0;34m*\u001b[0m\u001b[0mc\u001b[0m\u001b[0;34m)\u001b[0m\u001b[0;34m[\u001b[0m\u001b[0;36m1\u001b[0m\u001b[0;34m]\u001b[0m \u001b[0;32mfor\u001b[0m \u001b[0mc\u001b[0m \u001b[0;32min\u001b[0m \u001b[0mrgb_colors\u001b[0m\u001b[0;34m]\u001b[0m\u001b[0;34m\u001b[0m\u001b[0;34m\u001b[0m\u001b[0m\n\u001b[0;32m--> 319\u001b[0;31m         \u001b[0mlum\u001b[0m \u001b[0;34m=\u001b[0m \u001b[0mmin\u001b[0m\u001b[0;34m(\u001b[0m\u001b[0mlight_vals\u001b[0m\u001b[0;34m)\u001b[0m \u001b[0;34m*\u001b[0m \u001b[0;36m.6\u001b[0m\u001b[0;34m\u001b[0m\u001b[0;34m\u001b[0m\u001b[0m\n\u001b[0m\u001b[1;32m    320\u001b[0m         \u001b[0mgray\u001b[0m \u001b[0;34m=\u001b[0m \u001b[0mmpl\u001b[0m\u001b[0;34m.\u001b[0m\u001b[0mcolors\u001b[0m\u001b[0;34m.\u001b[0m\u001b[0mrgb2hex\u001b[0m\u001b[0;34m(\u001b[0m\u001b[0;34m(\u001b[0m\u001b[0mlum\u001b[0m\u001b[0;34m,\u001b[0m \u001b[0mlum\u001b[0m\u001b[0;34m,\u001b[0m \u001b[0mlum\u001b[0m\u001b[0;34m)\u001b[0m\u001b[0;34m)\u001b[0m\u001b[0;34m\u001b[0m\u001b[0;34m\u001b[0m\u001b[0m\n\u001b[1;32m    321\u001b[0m \u001b[0;34m\u001b[0m\u001b[0m\n",
            "\u001b[0;31mValueError\u001b[0m: min() arg is an empty sequence"
          ]
        },
        {
          "output_type": "display_data",
          "data": {
            "image/png": "[encoded data removed]",
            "text/plain": [
              "<Figure size 432x288 with 1 Axes>"
            ]
          },
          "metadata": {
            "tags": []
          }
        }
      ]
    },
    {
      "cell_type": "code",
      "metadata": {
        "id": "du5hHRsjUf0G",
        "colab": {
          "base_uri": "https://localhost:8080/",
          "height": 669
        },
        "outputId": "e4a63dc9-8114-4465-9606-403ba0e2bbb0"
      },
      "source": [
        "# It is used to skip the warnings 'SettingWithCopyWarning'...\r\n",
        "pd.options.mode.chained_assignment = None        #default = 'warn'\r\n",
        "train_df['day_of_week'] = train_df.date.dt.day_name()\r\n",
        "#df['day_of_week'] = df['mydate'].dt.day_name() \r\n",
        "train_df.head(20)\r\n",
        "\r\n"
      ],
      "execution_count": null,
      "outputs": [
        {
          "output_type": "execute_result",
          "data": {
            "text/html": [
              "<div>\n",
              "<style scoped>\n",
              "    .dataframe tbody tr th:only-of-type {\n",
              "        vertical-align: middle;\n",
              "    }\n",
              "\n",
              "    .dataframe tbody tr th {\n",
              "        vertical-align: top;\n",
              "    }\n",
              "\n",
              "    .dataframe thead th {\n",
              "        text-align: right;\n",
              "    }\n",
              "</style>\n",
              "<table border=\"1\" class=\"dataframe\">\n",
              "  <thead>\n",
              "    <tr style=\"text-align: right;\">\n",
              "      <th></th>\n",
              "      <th>movie</th>\n",
              "      <th>user</th>\n",
              "      <th>rating</th>\n",
              "      <th>date</th>\n",
              "      <th>day_of_week</th>\n",
              "    </tr>\n",
              "  </thead>\n",
              "  <tbody>\n",
              "    <tr>\n",
              "      <th>0</th>\n",
              "      <td>1367</td>\n",
              "      <td>510180</td>\n",
              "      <td>5</td>\n",
              "      <td>1999-11-11</td>\n",
              "      <td>Thursday</td>\n",
              "    </tr>\n",
              "    <tr>\n",
              "      <th>1</th>\n",
              "      <td>5625</td>\n",
              "      <td>510180</td>\n",
              "      <td>4</td>\n",
              "      <td>1999-11-11</td>\n",
              "      <td>Thursday</td>\n",
              "    </tr>\n",
              "    <tr>\n",
              "      <th>2</th>\n",
              "      <td>3730</td>\n",
              "      <td>510180</td>\n",
              "      <td>4</td>\n",
              "      <td>1999-11-11</td>\n",
              "      <td>Thursday</td>\n",
              "    </tr>\n",
              "    <tr>\n",
              "      <th>3</th>\n",
              "      <td>1798</td>\n",
              "      <td>510180</td>\n",
              "      <td>5</td>\n",
              "      <td>1999-11-11</td>\n",
              "      <td>Thursday</td>\n",
              "    </tr>\n",
              "    <tr>\n",
              "      <th>4</th>\n",
              "      <td>8357</td>\n",
              "      <td>510180</td>\n",
              "      <td>4</td>\n",
              "      <td>1999-11-11</td>\n",
              "      <td>Thursday</td>\n",
              "    </tr>\n",
              "    <tr>\n",
              "      <th>5</th>\n",
              "      <td>8079</td>\n",
              "      <td>510180</td>\n",
              "      <td>2</td>\n",
              "      <td>1999-11-11</td>\n",
              "      <td>Thursday</td>\n",
              "    </tr>\n",
              "    <tr>\n",
              "      <th>6</th>\n",
              "      <td>5571</td>\n",
              "      <td>510180</td>\n",
              "      <td>4</td>\n",
              "      <td>1999-11-11</td>\n",
              "      <td>Thursday</td>\n",
              "    </tr>\n",
              "    <tr>\n",
              "      <th>7</th>\n",
              "      <td>6615</td>\n",
              "      <td>510180</td>\n",
              "      <td>5</td>\n",
              "      <td>1999-11-11</td>\n",
              "      <td>Thursday</td>\n",
              "    </tr>\n",
              "    <tr>\n",
              "      <th>8</th>\n",
              "      <td>3870</td>\n",
              "      <td>510180</td>\n",
              "      <td>2</td>\n",
              "      <td>1999-11-11</td>\n",
              "      <td>Thursday</td>\n",
              "    </tr>\n",
              "    <tr>\n",
              "      <th>9</th>\n",
              "      <td>9003</td>\n",
              "      <td>510180</td>\n",
              "      <td>3</td>\n",
              "      <td>1999-11-11</td>\n",
              "      <td>Thursday</td>\n",
              "    </tr>\n",
              "    <tr>\n",
              "      <th>10</th>\n",
              "      <td>8651</td>\n",
              "      <td>510180</td>\n",
              "      <td>2</td>\n",
              "      <td>1999-11-11</td>\n",
              "      <td>Thursday</td>\n",
              "    </tr>\n",
              "    <tr>\n",
              "      <th>11</th>\n",
              "      <td>2866</td>\n",
              "      <td>510180</td>\n",
              "      <td>3</td>\n",
              "      <td>1999-11-11</td>\n",
              "      <td>Thursday</td>\n",
              "    </tr>\n",
              "    <tr>\n",
              "      <th>12</th>\n",
              "      <td>3421</td>\n",
              "      <td>510180</td>\n",
              "      <td>3</td>\n",
              "      <td>1999-12-06</td>\n",
              "      <td>Monday</td>\n",
              "    </tr>\n",
              "    <tr>\n",
              "      <th>13</th>\n",
              "      <td>2478</td>\n",
              "      <td>510180</td>\n",
              "      <td>3</td>\n",
              "      <td>1999-12-06</td>\n",
              "      <td>Monday</td>\n",
              "    </tr>\n",
              "    <tr>\n",
              "      <th>14</th>\n",
              "      <td>5474</td>\n",
              "      <td>510180</td>\n",
              "      <td>2</td>\n",
              "      <td>1999-12-06</td>\n",
              "      <td>Monday</td>\n",
              "    </tr>\n",
              "    <tr>\n",
              "      <th>15</th>\n",
              "      <td>6902</td>\n",
              "      <td>510180</td>\n",
              "      <td>4</td>\n",
              "      <td>1999-12-06</td>\n",
              "      <td>Monday</td>\n",
              "    </tr>\n",
              "    <tr>\n",
              "      <th>16</th>\n",
              "      <td>2948</td>\n",
              "      <td>510180</td>\n",
              "      <td>3</td>\n",
              "      <td>1999-12-06</td>\n",
              "      <td>Monday</td>\n",
              "    </tr>\n",
              "    <tr>\n",
              "      <th>17</th>\n",
              "      <td>5237</td>\n",
              "      <td>122223</td>\n",
              "      <td>5</td>\n",
              "      <td>1999-12-08</td>\n",
              "      <td>Wednesday</td>\n",
              "    </tr>\n",
              "    <tr>\n",
              "      <th>18</th>\n",
              "      <td>4171</td>\n",
              "      <td>122223</td>\n",
              "      <td>3</td>\n",
              "      <td>1999-12-08</td>\n",
              "      <td>Wednesday</td>\n",
              "    </tr>\n",
              "    <tr>\n",
              "      <th>19</th>\n",
              "      <td>8204</td>\n",
              "      <td>122223</td>\n",
              "      <td>4</td>\n",
              "      <td>1999-12-08</td>\n",
              "      <td>Wednesday</td>\n",
              "    </tr>\n",
              "  </tbody>\n",
              "</table>\n",
              "</div>"
            ],
            "text/plain": [
              "    movie    user  rating       date day_of_week\n",
              "0    1367  510180       5 1999-11-11    Thursday\n",
              "1    5625  510180       4 1999-11-11    Thursday\n",
              "2    3730  510180       4 1999-11-11    Thursday\n",
              "3    1798  510180       5 1999-11-11    Thursday\n",
              "4    8357  510180       4 1999-11-11    Thursday\n",
              "5    8079  510180       2 1999-11-11    Thursday\n",
              "6    5571  510180       4 1999-11-11    Thursday\n",
              "7    6615  510180       5 1999-11-11    Thursday\n",
              "8    3870  510180       2 1999-11-11    Thursday\n",
              "9    9003  510180       3 1999-11-11    Thursday\n",
              "10   8651  510180       2 1999-11-11    Thursday\n",
              "11   2866  510180       3 1999-11-11    Thursday\n",
              "12   3421  510180       3 1999-12-06      Monday\n",
              "13   2478  510180       3 1999-12-06      Monday\n",
              "14   5474  510180       2 1999-12-06      Monday\n",
              "15   6902  510180       4 1999-12-06      Monday\n",
              "16   2948  510180       3 1999-12-06      Monday\n",
              "17   5237  122223       5 1999-12-08   Wednesday\n",
              "18   4171  122223       3 1999-12-08   Wednesday\n",
              "19   8204  122223       4 1999-12-08   Wednesday"
            ]
          },
          "metadata": {
            "tags": []
          },
          "execution_count": 15
        }
      ]
    },
    {
      "cell_type": "code",
      "metadata": {
        "id": "rC6NhB92VTVh",
        "colab": {
          "base_uri": "https://localhost:8080/"
        },
        "outputId": "499d0656-06fb-425e-a503-38a9365ded25"
      },
      "source": [
        "no_of_rated_movies_per_user = train_df.groupby(by='user')['rating'].count()\r\n",
        "no_of_rated_movies_per_user.head()"
      ],
      "execution_count": null,
      "outputs": [
        {
          "output_type": "execute_result",
          "data": {
            "text/plain": [
              "user\n",
              "6     219\n",
              "7     433\n",
              "10     99\n",
              "25      2\n",
              "33     14\n",
              "Name: rating, dtype: int64"
            ]
          },
          "metadata": {
            "tags": []
          },
          "execution_count": 16
        }
      ]
    },
    {
      "cell_type": "code",
      "metadata": {
        "id": "dOpwanWaa87_",
        "colab": {
          "base_uri": "https://localhost:8080/",
          "height": 295
        },
        "outputId": "4a3907f8-dcf1-4789-e41d-410c5cbc28fd"
      },
      "source": [
        "fig = plt.figure(figsize=plt.figaspect(.5))\r\n",
        "\r\n",
        "ax1 = plt.subplot(121)\r\n",
        "sns.kdeplot(no_of_rated_movies_per_user, shade=True, ax=ax1)\r\n",
        "plt.xlabel(\"No. of ratings by user\")\r\n",
        "plt.title(\"PDF\")\r\n",
        "\r\n",
        "ax2 = plt.subplot(122)\r\n",
        "sns.kdeplot(no_of_rated_movies_per_user, shade=True, cumulative=True, ax=ax2)\r\n",
        "plt.xlabel(\"No. of ratings by user\")\r\n",
        "plt.title('CDF')\r\n",
        "plt.show()"
      ],
      "execution_count": null,
      "outputs": [
        {
          "output_type": "display_data",
          "data": {
            "image/png": "[encoded data removed]",
            "text/plain": [
              "<Figure size 576x288 with 2 Axes>"
            ]
          },
          "metadata": {
            "tags": []
          }
        }
      ]
    },
    {
      "cell_type": "code",
      "metadata": {
        "colab": {
          "base_uri": "https://localhost:8080/"
        },
        "id": "SM79yhjUMXXi",
        "outputId": "792f1d8a-9a7b-4afa-fcbd-4cd7b57c263e"
      },
      "source": [
        "no_of_rated_movies_per_user.describe()"
      ],
      "execution_count": null,
      "outputs": [
        {
          "output_type": "execute_result",
          "data": {
            "text/plain": [
              "count    398674.000000\n",
              "mean        102.402173\n",
              "std         150.371995\n",
              "min           1.000000\n",
              "25%          17.000000\n",
              "50%          46.000000\n",
              "75%         127.000000\n",
              "max        8868.000000\n",
              "Name: rating, dtype: float64"
            ]
          },
          "metadata": {
            "tags": []
          },
          "execution_count": 18
        }
      ]
    },
    {
      "cell_type": "code",
      "metadata": {
        "id": "nsQF5WOkP2RX"
      },
      "source": [
        "quantiles = no_of_rated_movies_per_user.quantile(np.arange(0, 1.01, 0.01))"
      ],
      "execution_count": null,
      "outputs": []
    },
    {
      "cell_type": "code",
      "metadata": {
        "colab": {
          "base_uri": "https://localhost:8080/",
          "height": 529
        },
        "id": "0YrOnEVKZSz4",
        "outputId": "b2efaee8-8a07-4237-efda-c1c1e57ecb26"
      },
      "source": [
        "fig = plt.figure(figsize = (10, 6))\r\n",
        "axes = fig.add_axes([0.1, 0.1, 1, 1])\r\n",
        "axes.set_title(\"Quantile value of Rating per User\", fontsize = 20)\r\n",
        "axes.set_xlabel(\"Quantiles\", fontsize = 20)\r\n",
        "axes.set_ylabel(\"Ratings Per User\", fontsize = 20)\r\n",
        "axes.plot(quantiles)\r\n",
        "\r\n",
        "plt.scatter(x = quantiles.index[::5], y=quantiles.values[::5], c='blue', s=70, label=\"quantiles with 0.05 intervals\")\r\n",
        "\r\n",
        "plt.scatter(x = quantiles.index[::5], y=quantiles.values[::5], c=\"red\", s=70, label = \"quantiles with 0.25 intervals\")\r\n",
        "plt.legend(loc='upper left', fontsize = 20)\r\n",
        "\r\n",
        "for x, y in zip(quantiles.index[::25], quantiles.values[::25]):plt.annotate(s='({},{})'.format(x,y), xy = (x,y),fontweight\r\n",
        "                                                                            ='bold', fontsize = 16, xytext=(x-0.05, y+180))\r\n",
        "\r\n",
        "axes.tick_params(labelsize = 15)"
      ],
      "execution_count": null,
      "outputs": [
        {
          "output_type": "display_data",
          "data": {
            "image/png": "[encoded data removed]",
            "text/plain": [
              "<Figure size 720x432 with 1 Axes>"
            ]
          },
          "metadata": {
            "tags": []
          }
        }
      ]
    },
    {
      "cell_type": "code",
      "metadata": {
        "colab": {
          "base_uri": "https://localhost:8080/"
        },
        "id": "4GBl_5H2cxVs",
        "outputId": "eed5413f-89f4-4c5b-e573-36540e05ba25"
      },
      "source": [
        "quantiles[::5]"
      ],
      "execution_count": null,
      "outputs": [
        {
          "output_type": "execute_result",
          "data": {
            "text/plain": [
              "0.00       1.0\n",
              "0.05       4.0\n",
              "0.10       7.0\n",
              "0.15      10.0\n",
              "0.20      13.0\n",
              "0.25      17.0\n",
              "0.30      21.0\n",
              "0.35      25.0\n",
              "0.40      31.0\n",
              "0.45      38.0\n",
              "0.50      46.0\n",
              "0.55      57.0\n",
              "0.60      69.0\n",
              "0.65      84.0\n",
              "0.70     103.0\n",
              "0.75     127.0\n",
              "0.80     159.0\n",
              "0.85     202.0\n",
              "0.90     268.0\n",
              "0.95     387.0\n",
              "1.00    8868.0\n",
              "Name: rating, dtype: float64"
            ]
          },
          "metadata": {
            "tags": []
          },
          "execution_count": 21
        }
      ]
    },
    {
      "cell_type": "code",
      "metadata": {
        "colab": {
          "base_uri": "https://localhost:8080/"
        },
        "id": "pn1EV5UDd4Ye",
        "outputId": "75c0bfde-a1c1-4288-ae25-b71dbe3e752f"
      },
      "source": [
        "print(\"Total number of ratings below 75th percentile = \"+str(sum(no_of_rated_movies_per_user.values<=133)))\r\n",
        "print(\"Total number of ratings above 75th percentile = \"+str(sum(no_of_rated_movies_per_user.values>133)))"
      ],
      "execution_count": null,
      "outputs": [
        {
          "output_type": "stream",
          "text": [
            "Total number of ratings below 75th percentile = 303583\n",
            "Total number of ratings above 75th percentile = 95091\n"
          ],
          "name": "stdout"
        }
      ]
    },
    {
      "cell_type": "code",
      "metadata": {
        "colab": {
          "base_uri": "https://localhost:8080/",
          "height": 468
        },
        "id": "VANmBTsqf50p",
        "outputId": "3212a02d-08a6-438c-ff20-0b84d10f080f"
      },
      "source": [
        "fig = plt.figure(figsize = (12, 6))\r\n",
        "axes = fig.add_axes([0.1,0.1,1,1])\r\n",
        "plt.title(\"Number of Ratings Per Movie\", fontsize = 20)\r\n",
        "plt.xlabel(\"Movie\", fontsize=20)\r\n",
        "plt.ylabel(\"Count Of Ratings\", fontsize=20)\r\n",
        "plt.plot(no_of_rated_movies_per_user.values)\r\n",
        "plt.tick_params(labelsize = 15)\r\n",
        "axes.set_xticklabels([])\r\n",
        "plt.show()"
      ],
      "execution_count": null,
      "outputs": [
        {
          "output_type": "display_data",
          "data": {
            "image/png": "[encoded data removed]",
            "text/plain": [
              "<Figure size 864x432 with 1 Axes>"
            ]
          },
          "metadata": {
            "tags": []
          }
        }
      ]
    },
    {
      "cell_type": "markdown",
      "metadata": {
        "id": "QzeYUTdFiZS8"
      },
      "source": [
        "**It is skewed nicely**\r\n",
        "\r\n",
        "It clearly shows that there are some movies which are very popular and were rated by 90% users as comapared to other movies"
      ]
    },
    {
      "cell_type": "markdown",
      "metadata": {
        "id": "UP9KWgqJwXnm"
      },
      "source": [
        "Number of ratings on each day of the week"
      ]
    },
    {
      "cell_type": "code",
      "metadata": {
        "id": "mKhEnireit52",
        "colab": {
          "base_uri": "https://localhost:8080/",
          "height": 281
        },
        "outputId": "cb1eccc4-68d9-4586-9ee4-141fefe06b1e"
      },
      "source": [
        "fig, ax = plt.subplots()\n",
        "sns.countplot(x='day_of_week', data = train_df, ax = ax)\n",
        "plt.title(\"Number of ratings on each day\")\n",
        "plt.ylabel('Total number of ratings')\n",
        "plt.xlabel(\"\")\n",
        "ax.set_yticklabels([human(item, 'M') for item in ax.get_yticks()])\n",
        "plt.show()"
      ],
      "execution_count": null,
      "outputs": [
        {
          "output_type": "display_data",
          "data": {
            "image/png": "[encoded data removed]",
            "text/plain": [
              "<Figure size 432x288 with 1 Axes>"
            ]
          },
          "metadata": {
            "tags": []
          }
        }
      ]
    },
    {
      "cell_type": "code",
      "metadata": {
        "colab": {
          "base_uri": "https://localhost:8080/",
          "height": 297
        },
        "id": "nEecdaWexYgm",
        "outputId": "ce989cd3-15d6-4357-faa1-9b539b4c5011"
      },
      "source": [
        "start = datetime.now()\n",
        "fig = plt.figure(figsize=plt.figaspect(.45))\n",
        "sns.boxplot(y='rating', x='day_of_week', data=train_df)\n",
        "plt.show()\n",
        "print(datetime.now()-start)"
      ],
      "execution_count": null,
      "outputs": [
        {
          "output_type": "display_data",
          "data": {
            "image/png": "[encoded data removed]",
            "text/plain": [
              "<Figure size 640x288 with 1 Axes>"
            ]
          },
          "metadata": {
            "tags": []
          }
        },
        {
          "output_type": "stream",
          "text": [
            "0:00:21.023743\n"
          ],
          "name": "stdout"
        }
      ]
    },
    {
      "cell_type": "code",
      "metadata": {
        "colab": {
          "base_uri": "https://localhost:8080/"
        },
        "id": "eU3-GhfrJAXr",
        "outputId": "31674d75-8adc-40e8-e481-7065f9788a98"
      },
      "source": [
        "avg_week_df = train_df.groupby(by=['day_of_week'])['rating'].mean()\n",
        "print('Average Ratings')\n",
        "print(\"_\"*30)\n",
        "print(avg_week_df)\n",
        "print(\"\\n\")"
      ],
      "execution_count": null,
      "outputs": [
        {
          "output_type": "stream",
          "text": [
            "Average Ratings\n",
            "______________________________\n",
            "day_of_week\n",
            "Friday       3.572173\n",
            "Monday       3.567473\n",
            "Saturday     3.583005\n",
            "Sunday       3.582832\n",
            "Thursday     3.572752\n",
            "Tuesday      3.565787\n",
            "Wednesday    3.575152\n",
            "Name: rating, dtype: float64\n",
            "\n",
            "\n"
          ],
          "name": "stdout"
        }
      ]
    },
    {
      "cell_type": "markdown",
      "metadata": {
        "id": "8YwkO9lfip91"
      },
      "source": [
        "Creating sparse matrix from data frame"
      ]
    },
    {
      "cell_type": "code",
      "metadata": {
        "colab": {
          "base_uri": "https://localhost:8080/"
        },
        "id": "wQuxkzZFJtrj",
        "outputId": "bfbc16eb-ed61-47cf-e743-cabef30a4551"
      },
      "source": [
        "start = datetime.now()\n",
        "if os.path.isfile('train_sparse_matrix.npz'):\n",
        "  print(\"It is present in your pwd, getting it from disk......\")\n",
        "  #just get it from the disk instead of computing it\n",
        "  train_sparse_matrix = sparse.load_npz('train_sparse_matrix.npz')\n",
        "  print(\"Done...\")\n",
        "\n",
        "else:\n",
        "  print(\"We are creating sparse matrix from the dataframe.....\")\n",
        "  #create sparse matrix and store it after usages.\n",
        "  #It should be in such a way that, Matrix[row, col] = data\n",
        "  train_sparse_matrix = sparse.csr_matrix((train_df.rating.values,(train_df.user.values, train_df.movie.values)),)\n",
        "  print(\"Done. It\\'s shape is : (user, movie\", train_sparse_matrix.shape)\n",
        "  print(\"Saving it into disk for further usages...\")\n",
        "  sparse.save_npz(\"train_sparse_matrix.npz\", train_sparse_matrix)\n",
        "  print(\"Done.....\\n\")\n",
        "  print(datetime.now()-start)"
      ],
      "execution_count": null,
      "outputs": [
        {
          "output_type": "stream",
          "text": [
            "We are creating sparse matrix from the dataframe.....\n",
            "Done. It's shape is : (user, movie (2649430, 9211)\n",
            "Saving it into disk for further usages...\n",
            "Done.....\n",
            "\n",
            "0:00:33.080262\n"
          ],
          "name": "stdout"
        }
      ]
    },
    {
      "cell_type": "markdown",
      "metadata": {
        "id": "6t--_H9Ki1xN"
      },
      "source": [
        "The sparsity of train sparse matrix"
      ]
    },
    {
      "cell_type": "code",
      "metadata": {
        "colab": {
          "base_uri": "https://localhost:8080/"
        },
        "id": "R3X_T5N5heA5",
        "outputId": "b4b3e64e-6b03-46e3-a1e1-00c188368d93"
      },
      "source": [
        "us, mv = train_sparse_matrix.shape\n",
        "elem = train_sparse_matrix.count_nonzero()\n",
        "print(\"Sparsity of train matrix : {} % \".format((1-elem/(us*mv))*100))"
      ],
      "execution_count": null,
      "outputs": [
        {
          "output_type": "stream",
          "text": [
            "Sparsity of train matrix : 99.83271081896056 % \n"
          ],
          "name": "stdout"
        }
      ]
    },
    {
      "cell_type": "markdown",
      "metadata": {
        "id": "0ZpgJzqpj7Wb"
      },
      "source": [
        "Creating sparse matrix from test data frame"
      ]
    },
    {
      "cell_type": "code",
      "metadata": {
        "colab": {
          "base_uri": "https://localhost:8080/"
        },
        "id": "7VQq4glRjj_I",
        "outputId": "4135cc0e-89c5-4752-fce5-ddbba9e32034"
      },
      "source": [
        "start = datetime.now()\n",
        "if os.path.isfile('test_sparse_matrix.npz'):\n",
        "  print(\"It is present in your pwd, getting it from disk....\")\n",
        "  #just get it from the disk instead of computing it.\n",
        "  test_sparse_matrix = sparse.load_npz(\"test_sparse_matrix.npz\")\n",
        "  print(\"Done....\")\n",
        "else:\n",
        "  print(\"We are creating sparse matrix from the dataframe....\")\n",
        "  #create sparse_matrix and store it for after usages\n",
        "  #It should be in such a way that, matrix[row, col] = data\n",
        "  test_sparse_matrix = sparse.csr_matrix((test_df.rating.values,(test_df.user.values, test_df.movie.values)),)\n",
        "  print(\"Done. It\\'s shape is : (user, movie):\", test_sparse_matrix.shape)\n",
        "  print(\"Saving it into disk for further usages....\")\n",
        "  #save it into disk\n",
        "  sparse.save_npz(\"test_sparse_matrix.npz\", test_sparse_matrix)\n",
        "  print('Done...\\n')\n",
        "print(datetime.now()-start)"
      ],
      "execution_count": null,
      "outputs": [
        {
          "output_type": "stream",
          "text": [
            "We are creating sparse matrix from the dataframe....\n",
            "Done. It's shape is : (user, movie): (2649430, 9211)\n",
            "Saving it into disk for further usages....\n",
            "Done...\n",
            "\n",
            "0:00:09.518644\n"
          ],
          "name": "stdout"
        }
      ]
    },
    {
      "cell_type": "markdown",
      "metadata": {
        "id": "cV60D9uvo1Kd"
      },
      "source": [
        "The sparsity of test data matrix"
      ]
    },
    {
      "cell_type": "code",
      "metadata": {
        "colab": {
          "base_uri": "https://localhost:8080/"
        },
        "id": "rgeW9BHDoivn",
        "outputId": "f78dd519-3a0e-494c-cac1-0619904212cd"
      },
      "source": [
        "us, mv = test_sparse_matrix.shape\n",
        "elem = test_sparse_matrix.count_nonzero()\n",
        "print(\"sparsity of Test matrix : {} % \".format((1-elem/(us*mv))*100))"
      ],
      "execution_count": null,
      "outputs": [
        {
          "output_type": "stream",
          "text": [
            "sparsity of Test matrix : 99.95817770474015 % \n"
          ],
          "name": "stdout"
        }
      ]
    },
    {
      "cell_type": "markdown",
      "metadata": {
        "id": "Bwfnx3dxpaM8"
      },
      "source": [
        "Finding Global Average of all movies ratings, Averages rating per user, and average rating per movie"
      ]
    },
    {
      "cell_type": "code",
      "metadata": {
        "id": "3g1TuWyapVgU"
      },
      "source": [
        "#get the averages in dictionary(key:user_id/movie_id, value:avg rating)\r\n",
        "def get_average_rating(sparse_matrix, of_users):\r\n",
        "  #average rating of user/axes\r\n",
        "  ax = 1 if of_users else 0 #1-user axes, 0-Movie axes\r\n",
        "  #\".AI\" is for converting column_matrix to 1-D numpy array\r\n",
        "  sum_of_ratings = sparse_matrix.sum(axis=ax).AI\r\n",
        "  #Boolean matrix of ratings(whether a user rated movie or not)\r\n",
        "  is_rated = sparse_matrix != 0\r\n",
        "  #no. of ratings that each user or movie\r\n",
        "  no_of_ratings = is_rated.sum(axis=ax).AI\r\n",
        "  #max_user and max_movie ids in sparse matrix\r\n",
        "  u, m = sparse_matrix.shape\r\n",
        "  #create a dictionary of users and their averages ratings..\r\n",
        "  averages_ratings = { i :sum_of_ratings[i]/no_of_ratings[i] for i in range(u if of_users else m) if no_of_ratings[i] != 0}\r\n",
        "  #return that dictionary of average rating"
      ],
      "execution_count": null,
      "outputs": []
    },
    {
      "cell_type": "markdown",
      "metadata": {
        "id": "CjX6TbAlO6QO"
      },
      "source": [
        "Finding global average of all movie ratings"
      ]
    },
    {
      "cell_type": "code",
      "metadata": {
        "colab": {
          "base_uri": "https://localhost:8080/",
          "height": 246
        },
        "id": "X9AMvOqLL1YB",
        "outputId": "fb770a60-1440-4d2d-d94a-de0e3ba8feda"
      },
      "source": [
        "train_averages = dict()\r\n",
        "#get the global avetrage of ratings in our train set.\r\n",
        "train_global_average = train_sparse_matrix.sum()/train_sparse_matrix.count_nonzero()\r\n",
        "train_averages['global'] = train_global_average\r\n",
        "train_averages"
      ],
      "execution_count": null,
      "outputs": [
        {
          "output_type": "error",
          "ename": "NameError",
          "evalue": "ignored",
          "traceback": [
            "\u001b[0;31m---------------------------------------------------------------------------\u001b[0m",
            "\u001b[0;31mNameError\u001b[0m                                 Traceback (most recent call last)",
            "\u001b[0;32m<ipython-input-4-b65820e0d165>\u001b[0m in \u001b[0;36m<module>\u001b[0;34m()\u001b[0m\n\u001b[1;32m      1\u001b[0m \u001b[0mtrain_averages\u001b[0m \u001b[0;34m=\u001b[0m \u001b[0mdict\u001b[0m\u001b[0;34m(\u001b[0m\u001b[0;34m)\u001b[0m\u001b[0;34m\u001b[0m\u001b[0;34m\u001b[0m\u001b[0m\n\u001b[1;32m      2\u001b[0m \u001b[0;31m#get the global avetrage of ratings in our train set.\u001b[0m\u001b[0;34m\u001b[0m\u001b[0;34m\u001b[0m\u001b[0;34m\u001b[0m\u001b[0m\n\u001b[0;32m----> 3\u001b[0;31m \u001b[0mtrain_global_average\u001b[0m \u001b[0;34m=\u001b[0m \u001b[0mtrain_sparse_matrix\u001b[0m\u001b[0;34m.\u001b[0m\u001b[0msum\u001b[0m\u001b[0;34m(\u001b[0m\u001b[0;34m)\u001b[0m\u001b[0;34m/\u001b[0m\u001b[0mtrain_sparse_matrix\u001b[0m\u001b[0;34m.\u001b[0m\u001b[0mcount_nonzero\u001b[0m\u001b[0;34m(\u001b[0m\u001b[0;34m)\u001b[0m\u001b[0;34m\u001b[0m\u001b[0;34m\u001b[0m\u001b[0m\n\u001b[0m\u001b[1;32m      4\u001b[0m \u001b[0mtrain_averages\u001b[0m\u001b[0;34m[\u001b[0m\u001b[0;34m'global'\u001b[0m\u001b[0;34m]\u001b[0m \u001b[0;34m=\u001b[0m \u001b[0mtrain_global_average\u001b[0m\u001b[0;34m\u001b[0m\u001b[0;34m\u001b[0m\u001b[0m\n\u001b[1;32m      5\u001b[0m \u001b[0mtrain_averages\u001b[0m\u001b[0;34m\u001b[0m\u001b[0;34m\u001b[0m\u001b[0m\n",
            "\u001b[0;31mNameError\u001b[0m: name 'train_sparse_matrix' is not defined"
          ]
        }
      ]
    },
    {
      "cell_type": "markdown",
      "metadata": {
        "id": "ETZKWUrePDmE"
      },
      "source": [
        "Finding average rating per users"
      ]
    },
    {
      "cell_type": "code",
      "metadata": {
        "colab": {
          "base_uri": "https://localhost:8080/",
          "height": 195
        },
        "id": "h6KpeLPENzmo",
        "outputId": "e14f84cc-3e05-4298-fff3-6ac9f73f0566"
      },
      "source": [
        "train_averages['user'] = get_average_rating(train_sparse_matrix, of_users=True)\r\n",
        "print('\\nAverage rating of user 10 : ', train_averages['user'][10])"
      ],
      "execution_count": null,
      "outputs": [
        {
          "output_type": "error",
          "ename": "NameError",
          "evalue": "ignored",
          "traceback": [
            "\u001b[0;31m---------------------------------------------------------------------------\u001b[0m",
            "\u001b[0;31mNameError\u001b[0m                                 Traceback (most recent call last)",
            "\u001b[0;32m<ipython-input-5-9d570d26e16f>\u001b[0m in \u001b[0;36m<module>\u001b[0;34m()\u001b[0m\n\u001b[0;32m----> 1\u001b[0;31m \u001b[0mtrain_averages\u001b[0m\u001b[0;34m[\u001b[0m\u001b[0;34m'user'\u001b[0m\u001b[0;34m]\u001b[0m \u001b[0;34m=\u001b[0m \u001b[0mget_average_rating\u001b[0m\u001b[0;34m(\u001b[0m\u001b[0mtrain_sparse_matrix\u001b[0m\u001b[0;34m,\u001b[0m \u001b[0mof_users\u001b[0m\u001b[0;34m=\u001b[0m\u001b[0;32mTrue\u001b[0m\u001b[0;34m)\u001b[0m\u001b[0;34m\u001b[0m\u001b[0;34m\u001b[0m\u001b[0m\n\u001b[0m\u001b[1;32m      2\u001b[0m \u001b[0mprint\u001b[0m\u001b[0;34m(\u001b[0m\u001b[0;34m'\\nAverage rating of user 10 : '\u001b[0m\u001b[0;34m,\u001b[0m \u001b[0mtrain_averages\u001b[0m\u001b[0;34m[\u001b[0m\u001b[0;34m'user'\u001b[0m\u001b[0;34m]\u001b[0m\u001b[0;34m[\u001b[0m\u001b[0;36m10\u001b[0m\u001b[0;34m]\u001b[0m\u001b[0;34m)\u001b[0m\u001b[0;34m\u001b[0m\u001b[0;34m\u001b[0m\u001b[0m\n",
            "\u001b[0;31mNameError\u001b[0m: name 'train_sparse_matrix' is not defined"
          ]
        }
      ]
    },
    {
      "cell_type": "markdown",
      "metadata": {
        "id": "TVnDULylPLEM"
      },
      "source": [
        "Finding average rating per movie"
      ]
    },
    {
      "cell_type": "code",
      "metadata": {
        "colab": {
          "base_uri": "https://localhost:8080/",
          "height": 195
        },
        "id": "pTT7AXzEO1Ox",
        "outputId": "ee94a4c1-7519-484a-877a-85c8f0c812e0"
      },
      "source": [
        "train_averages['movie'] = get_average_rating(train_sparse_matrix, of_users=True)\r\n",
        "print('\\nAverages rating of movie 15 :',train_averages['movie'][15])"
      ],
      "execution_count": null,
      "outputs": [
        {
          "output_type": "error",
          "ename": "NameError",
          "evalue": "ignored",
          "traceback": [
            "\u001b[0;31m---------------------------------------------------------------------------\u001b[0m",
            "\u001b[0;31mNameError\u001b[0m                                 Traceback (most recent call last)",
            "\u001b[0;32m<ipython-input-6-2ae358887a02>\u001b[0m in \u001b[0;36m<module>\u001b[0;34m()\u001b[0m\n\u001b[0;32m----> 1\u001b[0;31m \u001b[0mtrain_averages\u001b[0m\u001b[0;34m[\u001b[0m\u001b[0;34m'movie'\u001b[0m\u001b[0;34m]\u001b[0m \u001b[0;34m=\u001b[0m \u001b[0mget_average_rating\u001b[0m\u001b[0;34m(\u001b[0m\u001b[0mtrain_sparse_matrix\u001b[0m\u001b[0;34m,\u001b[0m \u001b[0mof_users\u001b[0m\u001b[0;34m=\u001b[0m\u001b[0;32mTrue\u001b[0m\u001b[0;34m)\u001b[0m\u001b[0;34m\u001b[0m\u001b[0;34m\u001b[0m\u001b[0m\n\u001b[0m\u001b[1;32m      2\u001b[0m \u001b[0mprint\u001b[0m\u001b[0;34m(\u001b[0m\u001b[0;34m'\\nAverages rating of movie 15 :'\u001b[0m\u001b[0;34m,\u001b[0m\u001b[0mtrain_averages\u001b[0m\u001b[0;34m[\u001b[0m\u001b[0;34m'movie'\u001b[0m\u001b[0;34m]\u001b[0m\u001b[0;34m[\u001b[0m\u001b[0;36m15\u001b[0m\u001b[0;34m]\u001b[0m\u001b[0;34m)\u001b[0m\u001b[0;34m\u001b[0m\u001b[0;34m\u001b[0m\u001b[0m\n",
            "\u001b[0;31mNameError\u001b[0m: name 'train_sparse_matrix' is not defined"
          ]
        }
      ]
    },
    {
      "cell_type": "markdown",
      "metadata": {
        "id": "bj8KNgdhQQpP"
      },
      "source": [
        "PDF's & CDF's of Avg ratings of users and movies(In Train data)"
      ]
    },
    {
      "cell_type": "code",
      "metadata": {
        "id": "IZcA4AwCQPQ0"
      },
      "source": [
        ""
      ],
      "execution_count": null,
      "outputs": []
    }
  ]
}